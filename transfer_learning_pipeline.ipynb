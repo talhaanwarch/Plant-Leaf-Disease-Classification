{
  "nbformat": 4,
  "nbformat_minor": 0,
  "metadata": {
    "colab": {
      "name": "transfer learning pipeline.ipynb",
      "provenance": [],
      "authorship_tag": "ABX9TyN9eMGtSfXcBCTZFKt6stPv",
      "include_colab_link": true
    },
    "kernelspec": {
      "name": "python3",
      "display_name": "Python 3"
    },
    "accelerator": "GPU"
  },
  "cells": [
    {
      "cell_type": "markdown",
      "metadata": {
        "id": "view-in-github",
        "colab_type": "text"
      },
      "source": [
        "<a href=\"https://colab.research.google.com/github/talhaanwarch/Plant-Leaf-Disease-Classification/blob/master/transfer_learning_pipeline.ipynb\" target=\"_parent\"><img src=\"https://colab.research.google.com/assets/colab-badge.svg\" alt=\"Open In Colab\"/></a>"
      ]
    },
    {
      "cell_type": "markdown",
      "metadata": {
        "id": "xRWmuf4YMBuD",
        "colab_type": "text"
      },
      "source": [
        "### download data"
      ]
    },
    {
      "cell_type": "code",
      "metadata": {
        "id": "TZadifFOl5kk",
        "colab_type": "code",
        "outputId": "baac0ad3-2be2-41e2-d21b-89e6aa3fbe6c",
        "colab": {
          "base_uri": "https://localhost:8080/",
          "height": 120
        }
      },
      "source": [
        "from google.colab import drive\n",
        "drive.mount('/content/drive')"
      ],
      "execution_count": 1,
      "outputs": [
        {
          "output_type": "stream",
          "text": [
            "Go to this URL in a browser: https://accounts.google.com/o/oauth2/auth?client_id=947318989803-6bn6qk8qdgf4n4g3pfee6491hc0brc4i.apps.googleusercontent.com&redirect_uri=urn%3aietf%3awg%3aoauth%3a2.0%3aoob&response_type=code&scope=email%20https%3a%2f%2fwww.googleapis.com%2fauth%2fdocs.test%20https%3a%2f%2fwww.googleapis.com%2fauth%2fdrive%20https%3a%2f%2fwww.googleapis.com%2fauth%2fdrive.photos.readonly%20https%3a%2f%2fwww.googleapis.com%2fauth%2fpeopleapi.readonly\n",
            "\n",
            "Enter your authorization code:\n",
            "··········\n",
            "Mounted at /content/drive\n"
          ],
          "name": "stdout"
        }
      ]
    },
    {
      "cell_type": "code",
      "metadata": {
        "id": "-gDgFJrtX3fI",
        "colab_type": "code",
        "outputId": "a1db22c7-d7f5-4478-b91b-f66c58869465",
        "colab": {
          "base_uri": "https://localhost:8080/",
          "height": 284
        }
      },
      "source": [
        "!wget https://data.mendeley.com/datasets/3f83gxmv57/2/files/53398b67-6f0e-4a67-8384-e2b574b2ebf4/Citrus.zip"
      ],
      "execution_count": 2,
      "outputs": [
        {
          "output_type": "stream",
          "text": [
            "--2020-03-31 01:35:05--  https://data.mendeley.com/datasets/3f83gxmv57/2/files/53398b67-6f0e-4a67-8384-e2b574b2ebf4/Citrus.zip\n",
            "Resolving data.mendeley.com (data.mendeley.com)... 162.159.130.86, 162.159.133.86, 2606:4700:7::a29f:8556, ...\n",
            "Connecting to data.mendeley.com (data.mendeley.com)|162.159.130.86|:443... connected.\n",
            "HTTP request sent, awaiting response... 302 Found\n",
            "Location: https://md-datasets-public-files-prod.s3.eu-west-1.amazonaws.com/ad404a4d-cedf-4830-8a11-0fc204ce8acb [following]\n",
            "--2020-03-31 01:35:06--  https://md-datasets-public-files-prod.s3.eu-west-1.amazonaws.com/ad404a4d-cedf-4830-8a11-0fc204ce8acb\n",
            "Resolving md-datasets-public-files-prod.s3.eu-west-1.amazonaws.com (md-datasets-public-files-prod.s3.eu-west-1.amazonaws.com)... 52.218.106.160\n",
            "Connecting to md-datasets-public-files-prod.s3.eu-west-1.amazonaws.com (md-datasets-public-files-prod.s3.eu-west-1.amazonaws.com)|52.218.106.160|:443... connected.\n",
            "HTTP request sent, awaiting response... 200 OK\n",
            "Length: 66977095 (64M) [application/x-zip-compressed]\n",
            "Saving to: ‘Citrus.zip’\n",
            "\n",
            "Citrus.zip          100%[===================>]  63.87M  16.2MB/s    in 3.9s    \n",
            "\n",
            "2020-03-31 01:35:11 (16.2 MB/s) - ‘Citrus.zip’ saved [66977095/66977095]\n",
            "\n"
          ],
          "name": "stdout"
        }
      ]
    },
    {
      "cell_type": "markdown",
      "metadata": {
        "id": "wMtXcWESMF4u",
        "colab_type": "text"
      },
      "source": [
        "### install efficinetnet model"
      ]
    },
    {
      "cell_type": "code",
      "metadata": {
        "id": "4P2KNYuSYQXv",
        "colab_type": "code",
        "outputId": "a9520614-d910-4731-93c3-f2344c55f1d7",
        "colab": {
          "base_uri": "https://localhost:8080/",
          "height": 388
        }
      },
      "source": [
        "!pip install efficientnet"
      ],
      "execution_count": 3,
      "outputs": [
        {
          "output_type": "stream",
          "text": [
            "Collecting efficientnet\n",
            "  Downloading https://files.pythonhosted.org/packages/28/91/67848a143b54c331605bfba5fd31cf4e9db13d2e429d103fe807acc3bcf4/efficientnet-1.1.0-py3-none-any.whl\n",
            "Requirement already satisfied: scikit-image in /usr/local/lib/python3.6/dist-packages (from efficientnet) (0.16.2)\n",
            "Requirement already satisfied: keras-applications<=1.0.8,>=1.0.7 in /usr/local/lib/python3.6/dist-packages (from efficientnet) (1.0.8)\n",
            "Requirement already satisfied: PyWavelets>=0.4.0 in /usr/local/lib/python3.6/dist-packages (from scikit-image->efficientnet) (1.1.1)\n",
            "Requirement already satisfied: scipy>=0.19.0 in /usr/local/lib/python3.6/dist-packages (from scikit-image->efficientnet) (1.4.1)\n",
            "Requirement already satisfied: networkx>=2.0 in /usr/local/lib/python3.6/dist-packages (from scikit-image->efficientnet) (2.4)\n",
            "Requirement already satisfied: imageio>=2.3.0 in /usr/local/lib/python3.6/dist-packages (from scikit-image->efficientnet) (2.4.1)\n",
            "Requirement already satisfied: matplotlib!=3.0.0,>=2.0.0 in /usr/local/lib/python3.6/dist-packages (from scikit-image->efficientnet) (3.2.1)\n",
            "Requirement already satisfied: pillow>=4.3.0 in /usr/local/lib/python3.6/dist-packages (from scikit-image->efficientnet) (7.0.0)\n",
            "Requirement already satisfied: numpy>=1.9.1 in /usr/local/lib/python3.6/dist-packages (from keras-applications<=1.0.8,>=1.0.7->efficientnet) (1.18.2)\n",
            "Requirement already satisfied: h5py in /usr/local/lib/python3.6/dist-packages (from keras-applications<=1.0.8,>=1.0.7->efficientnet) (2.10.0)\n",
            "Requirement already satisfied: decorator>=4.3.0 in /usr/local/lib/python3.6/dist-packages (from networkx>=2.0->scikit-image->efficientnet) (4.4.2)\n",
            "Requirement already satisfied: python-dateutil>=2.1 in /usr/local/lib/python3.6/dist-packages (from matplotlib!=3.0.0,>=2.0.0->scikit-image->efficientnet) (2.8.1)\n",
            "Requirement already satisfied: pyparsing!=2.0.4,!=2.1.2,!=2.1.6,>=2.0.1 in /usr/local/lib/python3.6/dist-packages (from matplotlib!=3.0.0,>=2.0.0->scikit-image->efficientnet) (2.4.6)\n",
            "Requirement already satisfied: cycler>=0.10 in /usr/local/lib/python3.6/dist-packages (from matplotlib!=3.0.0,>=2.0.0->scikit-image->efficientnet) (0.10.0)\n",
            "Requirement already satisfied: kiwisolver>=1.0.1 in /usr/local/lib/python3.6/dist-packages (from matplotlib!=3.0.0,>=2.0.0->scikit-image->efficientnet) (1.1.0)\n",
            "Requirement already satisfied: six in /usr/local/lib/python3.6/dist-packages (from h5py->keras-applications<=1.0.8,>=1.0.7->efficientnet) (1.12.0)\n",
            "Requirement already satisfied: setuptools in /usr/local/lib/python3.6/dist-packages (from kiwisolver>=1.0.1->matplotlib!=3.0.0,>=2.0.0->scikit-image->efficientnet) (46.0.0)\n",
            "Installing collected packages: efficientnet\n",
            "Successfully installed efficientnet-1.1.0\n"
          ],
          "name": "stdout"
        }
      ]
    },
    {
      "cell_type": "markdown",
      "metadata": {
        "id": "T-6uWVJNMKAT",
        "colab_type": "text"
      },
      "source": [
        "### unzip donwloaded dataset"
      ]
    },
    {
      "cell_type": "code",
      "metadata": {
        "id": "B6jS6iFbYA_f",
        "colab_type": "code",
        "outputId": "3317f52e-1704-4c49-a6b8-1894c97b36af",
        "colab": {
          "base_uri": "https://localhost:8080/",
          "height": 1000
        }
      },
      "source": [
        "!unzip /content/Citrus.zip"
      ],
      "execution_count": 4,
      "outputs": [
        {
          "output_type": "stream",
          "text": [
            "Archive:  /content/Citrus.zip\n",
            "   creating: Citrus/\n",
            "   creating: Citrus/Fruits/\n",
            "   creating: Citrus/Fruits/Black spot/\n",
            "  inflating: Citrus/Fruits/Black spot/Black spot (1).jpg  \n",
            "  inflating: Citrus/Fruits/Black spot/Black spot (10).jpg  \n",
            "  inflating: Citrus/Fruits/Black spot/Black spot (11).jpg  \n",
            "  inflating: Citrus/Fruits/Black spot/Black spot (12).jpg  \n",
            "  inflating: Citrus/Fruits/Black spot/Black spot (13).jpg  \n",
            "  inflating: Citrus/Fruits/Black spot/Black spot (14).jpg  \n",
            "  inflating: Citrus/Fruits/Black spot/Black spot (15).jpg  \n",
            "  inflating: Citrus/Fruits/Black spot/Black spot (16).jpg  \n",
            "  inflating: Citrus/Fruits/Black spot/Black spot (17).jpg  \n",
            "  inflating: Citrus/Fruits/Black spot/Black spot (18).jpg  \n",
            "  inflating: Citrus/Fruits/Black spot/Black spot (19).jpg  \n",
            "  inflating: Citrus/Fruits/Black spot/Black spot (2).jpg  \n",
            "  inflating: Citrus/Fruits/Black spot/Black spot (3).jpg  \n",
            "  inflating: Citrus/Fruits/Black spot/Black spot (4).jpg  \n",
            "  inflating: Citrus/Fruits/Black spot/Black spot (5).jpg  \n",
            "  inflating: Citrus/Fruits/Black spot/Black spot (6).jpg  \n",
            "  inflating: Citrus/Fruits/Black spot/Black spot (7).jpg  \n",
            "  inflating: Citrus/Fruits/Black spot/Black spot (8).jpg  \n",
            "  inflating: Citrus/Fruits/Black spot/Black spot (9).jpg  \n",
            "   creating: Citrus/Fruits/Canker/\n",
            "  inflating: Citrus/Fruits/Canker/Canker (1).jpg  \n",
            "  inflating: Citrus/Fruits/Canker/Canker (100).jpg  \n",
            "  inflating: Citrus/Fruits/Canker/Canker (101).jpg  \n",
            "  inflating: Citrus/Fruits/Canker/Canker (102).jpg  \n",
            "  inflating: Citrus/Fruits/Canker/Canker (103).jpg  \n",
            "  inflating: Citrus/Fruits/Canker/Canker (104).jpg  \n",
            "  inflating: Citrus/Fruits/Canker/Canker (105).jpg  \n",
            "  inflating: Citrus/Fruits/Canker/Canker (106).jpg  \n",
            "  inflating: Citrus/Fruits/Canker/Canker (107).jpg  \n",
            "  inflating: Citrus/Fruits/Canker/Canker (108).jpg  \n",
            "  inflating: Citrus/Fruits/Canker/Canker (109).jpg  \n",
            "  inflating: Citrus/Fruits/Canker/Canker (110).jpg  \n",
            "  inflating: Citrus/Fruits/Canker/Canker (111).jpg  \n",
            "  inflating: Citrus/Fruits/Canker/Canker (112).jpg  \n",
            "  inflating: Citrus/Fruits/Canker/Canker (113).jpg  \n",
            "  inflating: Citrus/Fruits/Canker/Canker (114).jpg  \n",
            "  inflating: Citrus/Fruits/Canker/Canker (115).jpg  \n",
            "  inflating: Citrus/Fruits/Canker/Canker (116).jpg  \n",
            "  inflating: Citrus/Fruits/Canker/Canker (117).jpg  \n",
            "  inflating: Citrus/Fruits/Canker/Canker (118).jpg  \n",
            "  inflating: Citrus/Fruits/Canker/Canker (119).jpg  \n",
            "  inflating: Citrus/Fruits/Canker/Canker (120).jpg  \n",
            "  inflating: Citrus/Fruits/Canker/Canker (121).jpg  \n",
            "  inflating: Citrus/Fruits/Canker/Canker (122).jpg  \n",
            "  inflating: Citrus/Fruits/Canker/Canker (123).jpg  \n",
            "  inflating: Citrus/Fruits/Canker/Canker (124).jpg  \n",
            "  inflating: Citrus/Fruits/Canker/Canker (125).jpg  \n",
            "  inflating: Citrus/Fruits/Canker/Canker (49).jpg  \n",
            "  inflating: Citrus/Fruits/Canker/Canker (50).jpg  \n",
            "  inflating: Citrus/Fruits/Canker/Canker (51).jpg  \n",
            "  inflating: Citrus/Fruits/Canker/Canker (52).jpg  \n",
            "  inflating: Citrus/Fruits/Canker/Canker (53).jpg  \n",
            "  inflating: Citrus/Fruits/Canker/Canker (54).jpg  \n",
            "  inflating: Citrus/Fruits/Canker/Canker (55).jpg  \n",
            "  inflating: Citrus/Fruits/Canker/Canker (56).jpg  \n",
            "  inflating: Citrus/Fruits/Canker/Canker (57).jpg  \n",
            "  inflating: Citrus/Fruits/Canker/Canker (58).jpg  \n",
            "  inflating: Citrus/Fruits/Canker/Canker (59).jpg  \n",
            "  inflating: Citrus/Fruits/Canker/Canker (60).jpg  \n",
            "  inflating: Citrus/Fruits/Canker/Canker (61).JPG  \n",
            "  inflating: Citrus/Fruits/Canker/Canker (62).jpg  \n",
            "  inflating: Citrus/Fruits/Canker/Canker (63).jpg  \n",
            "  inflating: Citrus/Fruits/Canker/Canker (64).jpg  \n",
            "  inflating: Citrus/Fruits/Canker/Canker (65).jpg  \n",
            "  inflating: Citrus/Fruits/Canker/Canker (66).jpg  \n",
            "  inflating: Citrus/Fruits/Canker/Canker (67).jpg  \n",
            "  inflating: Citrus/Fruits/Canker/Canker (68).jpg  \n",
            "  inflating: Citrus/Fruits/Canker/Canker (69).jpg  \n",
            "  inflating: Citrus/Fruits/Canker/Canker (70).jpg  \n",
            "  inflating: Citrus/Fruits/Canker/Canker (71).jpg  \n",
            "  inflating: Citrus/Fruits/Canker/Canker (72).jpg  \n",
            "  inflating: Citrus/Fruits/Canker/Canker (73).jpg  \n",
            "  inflating: Citrus/Fruits/Canker/Canker (74).jpg  \n",
            "  inflating: Citrus/Fruits/Canker/Canker (75).jpg  \n",
            "  inflating: Citrus/Fruits/Canker/Canker (76).jpg  \n",
            "  inflating: Citrus/Fruits/Canker/Canker (77).jpg  \n",
            "  inflating: Citrus/Fruits/Canker/Canker (78).jpg  \n",
            "  inflating: Citrus/Fruits/Canker/Canker (79).jpg  \n",
            "  inflating: Citrus/Fruits/Canker/Canker (80).jpg  \n",
            "  inflating: Citrus/Fruits/Canker/Canker (81).jpg  \n",
            "  inflating: Citrus/Fruits/Canker/Canker (82).jpg  \n",
            "  inflating: Citrus/Fruits/Canker/Canker (83).jpg  \n",
            "  inflating: Citrus/Fruits/Canker/Canker (84).jpg  \n",
            "  inflating: Citrus/Fruits/Canker/Canker (85).jpg  \n",
            "  inflating: Citrus/Fruits/Canker/Canker (86).jpg  \n",
            "  inflating: Citrus/Fruits/Canker/Canker (87).jpg  \n",
            "  inflating: Citrus/Fruits/Canker/Canker (88).jpg  \n",
            "  inflating: Citrus/Fruits/Canker/Canker (89).jpg  \n",
            "  inflating: Citrus/Fruits/Canker/Canker (90).jpg  \n",
            "  inflating: Citrus/Fruits/Canker/Canker (91).jpg  \n",
            "  inflating: Citrus/Fruits/Canker/Canker (92).jpg  \n",
            "  inflating: Citrus/Fruits/Canker/Canker (93).jpg  \n",
            "  inflating: Citrus/Fruits/Canker/Canker (94).jpg  \n",
            "  inflating: Citrus/Fruits/Canker/Canker (95).jpg  \n",
            "  inflating: Citrus/Fruits/Canker/Canker (96).jpg  \n",
            "  inflating: Citrus/Fruits/Canker/Canker (97).jpg  \n",
            "  inflating: Citrus/Fruits/Canker/Canker (98).jpg  \n",
            "  inflating: Citrus/Fruits/Canker/Canker (99).jpg  \n",
            "   creating: Citrus/Fruits/Greening/\n",
            "  inflating: Citrus/Fruits/Greening/Greening (1).jpeg  \n",
            "  inflating: Citrus/Fruits/Greening/Greening (1).jpg  \n",
            "  inflating: Citrus/Fruits/Greening/Greening (10).jpg  \n",
            "  inflating: Citrus/Fruits/Greening/Greening (11).jpg  \n",
            "  inflating: Citrus/Fruits/Greening/Greening (12).jpg  \n",
            "  inflating: Citrus/Fruits/Greening/Greening (13).jpg  \n",
            "  inflating: Citrus/Fruits/Greening/Greening (14).jpg  \n",
            "  inflating: Citrus/Fruits/Greening/Greening (15).jpg  \n",
            "  inflating: Citrus/Fruits/Greening/Greening (2).jpg  \n",
            "  inflating: Citrus/Fruits/Greening/Greening (3).jpg  \n",
            "  inflating: Citrus/Fruits/Greening/Greening (4).jpg  \n",
            "  inflating: Citrus/Fruits/Greening/Greening (5).jpg  \n",
            "  inflating: Citrus/Fruits/Greening/Greening (6).jpg  \n",
            "  inflating: Citrus/Fruits/Greening/Greening (7).jpg  \n",
            "  inflating: Citrus/Fruits/Greening/Greening (8).jpg  \n",
            "  inflating: Citrus/Fruits/Greening/Greening (9).jpg  \n",
            "   creating: Citrus/Fruits/healthy/\n",
            "  inflating: Citrus/Fruits/healthy/Healthy (1).jpg  \n",
            "  inflating: Citrus/Fruits/healthy/Healthy (10).jpg  \n",
            "  inflating: Citrus/Fruits/healthy/Healthy (11).jpg  \n",
            "  inflating: Citrus/Fruits/healthy/Healthy (12).jpg  \n",
            "  inflating: Citrus/Fruits/healthy/Healthy (13).jpg  \n",
            "  inflating: Citrus/Fruits/healthy/Healthy (14).jpg  \n",
            "  inflating: Citrus/Fruits/healthy/Healthy (15).jpg  \n",
            "  inflating: Citrus/Fruits/healthy/Healthy (16).jpg  \n",
            "  inflating: Citrus/Fruits/healthy/Healthy (17).jpg  \n",
            "  inflating: Citrus/Fruits/healthy/Healthy (18).jpg  \n",
            "  inflating: Citrus/Fruits/healthy/Healthy (19).jpg  \n",
            "  inflating: Citrus/Fruits/healthy/Healthy (2).jpg  \n",
            "  inflating: Citrus/Fruits/healthy/Healthy (20).jpg  \n",
            "  inflating: Citrus/Fruits/healthy/Healthy (21).jpg  \n",
            "  inflating: Citrus/Fruits/healthy/Healthy (22).jpg  \n",
            "  inflating: Citrus/Fruits/healthy/Healthy (3).jpg  \n",
            "  inflating: Citrus/Fruits/healthy/Healthy (4).jpg  \n",
            "  inflating: Citrus/Fruits/healthy/Healthy (5).jpg  \n",
            "  inflating: Citrus/Fruits/healthy/Healthy (6).jpg  \n",
            "  inflating: Citrus/Fruits/healthy/Healthy (7).jpg  \n",
            "  inflating: Citrus/Fruits/healthy/Healthy (8).jpg  \n",
            "  inflating: Citrus/Fruits/healthy/Healthy (9).jpg  \n",
            "   creating: Citrus/Fruits/Scab/\n",
            "  inflating: Citrus/Fruits/Scab/16Catla.jpg  \n",
            "  inflating: Citrus/Fruits/Scab/170.jpg  \n",
            "  inflating: Citrus/Fruits/Scab/17Catla.jpg  \n",
            "  inflating: Citrus/Fruits/Scab/18Catla.jpg  \n",
            "  inflating: Citrus/Fruits/Scab/51.jpg  \n",
            "  inflating: Citrus/Fruits/Scab/51Catla.jpg  \n",
            "  inflating: Citrus/Fruits/Scab/52.jpg  \n",
            "  inflating: Citrus/Fruits/Scab/52Catla.jpg  \n",
            "  inflating: Citrus/Fruits/Scab/53.jpg  \n",
            "  inflating: Citrus/Fruits/Scab/53Catla.jpg  \n",
            "  inflating: Citrus/Fruits/Scab/54.jpg  \n",
            "  inflating: Citrus/Fruits/Scab/54Catla.jpg  \n",
            "  inflating: Citrus/Fruits/Scab/55.jpg  \n",
            "  inflating: Citrus/Fruits/Scab/55Catla.jpg  \n",
            "  inflating: Citrus/Fruits/Scab/56Catla.jpg  \n",
            "   creating: Citrus/Leaves/\n",
            "   creating: Citrus/Leaves/Black spot/\n",
            "  inflating: Citrus/Leaves/Black spot/74.jpg  \n",
            "  inflating: Citrus/Leaves/Black spot/78.jpg  \n",
            "  inflating: Citrus/Leaves/Black spot/b (11).png  \n",
            "  inflating: Citrus/Leaves/Black spot/b (126).png  \n",
            "  inflating: Citrus/Leaves/Black spot/b (131).png  \n",
            "  inflating: Citrus/Leaves/Black spot/b (134).png  \n",
            "  inflating: Citrus/Leaves/Black spot/b (139).png  \n",
            "  inflating: Citrus/Leaves/Black spot/b (14).png  \n",
            "  inflating: Citrus/Leaves/Black spot/b (140).png  \n",
            "  inflating: Citrus/Leaves/Black spot/b (142).png  \n",
            "  inflating: Citrus/Leaves/Black spot/b (144).png  \n",
            "  inflating: Citrus/Leaves/Black spot/b (145).png  \n",
            "  inflating: Citrus/Leaves/Black spot/b (146).png  \n",
            "  inflating: Citrus/Leaves/Black spot/b (148).png  \n",
            "  inflating: Citrus/Leaves/Black spot/b (150).png  \n",
            "  inflating: Citrus/Leaves/Black spot/b (151).png  \n",
            "  inflating: Citrus/Leaves/Black spot/b (152).png  \n",
            "  inflating: Citrus/Leaves/Black spot/b (154).png  \n",
            "  inflating: Citrus/Leaves/Black spot/b (155).png  \n",
            "  inflating: Citrus/Leaves/Black spot/b (156).png  \n",
            "  inflating: Citrus/Leaves/Black spot/b (157).png  \n",
            "  inflating: Citrus/Leaves/Black spot/b (158).png  \n",
            "  inflating: Citrus/Leaves/Black spot/b (160).png  \n",
            "  inflating: Citrus/Leaves/Black spot/b (161).png  \n",
            "  inflating: Citrus/Leaves/Black spot/b (162).png  \n",
            "  inflating: Citrus/Leaves/Black spot/b (163).png  \n",
            "  inflating: Citrus/Leaves/Black spot/b (164).png  \n",
            "  inflating: Citrus/Leaves/Black spot/b (165).png  \n",
            "  inflating: Citrus/Leaves/Black spot/b (166).png  \n",
            "  inflating: Citrus/Leaves/Black spot/b (167).png  \n",
            "  inflating: Citrus/Leaves/Black spot/b (168).png  \n",
            "  inflating: Citrus/Leaves/Black spot/b (169).png  \n",
            "  inflating: Citrus/Leaves/Black spot/b (170).png  \n",
            "  inflating: Citrus/Leaves/Black spot/b (172).png  \n",
            "  inflating: Citrus/Leaves/Black spot/b (173).png  \n",
            "  inflating: Citrus/Leaves/Black spot/b (174).png  \n",
            "  inflating: Citrus/Leaves/Black spot/b (175).png  \n",
            "  inflating: Citrus/Leaves/Black spot/b (176).png  \n",
            "  inflating: Citrus/Leaves/Black spot/b (177).png  \n",
            "  inflating: Citrus/Leaves/Black spot/b (180).png  \n",
            "  inflating: Citrus/Leaves/Black spot/b (181).png  \n",
            "  inflating: Citrus/Leaves/Black spot/b (182).png  \n",
            "  inflating: Citrus/Leaves/Black spot/b (183).png  \n",
            "  inflating: Citrus/Leaves/Black spot/b (184).png  \n",
            "  inflating: Citrus/Leaves/Black spot/b (185).png  \n",
            "  inflating: Citrus/Leaves/Black spot/b (186).png  \n",
            "  inflating: Citrus/Leaves/Black spot/b (187).png  \n",
            "  inflating: Citrus/Leaves/Black spot/b (188).png  \n",
            "  inflating: Citrus/Leaves/Black spot/b (189).png  \n",
            "  inflating: Citrus/Leaves/Black spot/b (190).png  \n",
            "  inflating: Citrus/Leaves/Black spot/b (191).png  \n",
            "  inflating: Citrus/Leaves/Black spot/b (192).png  \n",
            "  inflating: Citrus/Leaves/Black spot/b (193).png  \n",
            "  inflating: Citrus/Leaves/Black spot/b (194).png  \n",
            "  inflating: Citrus/Leaves/Black spot/b (195).png  \n",
            "  inflating: Citrus/Leaves/Black spot/b (196).png  \n",
            "  inflating: Citrus/Leaves/Black spot/b (197).png  \n",
            "  inflating: Citrus/Leaves/Black spot/b (198).png  \n",
            "  inflating: Citrus/Leaves/Black spot/b (199).png  \n",
            "  inflating: Citrus/Leaves/Black spot/b (2).png  \n",
            "  inflating: Citrus/Leaves/Black spot/b (202).png  \n",
            "  inflating: Citrus/Leaves/Black spot/b (203).png  \n",
            "  inflating: Citrus/Leaves/Black spot/b (205).png  \n",
            "  inflating: Citrus/Leaves/Black spot/b (207).png  \n",
            "  inflating: Citrus/Leaves/Black spot/b (209).png  \n",
            "  inflating: Citrus/Leaves/Black spot/b (21).png  \n",
            "  inflating: Citrus/Leaves/Black spot/b (221).png  \n",
            "  inflating: Citrus/Leaves/Black spot/b (222).png  \n",
            "  inflating: Citrus/Leaves/Black spot/b (223).png  \n",
            "  inflating: Citrus/Leaves/Black spot/b (224).png  \n",
            "  inflating: Citrus/Leaves/Black spot/b (225).png  \n",
            "  inflating: Citrus/Leaves/Black spot/b (226).png  \n",
            "  inflating: Citrus/Leaves/Black spot/b (227).png  \n",
            "  inflating: Citrus/Leaves/Black spot/b (229).png  \n",
            "  inflating: Citrus/Leaves/Black spot/b (23).png  \n",
            "  inflating: Citrus/Leaves/Black spot/b (230).png  \n",
            "  inflating: Citrus/Leaves/Black spot/b (231).png  \n",
            "  inflating: Citrus/Leaves/Black spot/b (232).png  \n",
            "  inflating: Citrus/Leaves/Black spot/b (233).png  \n",
            "  inflating: Citrus/Leaves/Black spot/b (234).png  \n",
            "  inflating: Citrus/Leaves/Black spot/b (236).png  \n",
            "  inflating: Citrus/Leaves/Black spot/b (237).png  \n",
            "  inflating: Citrus/Leaves/Black spot/b (238).png  \n",
            "  inflating: Citrus/Leaves/Black spot/b (24).png  \n",
            "  inflating: Citrus/Leaves/Black spot/b (240).png  \n",
            "  inflating: Citrus/Leaves/Black spot/b (241).png  \n",
            "  inflating: Citrus/Leaves/Black spot/b (242).png  \n",
            "  inflating: Citrus/Leaves/Black spot/b (243).png  \n",
            "  inflating: Citrus/Leaves/Black spot/b (244).png  \n",
            "  inflating: Citrus/Leaves/Black spot/b (249).png  \n",
            "  inflating: Citrus/Leaves/Black spot/b (250).png  \n",
            "  inflating: Citrus/Leaves/Black spot/b (251).png  \n",
            "  inflating: Citrus/Leaves/Black spot/b (252).png  \n",
            "  inflating: Citrus/Leaves/Black spot/b (254).png  \n",
            "  inflating: Citrus/Leaves/Black spot/b (256).png  \n",
            "  inflating: Citrus/Leaves/Black spot/b (257).png  \n",
            "  inflating: Citrus/Leaves/Black spot/b (258).png  \n",
            "  inflating: Citrus/Leaves/Black spot/b (259).png  \n",
            "  inflating: Citrus/Leaves/Black spot/b (261).png  \n",
            "  inflating: Citrus/Leaves/Black spot/b (262).png  \n",
            "  inflating: Citrus/Leaves/Black spot/b (263).png  \n",
            "  inflating: Citrus/Leaves/Black spot/b (264).png  \n",
            "  inflating: Citrus/Leaves/Black spot/b (265).png  \n",
            "  inflating: Citrus/Leaves/Black spot/b (266).png  \n",
            "  inflating: Citrus/Leaves/Black spot/b (267).png  \n",
            "  inflating: Citrus/Leaves/Black spot/b (268).png  \n",
            "  inflating: Citrus/Leaves/Black spot/b (269).png  \n",
            "  inflating: Citrus/Leaves/Black spot/b (270).png  \n",
            "  inflating: Citrus/Leaves/Black spot/b (271).png  \n",
            "  inflating: Citrus/Leaves/Black spot/b (272).png  \n",
            "  inflating: Citrus/Leaves/Black spot/b (273).png  \n",
            "  inflating: Citrus/Leaves/Black spot/b (274).png  \n",
            "  inflating: Citrus/Leaves/Black spot/b (275).png  \n",
            "  inflating: Citrus/Leaves/Black spot/b (276).png  \n",
            "  inflating: Citrus/Leaves/Black spot/b (277).png  \n",
            "  inflating: Citrus/Leaves/Black spot/b (278).png  \n",
            "  inflating: Citrus/Leaves/Black spot/b (280).png  \n",
            "  inflating: Citrus/Leaves/Black spot/b (281).png  \n",
            "  inflating: Citrus/Leaves/Black spot/b (282).png  \n",
            "  inflating: Citrus/Leaves/Black spot/b (32).png  \n",
            "  inflating: Citrus/Leaves/Black spot/b (35).png  \n",
            "  inflating: Citrus/Leaves/Black spot/b (40).png  \n",
            "  inflating: Citrus/Leaves/Black spot/b (42).png  \n",
            "  inflating: Citrus/Leaves/Black spot/b (43).png  \n",
            "  inflating: Citrus/Leaves/Black spot/b (44).png  \n",
            "  inflating: Citrus/Leaves/Black spot/b (45).png  \n",
            "  inflating: Citrus/Leaves/Black spot/b (46).png  \n",
            "  inflating: Citrus/Leaves/Black spot/b (47).png  \n",
            "  inflating: Citrus/Leaves/Black spot/b (48).png  \n",
            "  inflating: Citrus/Leaves/Black spot/b (49).png  \n",
            "  inflating: Citrus/Leaves/Black spot/b (5).png  \n",
            "  inflating: Citrus/Leaves/Black spot/b (50).png  \n",
            "  inflating: Citrus/Leaves/Black spot/b (51).png  \n",
            "  inflating: Citrus/Leaves/Black spot/b (52).png  \n",
            "  inflating: Citrus/Leaves/Black spot/b (53).png  \n",
            "  inflating: Citrus/Leaves/Black spot/b (55).png  \n",
            "  inflating: Citrus/Leaves/Black spot/b (56).png  \n",
            "  inflating: Citrus/Leaves/Black spot/b (57).png  \n",
            "  inflating: Citrus/Leaves/Black spot/b (58).png  \n",
            "  inflating: Citrus/Leaves/Black spot/b (59).png  \n",
            "  inflating: Citrus/Leaves/Black spot/b (60).png  \n",
            "  inflating: Citrus/Leaves/Black spot/b (61).png  \n",
            "  inflating: Citrus/Leaves/Black spot/b (62).png  \n",
            "  inflating: Citrus/Leaves/Black spot/b (67).png  \n",
            "  inflating: Citrus/Leaves/Black spot/b (68).png  \n",
            "  inflating: Citrus/Leaves/Black spot/b (69).png  \n",
            "  inflating: Citrus/Leaves/Black spot/b (70).png  \n",
            "  inflating: Citrus/Leaves/Black spot/b (74).png  \n",
            "  inflating: Citrus/Leaves/Black spot/b (75).png  \n",
            "  inflating: Citrus/Leaves/Black spot/b (76).png  \n",
            "  inflating: Citrus/Leaves/Black spot/b (77).png  \n",
            "  inflating: Citrus/Leaves/Black spot/b (78).png  \n",
            "  inflating: Citrus/Leaves/Black spot/b (82).png  \n",
            "  inflating: Citrus/Leaves/Black spot/b (83).png  \n",
            "  inflating: Citrus/Leaves/Black spot/b (84).png  \n",
            "  inflating: Citrus/Leaves/Black spot/b (85).png  \n",
            "  inflating: Citrus/Leaves/Black spot/b (86).png  \n",
            "  inflating: Citrus/Leaves/Black spot/b (87).png  \n",
            "  inflating: Citrus/Leaves/Black spot/b (89).png  \n",
            "  inflating: Citrus/Leaves/Black spot/b (91).png  \n",
            "  inflating: Citrus/Leaves/Black spot/b (92).png  \n",
            "  inflating: Citrus/Leaves/Black spot/b (93).png  \n",
            "  inflating: Citrus/Leaves/Black spot/b (94).png  \n",
            "  inflating: Citrus/Leaves/Black spot/b (95).png  \n",
            "  inflating: Citrus/Leaves/Black spot/b (98).png  \n",
            "  inflating: Citrus/Leaves/Black spot/bl (1).png  \n",
            "  inflating: Citrus/Leaves/Black spot/bl (2).png  \n",
            "  inflating: Citrus/Leaves/Black spot/bl (3).png  \n",
            "  inflating: Citrus/Leaves/Black spot/bl (4).png  \n",
            "  inflating: Citrus/Leaves/Black spot/bl (5).png  \n",
            "  inflating: Citrus/Leaves/Black spot/bl (6).png  \n",
            "   creating: Citrus/Leaves/canker/\n",
            "  inflating: Citrus/Leaves/canker/1.png.png  \n",
            "  inflating: Citrus/Leaves/canker/10.pn.png  \n",
            "  inflating: Citrus/Leaves/canker/100.p.png  \n",
            "  inflating: Citrus/Leaves/canker/101.p.png  \n",
            "  inflating: Citrus/Leaves/canker/102.p.png  \n",
            "  inflating: Citrus/Leaves/canker/103.p.png  \n",
            "  inflating: Citrus/Leaves/canker/104.p.png  \n",
            "  inflating: Citrus/Leaves/canker/105.p.png  \n",
            "  inflating: Citrus/Leaves/canker/106.p.png  \n",
            "  inflating: Citrus/Leaves/canker/107.p.png  \n",
            "  inflating: Citrus/Leaves/canker/108.p.png  \n",
            "  inflating: Citrus/Leaves/canker/109.p.png  \n",
            "  inflating: Citrus/Leaves/canker/11.pn.png  \n",
            "  inflating: Citrus/Leaves/canker/110.p.png  \n",
            "  inflating: Citrus/Leaves/canker/111.p.png  \n",
            "  inflating: Citrus/Leaves/canker/112.p.png  \n",
            "  inflating: Citrus/Leaves/canker/113.p.png  \n",
            "  inflating: Citrus/Leaves/canker/114.p.png  \n",
            "  inflating: Citrus/Leaves/canker/115.p.png  \n",
            "  inflating: Citrus/Leaves/canker/116.p.png  \n",
            "  inflating: Citrus/Leaves/canker/117.p.png  \n",
            "  inflating: Citrus/Leaves/canker/118.p.png  \n",
            "  inflating: Citrus/Leaves/canker/119.p.png  \n",
            "  inflating: Citrus/Leaves/canker/12.pn.png  \n",
            "  inflating: Citrus/Leaves/canker/120.p.png  \n",
            "  inflating: Citrus/Leaves/canker/121.p.png  \n",
            "  inflating: Citrus/Leaves/canker/122.p.png  \n",
            "  inflating: Citrus/Leaves/canker/123.p.png  \n",
            "  inflating: Citrus/Leaves/canker/124.p.png  \n",
            "  inflating: Citrus/Leaves/canker/125.p.png  \n",
            "  inflating: Citrus/Leaves/canker/126.p.png  \n",
            "  inflating: Citrus/Leaves/canker/127.p.png  \n",
            "  inflating: Citrus/Leaves/canker/128.p.png  \n",
            "  inflating: Citrus/Leaves/canker/129.p.png  \n",
            "  inflating: Citrus/Leaves/canker/13.pn.png  \n",
            "  inflating: Citrus/Leaves/canker/130.p.png  \n",
            "  inflating: Citrus/Leaves/canker/131.p.png  \n",
            "  inflating: Citrus/Leaves/canker/132.p.png  \n",
            "  inflating: Citrus/Leaves/canker/133.p.png  \n",
            "  inflating: Citrus/Leaves/canker/134.p.png  \n",
            "  inflating: Citrus/Leaves/canker/135.p.png  \n",
            "  inflating: Citrus/Leaves/canker/136.p.png  \n",
            "  inflating: Citrus/Leaves/canker/137.p.png  \n",
            "  inflating: Citrus/Leaves/canker/138.p.png  \n",
            "  inflating: Citrus/Leaves/canker/139.p.png  \n",
            "  inflating: Citrus/Leaves/canker/14.pn.png  \n",
            "  inflating: Citrus/Leaves/canker/140.p.png  \n",
            "  inflating: Citrus/Leaves/canker/141.p.png  \n",
            "  inflating: Citrus/Leaves/canker/142.p.png  \n",
            "  inflating: Citrus/Leaves/canker/143.p.png  \n",
            "  inflating: Citrus/Leaves/canker/144.p.png  \n",
            "  inflating: Citrus/Leaves/canker/145.p.png  \n",
            "  inflating: Citrus/Leaves/canker/146.p.png  \n",
            "  inflating: Citrus/Leaves/canker/147.p.png  \n",
            "  inflating: Citrus/Leaves/canker/148.p.png  \n",
            "  inflating: Citrus/Leaves/canker/149.p.png  \n",
            "  inflating: Citrus/Leaves/canker/15.pn.png  \n",
            "  inflating: Citrus/Leaves/canker/150.p.png  \n",
            "  inflating: Citrus/Leaves/canker/151.p.png  \n",
            "  inflating: Citrus/Leaves/canker/152.p.png  \n",
            "  inflating: Citrus/Leaves/canker/153.p.png  \n",
            "  inflating: Citrus/Leaves/canker/154.p.png  \n",
            "  inflating: Citrus/Leaves/canker/155.p.png  \n",
            "  inflating: Citrus/Leaves/canker/156.p.png  \n",
            "  inflating: Citrus/Leaves/canker/157.p.png  \n",
            "  inflating: Citrus/Leaves/canker/158.p.png  \n",
            "  inflating: Citrus/Leaves/canker/159.p.png  \n",
            "  inflating: Citrus/Leaves/canker/16.pn.png  \n",
            "  inflating: Citrus/Leaves/canker/160.p.png  \n",
            "  inflating: Citrus/Leaves/canker/161.p.png  \n",
            "  inflating: Citrus/Leaves/canker/162.p.png  \n",
            "  inflating: Citrus/Leaves/canker/163.p.png  \n",
            "  inflating: Citrus/Leaves/canker/17.pn.png  \n",
            "  inflating: Citrus/Leaves/canker/18.pn.png  \n",
            "  inflating: Citrus/Leaves/canker/19.pn.png  \n",
            "  inflating: Citrus/Leaves/canker/2.png.png  \n",
            "  inflating: Citrus/Leaves/canker/20.pn.png  \n",
            "  inflating: Citrus/Leaves/canker/21.pn.png  \n",
            "  inflating: Citrus/Leaves/canker/22.pn.png  \n",
            "  inflating: Citrus/Leaves/canker/23.pn.png  \n",
            "  inflating: Citrus/Leaves/canker/24.pn.png  \n",
            "  inflating: Citrus/Leaves/canker/25.pn.png  \n",
            "  inflating: Citrus/Leaves/canker/26.pn.png  \n",
            "  inflating: Citrus/Leaves/canker/27.pn.png  \n",
            "  inflating: Citrus/Leaves/canker/28.pn.png  \n",
            "  inflating: Citrus/Leaves/canker/29.pn.png  \n",
            "  inflating: Citrus/Leaves/canker/3.png.png  \n",
            "  inflating: Citrus/Leaves/canker/30.pn.png  \n",
            "  inflating: Citrus/Leaves/canker/31.pn.png  \n",
            "  inflating: Citrus/Leaves/canker/32.pn.png  \n",
            "  inflating: Citrus/Leaves/canker/33.pn.png  \n",
            "  inflating: Citrus/Leaves/canker/34.pn.png  \n",
            "  inflating: Citrus/Leaves/canker/35.pn.png  \n",
            "  inflating: Citrus/Leaves/canker/36.pn.png  \n",
            "  inflating: Citrus/Leaves/canker/37.pn.png  \n",
            "  inflating: Citrus/Leaves/canker/38.pn.png  \n",
            "  inflating: Citrus/Leaves/canker/39.pn.png  \n",
            "  inflating: Citrus/Leaves/canker/4.png.png  \n",
            "  inflating: Citrus/Leaves/canker/40.pn.png  \n",
            "  inflating: Citrus/Leaves/canker/41.pn.png  \n",
            "  inflating: Citrus/Leaves/canker/42.pn.png  \n",
            "  inflating: Citrus/Leaves/canker/43.pn.png  \n",
            "  inflating: Citrus/Leaves/canker/44.pn.png  \n",
            "  inflating: Citrus/Leaves/canker/45.pn.png  \n",
            "  inflating: Citrus/Leaves/canker/46.pn.png  \n",
            "  inflating: Citrus/Leaves/canker/47.pn.png  \n",
            "  inflating: Citrus/Leaves/canker/48.pn.png  \n",
            "  inflating: Citrus/Leaves/canker/49.pn.png  \n",
            "  inflating: Citrus/Leaves/canker/5.png.png  \n",
            "  inflating: Citrus/Leaves/canker/50.pn.png  \n",
            "  inflating: Citrus/Leaves/canker/51.pn.png  \n",
            "  inflating: Citrus/Leaves/canker/52.pn.png  \n",
            "  inflating: Citrus/Leaves/canker/53.pn.png  \n",
            "  inflating: Citrus/Leaves/canker/54.pn.png  \n",
            "  inflating: Citrus/Leaves/canker/55.pn.png  \n",
            "  inflating: Citrus/Leaves/canker/56.pn.png  \n",
            "  inflating: Citrus/Leaves/canker/57.pn.png  \n",
            "  inflating: Citrus/Leaves/canker/58.pn.png  \n",
            "  inflating: Citrus/Leaves/canker/59.pn.png  \n",
            "  inflating: Citrus/Leaves/canker/6.png.png  \n",
            "  inflating: Citrus/Leaves/canker/60.pn.png  \n",
            "  inflating: Citrus/Leaves/canker/61.pn.png  \n",
            "  inflating: Citrus/Leaves/canker/62.pn.png  \n",
            "  inflating: Citrus/Leaves/canker/63.pn.png  \n",
            "  inflating: Citrus/Leaves/canker/64.pn.png  \n",
            "  inflating: Citrus/Leaves/canker/65.pn.png  \n",
            "  inflating: Citrus/Leaves/canker/66.pn.png  \n",
            "  inflating: Citrus/Leaves/canker/67.pn.png  \n",
            "  inflating: Citrus/Leaves/canker/68.pn.png  \n",
            "  inflating: Citrus/Leaves/canker/69.pn.png  \n",
            "  inflating: Citrus/Leaves/canker/7.png.png  \n",
            "  inflating: Citrus/Leaves/canker/70.pn.png  \n",
            "  inflating: Citrus/Leaves/canker/71.pn.png  \n",
            "  inflating: Citrus/Leaves/canker/72.pn.png  \n",
            "  inflating: Citrus/Leaves/canker/73.pn.png  \n",
            "  inflating: Citrus/Leaves/canker/74.pn.png  \n",
            "  inflating: Citrus/Leaves/canker/75.pn.png  \n",
            "  inflating: Citrus/Leaves/canker/76.pn.png  \n",
            "  inflating: Citrus/Leaves/canker/77.pn.png  \n",
            "  inflating: Citrus/Leaves/canker/78.pn.png  \n",
            "  inflating: Citrus/Leaves/canker/79.pn.png  \n",
            "  inflating: Citrus/Leaves/canker/8.png.png  \n",
            "  inflating: Citrus/Leaves/canker/80.pn.png  \n",
            "  inflating: Citrus/Leaves/canker/81.pn.png  \n",
            "  inflating: Citrus/Leaves/canker/82.pn.png  \n",
            "  inflating: Citrus/Leaves/canker/83.pn.png  \n",
            "  inflating: Citrus/Leaves/canker/84.pn.png  \n",
            "  inflating: Citrus/Leaves/canker/85.pn.png  \n",
            "  inflating: Citrus/Leaves/canker/86.pn.png  \n",
            "  inflating: Citrus/Leaves/canker/87.pn.png  \n",
            "  inflating: Citrus/Leaves/canker/88.pn.png  \n",
            "  inflating: Citrus/Leaves/canker/89.pn.png  \n",
            "  inflating: Citrus/Leaves/canker/9.png.png  \n",
            "  inflating: Citrus/Leaves/canker/90.pn.png  \n",
            "  inflating: Citrus/Leaves/canker/91.pn.png  \n",
            "  inflating: Citrus/Leaves/canker/92.pn.png  \n",
            "  inflating: Citrus/Leaves/canker/93.pn.png  \n",
            "  inflating: Citrus/Leaves/canker/94.pn.png  \n",
            "  inflating: Citrus/Leaves/canker/95.pn.png  \n",
            "  inflating: Citrus/Leaves/canker/96.pn.png  \n",
            "  inflating: Citrus/Leaves/canker/97.pn.png  \n",
            "  inflating: Citrus/Leaves/canker/98.pn.png  \n",
            "  inflating: Citrus/Leaves/canker/99.pn.png  \n",
            "   creating: Citrus/Leaves/greening/\n",
            "  inflating: Citrus/Leaves/greening/g (1).png  \n",
            "  inflating: Citrus/Leaves/greening/g (10).png  \n",
            "  inflating: Citrus/Leaves/greening/g (100).png  \n",
            "  inflating: Citrus/Leaves/greening/g (101).png  \n",
            "  inflating: Citrus/Leaves/greening/g (102).png  \n",
            "  inflating: Citrus/Leaves/greening/g (103).png  \n",
            "  inflating: Citrus/Leaves/greening/g (104).png  \n",
            "  inflating: Citrus/Leaves/greening/g (105).png  \n",
            "  inflating: Citrus/Leaves/greening/g (106).png  \n",
            "  inflating: Citrus/Leaves/greening/g (107).png  \n",
            "  inflating: Citrus/Leaves/greening/g (108).png  \n",
            "  inflating: Citrus/Leaves/greening/g (109).png  \n",
            "  inflating: Citrus/Leaves/greening/g (11).png  \n",
            "  inflating: Citrus/Leaves/greening/g (110).png  \n",
            "  inflating: Citrus/Leaves/greening/g (111).png  \n",
            "  inflating: Citrus/Leaves/greening/g (112).png  \n",
            "  inflating: Citrus/Leaves/greening/g (113).png  \n",
            "  inflating: Citrus/Leaves/greening/g (114).png  \n",
            "  inflating: Citrus/Leaves/greening/g (115).png  \n",
            "  inflating: Citrus/Leaves/greening/g (116).png  \n",
            "  inflating: Citrus/Leaves/greening/g (117).png  \n",
            "  inflating: Citrus/Leaves/greening/g (118).png  \n",
            "  inflating: Citrus/Leaves/greening/g (119).png  \n",
            "  inflating: Citrus/Leaves/greening/g (12).png  \n",
            "  inflating: Citrus/Leaves/greening/g (120).png  \n",
            "  inflating: Citrus/Leaves/greening/g (121).png  \n",
            "  inflating: Citrus/Leaves/greening/g (122).png  \n",
            "  inflating: Citrus/Leaves/greening/g (123).png  \n",
            "  inflating: Citrus/Leaves/greening/g (124).png  \n",
            "  inflating: Citrus/Leaves/greening/g (125).png  \n",
            "  inflating: Citrus/Leaves/greening/g (126).png  \n",
            "  inflating: Citrus/Leaves/greening/g (127).png  \n",
            "  inflating: Citrus/Leaves/greening/g (128).png  \n",
            "  inflating: Citrus/Leaves/greening/g (129).png  \n",
            "  inflating: Citrus/Leaves/greening/g (13).png  \n",
            "  inflating: Citrus/Leaves/greening/g (130).png  \n",
            "  inflating: Citrus/Leaves/greening/g (131).png  \n",
            "  inflating: Citrus/Leaves/greening/g (132).png  \n",
            "  inflating: Citrus/Leaves/greening/g (133).png  \n",
            "  inflating: Citrus/Leaves/greening/g (134).png  \n",
            "  inflating: Citrus/Leaves/greening/g (135).png  \n",
            "  inflating: Citrus/Leaves/greening/g (136).png  \n",
            "  inflating: Citrus/Leaves/greening/g (137).png  \n",
            "  inflating: Citrus/Leaves/greening/g (138).png  \n",
            "  inflating: Citrus/Leaves/greening/g (139).png  \n",
            "  inflating: Citrus/Leaves/greening/g (14).png  \n",
            "  inflating: Citrus/Leaves/greening/g (140).png  \n",
            "  inflating: Citrus/Leaves/greening/g (141).png  \n",
            "  inflating: Citrus/Leaves/greening/g (142).png  \n",
            "  inflating: Citrus/Leaves/greening/g (143).png  \n",
            "  inflating: Citrus/Leaves/greening/g (144).png  \n",
            "  inflating: Citrus/Leaves/greening/g (145).png  \n",
            "  inflating: Citrus/Leaves/greening/g (146).png  \n",
            "  inflating: Citrus/Leaves/greening/g (147).png  \n",
            "  inflating: Citrus/Leaves/greening/g (148).png  \n",
            "  inflating: Citrus/Leaves/greening/g (149).png  \n",
            "  inflating: Citrus/Leaves/greening/g (15).png  \n",
            "  inflating: Citrus/Leaves/greening/g (150).png  \n",
            "  inflating: Citrus/Leaves/greening/g (151).png  \n",
            "  inflating: Citrus/Leaves/greening/g (152).png  \n",
            "  inflating: Citrus/Leaves/greening/g (153).png  \n",
            "  inflating: Citrus/Leaves/greening/g (154).png  \n",
            "  inflating: Citrus/Leaves/greening/g (155).png  \n",
            "  inflating: Citrus/Leaves/greening/g (156).png  \n",
            "  inflating: Citrus/Leaves/greening/g (157).png  \n",
            "  inflating: Citrus/Leaves/greening/g (158).png  \n",
            "  inflating: Citrus/Leaves/greening/g (159).png  \n",
            "  inflating: Citrus/Leaves/greening/g (16).png  \n",
            "  inflating: Citrus/Leaves/greening/g (160).png  \n",
            "  inflating: Citrus/Leaves/greening/g (161).png  \n",
            "  inflating: Citrus/Leaves/greening/g (162).png  \n",
            "  inflating: Citrus/Leaves/greening/g (163).png  \n",
            "  inflating: Citrus/Leaves/greening/g (164).png  \n",
            "  inflating: Citrus/Leaves/greening/g (165).png  \n",
            "  inflating: Citrus/Leaves/greening/g (166).png  \n",
            "  inflating: Citrus/Leaves/greening/g (167).png  \n",
            "  inflating: Citrus/Leaves/greening/g (168).png  \n",
            "  inflating: Citrus/Leaves/greening/g (169).png  \n",
            "  inflating: Citrus/Leaves/greening/g (17).png  \n",
            "  inflating: Citrus/Leaves/greening/g (170).png  \n",
            "  inflating: Citrus/Leaves/greening/g (171).png  \n",
            "  inflating: Citrus/Leaves/greening/g (172).png  \n",
            "  inflating: Citrus/Leaves/greening/g (173).png  \n",
            "  inflating: Citrus/Leaves/greening/g (174).png  \n",
            "  inflating: Citrus/Leaves/greening/g (175).png  \n",
            "  inflating: Citrus/Leaves/greening/g (176).png  \n",
            "  inflating: Citrus/Leaves/greening/g (177).png  \n",
            "  inflating: Citrus/Leaves/greening/g (178).png  \n",
            "  inflating: Citrus/Leaves/greening/g (179).png  \n",
            "  inflating: Citrus/Leaves/greening/g (18).png  \n",
            "  inflating: Citrus/Leaves/greening/g (180).png  \n",
            "  inflating: Citrus/Leaves/greening/g (181).png  \n",
            "  inflating: Citrus/Leaves/greening/g (182).png  \n",
            "  inflating: Citrus/Leaves/greening/g (183).png  \n",
            "  inflating: Citrus/Leaves/greening/g (184).png  \n",
            "  inflating: Citrus/Leaves/greening/g (185).png  \n",
            "  inflating: Citrus/Leaves/greening/g (186).png  \n",
            "  inflating: Citrus/Leaves/greening/g (187).png  \n",
            "  inflating: Citrus/Leaves/greening/g (188).png  \n",
            "  inflating: Citrus/Leaves/greening/g (189).png  \n",
            "  inflating: Citrus/Leaves/greening/g (19).png  \n",
            "  inflating: Citrus/Leaves/greening/g (190).png  \n",
            "  inflating: Citrus/Leaves/greening/g (191).png  \n",
            "  inflating: Citrus/Leaves/greening/g (192).png  \n",
            "  inflating: Citrus/Leaves/greening/g (193).png  \n",
            "  inflating: Citrus/Leaves/greening/g (194).png  \n",
            "  inflating: Citrus/Leaves/greening/g (195).png  \n",
            "  inflating: Citrus/Leaves/greening/g (196).png  \n",
            "  inflating: Citrus/Leaves/greening/g (197).png  \n",
            "  inflating: Citrus/Leaves/greening/g (198).png  \n",
            "  inflating: Citrus/Leaves/greening/g (199).png  \n",
            "  inflating: Citrus/Leaves/greening/g (2).png  \n",
            "  inflating: Citrus/Leaves/greening/g (20).png  \n",
            "  inflating: Citrus/Leaves/greening/g (200).png  \n",
            "  inflating: Citrus/Leaves/greening/g (201).png  \n",
            "  inflating: Citrus/Leaves/greening/g (202).png  \n",
            "  inflating: Citrus/Leaves/greening/g (203).png  \n",
            "  inflating: Citrus/Leaves/greening/g (204).png  \n",
            "  inflating: Citrus/Leaves/greening/g (21).png  \n",
            "  inflating: Citrus/Leaves/greening/g (22).png  \n",
            "  inflating: Citrus/Leaves/greening/g (23).png  \n",
            "  inflating: Citrus/Leaves/greening/g (24).png  \n",
            "  inflating: Citrus/Leaves/greening/g (25).png  \n",
            "  inflating: Citrus/Leaves/greening/g (26).png  \n",
            "  inflating: Citrus/Leaves/greening/g (27).png  \n",
            "  inflating: Citrus/Leaves/greening/g (28).png  \n",
            "  inflating: Citrus/Leaves/greening/g (29).png  \n",
            "  inflating: Citrus/Leaves/greening/g (3).png  \n",
            "  inflating: Citrus/Leaves/greening/g (30).png  \n",
            "  inflating: Citrus/Leaves/greening/g (31).png  \n",
            "  inflating: Citrus/Leaves/greening/g (32).png  \n",
            "  inflating: Citrus/Leaves/greening/g (33).png  \n",
            "  inflating: Citrus/Leaves/greening/g (34).png  \n",
            "  inflating: Citrus/Leaves/greening/g (35).png  \n",
            "  inflating: Citrus/Leaves/greening/g (36).png  \n",
            "  inflating: Citrus/Leaves/greening/g (37).png  \n",
            "  inflating: Citrus/Leaves/greening/g (38).png  \n",
            "  inflating: Citrus/Leaves/greening/g (39).png  \n",
            "  inflating: Citrus/Leaves/greening/g (4).png  \n",
            "  inflating: Citrus/Leaves/greening/g (40).png  \n",
            "  inflating: Citrus/Leaves/greening/g (41).png  \n",
            "  inflating: Citrus/Leaves/greening/g (42).png  \n",
            "  inflating: Citrus/Leaves/greening/g (43).png  \n",
            "  inflating: Citrus/Leaves/greening/g (44).png  \n",
            "  inflating: Citrus/Leaves/greening/g (45).png  \n",
            "  inflating: Citrus/Leaves/greening/g (46).png  \n",
            "  inflating: Citrus/Leaves/greening/g (47).png  \n",
            "  inflating: Citrus/Leaves/greening/g (48).png  \n",
            "  inflating: Citrus/Leaves/greening/g (49).png  \n",
            "  inflating: Citrus/Leaves/greening/g (5).png  \n",
            "  inflating: Citrus/Leaves/greening/g (50).png  \n",
            "  inflating: Citrus/Leaves/greening/g (51).png  \n",
            "  inflating: Citrus/Leaves/greening/g (52).png  \n",
            "  inflating: Citrus/Leaves/greening/g (53).png  \n",
            "  inflating: Citrus/Leaves/greening/g (54).png  \n",
            "  inflating: Citrus/Leaves/greening/g (55).png  \n",
            "  inflating: Citrus/Leaves/greening/g (56).png  \n",
            "  inflating: Citrus/Leaves/greening/g (57).png  \n",
            "  inflating: Citrus/Leaves/greening/g (58).png  \n",
            "  inflating: Citrus/Leaves/greening/g (59).png  \n",
            "  inflating: Citrus/Leaves/greening/g (6).png  \n",
            "  inflating: Citrus/Leaves/greening/g (60).png  \n",
            "  inflating: Citrus/Leaves/greening/g (61).png  \n",
            "  inflating: Citrus/Leaves/greening/g (62).png  \n",
            "  inflating: Citrus/Leaves/greening/g (63).png  \n",
            "  inflating: Citrus/Leaves/greening/g (64).png  \n",
            "  inflating: Citrus/Leaves/greening/g (65).png  \n",
            "  inflating: Citrus/Leaves/greening/g (66).png  \n",
            "  inflating: Citrus/Leaves/greening/g (67).png  \n",
            "  inflating: Citrus/Leaves/greening/g (68).png  \n",
            "  inflating: Citrus/Leaves/greening/g (69).png  \n",
            "  inflating: Citrus/Leaves/greening/g (7).png  \n",
            "  inflating: Citrus/Leaves/greening/g (70).png  \n",
            "  inflating: Citrus/Leaves/greening/g (71).png  \n",
            "  inflating: Citrus/Leaves/greening/g (72).png  \n",
            "  inflating: Citrus/Leaves/greening/g (73).png  \n",
            "  inflating: Citrus/Leaves/greening/g (74).png  \n",
            "  inflating: Citrus/Leaves/greening/g (75).png  \n",
            "  inflating: Citrus/Leaves/greening/g (76).png  \n",
            "  inflating: Citrus/Leaves/greening/g (77).png  \n",
            "  inflating: Citrus/Leaves/greening/g (78).png  \n",
            "  inflating: Citrus/Leaves/greening/g (79).png  \n",
            "  inflating: Citrus/Leaves/greening/g (8).png  \n",
            "  inflating: Citrus/Leaves/greening/g (80).png  \n",
            "  inflating: Citrus/Leaves/greening/g (81).png  \n",
            "  inflating: Citrus/Leaves/greening/g (82).png  \n",
            "  inflating: Citrus/Leaves/greening/g (83).png  \n",
            "  inflating: Citrus/Leaves/greening/g (84).png  \n",
            "  inflating: Citrus/Leaves/greening/g (85).png  \n",
            "  inflating: Citrus/Leaves/greening/g (86).png  \n",
            "  inflating: Citrus/Leaves/greening/g (87).png  \n",
            "  inflating: Citrus/Leaves/greening/g (88).png  \n",
            "  inflating: Citrus/Leaves/greening/g (89).png  \n",
            "  inflating: Citrus/Leaves/greening/g (9).png  \n",
            "  inflating: Citrus/Leaves/greening/g (90).png  \n",
            "  inflating: Citrus/Leaves/greening/g (91).png  \n",
            "  inflating: Citrus/Leaves/greening/g (92).png  \n",
            "  inflating: Citrus/Leaves/greening/g (93).png  \n",
            "  inflating: Citrus/Leaves/greening/g (94).png  \n",
            "  inflating: Citrus/Leaves/greening/g (95).png  \n",
            "  inflating: Citrus/Leaves/greening/g (96).png  \n",
            "  inflating: Citrus/Leaves/greening/g (97).png  \n",
            "  inflating: Citrus/Leaves/greening/g (98).png  \n",
            "  inflating: Citrus/Leaves/greening/g (99).png  \n",
            "   creating: Citrus/Leaves/healthy/\n",
            "  inflating: Citrus/Leaves/healthy/1.png.png  \n",
            "  inflating: Citrus/Leaves/healthy/10.pn.png  \n",
            "  inflating: Citrus/Leaves/healthy/11.pn.png  \n",
            "  inflating: Citrus/Leaves/healthy/12.pn.png  \n",
            "  inflating: Citrus/Leaves/healthy/13.pn.png  \n",
            "  inflating: Citrus/Leaves/healthy/14.pn.png  \n",
            "  inflating: Citrus/Leaves/healthy/15.pn.png  \n",
            "  inflating: Citrus/Leaves/healthy/16.pn.png  \n",
            "  inflating: Citrus/Leaves/healthy/17.pn.png  \n",
            "  inflating: Citrus/Leaves/healthy/18.pn.png  \n",
            "  inflating: Citrus/Leaves/healthy/19.pn.png  \n",
            "  inflating: Citrus/Leaves/healthy/2.png.png  \n",
            "  inflating: Citrus/Leaves/healthy/20.pn.png  \n",
            "  inflating: Citrus/Leaves/healthy/21.pn.png  \n",
            "  inflating: Citrus/Leaves/healthy/22.pn.png  \n",
            "  inflating: Citrus/Leaves/healthy/23.pn.png  \n",
            "  inflating: Citrus/Leaves/healthy/24.pn.png  \n",
            "  inflating: Citrus/Leaves/healthy/25.pn.png  \n",
            "  inflating: Citrus/Leaves/healthy/26.pn.png  \n",
            "  inflating: Citrus/Leaves/healthy/27.pn.png  \n",
            "  inflating: Citrus/Leaves/healthy/28.pn.png  \n",
            "  inflating: Citrus/Leaves/healthy/29.pn.png  \n",
            "  inflating: Citrus/Leaves/healthy/3.png.png  \n",
            "  inflating: Citrus/Leaves/healthy/30.pn.png  \n",
            "  inflating: Citrus/Leaves/healthy/31.pn.png  \n",
            "  inflating: Citrus/Leaves/healthy/32.pn.png  \n",
            "  inflating: Citrus/Leaves/healthy/33.pn.png  \n",
            "  inflating: Citrus/Leaves/healthy/34.pn.png  \n",
            "  inflating: Citrus/Leaves/healthy/35.pn.png  \n",
            "  inflating: Citrus/Leaves/healthy/36.pn.png  \n",
            "  inflating: Citrus/Leaves/healthy/37.pn.png  \n",
            "  inflating: Citrus/Leaves/healthy/38.pn.png  \n",
            "  inflating: Citrus/Leaves/healthy/39.pn.png  \n",
            "  inflating: Citrus/Leaves/healthy/4.png.png  \n",
            "  inflating: Citrus/Leaves/healthy/40.pn.png  \n",
            "  inflating: Citrus/Leaves/healthy/41.pn.png  \n",
            "  inflating: Citrus/Leaves/healthy/42.pn.png  \n",
            "  inflating: Citrus/Leaves/healthy/43.pn.png  \n",
            "  inflating: Citrus/Leaves/healthy/44.pn.png  \n",
            "  inflating: Citrus/Leaves/healthy/45.pn.png  \n",
            "  inflating: Citrus/Leaves/healthy/46.pn.png  \n",
            "  inflating: Citrus/Leaves/healthy/47.pn.png  \n",
            "  inflating: Citrus/Leaves/healthy/48.pn.png  \n",
            "  inflating: Citrus/Leaves/healthy/49.pn.png  \n",
            "  inflating: Citrus/Leaves/healthy/5.png.png  \n",
            "  inflating: Citrus/Leaves/healthy/50.pn.png  \n",
            "  inflating: Citrus/Leaves/healthy/51.pn.png  \n",
            "  inflating: Citrus/Leaves/healthy/52.pn.png  \n",
            "  inflating: Citrus/Leaves/healthy/53.pn.png  \n",
            "  inflating: Citrus/Leaves/healthy/54.pn.png  \n",
            "  inflating: Citrus/Leaves/healthy/55.pn.png  \n",
            "  inflating: Citrus/Leaves/healthy/56.pn.png  \n",
            "  inflating: Citrus/Leaves/healthy/57.pn.png  \n",
            "  inflating: Citrus/Leaves/healthy/58.pn.png  \n",
            "  inflating: Citrus/Leaves/healthy/6.png.png  \n",
            "  inflating: Citrus/Leaves/healthy/7.png.png  \n",
            "  inflating: Citrus/Leaves/healthy/8.png.png  \n",
            "  inflating: Citrus/Leaves/healthy/9.png.png  \n",
            "   creating: Citrus/Leaves/Melanose/\n",
            "  inflating: Citrus/Leaves/Melanose/142.jpg  \n",
            "  inflating: Citrus/Leaves/Melanose/146.jpg  \n",
            "  inflating: Citrus/Leaves/Melanose/32.jpg  \n",
            "  inflating: Citrus/Leaves/Melanose/33.jpg  \n",
            "  inflating: Citrus/Leaves/Melanose/34.jpg  \n",
            "  inflating: Citrus/Leaves/Melanose/38.jpg  \n",
            "  inflating: Citrus/Leaves/Melanose/SAM_3927Catla.jpg  \n",
            "  inflating: Citrus/Leaves/Melanose/SAM_3928Catla.jpg  \n",
            "  inflating: Citrus/Leaves/Melanose/SAM_3929Catla.jpg  \n",
            "  inflating: Citrus/Leaves/Melanose/SAM_3937Catla.jpg  \n",
            "  inflating: Citrus/Leaves/Melanose/SAM_3938Catla.jpg  \n",
            "  inflating: Citrus/Leaves/Melanose/SAM_3941Catla.jpg  \n",
            "  inflating: Citrus/Leaves/Melanose/SAM_4840Catla.jpg  \n"
          ],
          "name": "stdout"
        }
      ]
    },
    {
      "cell_type": "markdown",
      "metadata": {
        "id": "3ws3lz9gMNjZ",
        "colab_type": "text"
      },
      "source": [
        "## import libraries"
      ]
    },
    {
      "cell_type": "code",
      "metadata": {
        "id": "j2ELFuzfYIBi",
        "colab_type": "code",
        "colab": {}
      },
      "source": [
        "import numpy as np # linear algebra\n",
        "import pandas as pd # data processing, CSV file I/O (e.g. pd.read_csv)\n",
        "import matplotlib.pyplot as plt\n"
      ],
      "execution_count": 0,
      "outputs": []
    },
    {
      "cell_type": "markdown",
      "metadata": {
        "id": "NHcaPrv3MPp3",
        "colab_type": "text"
      },
      "source": [
        "## data augmentation "
      ]
    },
    {
      "cell_type": "code",
      "metadata": {
        "id": "HLLlRf3FYT-9",
        "colab_type": "code",
        "colab": {}
      },
      "source": [
        "from keras_preprocessing.image import ImageDataGenerator\n",
        "\n",
        "data_gen= ImageDataGenerator(\n",
        "    horizontal_flip=True,\n",
        "    vertical_flip=True,\n",
        "    rotation_range=90,\n",
        "    width_shift_range=0.1,\n",
        "    height_shift_range=0.1,\n",
        "    zoom_range=.1,\n",
        "    rescale=1/255,\n",
        "    fill_mode='nearest',\n",
        "    shear_range=0.1,\n",
        "    brightness_range=[0.5, 1.5],\n",
        "    validation_split=0.3)"
      ],
      "execution_count": 0,
      "outputs": []
    },
    {
      "cell_type": "markdown",
      "metadata": {
        "id": "SdGkQaB-MVOk",
        "colab_type": "text"
      },
      "source": [
        "## load data \n",
        "load data from directory in generator structure, infact data is loaded while training"
      ]
    },
    {
      "cell_type": "code",
      "metadata": {
        "id": "89ZpuWkgYZHW",
        "colab_type": "code",
        "colab": {}
      },
      "source": [
        "img_shape=300\n",
        "batch_size=16"
      ],
      "execution_count": 0,
      "outputs": []
    },
    {
      "cell_type": "code",
      "metadata": {
        "id": "EsqIKDdmYa0l",
        "colab_type": "code",
        "outputId": "10a7c31b-f96d-481d-ee89-1d05dbfe59ec",
        "colab": {
          "base_uri": "https://localhost:8080/",
          "height": 33
        }
      },
      "source": [
        "#load the training data\n",
        "train_generator = data_gen.flow_from_directory(\n",
        "    '/content/Citrus/Leaves',\n",
        "    target_size=(img_shape,img_shape),\n",
        "    batch_size=batch_size,\n",
        "    class_mode='categorical',\n",
        "    subset='training',\n",
        "    shuffle=True)\n"
      ],
      "execution_count": 8,
      "outputs": [
        {
          "output_type": "stream",
          "text": [
            "Found 429 images belonging to 5 classes.\n"
          ],
          "name": "stdout"
        }
      ]
    },
    {
      "cell_type": "code",
      "metadata": {
        "id": "qPAoXFonZ7Pk",
        "colab_type": "code",
        "outputId": "29adab04-f199-4b49-b57c-b5756ae2cba9",
        "colab": {
          "base_uri": "https://localhost:8080/",
          "height": 33
        }
      },
      "source": [
        "#load the training data\n",
        "val_suffle=False\n",
        "val_generator = data_gen.flow_from_directory(\n",
        "    '/content/Citrus/Leaves',\n",
        "    target_size=(img_shape,img_shape),\n",
        "    batch_size=16,\n",
        "    class_mode='categorical',\n",
        "    subset='validation',shuffle=val_suffle)#shuffle should be False in validation\n",
        "    #https://stackoverflow.com/a/47439789/11170350\n"
      ],
      "execution_count": 9,
      "outputs": [
        {
          "output_type": "stream",
          "text": [
            "Found 180 images belonging to 5 classes.\n"
          ],
          "name": "stdout"
        }
      ]
    },
    {
      "cell_type": "code",
      "metadata": {
        "id": "UQwUaMd7Y1qL",
        "colab_type": "code",
        "outputId": "0f199295-429c-4842-f130-8e231be88771",
        "colab": {
          "base_uri": "https://localhost:8080/",
          "height": 33
        }
      },
      "source": [
        "train_generator.next()[0].shape,train_generator.next()[1].shape"
      ],
      "execution_count": 10,
      "outputs": [
        {
          "output_type": "execute_result",
          "data": {
            "text/plain": [
              "((16, 300, 300, 3), (16, 5))"
            ]
          },
          "metadata": {
            "tags": []
          },
          "execution_count": 10
        }
      ]
    },
    {
      "cell_type": "code",
      "metadata": {
        "id": "XwCEKIuz0C1Z",
        "colab_type": "code",
        "outputId": "1af5348e-8c57-4163-c62c-7f292d87f2e0",
        "colab": {
          "base_uri": "https://localhost:8080/",
          "height": 33
        }
      },
      "source": [
        "val_generator.next()[0].shape,val_generator.next()[1].shape"
      ],
      "execution_count": 11,
      "outputs": [
        {
          "output_type": "execute_result",
          "data": {
            "text/plain": [
              "((16, 300, 300, 3), (16, 5))"
            ]
          },
          "metadata": {
            "tags": []
          },
          "execution_count": 11
        }
      ]
    },
    {
      "cell_type": "markdown",
      "metadata": {
        "id": "zD-g8AY9Mhcf",
        "colab_type": "text"
      },
      "source": [
        "## create efficent net architecture"
      ]
    },
    {
      "cell_type": "code",
      "metadata": {
        "id": "1INqpplvY5PN",
        "colab_type": "code",
        "colab": {}
      },
      "source": [
        "from tensorflow.keras.models import Sequential,Model\n",
        "from tensorflow.keras.layers import Activation, Dropout, Flatten, Dense, Conv2D, MaxPool2D, BatchNormalization,Input,MaxPooling2D,GlobalMaxPooling2D,concatenate\n",
        "from tensorflow.keras.layers import GlobalAveragePooling2D\n",
        "from tensorflow.keras.applications.resnet50 import ResNet50\n",
        "from tensorflow.keras.callbacks import ModelCheckpoint,ReduceLROnPlateau\n",
        "from tensorflow.keras.optimizers import Adam\n",
        "import tensorflow.keras.backend as K\n",
        "import tensorflow as tf"
      ],
      "execution_count": 0,
      "outputs": []
    },
    {
      "cell_type": "markdown",
      "metadata": {
        "id": "nGyQMzE_uLPJ",
        "colab_type": "text"
      },
      "source": [
        "### Base model"
      ]
    },
    {
      "cell_type": "code",
      "metadata": {
        "id": "knUQBAGIuXLs",
        "colab_type": "code",
        "colab": {}
      },
      "source": [
        ""
      ],
      "execution_count": 0,
      "outputs": []
    },
    {
      "cell_type": "code",
      "metadata": {
        "colab_type": "code",
        "outputId": "44cb8d5d-e720-4dd1-9020-637a7614d48c",
        "id": "_nJJRGcCuXdK",
        "colab": {
          "base_uri": "https://localhost:8080/",
          "height": 50
        }
      },
      "source": [
        "import efficientnet.tfkeras as efn\n",
        "model =efn.EfficientNetB4(weights ='noisy-student', include_top=False, input_shape = (img_shape,img_shape,3))\n"
      ],
      "execution_count": 13,
      "outputs": [
        {
          "output_type": "stream",
          "text": [
            "Downloading data from https://github.com/qubvel/efficientnet/releases/download/v0.0.1/efficientnet-b4_noisy-student_notop.h5\n",
            "71680000/71678424 [==============================] - 2s 0us/step\n"
          ],
          "name": "stdout"
        }
      ]
    },
    {
      "cell_type": "code",
      "metadata": {
        "colab_type": "code",
        "id": "Fpuh2ozquXdO",
        "colab": {}
      },
      "source": [
        "x = model.output\n",
        "x = GlobalAveragePooling2D()(x)\n",
        "x = Dropout(0.3)(x)\n",
        "x = Dense(128, activation=\"relu\")(x)\n",
        "x = Dropout(0.3)(x)\n",
        "x = Dense(64, activation=\"relu\")(x)\n",
        "predictions = Dense(5, activation=\"softmax\")(x)"
      ],
      "execution_count": 0,
      "outputs": []
    },
    {
      "cell_type": "code",
      "metadata": {
        "colab_type": "code",
        "id": "yucbpZ23uXdQ",
        "colab": {}
      },
      "source": [
        "model = Model(inputs=model.input, outputs=predictions)"
      ],
      "execution_count": 0,
      "outputs": []
    },
    {
      "cell_type": "code",
      "metadata": {
        "colab_type": "code",
        "id": "aK7Wg-4fuXdR",
        "colab": {}
      },
      "source": [
        "def custom_loss(y_true, y_pred):\n",
        "    return tf.keras.losses.categorical_crossentropy(y_true, y_pred, label_smoothing=0.1)"
      ],
      "execution_count": 0,
      "outputs": []
    },
    {
      "cell_type": "code",
      "metadata": {
        "colab_type": "code",
        "id": "XpIera9DuXdT",
        "colab": {}
      },
      "source": [
        "model.compile(optimizer='adam', loss=custom_loss, metrics=['accuracy'])"
      ],
      "execution_count": 0,
      "outputs": []
    },
    {
      "cell_type": "code",
      "metadata": {
        "colab_type": "code",
        "outputId": "57fa761c-92f1-4467-adf8-db234cb64bd2",
        "id": "N7IaH8ROuXdV",
        "colab": {
          "base_uri": "https://localhost:8080/",
          "height": 67
        }
      },
      "source": [
        "\n",
        "trainable_count = np.sum([K.count_params(w) for w in model.trainable_weights])\n",
        "non_trainable_count = np.sum([K.count_params(w) for w in model.non_trainable_weights])\n",
        "\n",
        "print('Total params: {:,}'.format(trainable_count + non_trainable_count))\n",
        "print('Trainable params: {:,}'.format(trainable_count))\n",
        "print('Non-trainable params: {:,}'.format(non_trainable_count))"
      ],
      "execution_count": 18,
      "outputs": [
        {
          "output_type": "stream",
          "text": [
            "Total params: 17,911,901\n",
            "Trainable params: 17,786,701\n",
            "Non-trainable params: 125,200\n"
          ],
          "name": "stdout"
        }
      ]
    },
    {
      "cell_type": "code",
      "metadata": {
        "colab_type": "code",
        "outputId": "159dfc09-d3ea-4937-b370-df64bf33968f",
        "id": "LSG-myX4uXdX",
        "colab": {
          "base_uri": "https://localhost:8080/",
          "height": 518
        }
      },
      "source": [
        "results = model.fit(train_generator,epochs=15,\n",
        "                              steps_per_epoch=train_generator.n/batch_size,\n",
        "                              validation_data=val_generator,\n",
        "                             validation_steps=val_generator.n/batch_size,\n",
        "                              callbacks=[ReduceLROnPlateau(monitor='val_loss', factor=0.3,patience=2, min_lr=0.000001)])"
      ],
      "execution_count": 19,
      "outputs": [
        {
          "output_type": "stream",
          "text": [
            "Epoch 1/15\n",
            "27/26 [==============================] - 23s 866ms/step - loss: 1.1469 - accuracy: 0.6200 - val_loss: 1.3838 - val_accuracy: 0.5500 - lr: 0.0010\n",
            "Epoch 2/15\n",
            "27/26 [==============================] - 20s 756ms/step - loss: 0.7610 - accuracy: 0.8578 - val_loss: 1.2587 - val_accuracy: 0.5889 - lr: 0.0010\n",
            "Epoch 3/15\n",
            "27/26 [==============================] - 20s 758ms/step - loss: 0.7711 - accuracy: 0.8392 - val_loss: 0.9581 - val_accuracy: 0.7278 - lr: 0.0010\n",
            "Epoch 4/15\n",
            "27/26 [==============================] - 21s 763ms/step - loss: 0.6582 - accuracy: 0.8951 - val_loss: 0.9166 - val_accuracy: 0.7889 - lr: 0.0010\n",
            "Epoch 5/15\n",
            "27/26 [==============================] - 20s 754ms/step - loss: 0.6986 - accuracy: 0.8834 - val_loss: 0.9988 - val_accuracy: 0.6500 - lr: 0.0010\n",
            "Epoch 6/15\n",
            "27/26 [==============================] - 21s 761ms/step - loss: 0.6257 - accuracy: 0.8974 - val_loss: 1.3170 - val_accuracy: 0.5833 - lr: 0.0010\n",
            "Epoch 7/15\n",
            "27/26 [==============================] - 20s 757ms/step - loss: 0.5963 - accuracy: 0.9044 - val_loss: 0.8212 - val_accuracy: 0.7944 - lr: 3.0000e-04\n",
            "Epoch 8/15\n",
            "27/26 [==============================] - 20s 757ms/step - loss: 0.5288 - accuracy: 0.9487 - val_loss: 0.7970 - val_accuracy: 0.8056 - lr: 3.0000e-04\n",
            "Epoch 9/15\n",
            "27/26 [==============================] - 20s 756ms/step - loss: 0.5258 - accuracy: 0.9394 - val_loss: 0.8083 - val_accuracy: 0.7944 - lr: 3.0000e-04\n",
            "Epoch 10/15\n",
            "27/26 [==============================] - 20s 742ms/step - loss: 0.5131 - accuracy: 0.9534 - val_loss: 0.7390 - val_accuracy: 0.8444 - lr: 3.0000e-04\n",
            "Epoch 11/15\n",
            "27/26 [==============================] - 21s 760ms/step - loss: 0.5073 - accuracy: 0.9580 - val_loss: 0.7109 - val_accuracy: 0.8444 - lr: 3.0000e-04\n",
            "Epoch 12/15\n",
            "27/26 [==============================] - 20s 755ms/step - loss: 0.4881 - accuracy: 0.9627 - val_loss: 0.7302 - val_accuracy: 0.8333 - lr: 3.0000e-04\n",
            "Epoch 13/15\n",
            "27/26 [==============================] - 21s 760ms/step - loss: 0.4845 - accuracy: 0.9650 - val_loss: 0.6731 - val_accuracy: 0.8833 - lr: 3.0000e-04\n",
            "Epoch 14/15\n",
            "27/26 [==============================] - 21s 767ms/step - loss: 0.4847 - accuracy: 0.9697 - val_loss: 0.6896 - val_accuracy: 0.8833 - lr: 3.0000e-04\n",
            "Epoch 15/15\n",
            "27/26 [==============================] - 20s 754ms/step - loss: 0.4502 - accuracy: 0.9790 - val_loss: 0.7043 - val_accuracy: 0.8556 - lr: 3.0000e-04\n"
          ],
          "name": "stdout"
        }
      ]
    },
    {
      "cell_type": "code",
      "metadata": {
        "id": "V3ovS33jMJrE",
        "colab_type": "code",
        "colab": {
          "base_uri": "https://localhost:8080/",
          "height": 295
        },
        "outputId": "401cddb0-293d-4731-d7d0-13d3588d9304"
      },
      "source": [
        "\n",
        "plt.plot(results.history['accuracy'])\n",
        "plt.plot(results.history['val_accuracy'])\n",
        "plt.title('model accuracy ')\n",
        "plt.ylabel('accuracy')\n",
        "plt.xlabel('epoch')\n",
        "plt.legend(['train', 'test'], loc='upper left')\n",
        "plt.show()"
      ],
      "execution_count": 20,
      "outputs": [
        {
          "output_type": "display_data",
          "data": {
            "image/png": "[encoded data removed]",
            "text/plain": [
              "<Figure size 432x288 with 1 Axes>"
            ]
          },
          "metadata": {
            "tags": []
          }
        }
      ]
    },
    {
      "cell_type": "code",
      "metadata": {
        "colab_type": "code",
        "outputId": "2b97ea90-9eaa-40f5-9107-fe29880317af",
        "id": "m5KADpgcuXda",
        "colab": {
          "base_uri": "https://localhost:8080/",
          "height": 295
        }
      },
      "source": [
        "\n",
        "plt.plot(results.history['loss'])\n",
        "plt.plot(results.history['val_loss'])\n",
        "plt.title('model loss')\n",
        "plt.ylabel('loss')\n",
        "plt.xlabel('epoch')\n",
        "plt.legend(['train', 'test'], loc='upper left')\n",
        "plt.show()"
      ],
      "execution_count": 21,
      "outputs": [
        {
          "output_type": "display_data",
          "data": {
            "image/png": "[encoded data removed]",
            "text/plain": [
              "<Figure size 432x288 with 1 Axes>"
            ]
          },
          "metadata": {
            "tags": []
          }
        }
      ]
    },
    {
      "cell_type": "code",
      "metadata": {
        "colab_type": "code",
        "outputId": "9a3253ba-a3f4-48de-d722-ed8f23ff025f",
        "id": "at7xjzsfuXdc",
        "colab": {
          "base_uri": "https://localhost:8080/",
          "height": 50
        }
      },
      "source": [
        "model.evaluate(val_generator,steps=val_generator.n//batch_size)"
      ],
      "execution_count": 22,
      "outputs": [
        {
          "output_type": "stream",
          "text": [
            "11/11 [==============================] - 4s 363ms/step - loss: 0.7226 - accuracy: 0.8476\n"
          ],
          "name": "stdout"
        },
        {
          "output_type": "execute_result",
          "data": {
            "text/plain": [
              "[0.7225928902626038, 0.8475610017776489]"
            ]
          },
          "metadata": {
            "tags": []
          },
          "execution_count": 22
        }
      ]
    },
    {
      "cell_type": "code",
      "metadata": {
        "colab_type": "code",
        "outputId": "93cee14b-9b3e-4265-e6cf-a03887968681",
        "id": "0vnn2CqWuXdd",
        "colab": {
          "base_uri": "https://localhost:8080/",
          "height": 50
        }
      },
      "source": [
        "val_generator.reset()\n",
        "model.evaluate(val_generator,steps=val_generator.n//batch_size)"
      ],
      "execution_count": 23,
      "outputs": [
        {
          "output_type": "stream",
          "text": [
            "11/11 [==============================] - 4s 387ms/step - loss: 0.7178 - accuracy: 0.8750\n"
          ],
          "name": "stdout"
        },
        {
          "output_type": "execute_result",
          "data": {
            "text/plain": [
              "[0.7178135514259338, 0.875]"
            ]
          },
          "metadata": {
            "tags": []
          },
          "execution_count": 23
        }
      ]
    },
    {
      "cell_type": "code",
      "metadata": {
        "colab_type": "code",
        "outputId": "7c4a6a2d-c899-4ae5-d1d0-81259221dcbc",
        "id": "vu1hi9UPuXdf",
        "colab": {
          "base_uri": "https://localhost:8080/",
          "height": 33
        }
      },
      "source": [
        "val_generator.reset()\n",
        "y_pred=model.predict(val_generator,steps=val_generator.n/batch_size,verbose=1)"
      ],
      "execution_count": 24,
      "outputs": [
        {
          "output_type": "stream",
          "text": [
            "12/11 [================================] - 4s 365ms/step\n"
          ],
          "name": "stdout"
        }
      ]
    },
    {
      "cell_type": "code",
      "metadata": {
        "colab_type": "code",
        "id": "TiLZLyQkuXdh",
        "colab": {}
      },
      "source": [
        "if val_suffle==True:\n",
        "  per = np.random.permutation(val_generator.n)\n",
        "  val_generator.index_array = per\n",
        "  y_true = val_generator.classes[per]\n",
        "else: \n",
        "  y_true = val_generator.classes"
      ],
      "execution_count": 0,
      "outputs": []
    },
    {
      "cell_type": "code",
      "metadata": {
        "colab_type": "code",
        "id": "m2MTXwv0uXdj",
        "colab": {}
      },
      "source": [
        "y_pred=np.argmax(y_pred, axis=1)"
      ],
      "execution_count": 0,
      "outputs": []
    },
    {
      "cell_type": "code",
      "metadata": {
        "colab_type": "code",
        "outputId": "b2215ba8-d84a-4081-f97a-6caa519e746a",
        "id": "-iEQWCe0uXdm",
        "colab": {
          "base_uri": "https://localhost:8080/",
          "height": 33
        }
      },
      "source": [
        "y_pred.shape,y_true.shape"
      ],
      "execution_count": 27,
      "outputs": [
        {
          "output_type": "execute_result",
          "data": {
            "text/plain": [
              "((180,), (180,))"
            ]
          },
          "metadata": {
            "tags": []
          },
          "execution_count": 27
        }
      ]
    },
    {
      "cell_type": "code",
      "metadata": {
        "colab_type": "code",
        "outputId": "330c3726-99d0-4989-94dc-bfb1d3aecdac",
        "id": "a1g_Ku5auXdo",
        "colab": {
          "base_uri": "https://localhost:8080/",
          "height": 50
        }
      },
      "source": [
        "from sklearn.metrics import classification_report,accuracy_score,f1_score\n",
        "print(accuracy_score(y_true,y_pred))\n",
        "print(f1_score(y_true,y_pred,average='macro'))"
      ],
      "execution_count": 28,
      "outputs": [
        {
          "output_type": "stream",
          "text": [
            "0.8833333333333333\n",
            "0.921791728797567\n"
          ],
          "name": "stdout"
        }
      ]
    },
    {
      "cell_type": "code",
      "metadata": {
        "colab_type": "code",
        "outputId": "74e57501-4773-4aeb-aef2-7d53d61afb5a",
        "id": "QlKQtGX7uXdq",
        "colab": {
          "base_uri": "https://localhost:8080/",
          "height": 217
        }
      },
      "source": [
        "class_label=list(train_generator.class_indices.keys())\n",
        "print(classification_report(y_true, y_pred,target_names=class_label))#"
      ],
      "execution_count": 29,
      "outputs": [
        {
          "output_type": "stream",
          "text": [
            "              precision    recall  f1-score   support\n",
            "\n",
            "  Black spot       0.79      0.90      0.84        51\n",
            "    Melanose       1.00      1.00      1.00         3\n",
            "      canker       0.95      0.83      0.89        48\n",
            "    greening       0.88      0.87      0.88        61\n",
            "     healthy       1.00      1.00      1.00        17\n",
            "\n",
            "    accuracy                           0.88       180\n",
            "   macro avg       0.93      0.92      0.92       180\n",
            "weighted avg       0.89      0.88      0.88       180\n",
            "\n"
          ],
          "name": "stdout"
        }
      ]
    },
    {
      "cell_type": "markdown",
      "metadata": {
        "id": "g07G55lDuTHF",
        "colab_type": "text"
      },
      "source": [
        "### Imagenet weights"
      ]
    },
    {
      "cell_type": "code",
      "metadata": {
        "id": "TROCpFHEY_hG",
        "colab_type": "code",
        "outputId": "001eb046-9df3-4d53-e583-7d75cd5976a2",
        "colab": {
          "base_uri": "https://localhost:8080/",
          "height": 70
        }
      },
      "source": [
        "import efficientnet.tfkeras as efn\n",
        "model =efn.EfficientNetB4(weights = 'imagenet', include_top=False, input_shape = (img_shape,img_shape,3))\n"
      ],
      "execution_count": 30,
      "outputs": [
        {
          "output_type": "stream",
          "text": [
            "Downloading data from https://github.com/Callidior/keras-applications/releases/download/efficientnet/efficientnet-b4_weights_tf_dim_ordering_tf_kernels_autoaugment_notop.h5\n",
            "71892992/71892840 [==============================] - 2s 0us/step\n"
          ],
          "name": "stdout"
        }
      ]
    },
    {
      "cell_type": "code",
      "metadata": {
        "id": "bH-iijlsYv6Z",
        "colab_type": "code",
        "colab": {}
      },
      "source": [
        "x = model.output\n",
        "x = GlobalAveragePooling2D()(x)\n",
        "x = Dropout(0.3)(x)\n",
        "x = Dense(128, activation=\"relu\")(x)\n",
        "x = Dropout(0.3)(x)\n",
        "x = Dense(64, activation=\"relu\")(x)\n",
        "predictions = Dense(5, activation=\"softmax\")(x)"
      ],
      "execution_count": 0,
      "outputs": []
    },
    {
      "cell_type": "code",
      "metadata": {
        "id": "wHi6QjGpZTZa",
        "colab_type": "code",
        "colab": {}
      },
      "source": [
        "model = Model(inputs=model.input, outputs=predictions)"
      ],
      "execution_count": 0,
      "outputs": []
    },
    {
      "cell_type": "code",
      "metadata": {
        "id": "-EiFHYX6ZVAs",
        "colab_type": "code",
        "colab": {}
      },
      "source": [
        "def custom_loss(y_true, y_pred):\n",
        "    return tf.keras.losses.categorical_crossentropy(y_true, y_pred, label_smoothing=0.1)"
      ],
      "execution_count": 0,
      "outputs": []
    },
    {
      "cell_type": "code",
      "metadata": {
        "id": "6ILUJUKTaLpY",
        "colab_type": "code",
        "colab": {}
      },
      "source": [
        "model.compile(optimizer='adam', loss=custom_loss, metrics=['accuracy'])"
      ],
      "execution_count": 0,
      "outputs": []
    },
    {
      "cell_type": "code",
      "metadata": {
        "id": "tvSJRzD9RMF9",
        "colab_type": "code",
        "outputId": "49c24f4a-a63b-4220-cad0-59e225fda5fe",
        "colab": {
          "base_uri": "https://localhost:8080/",
          "height": 67
        }
      },
      "source": [
        "\n",
        "trainable_count = np.sum([K.count_params(w) for w in model.trainable_weights])\n",
        "non_trainable_count = np.sum([K.count_params(w) for w in model.non_trainable_weights])\n",
        "\n",
        "print('Total params: {:,}'.format(trainable_count + non_trainable_count))\n",
        "print('Trainable params: {:,}'.format(trainable_count))\n",
        "print('Non-trainable params: {:,}'.format(non_trainable_count))"
      ],
      "execution_count": 35,
      "outputs": [
        {
          "output_type": "stream",
          "text": [
            "Total params: 17,911,901\n",
            "Trainable params: 17,786,701\n",
            "Non-trainable params: 125,200\n"
          ],
          "name": "stdout"
        }
      ]
    },
    {
      "cell_type": "code",
      "metadata": {
        "id": "XGM8_mVLZY8a",
        "colab_type": "code",
        "outputId": "89e994f3-8d25-48e5-a403-986b28bad9a1",
        "colab": {
          "base_uri": "https://localhost:8080/",
          "height": 518
        }
      },
      "source": [
        "results = model.fit(train_generator,epochs=15,\n",
        "                              steps_per_epoch=train_generator.n/batch_size,\n",
        "                              validation_data=val_generator,\n",
        "                             validation_steps=val_generator.n/batch_size,\n",
        "                              callbacks=[ReduceLROnPlateau(monitor='val_loss', factor=0.3,patience=2, min_lr=0.000001)])"
      ],
      "execution_count": 36,
      "outputs": [
        {
          "output_type": "stream",
          "text": [
            "Epoch 1/15\n",
            "27/26 [==============================] - 22s 831ms/step - loss: 1.0565 - accuracy: 0.6760 - val_loss: 1.4200 - val_accuracy: 0.4778 - lr: 0.0010\n",
            "Epoch 2/15\n",
            "27/26 [==============================] - 20s 754ms/step - loss: 0.8919 - accuracy: 0.7809 - val_loss: 1.4557 - val_accuracy: 0.5222 - lr: 0.0010\n",
            "Epoch 3/15\n",
            "27/26 [==============================] - 20s 755ms/step - loss: 0.6588 - accuracy: 0.8951 - val_loss: 1.3160 - val_accuracy: 0.5722 - lr: 0.0010\n",
            "Epoch 4/15\n",
            "27/26 [==============================] - 20s 758ms/step - loss: 0.6252 - accuracy: 0.9114 - val_loss: 1.1568 - val_accuracy: 0.6444 - lr: 0.0010\n",
            "Epoch 5/15\n",
            "27/26 [==============================] - 20s 751ms/step - loss: 0.6145 - accuracy: 0.9207 - val_loss: 1.0650 - val_accuracy: 0.6667 - lr: 0.0010\n",
            "Epoch 6/15\n",
            "27/26 [==============================] - 20s 756ms/step - loss: 0.6222 - accuracy: 0.9114 - val_loss: 0.9085 - val_accuracy: 0.7944 - lr: 0.0010\n",
            "Epoch 7/15\n",
            "27/26 [==============================] - 20s 754ms/step - loss: 0.5540 - accuracy: 0.9464 - val_loss: 1.0722 - val_accuracy: 0.7222 - lr: 0.0010\n",
            "Epoch 8/15\n",
            "27/26 [==============================] - 20s 756ms/step - loss: 0.5622 - accuracy: 0.9347 - val_loss: 0.8471 - val_accuracy: 0.7722 - lr: 0.0010\n",
            "Epoch 9/15\n",
            "27/26 [==============================] - 20s 758ms/step - loss: 0.5840 - accuracy: 0.9301 - val_loss: 0.9231 - val_accuracy: 0.7611 - lr: 0.0010\n",
            "Epoch 10/15\n",
            "27/26 [==============================] - 20s 751ms/step - loss: 0.6296 - accuracy: 0.9044 - val_loss: 0.7827 - val_accuracy: 0.8333 - lr: 0.0010\n",
            "Epoch 11/15\n",
            "27/26 [==============================] - 20s 746ms/step - loss: 0.5387 - accuracy: 0.9347 - val_loss: 0.7406 - val_accuracy: 0.8611 - lr: 0.0010\n",
            "Epoch 12/15\n",
            "27/26 [==============================] - 21s 762ms/step - loss: 0.5162 - accuracy: 0.9510 - val_loss: 0.9944 - val_accuracy: 0.7556 - lr: 0.0010\n",
            "Epoch 13/15\n",
            "27/26 [==============================] - 20s 756ms/step - loss: 0.5735 - accuracy: 0.9301 - val_loss: 0.7884 - val_accuracy: 0.8444 - lr: 0.0010\n",
            "Epoch 14/15\n",
            "27/26 [==============================] - 20s 753ms/step - loss: 0.5094 - accuracy: 0.9464 - val_loss: 0.6578 - val_accuracy: 0.8889 - lr: 3.0000e-04\n",
            "Epoch 15/15\n",
            "27/26 [==============================] - 20s 756ms/step - loss: 0.4731 - accuracy: 0.9744 - val_loss: 0.6379 - val_accuracy: 0.8944 - lr: 3.0000e-04\n"
          ],
          "name": "stdout"
        }
      ]
    },
    {
      "cell_type": "code",
      "metadata": {
        "id": "Cf2JhDiNMhlZ",
        "colab_type": "code",
        "colab": {
          "base_uri": "https://localhost:8080/",
          "height": 295
        },
        "outputId": "b3d112b2-8613-4187-9695-a34ce40cb9d5"
      },
      "source": [
        "\n",
        "plt.plot(results.history['accuracy'])\n",
        "plt.plot(results.history['val_accuracy'])\n",
        "plt.title('model accuracy ')\n",
        "plt.ylabel('accuracy')\n",
        "plt.xlabel('epoch')\n",
        "plt.legend(['train', 'test'], loc='upper left')\n",
        "plt.show()"
      ],
      "execution_count": 37,
      "outputs": [
        {
          "output_type": "display_data",
          "data": {
            "image/png": "[encoded data removed]",
            "text/plain": [
              "<Figure size 432x288 with 1 Axes>"
            ]
          },
          "metadata": {
            "tags": []
          }
        }
      ]
    },
    {
      "cell_type": "code",
      "metadata": {
        "id": "1wwHnZWzchDE",
        "colab_type": "code",
        "outputId": "301476b1-8fc1-4822-a7b2-b5c4a8e04403",
        "colab": {
          "base_uri": "https://localhost:8080/",
          "height": 312
        }
      },
      "source": [
        "\n",
        "plt.plot(results.history['loss'])\n",
        "plt.plot(results.history['val_loss'])\n",
        "plt.title('model loss')\n",
        "plt.ylabel('loss')\n",
        "plt.xlabel('epoch')\n",
        "plt.legend(['train', 'test'], loc='upper left')\n",
        "plt.show()"
      ],
      "execution_count": 38,
      "outputs": [
        {
          "output_type": "stream",
          "text": [
            "ERROR! Session/line number was not unique in database. History logging moved to new session 59\n"
          ],
          "name": "stdout"
        },
        {
          "output_type": "display_data",
          "data": {
            "image/png": "[encoded data removed]",
            "text/plain": [
              "<Figure size 432x288 with 1 Axes>"
            ]
          },
          "metadata": {
            "tags": []
          }
        }
      ]
    },
    {
      "cell_type": "code",
      "metadata": {
        "id": "XBNK5gduAiIs",
        "colab_type": "code",
        "outputId": "f1c82aac-6826-428a-ae3c-524e7956c053",
        "colab": {
          "base_uri": "https://localhost:8080/",
          "height": 50
        }
      },
      "source": [
        "model.evaluate(val_generator,steps=val_generator.n//batch_size)"
      ],
      "execution_count": 39,
      "outputs": [
        {
          "output_type": "stream",
          "text": [
            "11/11 [==============================] - 4s 357ms/step - loss: 0.6444 - accuracy: 0.8780\n"
          ],
          "name": "stdout"
        },
        {
          "output_type": "execute_result",
          "data": {
            "text/plain": [
              "[0.6443590521812439, 0.8780487775802612]"
            ]
          },
          "metadata": {
            "tags": []
          },
          "execution_count": 39
        }
      ]
    },
    {
      "cell_type": "code",
      "metadata": {
        "id": "3W31Zr5BBq3n",
        "colab_type": "code",
        "outputId": "be5a0a39-527b-4f0d-f8a2-b56605875282",
        "colab": {
          "base_uri": "https://localhost:8080/",
          "height": 50
        }
      },
      "source": [
        "val_generator.reset()\n",
        "model.evaluate(val_generator,steps=val_generator.n//batch_size)"
      ],
      "execution_count": 40,
      "outputs": [
        {
          "output_type": "stream",
          "text": [
            "11/11 [==============================] - 4s 389ms/step - loss: 0.6824 - accuracy: 0.8750\n"
          ],
          "name": "stdout"
        },
        {
          "output_type": "execute_result",
          "data": {
            "text/plain": [
              "[0.6823627948760986, 0.875]"
            ]
          },
          "metadata": {
            "tags": []
          },
          "execution_count": 40
        }
      ]
    },
    {
      "cell_type": "code",
      "metadata": {
        "id": "G_ZFYgc4zUBy",
        "colab_type": "code",
        "outputId": "6717c116-86e1-467e-8077-fef44d2198dc",
        "colab": {
          "base_uri": "https://localhost:8080/",
          "height": 33
        }
      },
      "source": [
        "val_generator.reset()\n",
        "y_pred=model.predict(val_generator,steps=val_generator.n/batch_size,verbose=1)"
      ],
      "execution_count": 41,
      "outputs": [
        {
          "output_type": "stream",
          "text": [
            "12/11 [================================] - 4s 370ms/step\n"
          ],
          "name": "stdout"
        }
      ]
    },
    {
      "cell_type": "code",
      "metadata": {
        "id": "XPbPFn7fDfFR",
        "colab_type": "code",
        "colab": {}
      },
      "source": [
        "if val_suffle==True:\n",
        "  per = np.random.permutation(val_generator.n)\n",
        "  val_generator.index_array = per\n",
        "  y_true = val_generator.classes[per]\n",
        "else: \n",
        "  y_true = val_generator.classes"
      ],
      "execution_count": 0,
      "outputs": []
    },
    {
      "cell_type": "code",
      "metadata": {
        "id": "MHU7_JsVB0jH",
        "colab_type": "code",
        "colab": {}
      },
      "source": [
        "y_pred=np.argmax(y_pred, axis=1)"
      ],
      "execution_count": 0,
      "outputs": []
    },
    {
      "cell_type": "code",
      "metadata": {
        "id": "4wpcSCSWEGnh",
        "colab_type": "code",
        "outputId": "62c631b5-a8f3-4618-b090-4e61567536a0",
        "colab": {
          "base_uri": "https://localhost:8080/",
          "height": 33
        }
      },
      "source": [
        "y_pred.shape,y_true.shape"
      ],
      "execution_count": 44,
      "outputs": [
        {
          "output_type": "execute_result",
          "data": {
            "text/plain": [
              "((180,), (180,))"
            ]
          },
          "metadata": {
            "tags": []
          },
          "execution_count": 44
        }
      ]
    },
    {
      "cell_type": "code",
      "metadata": {
        "id": "XpYXUzgyZf4g",
        "colab_type": "code",
        "outputId": "a8176e4f-13fa-4b52-aa52-6489ed6966c6",
        "colab": {
          "base_uri": "https://localhost:8080/",
          "height": 50
        }
      },
      "source": [
        "from sklearn.metrics import classification_report,accuracy_score,f1_score\n",
        "print(accuracy_score(y_true,y_pred))\n",
        "print(f1_score(y_true,y_pred,average='macro'))"
      ],
      "execution_count": 45,
      "outputs": [
        {
          "output_type": "stream",
          "text": [
            "0.8722222222222222\n",
            "0.914936247723133\n"
          ],
          "name": "stdout"
        }
      ]
    },
    {
      "cell_type": "code",
      "metadata": {
        "id": "486dBdG0YqEV",
        "colab_type": "code",
        "outputId": "e6edced3-8766-4015-c2e4-1847e6e8b762",
        "colab": {
          "base_uri": "https://localhost:8080/",
          "height": 217
        }
      },
      "source": [
        "class_label=list(train_generator.class_indices.keys())\n",
        "print(classification_report(y_true, y_pred,target_names=class_label))#"
      ],
      "execution_count": 46,
      "outputs": [
        {
          "output_type": "stream",
          "text": [
            "              precision    recall  f1-score   support\n",
            "\n",
            "  Black spot       0.79      0.88      0.83        51\n",
            "    Melanose       1.00      1.00      1.00         3\n",
            "      canker       0.95      0.83      0.89        48\n",
            "    greening       0.85      0.85      0.85        61\n",
            "     healthy       1.00      1.00      1.00        17\n",
            "\n",
            "    accuracy                           0.87       180\n",
            "   macro avg       0.92      0.91      0.91       180\n",
            "weighted avg       0.88      0.87      0.87       180\n",
            "\n"
          ],
          "name": "stdout"
        }
      ]
    },
    {
      "cell_type": "markdown",
      "metadata": {
        "id": "QL5qbrpibgGU",
        "colab_type": "text"
      },
      "source": [
        "# Similar task transfer learning"
      ]
    },
    {
      "cell_type": "code",
      "metadata": {
        "id": "r7mwKSnDLrwY",
        "colab_type": "code",
        "colab": {}
      },
      "source": [
        ""
      ],
      "execution_count": 0,
      "outputs": []
    },
    {
      "cell_type": "markdown",
      "metadata": {
        "id": "hjKCpi6nLtA4",
        "colab_type": "text"
      },
      "source": [
        "##download pretrained model\n",
        "We trained this model on kaggle \n",
        "https://www.kaggle.com/chtalhaanwar/keras-efficientnet?scriptVersionId=30290935\n",
        "For each either download the model directly from kaggle given link below, if it does not work, you need to download it manually and upload it in google drive or here directly"
      ]
    },
    {
      "cell_type": "code",
      "metadata": {
        "id": "U71dlvelQIKi",
        "colab_type": "code",
        "colab": {}
      },
      "source": [
        "#!wget https://www.kaggleusercontent.com/kf/31126480/eyJhbGciOiJkaXIiLCJlbmMiOiJBMTI4Q0JDLUhTMjU2In0..tHB2-QNYsfqKBXukuQX30A.RmXgMxIt2sYEoJiyZg6ry9MrtxHLkDLoaojnvhIRtN5Pm-I3r2dlwxwYF0S8D1hs876KSQHU3Ju2QqrJiE1Ey_x8gFUTXq_d7QjO2TyQ9InbWfusw_nLbytbhs-ZGSG2zeaktKstevFa5T-u0O0VjuU1kayaHFXgZt-kLPaLoSHHbcpZCWXzw79MHIxWMdd2ZbkoJRmfMvXxElgbQ27ylbdAOc2yDJdcWXVzKF_aCkFH4k7CLQlYnh_nzPPbp0_bu6I7ZbNARD_g9jc3RQB0tg-Asz2AHF5aVGF7B3y-jWRSX3XG642lO3MNBMzm-X6UGlJoehtieQPHJj5Ky36Ir8hCM-jXyXgoJlTdOiZC61jpn_Kt7nzqHvHBPk_GFBC14wkdZmF3njakznhuSacZbkChJx9g-QGVRZWzGmRlkbDb23MsxFxQ3qpf8M4tV7vsQW0EhsRDI3QMDVKRZdmLJqgRlr5v3WHfPlJH9Dtcm0kK1r5tPzXPdciMhan3w2mf1pZmmCorHhwA7uvbd80iRLgY81g1irGEei3bGltjYSuI2JwaoTu3E5UP8vywT_wTSzwpFrY-38ENlqvqefbtYRQffLQjtPSZVYcvY7rKzviZakJrc0knW08QpZiNgPVmj0uLTCammTlwteSp3dbppK35NcgQgMzEJl-49-MP0wQ.tWGgsGxGaJxEmba-Q8zUVA/model_weights.h5"
      ],
      "execution_count": 0,
      "outputs": []
    },
    {
      "cell_type": "code",
      "metadata": {
        "id": "Muiiqpza84GK",
        "colab_type": "code",
        "colab": {}
      },
      "source": [
        "#cp /content/model_weights.h5 /content/drive/My\\ Drive/data/"
      ],
      "execution_count": 0,
      "outputs": []
    },
    {
      "cell_type": "code",
      "metadata": {
        "id": "6cYJRZxhQX0m",
        "colab_type": "code",
        "colab": {}
      },
      "source": [
        "cp /content/drive/My\\ Drive/data/model_weights.h5 /content"
      ],
      "execution_count": 0,
      "outputs": []
    },
    {
      "cell_type": "code",
      "metadata": {
        "id": "rOY0IT-ncmbg",
        "colab_type": "code",
        "outputId": "b455b6fc-2132-40fd-f56e-9e8bcc733409",
        "colab": {
          "base_uri": "https://localhost:8080/",
          "height": 33
        }
      },
      "source": [
        "transfer_model =efn.EfficientNetB4(weights = None, include_top=False, input_shape = (img_shape,img_shape,3))\n",
        "x = transfer_model.output\n",
        "print(x.shape)\n",
        "x = GlobalAveragePooling2D()(x)\n",
        "x = Dropout(0.3)(x)\n",
        "x = Dense(128, activation=\"relu\")(x)\n",
        "x = Dropout(0.3)(x)\n",
        "x = Dense(64, activation=\"relu\")(x)\n",
        "transfer_predictions = Dense(4, activation=\"softmax\")(x)\n",
        "transfer_model = Model(inputs=transfer_model.input, outputs=transfer_predictions)\n",
        "transfer_model.load_weights('model_weights.h5')"
      ],
      "execution_count": 50,
      "outputs": [
        {
          "output_type": "stream",
          "text": [
            "(None, 10, 10, 1792)\n"
          ],
          "name": "stdout"
        }
      ]
    },
    {
      "cell_type": "code",
      "metadata": {
        "id": "69Cg09MsqRjE",
        "colab_type": "code",
        "colab": {}
      },
      "source": [
        "for layer in transfer_model.layers[:-4]:\n",
        "    layer.trainable = False"
      ],
      "execution_count": 0,
      "outputs": []
    },
    {
      "cell_type": "code",
      "metadata": {
        "id": "cApeOsryWdjo",
        "colab_type": "code",
        "colab": {}
      },
      "source": [
        "# for i in transfer_model.layers:\n",
        "#   print(i,i.trainable)"
      ],
      "execution_count": 0,
      "outputs": []
    },
    {
      "cell_type": "code",
      "metadata": {
        "id": "sMbIzLCMQyZn",
        "colab_type": "code",
        "outputId": "06b0f2cb-5eb0-4d91-fbae-a5079b1e47c6",
        "colab": {
          "base_uri": "https://localhost:8080/",
          "height": 67
        }
      },
      "source": [
        "trainable_count = np.sum([K.count_params(w) for w in transfer_model.trainable_weights])\n",
        "non_trainable_count = np.sum([K.count_params(w) for w in transfer_model.non_trainable_weights])\n",
        "\n",
        "print('Total params: {:,}'.format(trainable_count + non_trainable_count))\n",
        "print('Trainable params: {:,}'.format(trainable_count))\n",
        "print('Non-trainable params: {:,}'.format(non_trainable_count))"
      ],
      "execution_count": 53,
      "outputs": [
        {
          "output_type": "stream",
          "text": [
            "Total params: 17,911,836\n",
            "Trainable params: 238,020\n",
            "Non-trainable params: 17,673,816\n"
          ],
          "name": "stdout"
        }
      ]
    },
    {
      "cell_type": "code",
      "metadata": {
        "id": "ncYOBatYoKWy",
        "colab_type": "code",
        "colab": {}
      },
      "source": [
        "transfer_model2 = Model(transfer_model.input, transfer_model.layers[-7].output)"
      ],
      "execution_count": 0,
      "outputs": []
    },
    {
      "cell_type": "code",
      "metadata": {
        "id": "ouJIu7ZcDwB7",
        "colab_type": "code",
        "outputId": "a99096fc-8a9f-4965-890b-ba9090828f29",
        "colab": {
          "base_uri": "https://localhost:8080/",
          "height": 33
        }
      },
      "source": [
        "x = transfer_model2.output\n",
        "print(x.shape)\n",
        "x = GlobalAveragePooling2D()(x)\n",
        "x = Dropout(0.3)(x)\n",
        "x = Dense(128, activation=\"relu\")(x)\n",
        "x = Dropout(0.3)(x)\n",
        "x = Dense(64, activation=\"relu\")(x)\n",
        "\n",
        "transfer_predictions = Dense(5, activation=\"softmax\")(x)\n",
        "transfer_model2 = Model(inputs=transfer_model2.input, outputs=transfer_predictions)"
      ],
      "execution_count": 55,
      "outputs": [
        {
          "output_type": "stream",
          "text": [
            "(None, 10, 10, 1792)\n"
          ],
          "name": "stdout"
        }
      ]
    },
    {
      "cell_type": "code",
      "metadata": {
        "id": "gd0YSSFSRXtt",
        "colab_type": "code",
        "outputId": "f98c2b7a-67a6-45b6-f985-02d4c0029061",
        "colab": {
          "base_uri": "https://localhost:8080/",
          "height": 67
        }
      },
      "source": [
        "trainable_count = np.sum([K.count_params(w) for w in transfer_model2.trainable_weights])\n",
        "non_trainable_count = np.sum([K.count_params(w) for w in transfer_model2.non_trainable_weights])\n",
        "\n",
        "print('Total params: {:,}'.format(trainable_count + non_trainable_count))\n",
        "print('Trainable params: {:,}'.format(trainable_count))\n",
        "print('Non-trainable params: {:,}'.format(non_trainable_count))"
      ],
      "execution_count": 56,
      "outputs": [
        {
          "output_type": "stream",
          "text": [
            "Total params: 17,911,901\n",
            "Trainable params: 238,085\n",
            "Non-trainable params: 17,673,816\n"
          ],
          "name": "stdout"
        }
      ]
    },
    {
      "cell_type": "code",
      "metadata": {
        "id": "CzH8HCBwemPj",
        "colab_type": "code",
        "colab": {}
      },
      "source": [
        "transfer_model2.compile(optimizer=Adam(0.0001), loss=custom_loss, metrics=['accuracy'])"
      ],
      "execution_count": 0,
      "outputs": []
    },
    {
      "cell_type": "code",
      "metadata": {
        "id": "rpkwcyUQeP0O",
        "colab_type": "code",
        "outputId": "7e68203c-c473-49f0-c2c3-069b5f21ebbc",
        "colab": {
          "base_uri": "https://localhost:8080/",
          "height": 518
        }
      },
      "source": [
        "results = transfer_model2.fit(train_generator,epochs=15,\n",
        "                              steps_per_epoch=train_generator.n/batch_size,\n",
        "                              validation_data=val_generator,\n",
        "                             validation_steps=val_generator.n/batch_size,\n",
        "                              callbacks=[ReduceLROnPlateau(monitor='val_loss', factor=0.3,patience=2, min_lr=0.0000001)])"
      ],
      "execution_count": 58,
      "outputs": [
        {
          "output_type": "stream",
          "text": [
            "Epoch 1/15\n",
            "27/26 [==============================] - 18s 680ms/step - loss: 1.5340 - accuracy: 0.3054 - val_loss: 1.4393 - val_accuracy: 0.5278 - lr: 1.0000e-04\n",
            "Epoch 2/15\n",
            "27/26 [==============================] - 16s 604ms/step - loss: 1.3992 - accuracy: 0.4149 - val_loss: 1.3802 - val_accuracy: 0.4500 - lr: 1.0000e-04\n",
            "Epoch 3/15\n",
            "27/26 [==============================] - 16s 610ms/step - loss: 1.3301 - accuracy: 0.4732 - val_loss: 1.2970 - val_accuracy: 0.5722 - lr: 1.0000e-04\n",
            "Epoch 4/15\n",
            "27/26 [==============================] - 16s 605ms/step - loss: 1.2391 - accuracy: 0.5291 - val_loss: 1.2365 - val_accuracy: 0.5333 - lr: 1.0000e-04\n",
            "Epoch 5/15\n",
            "27/26 [==============================] - 16s 607ms/step - loss: 1.2140 - accuracy: 0.5781 - val_loss: 1.1569 - val_accuracy: 0.7111 - lr: 1.0000e-04\n",
            "Epoch 6/15\n",
            "27/26 [==============================] - 16s 601ms/step - loss: 1.1398 - accuracy: 0.5711 - val_loss: 1.1179 - val_accuracy: 0.6722 - lr: 1.0000e-04\n",
            "Epoch 7/15\n",
            "27/26 [==============================] - 17s 612ms/step - loss: 1.1295 - accuracy: 0.5758 - val_loss: 1.0957 - val_accuracy: 0.6000 - lr: 1.0000e-04\n",
            "Epoch 8/15\n",
            "27/26 [==============================] - 17s 617ms/step - loss: 1.1162 - accuracy: 0.5734 - val_loss: 1.0980 - val_accuracy: 0.6611 - lr: 1.0000e-04\n",
            "Epoch 9/15\n",
            "27/26 [==============================] - 16s 602ms/step - loss: 1.0628 - accuracy: 0.5897 - val_loss: 1.0807 - val_accuracy: 0.5889 - lr: 1.0000e-04\n",
            "Epoch 10/15\n",
            "27/26 [==============================] - 17s 612ms/step - loss: 1.1114 - accuracy: 0.5711 - val_loss: 1.0788 - val_accuracy: 0.6944 - lr: 1.0000e-04\n",
            "Epoch 11/15\n",
            "27/26 [==============================] - 16s 598ms/step - loss: 1.0493 - accuracy: 0.5758 - val_loss: 1.0734 - val_accuracy: 0.6833 - lr: 1.0000e-04\n",
            "Epoch 12/15\n",
            "27/26 [==============================] - 17s 614ms/step - loss: 1.0737 - accuracy: 0.5897 - val_loss: 1.0183 - val_accuracy: 0.6556 - lr: 1.0000e-04\n",
            "Epoch 13/15\n",
            "27/26 [==============================] - 16s 609ms/step - loss: 1.0264 - accuracy: 0.6294 - val_loss: 1.1023 - val_accuracy: 0.6278 - lr: 1.0000e-04\n",
            "Epoch 14/15\n",
            "27/26 [==============================] - 16s 606ms/step - loss: 1.0397 - accuracy: 0.6457 - val_loss: 1.0530 - val_accuracy: 0.6222 - lr: 1.0000e-04\n",
            "Epoch 15/15\n",
            "27/26 [==============================] - 16s 601ms/step - loss: 1.0363 - accuracy: 0.6294 - val_loss: 1.0269 - val_accuracy: 0.6778 - lr: 3.0000e-05\n"
          ],
          "name": "stdout"
        }
      ]
    },
    {
      "cell_type": "code",
      "metadata": {
        "id": "lsK0-eKKRirF",
        "colab_type": "code",
        "colab": {}
      },
      "source": [
        "# import gc\n",
        "# del transfer_model2\n",
        "# tf.keras.backend.clear_session()\n",
        "# gc.collect()"
      ],
      "execution_count": 0,
      "outputs": []
    },
    {
      "cell_type": "code",
      "metadata": {
        "id": "CQd2fjkQMkVF",
        "colab_type": "code",
        "colab": {
          "base_uri": "https://localhost:8080/",
          "height": 295
        },
        "outputId": "1dca070d-edd9-48e4-e61b-db7700ad2ae1"
      },
      "source": [
        "\n",
        "plt.plot(results.history['accuracy'])\n",
        "plt.plot(results.history['val_accuracy'])\n",
        "plt.title('model accuracy ')\n",
        "plt.ylabel('accuracy')\n",
        "plt.xlabel('epoch')\n",
        "plt.legend(['train', 'test'], loc='upper left')\n",
        "plt.show()"
      ],
      "execution_count": 60,
      "outputs": [
        {
          "output_type": "display_data",
          "data": {
            "image/png": "[encoded data removed]",
            "text/plain": [
              "<Figure size 432x288 with 1 Axes>"
            ]
          },
          "metadata": {
            "tags": []
          }
        }
      ]
    },
    {
      "cell_type": "code",
      "metadata": {
        "colab_type": "code",
        "outputId": "096e2d5f-cd29-483a-cd9d-984be7747fad",
        "id": "QL7J77qZRn3M",
        "colab": {
          "base_uri": "https://localhost:8080/",
          "height": 295
        }
      },
      "source": [
        "import matplotlib.pyplot as plt\n",
        "\n",
        "plt.plot(results.history['loss'])\n",
        "plt.plot(results.history['val_loss'])\n",
        "plt.title('model loss')\n",
        "plt.ylabel('loss')\n",
        "plt.xlabel('epoch')\n",
        "plt.legend(['train', 'test'], loc='upper left')\n",
        "plt.show()"
      ],
      "execution_count": 61,
      "outputs": [
        {
          "output_type": "display_data",
          "data": {
            "image/png": "[encoded data removed]",
            "text/plain": [
              "<Figure size 432x288 with 1 Axes>"
            ]
          },
          "metadata": {
            "tags": []
          }
        }
      ]
    },
    {
      "cell_type": "code",
      "metadata": {
        "colab_type": "code",
        "outputId": "f44cbf9d-1e68-43ab-9b16-41fcfb3dfe01",
        "id": "PuJuxCBqRn3P",
        "colab": {
          "base_uri": "https://localhost:8080/",
          "height": 50
        }
      },
      "source": [
        "transfer_model2.evaluate(val_generator,steps=val_generator.n//batch_size)"
      ],
      "execution_count": 62,
      "outputs": [
        {
          "output_type": "stream",
          "text": [
            "11/11 [==============================] - 4s 356ms/step - loss: 1.0704 - accuracy: 0.6463\n"
          ],
          "name": "stdout"
        },
        {
          "output_type": "execute_result",
          "data": {
            "text/plain": [
              "[1.0704381465911865, 0.6463414430618286]"
            ]
          },
          "metadata": {
            "tags": []
          },
          "execution_count": 62
        }
      ]
    },
    {
      "cell_type": "code",
      "metadata": {
        "colab_type": "code",
        "outputId": "826545b3-5549-4182-9818-cc13860e755c",
        "id": "tkiWqLoHRn3R",
        "colab": {
          "base_uri": "https://localhost:8080/",
          "height": 50
        }
      },
      "source": [
        "val_generator.reset()\n",
        "transfer_model2.evaluate(val_generator,steps=val_generator.n//batch_size)"
      ],
      "execution_count": 63,
      "outputs": [
        {
          "output_type": "stream",
          "text": [
            "11/11 [==============================] - 4s 378ms/step - loss: 1.0027 - accuracy: 0.6705\n"
          ],
          "name": "stdout"
        },
        {
          "output_type": "execute_result",
          "data": {
            "text/plain": [
              "[1.0027271509170532, 0.6704545617103577]"
            ]
          },
          "metadata": {
            "tags": []
          },
          "execution_count": 63
        }
      ]
    },
    {
      "cell_type": "code",
      "metadata": {
        "colab_type": "code",
        "outputId": "6d46929c-6a96-407d-be00-ab67396de9b8",
        "id": "iFYQVKmlRn3V",
        "colab": {
          "base_uri": "https://localhost:8080/",
          "height": 33
        }
      },
      "source": [
        "val_generator.reset()\n",
        "y_pred=transfer_model2.predict(val_generator,steps=val_generator.n/batch_size,verbose=1)"
      ],
      "execution_count": 64,
      "outputs": [
        {
          "output_type": "stream",
          "text": [
            "12/11 [================================] - 4s 364ms/step\n"
          ],
          "name": "stdout"
        }
      ]
    },
    {
      "cell_type": "code",
      "metadata": {
        "colab_type": "code",
        "id": "uNa1nXifRn3X",
        "colab": {}
      },
      "source": [
        "if val_suffle==True:\n",
        "  per = np.random.permutation(val_generator.n)\n",
        "  val_generator.index_array = per\n",
        "  y_true = val_generator.classes[per]\n",
        "else: \n",
        "  y_true = val_generator.classes"
      ],
      "execution_count": 0,
      "outputs": []
    },
    {
      "cell_type": "code",
      "metadata": {
        "colab_type": "code",
        "id": "U5FpWo88Rn3Y",
        "colab": {}
      },
      "source": [
        "y_pred=np.argmax(y_pred, axis=1)"
      ],
      "execution_count": 0,
      "outputs": []
    },
    {
      "cell_type": "code",
      "metadata": {
        "colab_type": "code",
        "outputId": "e1cfbee9-ab66-42d7-9a7e-67aabc11f06f",
        "id": "IBJpGPKQRn3b",
        "colab": {
          "base_uri": "https://localhost:8080/",
          "height": 33
        }
      },
      "source": [
        "y_pred.shape,y_true.shape"
      ],
      "execution_count": 67,
      "outputs": [
        {
          "output_type": "execute_result",
          "data": {
            "text/plain": [
              "((180,), (180,))"
            ]
          },
          "metadata": {
            "tags": []
          },
          "execution_count": 67
        }
      ]
    },
    {
      "cell_type": "code",
      "metadata": {
        "colab_type": "code",
        "outputId": "858bedf3-50e6-4b81-cd19-08b430bb8f92",
        "id": "TLl0i4HERn3d",
        "colab": {
          "base_uri": "https://localhost:8080/",
          "height": 50
        }
      },
      "source": [
        "from sklearn.metrics import classification_report,accuracy_score,f1_score\n",
        "print(accuracy_score(y_true,y_pred))\n",
        "print(f1_score(y_true,y_pred,average='macro'))"
      ],
      "execution_count": 68,
      "outputs": [
        {
          "output_type": "stream",
          "text": [
            "0.6777777777777778\n",
            "0.6221886786075255\n"
          ],
          "name": "stdout"
        }
      ]
    },
    {
      "cell_type": "code",
      "metadata": {
        "colab_type": "code",
        "outputId": "9ecbf0db-bb38-4a23-d044-c85b2b710239",
        "id": "AvqCy_hhRn3f",
        "colab": {
          "base_uri": "https://localhost:8080/",
          "height": 217
        }
      },
      "source": [
        "class_label=list(train_generator.class_indices.keys())\n",
        "print(classification_report(y_true, y_pred,target_names=class_label))#"
      ],
      "execution_count": 69,
      "outputs": [
        {
          "output_type": "stream",
          "text": [
            "              precision    recall  f1-score   support\n",
            "\n",
            "  Black spot       0.77      0.47      0.59        51\n",
            "    Melanose       1.00      0.67      0.80         3\n",
            "      canker       0.89      0.83      0.86        48\n",
            "    greening       0.56      0.89      0.68        61\n",
            "     healthy       0.40      0.12      0.18        17\n",
            "\n",
            "    accuracy                           0.68       180\n",
            "   macro avg       0.72      0.59      0.62       180\n",
            "weighted avg       0.70      0.68      0.66       180\n",
            "\n"
          ],
          "name": "stdout"
        }
      ]
    },
    {
      "cell_type": "code",
      "metadata": {
        "id": "5nYbst1kd5av",
        "colab_type": "code",
        "colab": {}
      },
      "source": [
        ""
      ],
      "execution_count": 0,
      "outputs": []
    }
  ]
}