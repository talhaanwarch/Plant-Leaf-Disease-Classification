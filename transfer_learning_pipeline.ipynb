{
  "nbformat": 4,
  "nbformat_minor": 0,
  "metadata": {
    "colab": {
      "name": "transfer learning pipeline.ipynb",
      "provenance": [],
      "authorship_tag": "ABX9TyOzkanzhATJUAtUUA/9kCGX",
      "include_colab_link": true
    },
    "kernelspec": {
      "name": "python3",
      "display_name": "Python 3"
    },
    "accelerator": "GPU"
  },
  "cells": [
    {
      "cell_type": "markdown",
      "metadata": {
        "id": "view-in-github",
        "colab_type": "text"
      },
      "source": [
        "<a href=\"https://colab.research.google.com/github/talhaanwarch/Plant-Leaf-Disease-Classification/blob/master/transfer_learning_pipeline.ipynb\" target=\"_parent\"><img src=\"https://colab.research.google.com/assets/colab-badge.svg\" alt=\"Open In Colab\"/></a>"
      ]
    },
    {
      "cell_type": "code",
      "metadata": {
        "id": "-gDgFJrtX3fI",
        "colab_type": "code",
        "outputId": "92069981-833f-4bf8-bde9-7426f6ccf2ad",
        "colab": {
          "base_uri": "https://localhost:8080/",
          "height": 304
        }
      },
      "source": [
        "!wget https://data.mendeley.com/datasets/3f83gxmv57/2/files/53398b67-6f0e-4a67-8384-e2b574b2ebf4/Citrus.zip"
      ],
      "execution_count": 0,
      "outputs": [
        {
          "output_type": "stream",
          "text": [
            "--2020-03-30 10:57:43--  https://data.mendeley.com/datasets/3f83gxmv57/2/files/53398b67-6f0e-4a67-8384-e2b574b2ebf4/Citrus.zip\n",
            "Resolving data.mendeley.com (data.mendeley.com)... 162.159.133.86, 162.159.130.86, 2606:4700:7::a29f:8256, ...\n",
            "Connecting to data.mendeley.com (data.mendeley.com)|162.159.133.86|:443... connected.\n",
            "HTTP request sent, awaiting response... 302 Found\n",
            "Location: https://md-datasets-public-files-prod.s3.eu-west-1.amazonaws.com/ad404a4d-cedf-4830-8a11-0fc204ce8acb [following]\n",
            "--2020-03-30 10:57:48--  https://md-datasets-public-files-prod.s3.eu-west-1.amazonaws.com/ad404a4d-cedf-4830-8a11-0fc204ce8acb\n",
            "Resolving md-datasets-public-files-prod.s3.eu-west-1.amazonaws.com (md-datasets-public-files-prod.s3.eu-west-1.amazonaws.com)... 52.218.104.179\n",
            "Connecting to md-datasets-public-files-prod.s3.eu-west-1.amazonaws.com (md-datasets-public-files-prod.s3.eu-west-1.amazonaws.com)|52.218.104.179|:443... connected.\n",
            "HTTP request sent, awaiting response... 200 OK\n",
            "Length: 66977095 (64M) [application/x-zip-compressed]\n",
            "Saving to: ‘Citrus.zip’\n",
            "\n",
            "Citrus.zip          100%[===================>]  63.87M   105MB/s    in 0.6s    \n",
            "\n",
            "2020-03-30 10:57:49 (105 MB/s) - ‘Citrus.zip’ saved [66977095/66977095]\n",
            "\n"
          ],
          "name": "stdout"
        }
      ]
    },
    {
      "cell_type": "code",
      "metadata": {
        "id": "4P2KNYuSYQXv",
        "colab_type": "code",
        "outputId": "78daf9ea-f3b8-4f6a-f225-3b1e487924ef",
        "colab": {
          "base_uri": "https://localhost:8080/",
          "height": 388
        }
      },
      "source": [
        "!pip install efficientnet"
      ],
      "execution_count": 0,
      "outputs": [
        {
          "output_type": "stream",
          "text": [
            "Collecting efficientnet\n",
            "  Downloading https://files.pythonhosted.org/packages/28/91/67848a143b54c331605bfba5fd31cf4e9db13d2e429d103fe807acc3bcf4/efficientnet-1.1.0-py3-none-any.whl\n",
            "Requirement already satisfied: scikit-image in /usr/local/lib/python3.6/dist-packages (from efficientnet) (0.16.2)\n",
            "Requirement already satisfied: keras-applications<=1.0.8,>=1.0.7 in /usr/local/lib/python3.6/dist-packages (from efficientnet) (1.0.8)\n",
            "Requirement already satisfied: matplotlib!=3.0.0,>=2.0.0 in /usr/local/lib/python3.6/dist-packages (from scikit-image->efficientnet) (3.2.1)\n",
            "Requirement already satisfied: PyWavelets>=0.4.0 in /usr/local/lib/python3.6/dist-packages (from scikit-image->efficientnet) (1.1.1)\n",
            "Requirement already satisfied: scipy>=0.19.0 in /usr/local/lib/python3.6/dist-packages (from scikit-image->efficientnet) (1.4.1)\n",
            "Requirement already satisfied: pillow>=4.3.0 in /usr/local/lib/python3.6/dist-packages (from scikit-image->efficientnet) (7.0.0)\n",
            "Requirement already satisfied: imageio>=2.3.0 in /usr/local/lib/python3.6/dist-packages (from scikit-image->efficientnet) (2.4.1)\n",
            "Requirement already satisfied: networkx>=2.0 in /usr/local/lib/python3.6/dist-packages (from scikit-image->efficientnet) (2.4)\n",
            "Requirement already satisfied: h5py in /usr/local/lib/python3.6/dist-packages (from keras-applications<=1.0.8,>=1.0.7->efficientnet) (2.10.0)\n",
            "Requirement already satisfied: numpy>=1.9.1 in /usr/local/lib/python3.6/dist-packages (from keras-applications<=1.0.8,>=1.0.7->efficientnet) (1.18.2)\n",
            "Requirement already satisfied: pyparsing!=2.0.4,!=2.1.2,!=2.1.6,>=2.0.1 in /usr/local/lib/python3.6/dist-packages (from matplotlib!=3.0.0,>=2.0.0->scikit-image->efficientnet) (2.4.6)\n",
            "Requirement already satisfied: kiwisolver>=1.0.1 in /usr/local/lib/python3.6/dist-packages (from matplotlib!=3.0.0,>=2.0.0->scikit-image->efficientnet) (1.1.0)\n",
            "Requirement already satisfied: python-dateutil>=2.1 in /usr/local/lib/python3.6/dist-packages (from matplotlib!=3.0.0,>=2.0.0->scikit-image->efficientnet) (2.8.1)\n",
            "Requirement already satisfied: cycler>=0.10 in /usr/local/lib/python3.6/dist-packages (from matplotlib!=3.0.0,>=2.0.0->scikit-image->efficientnet) (0.10.0)\n",
            "Requirement already satisfied: decorator>=4.3.0 in /usr/local/lib/python3.6/dist-packages (from networkx>=2.0->scikit-image->efficientnet) (4.4.2)\n",
            "Requirement already satisfied: six in /usr/local/lib/python3.6/dist-packages (from h5py->keras-applications<=1.0.8,>=1.0.7->efficientnet) (1.12.0)\n",
            "Requirement already satisfied: setuptools in /usr/local/lib/python3.6/dist-packages (from kiwisolver>=1.0.1->matplotlib!=3.0.0,>=2.0.0->scikit-image->efficientnet) (46.0.0)\n",
            "Installing collected packages: efficientnet\n",
            "Successfully installed efficientnet-1.1.0\n"
          ],
          "name": "stdout"
        }
      ]
    },
    {
      "cell_type": "code",
      "metadata": {
        "id": "B6jS6iFbYA_f",
        "colab_type": "code",
        "outputId": "efa78745-e0cb-43e4-bdb2-fcb9d8846136",
        "colab": {
          "base_uri": "https://localhost:8080/",
          "height": 1000
        }
      },
      "source": [
        "!unzip /content/Citrus.zip"
      ],
      "execution_count": 0,
      "outputs": [
        {
          "output_type": "stream",
          "text": [
            "Archive:  /content/Citrus.zip\n",
            "   creating: Citrus/\n",
            "   creating: Citrus/Fruits/\n",
            "   creating: Citrus/Fruits/Black spot/\n",
            "  inflating: Citrus/Fruits/Black spot/Black spot (1).jpg  \n",
            "  inflating: Citrus/Fruits/Black spot/Black spot (10).jpg  \n",
            "  inflating: Citrus/Fruits/Black spot/Black spot (11).jpg  \n",
            "  inflating: Citrus/Fruits/Black spot/Black spot (12).jpg  \n",
            "  inflating: Citrus/Fruits/Black spot/Black spot (13).jpg  \n",
            "  inflating: Citrus/Fruits/Black spot/Black spot (14).jpg  \n",
            "  inflating: Citrus/Fruits/Black spot/Black spot (15).jpg  \n",
            "  inflating: Citrus/Fruits/Black spot/Black spot (16).jpg  \n",
            "  inflating: Citrus/Fruits/Black spot/Black spot (17).jpg  \n",
            "  inflating: Citrus/Fruits/Black spot/Black spot (18).jpg  \n",
            "  inflating: Citrus/Fruits/Black spot/Black spot (19).jpg  \n",
            "  inflating: Citrus/Fruits/Black spot/Black spot (2).jpg  \n",
            "  inflating: Citrus/Fruits/Black spot/Black spot (3).jpg  \n",
            "  inflating: Citrus/Fruits/Black spot/Black spot (4).jpg  \n",
            "  inflating: Citrus/Fruits/Black spot/Black spot (5).jpg  \n",
            "  inflating: Citrus/Fruits/Black spot/Black spot (6).jpg  \n",
            "  inflating: Citrus/Fruits/Black spot/Black spot (7).jpg  \n",
            "  inflating: Citrus/Fruits/Black spot/Black spot (8).jpg  \n",
            "  inflating: Citrus/Fruits/Black spot/Black spot (9).jpg  \n",
            "   creating: Citrus/Fruits/Canker/\n",
            "  inflating: Citrus/Fruits/Canker/Canker (1).jpg  \n",
            "  inflating: Citrus/Fruits/Canker/Canker (100).jpg  \n",
            "  inflating: Citrus/Fruits/Canker/Canker (101).jpg  \n",
            "  inflating: Citrus/Fruits/Canker/Canker (102).jpg  \n",
            "  inflating: Citrus/Fruits/Canker/Canker (103).jpg  \n",
            "  inflating: Citrus/Fruits/Canker/Canker (104).jpg  \n",
            "  inflating: Citrus/Fruits/Canker/Canker (105).jpg  \n",
            "  inflating: Citrus/Fruits/Canker/Canker (106).jpg  \n",
            "  inflating: Citrus/Fruits/Canker/Canker (107).jpg  \n",
            "  inflating: Citrus/Fruits/Canker/Canker (108).jpg  \n",
            "  inflating: Citrus/Fruits/Canker/Canker (109).jpg  \n",
            "  inflating: Citrus/Fruits/Canker/Canker (110).jpg  \n",
            "  inflating: Citrus/Fruits/Canker/Canker (111).jpg  \n",
            "  inflating: Citrus/Fruits/Canker/Canker (112).jpg  \n",
            "  inflating: Citrus/Fruits/Canker/Canker (113).jpg  \n",
            "  inflating: Citrus/Fruits/Canker/Canker (114).jpg  \n",
            "  inflating: Citrus/Fruits/Canker/Canker (115).jpg  \n",
            "  inflating: Citrus/Fruits/Canker/Canker (116).jpg  \n",
            "  inflating: Citrus/Fruits/Canker/Canker (117).jpg  \n",
            "  inflating: Citrus/Fruits/Canker/Canker (118).jpg  \n",
            "  inflating: Citrus/Fruits/Canker/Canker (119).jpg  \n",
            "  inflating: Citrus/Fruits/Canker/Canker (120).jpg  \n",
            "  inflating: Citrus/Fruits/Canker/Canker (121).jpg  \n",
            "  inflating: Citrus/Fruits/Canker/Canker (122).jpg  \n",
            "  inflating: Citrus/Fruits/Canker/Canker (123).jpg  \n",
            "  inflating: Citrus/Fruits/Canker/Canker (124).jpg  \n",
            "  inflating: Citrus/Fruits/Canker/Canker (125).jpg  \n",
            "  inflating: Citrus/Fruits/Canker/Canker (49).jpg  \n",
            "  inflating: Citrus/Fruits/Canker/Canker (50).jpg  \n",
            "  inflating: Citrus/Fruits/Canker/Canker (51).jpg  \n",
            "  inflating: Citrus/Fruits/Canker/Canker (52).jpg  \n",
            "  inflating: Citrus/Fruits/Canker/Canker (53).jpg  \n",
            "  inflating: Citrus/Fruits/Canker/Canker (54).jpg  \n",
            "  inflating: Citrus/Fruits/Canker/Canker (55).jpg  \n",
            "  inflating: Citrus/Fruits/Canker/Canker (56).jpg  \n",
            "  inflating: Citrus/Fruits/Canker/Canker (57).jpg  \n",
            "  inflating: Citrus/Fruits/Canker/Canker (58).jpg  \n",
            "  inflating: Citrus/Fruits/Canker/Canker (59).jpg  \n",
            "  inflating: Citrus/Fruits/Canker/Canker (60).jpg  \n",
            "  inflating: Citrus/Fruits/Canker/Canker (61).JPG  \n",
            "  inflating: Citrus/Fruits/Canker/Canker (62).jpg  \n",
            "  inflating: Citrus/Fruits/Canker/Canker (63).jpg  \n",
            "  inflating: Citrus/Fruits/Canker/Canker (64).jpg  \n",
            "  inflating: Citrus/Fruits/Canker/Canker (65).jpg  \n",
            "  inflating: Citrus/Fruits/Canker/Canker (66).jpg  \n",
            "  inflating: Citrus/Fruits/Canker/Canker (67).jpg  \n",
            "  inflating: Citrus/Fruits/Canker/Canker (68).jpg  \n",
            "  inflating: Citrus/Fruits/Canker/Canker (69).jpg  \n",
            "  inflating: Citrus/Fruits/Canker/Canker (70).jpg  \n",
            "  inflating: Citrus/Fruits/Canker/Canker (71).jpg  \n",
            "  inflating: Citrus/Fruits/Canker/Canker (72).jpg  \n",
            "  inflating: Citrus/Fruits/Canker/Canker (73).jpg  \n",
            "  inflating: Citrus/Fruits/Canker/Canker (74).jpg  \n",
            "  inflating: Citrus/Fruits/Canker/Canker (75).jpg  \n",
            "  inflating: Citrus/Fruits/Canker/Canker (76).jpg  \n",
            "  inflating: Citrus/Fruits/Canker/Canker (77).jpg  \n",
            "  inflating: Citrus/Fruits/Canker/Canker (78).jpg  \n",
            "  inflating: Citrus/Fruits/Canker/Canker (79).jpg  \n",
            "  inflating: Citrus/Fruits/Canker/Canker (80).jpg  \n",
            "  inflating: Citrus/Fruits/Canker/Canker (81).jpg  \n",
            "  inflating: Citrus/Fruits/Canker/Canker (82).jpg  \n",
            "  inflating: Citrus/Fruits/Canker/Canker (83).jpg  \n",
            "  inflating: Citrus/Fruits/Canker/Canker (84).jpg  \n",
            "  inflating: Citrus/Fruits/Canker/Canker (85).jpg  \n",
            "  inflating: Citrus/Fruits/Canker/Canker (86).jpg  \n",
            "  inflating: Citrus/Fruits/Canker/Canker (87).jpg  \n",
            "  inflating: Citrus/Fruits/Canker/Canker (88).jpg  \n",
            "  inflating: Citrus/Fruits/Canker/Canker (89).jpg  \n",
            "  inflating: Citrus/Fruits/Canker/Canker (90).jpg  \n",
            "  inflating: Citrus/Fruits/Canker/Canker (91).jpg  \n",
            "  inflating: Citrus/Fruits/Canker/Canker (92).jpg  \n",
            "  inflating: Citrus/Fruits/Canker/Canker (93).jpg  \n",
            "  inflating: Citrus/Fruits/Canker/Canker (94).jpg  \n",
            "  inflating: Citrus/Fruits/Canker/Canker (95).jpg  \n",
            "  inflating: Citrus/Fruits/Canker/Canker (96).jpg  \n",
            "  inflating: Citrus/Fruits/Canker/Canker (97).jpg  \n",
            "  inflating: Citrus/Fruits/Canker/Canker (98).jpg  \n",
            "  inflating: Citrus/Fruits/Canker/Canker (99).jpg  \n",
            "   creating: Citrus/Fruits/Greening/\n",
            "  inflating: Citrus/Fruits/Greening/Greening (1).jpeg  \n",
            "  inflating: Citrus/Fruits/Greening/Greening (1).jpg  \n",
            "  inflating: Citrus/Fruits/Greening/Greening (10).jpg  \n",
            "  inflating: Citrus/Fruits/Greening/Greening (11).jpg  \n",
            "  inflating: Citrus/Fruits/Greening/Greening (12).jpg  \n",
            "  inflating: Citrus/Fruits/Greening/Greening (13).jpg  \n",
            "  inflating: Citrus/Fruits/Greening/Greening (14).jpg  \n",
            "  inflating: Citrus/Fruits/Greening/Greening (15).jpg  \n",
            "  inflating: Citrus/Fruits/Greening/Greening (2).jpg  \n",
            "  inflating: Citrus/Fruits/Greening/Greening (3).jpg  \n",
            "  inflating: Citrus/Fruits/Greening/Greening (4).jpg  \n",
            "  inflating: Citrus/Fruits/Greening/Greening (5).jpg  \n",
            "  inflating: Citrus/Fruits/Greening/Greening (6).jpg  \n",
            "  inflating: Citrus/Fruits/Greening/Greening (7).jpg  \n",
            "  inflating: Citrus/Fruits/Greening/Greening (8).jpg  \n",
            "  inflating: Citrus/Fruits/Greening/Greening (9).jpg  \n",
            "   creating: Citrus/Fruits/healthy/\n",
            "  inflating: Citrus/Fruits/healthy/Healthy (1).jpg  \n",
            "  inflating: Citrus/Fruits/healthy/Healthy (10).jpg  \n",
            "  inflating: Citrus/Fruits/healthy/Healthy (11).jpg  \n",
            "  inflating: Citrus/Fruits/healthy/Healthy (12).jpg  \n",
            "  inflating: Citrus/Fruits/healthy/Healthy (13).jpg  \n",
            "  inflating: Citrus/Fruits/healthy/Healthy (14).jpg  \n",
            "  inflating: Citrus/Fruits/healthy/Healthy (15).jpg  \n",
            "  inflating: Citrus/Fruits/healthy/Healthy (16).jpg  \n",
            "  inflating: Citrus/Fruits/healthy/Healthy (17).jpg  \n",
            "  inflating: Citrus/Fruits/healthy/Healthy (18).jpg  \n",
            "  inflating: Citrus/Fruits/healthy/Healthy (19).jpg  \n",
            "  inflating: Citrus/Fruits/healthy/Healthy (2).jpg  \n",
            "  inflating: Citrus/Fruits/healthy/Healthy (20).jpg  \n",
            "  inflating: Citrus/Fruits/healthy/Healthy (21).jpg  \n",
            "  inflating: Citrus/Fruits/healthy/Healthy (22).jpg  \n",
            "  inflating: Citrus/Fruits/healthy/Healthy (3).jpg  \n",
            "  inflating: Citrus/Fruits/healthy/Healthy (4).jpg  \n",
            "  inflating: Citrus/Fruits/healthy/Healthy (5).jpg  \n",
            "  inflating: Citrus/Fruits/healthy/Healthy (6).jpg  \n",
            "  inflating: Citrus/Fruits/healthy/Healthy (7).jpg  \n",
            "  inflating: Citrus/Fruits/healthy/Healthy (8).jpg  \n",
            "  inflating: Citrus/Fruits/healthy/Healthy (9).jpg  \n",
            "   creating: Citrus/Fruits/Scab/\n",
            "  inflating: Citrus/Fruits/Scab/16Catla.jpg  \n",
            "  inflating: Citrus/Fruits/Scab/170.jpg  \n",
            "  inflating: Citrus/Fruits/Scab/17Catla.jpg  \n",
            "  inflating: Citrus/Fruits/Scab/18Catla.jpg  \n",
            "  inflating: Citrus/Fruits/Scab/51.jpg  \n",
            "  inflating: Citrus/Fruits/Scab/51Catla.jpg  \n",
            "  inflating: Citrus/Fruits/Scab/52.jpg  \n",
            "  inflating: Citrus/Fruits/Scab/52Catla.jpg  \n",
            "  inflating: Citrus/Fruits/Scab/53.jpg  \n",
            "  inflating: Citrus/Fruits/Scab/53Catla.jpg  \n",
            "  inflating: Citrus/Fruits/Scab/54.jpg  \n",
            "  inflating: Citrus/Fruits/Scab/54Catla.jpg  \n",
            "  inflating: Citrus/Fruits/Scab/55.jpg  \n",
            "  inflating: Citrus/Fruits/Scab/55Catla.jpg  \n",
            "  inflating: Citrus/Fruits/Scab/56Catla.jpg  \n",
            "   creating: Citrus/Leaves/\n",
            "   creating: Citrus/Leaves/Black spot/\n",
            "  inflating: Citrus/Leaves/Black spot/74.jpg  \n",
            "  inflating: Citrus/Leaves/Black spot/78.jpg  \n",
            "  inflating: Citrus/Leaves/Black spot/b (11).png  \n",
            "  inflating: Citrus/Leaves/Black spot/b (126).png  \n",
            "  inflating: Citrus/Leaves/Black spot/b (131).png  \n",
            "  inflating: Citrus/Leaves/Black spot/b (134).png  \n",
            "  inflating: Citrus/Leaves/Black spot/b (139).png  \n",
            "  inflating: Citrus/Leaves/Black spot/b (14).png  \n",
            "  inflating: Citrus/Leaves/Black spot/b (140).png  \n",
            "  inflating: Citrus/Leaves/Black spot/b (142).png  \n",
            "  inflating: Citrus/Leaves/Black spot/b (144).png  \n",
            "  inflating: Citrus/Leaves/Black spot/b (145).png  \n",
            "  inflating: Citrus/Leaves/Black spot/b (146).png  \n",
            "  inflating: Citrus/Leaves/Black spot/b (148).png  \n",
            "  inflating: Citrus/Leaves/Black spot/b (150).png  \n",
            "  inflating: Citrus/Leaves/Black spot/b (151).png  \n",
            "  inflating: Citrus/Leaves/Black spot/b (152).png  \n",
            "  inflating: Citrus/Leaves/Black spot/b (154).png  \n",
            "  inflating: Citrus/Leaves/Black spot/b (155).png  \n",
            "  inflating: Citrus/Leaves/Black spot/b (156).png  \n",
            "  inflating: Citrus/Leaves/Black spot/b (157).png  \n",
            "  inflating: Citrus/Leaves/Black spot/b (158).png  \n",
            "  inflating: Citrus/Leaves/Black spot/b (160).png  \n",
            "  inflating: Citrus/Leaves/Black spot/b (161).png  \n",
            "  inflating: Citrus/Leaves/Black spot/b (162).png  \n",
            "  inflating: Citrus/Leaves/Black spot/b (163).png  \n",
            "  inflating: Citrus/Leaves/Black spot/b (164).png  \n",
            "  inflating: Citrus/Leaves/Black spot/b (165).png  \n",
            "  inflating: Citrus/Leaves/Black spot/b (166).png  \n",
            "  inflating: Citrus/Leaves/Black spot/b (167).png  \n",
            "  inflating: Citrus/Leaves/Black spot/b (168).png  \n",
            "  inflating: Citrus/Leaves/Black spot/b (169).png  \n",
            "  inflating: Citrus/Leaves/Black spot/b (170).png  \n",
            "  inflating: Citrus/Leaves/Black spot/b (172).png  \n",
            "  inflating: Citrus/Leaves/Black spot/b (173).png  \n",
            "  inflating: Citrus/Leaves/Black spot/b (174).png  \n",
            "  inflating: Citrus/Leaves/Black spot/b (175).png  \n",
            "  inflating: Citrus/Leaves/Black spot/b (176).png  \n",
            "  inflating: Citrus/Leaves/Black spot/b (177).png  \n",
            "  inflating: Citrus/Leaves/Black spot/b (180).png  \n",
            "  inflating: Citrus/Leaves/Black spot/b (181).png  \n",
            "  inflating: Citrus/Leaves/Black spot/b (182).png  \n",
            "  inflating: Citrus/Leaves/Black spot/b (183).png  \n",
            "  inflating: Citrus/Leaves/Black spot/b (184).png  \n",
            "  inflating: Citrus/Leaves/Black spot/b (185).png  \n",
            "  inflating: Citrus/Leaves/Black spot/b (186).png  \n",
            "  inflating: Citrus/Leaves/Black spot/b (187).png  \n",
            "  inflating: Citrus/Leaves/Black spot/b (188).png  \n",
            "  inflating: Citrus/Leaves/Black spot/b (189).png  \n",
            "  inflating: Citrus/Leaves/Black spot/b (190).png  \n",
            "  inflating: Citrus/Leaves/Black spot/b (191).png  \n",
            "  inflating: Citrus/Leaves/Black spot/b (192).png  \n",
            "  inflating: Citrus/Leaves/Black spot/b (193).png  \n",
            "  inflating: Citrus/Leaves/Black spot/b (194).png  \n",
            "  inflating: Citrus/Leaves/Black spot/b (195).png  \n",
            "  inflating: Citrus/Leaves/Black spot/b (196).png  \n",
            "  inflating: Citrus/Leaves/Black spot/b (197).png  \n",
            "  inflating: Citrus/Leaves/Black spot/b (198).png  \n",
            "  inflating: Citrus/Leaves/Black spot/b (199).png  \n",
            "  inflating: Citrus/Leaves/Black spot/b (2).png  \n",
            "  inflating: Citrus/Leaves/Black spot/b (202).png  \n",
            "  inflating: Citrus/Leaves/Black spot/b (203).png  \n",
            "  inflating: Citrus/Leaves/Black spot/b (205).png  \n",
            "  inflating: Citrus/Leaves/Black spot/b (207).png  \n",
            "  inflating: Citrus/Leaves/Black spot/b (209).png  \n",
            "  inflating: Citrus/Leaves/Black spot/b (21).png  \n",
            "  inflating: Citrus/Leaves/Black spot/b (221).png  \n",
            "  inflating: Citrus/Leaves/Black spot/b (222).png  \n",
            "  inflating: Citrus/Leaves/Black spot/b (223).png  \n",
            "  inflating: Citrus/Leaves/Black spot/b (224).png  \n",
            "  inflating: Citrus/Leaves/Black spot/b (225).png  \n",
            "  inflating: Citrus/Leaves/Black spot/b (226).png  \n",
            "  inflating: Citrus/Leaves/Black spot/b (227).png  \n",
            "  inflating: Citrus/Leaves/Black spot/b (229).png  \n",
            "  inflating: Citrus/Leaves/Black spot/b (23).png  \n",
            "  inflating: Citrus/Leaves/Black spot/b (230).png  \n",
            "  inflating: Citrus/Leaves/Black spot/b (231).png  \n",
            "  inflating: Citrus/Leaves/Black spot/b (232).png  \n",
            "  inflating: Citrus/Leaves/Black spot/b (233).png  \n",
            "  inflating: Citrus/Leaves/Black spot/b (234).png  \n",
            "  inflating: Citrus/Leaves/Black spot/b (236).png  \n",
            "  inflating: Citrus/Leaves/Black spot/b (237).png  \n",
            "  inflating: Citrus/Leaves/Black spot/b (238).png  \n",
            "  inflating: Citrus/Leaves/Black spot/b (24).png  \n",
            "  inflating: Citrus/Leaves/Black spot/b (240).png  \n",
            "  inflating: Citrus/Leaves/Black spot/b (241).png  \n",
            "  inflating: Citrus/Leaves/Black spot/b (242).png  \n",
            "  inflating: Citrus/Leaves/Black spot/b (243).png  \n",
            "  inflating: Citrus/Leaves/Black spot/b (244).png  \n",
            "  inflating: Citrus/Leaves/Black spot/b (249).png  \n",
            "  inflating: Citrus/Leaves/Black spot/b (250).png  \n",
            "  inflating: Citrus/Leaves/Black spot/b (251).png  \n",
            "  inflating: Citrus/Leaves/Black spot/b (252).png  \n",
            "  inflating: Citrus/Leaves/Black spot/b (254).png  \n",
            "  inflating: Citrus/Leaves/Black spot/b (256).png  \n",
            "  inflating: Citrus/Leaves/Black spot/b (257).png  \n",
            "  inflating: Citrus/Leaves/Black spot/b (258).png  \n",
            "  inflating: Citrus/Leaves/Black spot/b (259).png  \n",
            "  inflating: Citrus/Leaves/Black spot/b (261).png  \n",
            "  inflating: Citrus/Leaves/Black spot/b (262).png  \n",
            "  inflating: Citrus/Leaves/Black spot/b (263).png  \n",
            "  inflating: Citrus/Leaves/Black spot/b (264).png  \n",
            "  inflating: Citrus/Leaves/Black spot/b (265).png  \n",
            "  inflating: Citrus/Leaves/Black spot/b (266).png  \n",
            "  inflating: Citrus/Leaves/Black spot/b (267).png  \n",
            "  inflating: Citrus/Leaves/Black spot/b (268).png  \n",
            "  inflating: Citrus/Leaves/Black spot/b (269).png  \n",
            "  inflating: Citrus/Leaves/Black spot/b (270).png  \n",
            "  inflating: Citrus/Leaves/Black spot/b (271).png  \n",
            "  inflating: Citrus/Leaves/Black spot/b (272).png  \n",
            "  inflating: Citrus/Leaves/Black spot/b (273).png  \n",
            "  inflating: Citrus/Leaves/Black spot/b (274).png  \n",
            "  inflating: Citrus/Leaves/Black spot/b (275).png  \n",
            "  inflating: Citrus/Leaves/Black spot/b (276).png  \n",
            "  inflating: Citrus/Leaves/Black spot/b (277).png  \n",
            "  inflating: Citrus/Leaves/Black spot/b (278).png  \n",
            "  inflating: Citrus/Leaves/Black spot/b (280).png  \n",
            "  inflating: Citrus/Leaves/Black spot/b (281).png  \n",
            "  inflating: Citrus/Leaves/Black spot/b (282).png  \n",
            "  inflating: Citrus/Leaves/Black spot/b (32).png  \n",
            "  inflating: Citrus/Leaves/Black spot/b (35).png  \n",
            "  inflating: Citrus/Leaves/Black spot/b (40).png  \n",
            "  inflating: Citrus/Leaves/Black spot/b (42).png  \n",
            "  inflating: Citrus/Leaves/Black spot/b (43).png  \n",
            "  inflating: Citrus/Leaves/Black spot/b (44).png  \n",
            "  inflating: Citrus/Leaves/Black spot/b (45).png  \n",
            "  inflating: Citrus/Leaves/Black spot/b (46).png  \n",
            "  inflating: Citrus/Leaves/Black spot/b (47).png  \n",
            "  inflating: Citrus/Leaves/Black spot/b (48).png  \n",
            "  inflating: Citrus/Leaves/Black spot/b (49).png  \n",
            "  inflating: Citrus/Leaves/Black spot/b (5).png  \n",
            "  inflating: Citrus/Leaves/Black spot/b (50).png  \n",
            "  inflating: Citrus/Leaves/Black spot/b (51).png  \n",
            "  inflating: Citrus/Leaves/Black spot/b (52).png  \n",
            "  inflating: Citrus/Leaves/Black spot/b (53).png  \n",
            "  inflating: Citrus/Leaves/Black spot/b (55).png  \n",
            "  inflating: Citrus/Leaves/Black spot/b (56).png  \n",
            "  inflating: Citrus/Leaves/Black spot/b (57).png  \n",
            "  inflating: Citrus/Leaves/Black spot/b (58).png  \n",
            "  inflating: Citrus/Leaves/Black spot/b (59).png  \n",
            "  inflating: Citrus/Leaves/Black spot/b (60).png  \n",
            "  inflating: Citrus/Leaves/Black spot/b (61).png  \n",
            "  inflating: Citrus/Leaves/Black spot/b (62).png  \n",
            "  inflating: Citrus/Leaves/Black spot/b (67).png  \n",
            "  inflating: Citrus/Leaves/Black spot/b (68).png  \n",
            "  inflating: Citrus/Leaves/Black spot/b (69).png  \n",
            "  inflating: Citrus/Leaves/Black spot/b (70).png  \n",
            "  inflating: Citrus/Leaves/Black spot/b (74).png  \n",
            "  inflating: Citrus/Leaves/Black spot/b (75).png  \n",
            "  inflating: Citrus/Leaves/Black spot/b (76).png  \n",
            "  inflating: Citrus/Leaves/Black spot/b (77).png  \n",
            "  inflating: Citrus/Leaves/Black spot/b (78).png  \n",
            "  inflating: Citrus/Leaves/Black spot/b (82).png  \n",
            "  inflating: Citrus/Leaves/Black spot/b (83).png  \n",
            "  inflating: Citrus/Leaves/Black spot/b (84).png  \n",
            "  inflating: Citrus/Leaves/Black spot/b (85).png  \n",
            "  inflating: Citrus/Leaves/Black spot/b (86).png  \n",
            "  inflating: Citrus/Leaves/Black spot/b (87).png  \n",
            "  inflating: Citrus/Leaves/Black spot/b (89).png  \n",
            "  inflating: Citrus/Leaves/Black spot/b (91).png  \n",
            "  inflating: Citrus/Leaves/Black spot/b (92).png  \n",
            "  inflating: Citrus/Leaves/Black spot/b (93).png  \n",
            "  inflating: Citrus/Leaves/Black spot/b (94).png  \n",
            "  inflating: Citrus/Leaves/Black spot/b (95).png  \n",
            "  inflating: Citrus/Leaves/Black spot/b (98).png  \n",
            "  inflating: Citrus/Leaves/Black spot/bl (1).png  \n",
            "  inflating: Citrus/Leaves/Black spot/bl (2).png  \n",
            "  inflating: Citrus/Leaves/Black spot/bl (3).png  \n",
            "  inflating: Citrus/Leaves/Black spot/bl (4).png  \n",
            "  inflating: Citrus/Leaves/Black spot/bl (5).png  \n",
            "  inflating: Citrus/Leaves/Black spot/bl (6).png  \n",
            "   creating: Citrus/Leaves/canker/\n",
            "  inflating: Citrus/Leaves/canker/1.png.png  \n",
            "  inflating: Citrus/Leaves/canker/10.pn.png  \n",
            "  inflating: Citrus/Leaves/canker/100.p.png  \n",
            "  inflating: Citrus/Leaves/canker/101.p.png  \n",
            "  inflating: Citrus/Leaves/canker/102.p.png  \n",
            "  inflating: Citrus/Leaves/canker/103.p.png  \n",
            "  inflating: Citrus/Leaves/canker/104.p.png  \n",
            "  inflating: Citrus/Leaves/canker/105.p.png  \n",
            "  inflating: Citrus/Leaves/canker/106.p.png  \n",
            "  inflating: Citrus/Leaves/canker/107.p.png  \n",
            "  inflating: Citrus/Leaves/canker/108.p.png  \n",
            "  inflating: Citrus/Leaves/canker/109.p.png  \n",
            "  inflating: Citrus/Leaves/canker/11.pn.png  \n",
            "  inflating: Citrus/Leaves/canker/110.p.png  \n",
            "  inflating: Citrus/Leaves/canker/111.p.png  \n",
            "  inflating: Citrus/Leaves/canker/112.p.png  \n",
            "  inflating: Citrus/Leaves/canker/113.p.png  \n",
            "  inflating: Citrus/Leaves/canker/114.p.png  \n",
            "  inflating: Citrus/Leaves/canker/115.p.png  \n",
            "  inflating: Citrus/Leaves/canker/116.p.png  \n",
            "  inflating: Citrus/Leaves/canker/117.p.png  \n",
            "  inflating: Citrus/Leaves/canker/118.p.png  \n",
            "  inflating: Citrus/Leaves/canker/119.p.png  \n",
            "  inflating: Citrus/Leaves/canker/12.pn.png  \n",
            "  inflating: Citrus/Leaves/canker/120.p.png  \n",
            "  inflating: Citrus/Leaves/canker/121.p.png  \n",
            "  inflating: Citrus/Leaves/canker/122.p.png  \n",
            "  inflating: Citrus/Leaves/canker/123.p.png  \n",
            "  inflating: Citrus/Leaves/canker/124.p.png  \n",
            "  inflating: Citrus/Leaves/canker/125.p.png  \n",
            "  inflating: Citrus/Leaves/canker/126.p.png  \n",
            "  inflating: Citrus/Leaves/canker/127.p.png  \n",
            "  inflating: Citrus/Leaves/canker/128.p.png  \n",
            "  inflating: Citrus/Leaves/canker/129.p.png  \n",
            "  inflating: Citrus/Leaves/canker/13.pn.png  \n",
            "  inflating: Citrus/Leaves/canker/130.p.png  \n",
            "  inflating: Citrus/Leaves/canker/131.p.png  \n",
            "  inflating: Citrus/Leaves/canker/132.p.png  \n",
            "  inflating: Citrus/Leaves/canker/133.p.png  \n",
            "  inflating: Citrus/Leaves/canker/134.p.png  \n",
            "  inflating: Citrus/Leaves/canker/135.p.png  \n",
            "  inflating: Citrus/Leaves/canker/136.p.png  \n",
            "  inflating: Citrus/Leaves/canker/137.p.png  \n",
            "  inflating: Citrus/Leaves/canker/138.p.png  \n",
            "  inflating: Citrus/Leaves/canker/139.p.png  \n",
            "  inflating: Citrus/Leaves/canker/14.pn.png  \n",
            "  inflating: Citrus/Leaves/canker/140.p.png  \n",
            "  inflating: Citrus/Leaves/canker/141.p.png  \n",
            "  inflating: Citrus/Leaves/canker/142.p.png  \n",
            "  inflating: Citrus/Leaves/canker/143.p.png  \n",
            "  inflating: Citrus/Leaves/canker/144.p.png  \n",
            "  inflating: Citrus/Leaves/canker/145.p.png  \n",
            "  inflating: Citrus/Leaves/canker/146.p.png  \n",
            "  inflating: Citrus/Leaves/canker/147.p.png  \n",
            "  inflating: Citrus/Leaves/canker/148.p.png  \n",
            "  inflating: Citrus/Leaves/canker/149.p.png  \n",
            "  inflating: Citrus/Leaves/canker/15.pn.png  \n",
            "  inflating: Citrus/Leaves/canker/150.p.png  \n",
            "  inflating: Citrus/Leaves/canker/151.p.png  \n",
            "  inflating: Citrus/Leaves/canker/152.p.png  \n",
            "  inflating: Citrus/Leaves/canker/153.p.png  \n",
            "  inflating: Citrus/Leaves/canker/154.p.png  \n",
            "  inflating: Citrus/Leaves/canker/155.p.png  \n",
            "  inflating: Citrus/Leaves/canker/156.p.png  \n",
            "  inflating: Citrus/Leaves/canker/157.p.png  \n",
            "  inflating: Citrus/Leaves/canker/158.p.png  \n",
            "  inflating: Citrus/Leaves/canker/159.p.png  \n",
            "  inflating: Citrus/Leaves/canker/16.pn.png  \n",
            "  inflating: Citrus/Leaves/canker/160.p.png  \n",
            "  inflating: Citrus/Leaves/canker/161.p.png  \n",
            "  inflating: Citrus/Leaves/canker/162.p.png  \n",
            "  inflating: Citrus/Leaves/canker/163.p.png  \n",
            "  inflating: Citrus/Leaves/canker/17.pn.png  \n",
            "  inflating: Citrus/Leaves/canker/18.pn.png  \n",
            "  inflating: Citrus/Leaves/canker/19.pn.png  \n",
            "  inflating: Citrus/Leaves/canker/2.png.png  \n",
            "  inflating: Citrus/Leaves/canker/20.pn.png  \n",
            "  inflating: Citrus/Leaves/canker/21.pn.png  \n",
            "  inflating: Citrus/Leaves/canker/22.pn.png  \n",
            "  inflating: Citrus/Leaves/canker/23.pn.png  \n",
            "  inflating: Citrus/Leaves/canker/24.pn.png  \n",
            "  inflating: Citrus/Leaves/canker/25.pn.png  \n",
            "  inflating: Citrus/Leaves/canker/26.pn.png  \n",
            "  inflating: Citrus/Leaves/canker/27.pn.png  \n",
            "  inflating: Citrus/Leaves/canker/28.pn.png  \n",
            "  inflating: Citrus/Leaves/canker/29.pn.png  \n",
            "  inflating: Citrus/Leaves/canker/3.png.png  \n",
            "  inflating: Citrus/Leaves/canker/30.pn.png  \n",
            "  inflating: Citrus/Leaves/canker/31.pn.png  \n",
            "  inflating: Citrus/Leaves/canker/32.pn.png  \n",
            "  inflating: Citrus/Leaves/canker/33.pn.png  \n",
            "  inflating: Citrus/Leaves/canker/34.pn.png  \n",
            "  inflating: Citrus/Leaves/canker/35.pn.png  \n",
            "  inflating: Citrus/Leaves/canker/36.pn.png  \n",
            "  inflating: Citrus/Leaves/canker/37.pn.png  \n",
            "  inflating: Citrus/Leaves/canker/38.pn.png  \n",
            "  inflating: Citrus/Leaves/canker/39.pn.png  \n",
            "  inflating: Citrus/Leaves/canker/4.png.png  \n",
            "  inflating: Citrus/Leaves/canker/40.pn.png  \n",
            "  inflating: Citrus/Leaves/canker/41.pn.png  \n",
            "  inflating: Citrus/Leaves/canker/42.pn.png  \n",
            "  inflating: Citrus/Leaves/canker/43.pn.png  \n",
            "  inflating: Citrus/Leaves/canker/44.pn.png  \n",
            "  inflating: Citrus/Leaves/canker/45.pn.png  \n",
            "  inflating: Citrus/Leaves/canker/46.pn.png  \n",
            "  inflating: Citrus/Leaves/canker/47.pn.png  \n",
            "  inflating: Citrus/Leaves/canker/48.pn.png  \n",
            "  inflating: Citrus/Leaves/canker/49.pn.png  \n",
            "  inflating: Citrus/Leaves/canker/5.png.png  \n",
            "  inflating: Citrus/Leaves/canker/50.pn.png  \n",
            "  inflating: Citrus/Leaves/canker/51.pn.png  \n",
            "  inflating: Citrus/Leaves/canker/52.pn.png  \n",
            "  inflating: Citrus/Leaves/canker/53.pn.png  \n",
            "  inflating: Citrus/Leaves/canker/54.pn.png  \n",
            "  inflating: Citrus/Leaves/canker/55.pn.png  \n",
            "  inflating: Citrus/Leaves/canker/56.pn.png  \n",
            "  inflating: Citrus/Leaves/canker/57.pn.png  \n",
            "  inflating: Citrus/Leaves/canker/58.pn.png  \n",
            "  inflating: Citrus/Leaves/canker/59.pn.png  \n",
            "  inflating: Citrus/Leaves/canker/6.png.png  \n",
            "  inflating: Citrus/Leaves/canker/60.pn.png  \n",
            "  inflating: Citrus/Leaves/canker/61.pn.png  \n",
            "  inflating: Citrus/Leaves/canker/62.pn.png  \n",
            "  inflating: Citrus/Leaves/canker/63.pn.png  \n",
            "  inflating: Citrus/Leaves/canker/64.pn.png  \n",
            "  inflating: Citrus/Leaves/canker/65.pn.png  \n",
            "  inflating: Citrus/Leaves/canker/66.pn.png  \n",
            "  inflating: Citrus/Leaves/canker/67.pn.png  \n",
            "  inflating: Citrus/Leaves/canker/68.pn.png  \n",
            "  inflating: Citrus/Leaves/canker/69.pn.png  \n",
            "  inflating: Citrus/Leaves/canker/7.png.png  \n",
            "  inflating: Citrus/Leaves/canker/70.pn.png  \n",
            "  inflating: Citrus/Leaves/canker/71.pn.png  \n",
            "  inflating: Citrus/Leaves/canker/72.pn.png  \n",
            "  inflating: Citrus/Leaves/canker/73.pn.png  \n",
            "  inflating: Citrus/Leaves/canker/74.pn.png  \n",
            "  inflating: Citrus/Leaves/canker/75.pn.png  \n",
            "  inflating: Citrus/Leaves/canker/76.pn.png  \n",
            "  inflating: Citrus/Leaves/canker/77.pn.png  \n",
            "  inflating: Citrus/Leaves/canker/78.pn.png  \n",
            "  inflating: Citrus/Leaves/canker/79.pn.png  \n",
            "  inflating: Citrus/Leaves/canker/8.png.png  \n",
            "  inflating: Citrus/Leaves/canker/80.pn.png  \n",
            "  inflating: Citrus/Leaves/canker/81.pn.png  \n",
            "  inflating: Citrus/Leaves/canker/82.pn.png  \n",
            "  inflating: Citrus/Leaves/canker/83.pn.png  \n",
            "  inflating: Citrus/Leaves/canker/84.pn.png  \n",
            "  inflating: Citrus/Leaves/canker/85.pn.png  \n",
            "  inflating: Citrus/Leaves/canker/86.pn.png  \n",
            "  inflating: Citrus/Leaves/canker/87.pn.png  \n",
            "  inflating: Citrus/Leaves/canker/88.pn.png  \n",
            "  inflating: Citrus/Leaves/canker/89.pn.png  \n",
            "  inflating: Citrus/Leaves/canker/9.png.png  \n",
            "  inflating: Citrus/Leaves/canker/90.pn.png  \n",
            "  inflating: Citrus/Leaves/canker/91.pn.png  \n",
            "  inflating: Citrus/Leaves/canker/92.pn.png  \n",
            "  inflating: Citrus/Leaves/canker/93.pn.png  \n",
            "  inflating: Citrus/Leaves/canker/94.pn.png  \n",
            "  inflating: Citrus/Leaves/canker/95.pn.png  \n",
            "  inflating: Citrus/Leaves/canker/96.pn.png  \n",
            "  inflating: Citrus/Leaves/canker/97.pn.png  \n",
            "  inflating: Citrus/Leaves/canker/98.pn.png  \n",
            "  inflating: Citrus/Leaves/canker/99.pn.png  \n",
            "   creating: Citrus/Leaves/greening/\n",
            "  inflating: Citrus/Leaves/greening/g (1).png  \n",
            "  inflating: Citrus/Leaves/greening/g (10).png  \n",
            "  inflating: Citrus/Leaves/greening/g (100).png  \n",
            "  inflating: Citrus/Leaves/greening/g (101).png  \n",
            "  inflating: Citrus/Leaves/greening/g (102).png  \n",
            "  inflating: Citrus/Leaves/greening/g (103).png  \n",
            "  inflating: Citrus/Leaves/greening/g (104).png  \n",
            "  inflating: Citrus/Leaves/greening/g (105).png  \n",
            "  inflating: Citrus/Leaves/greening/g (106).png  \n",
            "  inflating: Citrus/Leaves/greening/g (107).png  \n",
            "  inflating: Citrus/Leaves/greening/g (108).png  \n",
            "  inflating: Citrus/Leaves/greening/g (109).png  \n",
            "  inflating: Citrus/Leaves/greening/g (11).png  \n",
            "  inflating: Citrus/Leaves/greening/g (110).png  \n",
            "  inflating: Citrus/Leaves/greening/g (111).png  \n",
            "  inflating: Citrus/Leaves/greening/g (112).png  \n",
            "  inflating: Citrus/Leaves/greening/g (113).png  \n",
            "  inflating: Citrus/Leaves/greening/g (114).png  \n",
            "  inflating: Citrus/Leaves/greening/g (115).png  \n",
            "  inflating: Citrus/Leaves/greening/g (116).png  \n",
            "  inflating: Citrus/Leaves/greening/g (117).png  \n",
            "  inflating: Citrus/Leaves/greening/g (118).png  \n",
            "  inflating: Citrus/Leaves/greening/g (119).png  \n",
            "  inflating: Citrus/Leaves/greening/g (12).png  \n",
            "  inflating: Citrus/Leaves/greening/g (120).png  \n",
            "  inflating: Citrus/Leaves/greening/g (121).png  \n",
            "  inflating: Citrus/Leaves/greening/g (122).png  \n",
            "  inflating: Citrus/Leaves/greening/g (123).png  \n",
            "  inflating: Citrus/Leaves/greening/g (124).png  \n",
            "  inflating: Citrus/Leaves/greening/g (125).png  \n",
            "  inflating: Citrus/Leaves/greening/g (126).png  \n",
            "  inflating: Citrus/Leaves/greening/g (127).png  \n",
            "  inflating: Citrus/Leaves/greening/g (128).png  \n",
            "  inflating: Citrus/Leaves/greening/g (129).png  \n",
            "  inflating: Citrus/Leaves/greening/g (13).png  \n",
            "  inflating: Citrus/Leaves/greening/g (130).png  \n",
            "  inflating: Citrus/Leaves/greening/g (131).png  \n",
            "  inflating: Citrus/Leaves/greening/g (132).png  \n",
            "  inflating: Citrus/Leaves/greening/g (133).png  \n",
            "  inflating: Citrus/Leaves/greening/g (134).png  \n",
            "  inflating: Citrus/Leaves/greening/g (135).png  \n",
            "  inflating: Citrus/Leaves/greening/g (136).png  \n",
            "  inflating: Citrus/Leaves/greening/g (137).png  \n",
            "  inflating: Citrus/Leaves/greening/g (138).png  \n",
            "  inflating: Citrus/Leaves/greening/g (139).png  \n",
            "  inflating: Citrus/Leaves/greening/g (14).png  \n",
            "  inflating: Citrus/Leaves/greening/g (140).png  \n",
            "  inflating: Citrus/Leaves/greening/g (141).png  \n",
            "  inflating: Citrus/Leaves/greening/g (142).png  \n",
            "  inflating: Citrus/Leaves/greening/g (143).png  \n",
            "  inflating: Citrus/Leaves/greening/g (144).png  \n",
            "  inflating: Citrus/Leaves/greening/g (145).png  \n",
            "  inflating: Citrus/Leaves/greening/g (146).png  \n",
            "  inflating: Citrus/Leaves/greening/g (147).png  \n",
            "  inflating: Citrus/Leaves/greening/g (148).png  \n",
            "  inflating: Citrus/Leaves/greening/g (149).png  \n",
            "  inflating: Citrus/Leaves/greening/g (15).png  \n",
            "  inflating: Citrus/Leaves/greening/g (150).png  \n",
            "  inflating: Citrus/Leaves/greening/g (151).png  \n",
            "  inflating: Citrus/Leaves/greening/g (152).png  \n",
            "  inflating: Citrus/Leaves/greening/g (153).png  \n",
            "  inflating: Citrus/Leaves/greening/g (154).png  \n",
            "  inflating: Citrus/Leaves/greening/g (155).png  \n",
            "  inflating: Citrus/Leaves/greening/g (156).png  \n",
            "  inflating: Citrus/Leaves/greening/g (157).png  \n",
            "  inflating: Citrus/Leaves/greening/g (158).png  \n",
            "  inflating: Citrus/Leaves/greening/g (159).png  \n",
            "  inflating: Citrus/Leaves/greening/g (16).png  \n",
            "  inflating: Citrus/Leaves/greening/g (160).png  \n",
            "  inflating: Citrus/Leaves/greening/g (161).png  \n",
            "  inflating: Citrus/Leaves/greening/g (162).png  \n",
            "  inflating: Citrus/Leaves/greening/g (163).png  \n",
            "  inflating: Citrus/Leaves/greening/g (164).png  \n",
            "  inflating: Citrus/Leaves/greening/g (165).png  \n",
            "  inflating: Citrus/Leaves/greening/g (166).png  \n",
            "  inflating: Citrus/Leaves/greening/g (167).png  \n",
            "  inflating: Citrus/Leaves/greening/g (168).png  \n",
            "  inflating: Citrus/Leaves/greening/g (169).png  \n",
            "  inflating: Citrus/Leaves/greening/g (17).png  \n",
            "  inflating: Citrus/Leaves/greening/g (170).png  \n",
            "  inflating: Citrus/Leaves/greening/g (171).png  \n",
            "  inflating: Citrus/Leaves/greening/g (172).png  \n",
            "  inflating: Citrus/Leaves/greening/g (173).png  \n",
            "  inflating: Citrus/Leaves/greening/g (174).png  \n",
            "  inflating: Citrus/Leaves/greening/g (175).png  \n",
            "  inflating: Citrus/Leaves/greening/g (176).png  \n",
            "  inflating: Citrus/Leaves/greening/g (177).png  \n",
            "  inflating: Citrus/Leaves/greening/g (178).png  \n",
            "  inflating: Citrus/Leaves/greening/g (179).png  \n",
            "  inflating: Citrus/Leaves/greening/g (18).png  \n",
            "  inflating: Citrus/Leaves/greening/g (180).png  \n",
            "  inflating: Citrus/Leaves/greening/g (181).png  \n",
            "  inflating: Citrus/Leaves/greening/g (182).png  \n",
            "  inflating: Citrus/Leaves/greening/g (183).png  \n",
            "  inflating: Citrus/Leaves/greening/g (184).png  \n",
            "  inflating: Citrus/Leaves/greening/g (185).png  \n",
            "  inflating: Citrus/Leaves/greening/g (186).png  \n",
            "  inflating: Citrus/Leaves/greening/g (187).png  \n",
            "  inflating: Citrus/Leaves/greening/g (188).png  \n",
            "  inflating: Citrus/Leaves/greening/g (189).png  \n",
            "  inflating: Citrus/Leaves/greening/g (19).png  \n",
            "  inflating: Citrus/Leaves/greening/g (190).png  \n",
            "  inflating: Citrus/Leaves/greening/g (191).png  \n",
            "  inflating: Citrus/Leaves/greening/g (192).png  \n",
            "  inflating: Citrus/Leaves/greening/g (193).png  \n",
            "  inflating: Citrus/Leaves/greening/g (194).png  \n",
            "  inflating: Citrus/Leaves/greening/g (195).png  \n",
            "  inflating: Citrus/Leaves/greening/g (196).png  \n",
            "  inflating: Citrus/Leaves/greening/g (197).png  \n",
            "  inflating: Citrus/Leaves/greening/g (198).png  \n",
            "  inflating: Citrus/Leaves/greening/g (199).png  \n",
            "  inflating: Citrus/Leaves/greening/g (2).png  \n",
            "  inflating: Citrus/Leaves/greening/g (20).png  \n",
            "  inflating: Citrus/Leaves/greening/g (200).png  \n",
            "  inflating: Citrus/Leaves/greening/g (201).png  \n",
            "  inflating: Citrus/Leaves/greening/g (202).png  \n",
            "  inflating: Citrus/Leaves/greening/g (203).png  \n",
            "  inflating: Citrus/Leaves/greening/g (204).png  \n",
            "  inflating: Citrus/Leaves/greening/g (21).png  \n",
            "  inflating: Citrus/Leaves/greening/g (22).png  \n",
            "  inflating: Citrus/Leaves/greening/g (23).png  \n",
            "  inflating: Citrus/Leaves/greening/g (24).png  \n",
            "  inflating: Citrus/Leaves/greening/g (25).png  \n",
            "  inflating: Citrus/Leaves/greening/g (26).png  \n",
            "  inflating: Citrus/Leaves/greening/g (27).png  \n",
            "  inflating: Citrus/Leaves/greening/g (28).png  \n",
            "  inflating: Citrus/Leaves/greening/g (29).png  \n",
            "  inflating: Citrus/Leaves/greening/g (3).png  \n",
            "  inflating: Citrus/Leaves/greening/g (30).png  \n",
            "  inflating: Citrus/Leaves/greening/g (31).png  \n",
            "  inflating: Citrus/Leaves/greening/g (32).png  \n",
            "  inflating: Citrus/Leaves/greening/g (33).png  \n",
            "  inflating: Citrus/Leaves/greening/g (34).png  \n",
            "  inflating: Citrus/Leaves/greening/g (35).png  \n",
            "  inflating: Citrus/Leaves/greening/g (36).png  \n",
            "  inflating: Citrus/Leaves/greening/g (37).png  \n",
            "  inflating: Citrus/Leaves/greening/g (38).png  \n",
            "  inflating: Citrus/Leaves/greening/g (39).png  \n",
            "  inflating: Citrus/Leaves/greening/g (4).png  \n",
            "  inflating: Citrus/Leaves/greening/g (40).png  \n",
            "  inflating: Citrus/Leaves/greening/g (41).png  \n",
            "  inflating: Citrus/Leaves/greening/g (42).png  \n",
            "  inflating: Citrus/Leaves/greening/g (43).png  \n",
            "  inflating: Citrus/Leaves/greening/g (44).png  \n",
            "  inflating: Citrus/Leaves/greening/g (45).png  \n",
            "  inflating: Citrus/Leaves/greening/g (46).png  \n",
            "  inflating: Citrus/Leaves/greening/g (47).png  \n",
            "  inflating: Citrus/Leaves/greening/g (48).png  \n",
            "  inflating: Citrus/Leaves/greening/g (49).png  \n",
            "  inflating: Citrus/Leaves/greening/g (5).png  \n",
            "  inflating: Citrus/Leaves/greening/g (50).png  \n",
            "  inflating: Citrus/Leaves/greening/g (51).png  \n",
            "  inflating: Citrus/Leaves/greening/g (52).png  \n",
            "  inflating: Citrus/Leaves/greening/g (53).png  \n",
            "  inflating: Citrus/Leaves/greening/g (54).png  \n",
            "  inflating: Citrus/Leaves/greening/g (55).png  \n",
            "  inflating: Citrus/Leaves/greening/g (56).png  \n",
            "  inflating: Citrus/Leaves/greening/g (57).png  \n",
            "  inflating: Citrus/Leaves/greening/g (58).png  \n",
            "  inflating: Citrus/Leaves/greening/g (59).png  \n",
            "  inflating: Citrus/Leaves/greening/g (6).png  \n",
            "  inflating: Citrus/Leaves/greening/g (60).png  \n",
            "  inflating: Citrus/Leaves/greening/g (61).png  \n",
            "  inflating: Citrus/Leaves/greening/g (62).png  \n",
            "  inflating: Citrus/Leaves/greening/g (63).png  \n",
            "  inflating: Citrus/Leaves/greening/g (64).png  \n",
            "  inflating: Citrus/Leaves/greening/g (65).png  \n",
            "  inflating: Citrus/Leaves/greening/g (66).png  \n",
            "  inflating: Citrus/Leaves/greening/g (67).png  \n",
            "  inflating: Citrus/Leaves/greening/g (68).png  \n",
            "  inflating: Citrus/Leaves/greening/g (69).png  \n",
            "  inflating: Citrus/Leaves/greening/g (7).png  \n",
            "  inflating: Citrus/Leaves/greening/g (70).png  \n",
            "  inflating: Citrus/Leaves/greening/g (71).png  \n",
            "  inflating: Citrus/Leaves/greening/g (72).png  \n",
            "  inflating: Citrus/Leaves/greening/g (73).png  \n",
            "  inflating: Citrus/Leaves/greening/g (74).png  \n",
            "  inflating: Citrus/Leaves/greening/g (75).png  \n",
            "  inflating: Citrus/Leaves/greening/g (76).png  \n",
            "  inflating: Citrus/Leaves/greening/g (77).png  \n",
            "  inflating: Citrus/Leaves/greening/g (78).png  \n",
            "  inflating: Citrus/Leaves/greening/g (79).png  \n",
            "  inflating: Citrus/Leaves/greening/g (8).png  \n",
            "  inflating: Citrus/Leaves/greening/g (80).png  \n",
            "  inflating: Citrus/Leaves/greening/g (81).png  \n",
            "  inflating: Citrus/Leaves/greening/g (82).png  \n",
            "  inflating: Citrus/Leaves/greening/g (83).png  \n",
            "  inflating: Citrus/Leaves/greening/g (84).png  \n",
            "  inflating: Citrus/Leaves/greening/g (85).png  \n",
            "  inflating: Citrus/Leaves/greening/g (86).png  \n",
            "  inflating: Citrus/Leaves/greening/g (87).png  \n",
            "  inflating: Citrus/Leaves/greening/g (88).png  \n",
            "  inflating: Citrus/Leaves/greening/g (89).png  \n",
            "  inflating: Citrus/Leaves/greening/g (9).png  \n",
            "  inflating: Citrus/Leaves/greening/g (90).png  \n",
            "  inflating: Citrus/Leaves/greening/g (91).png  \n",
            "  inflating: Citrus/Leaves/greening/g (92).png  \n",
            "  inflating: Citrus/Leaves/greening/g (93).png  \n",
            "  inflating: Citrus/Leaves/greening/g (94).png  \n",
            "  inflating: Citrus/Leaves/greening/g (95).png  \n",
            "  inflating: Citrus/Leaves/greening/g (96).png  \n",
            "  inflating: Citrus/Leaves/greening/g (97).png  \n",
            "  inflating: Citrus/Leaves/greening/g (98).png  \n",
            "  inflating: Citrus/Leaves/greening/g (99).png  \n",
            "   creating: Citrus/Leaves/healthy/\n",
            "  inflating: Citrus/Leaves/healthy/1.png.png  \n",
            "  inflating: Citrus/Leaves/healthy/10.pn.png  \n",
            "  inflating: Citrus/Leaves/healthy/11.pn.png  \n",
            "  inflating: Citrus/Leaves/healthy/12.pn.png  \n",
            "  inflating: Citrus/Leaves/healthy/13.pn.png  \n",
            "  inflating: Citrus/Leaves/healthy/14.pn.png  \n",
            "  inflating: Citrus/Leaves/healthy/15.pn.png  \n",
            "  inflating: Citrus/Leaves/healthy/16.pn.png  \n",
            "  inflating: Citrus/Leaves/healthy/17.pn.png  \n",
            "  inflating: Citrus/Leaves/healthy/18.pn.png  \n",
            "  inflating: Citrus/Leaves/healthy/19.pn.png  \n",
            "  inflating: Citrus/Leaves/healthy/2.png.png  \n",
            "  inflating: Citrus/Leaves/healthy/20.pn.png  \n",
            "  inflating: Citrus/Leaves/healthy/21.pn.png  \n",
            "  inflating: Citrus/Leaves/healthy/22.pn.png  \n",
            "  inflating: Citrus/Leaves/healthy/23.pn.png  \n",
            "  inflating: Citrus/Leaves/healthy/24.pn.png  \n",
            "  inflating: Citrus/Leaves/healthy/25.pn.png  \n",
            "  inflating: Citrus/Leaves/healthy/26.pn.png  \n",
            "  inflating: Citrus/Leaves/healthy/27.pn.png  \n",
            "  inflating: Citrus/Leaves/healthy/28.pn.png  \n",
            "  inflating: Citrus/Leaves/healthy/29.pn.png  \n",
            "  inflating: Citrus/Leaves/healthy/3.png.png  \n",
            "  inflating: Citrus/Leaves/healthy/30.pn.png  \n",
            "  inflating: Citrus/Leaves/healthy/31.pn.png  \n",
            "  inflating: Citrus/Leaves/healthy/32.pn.png  \n",
            "  inflating: Citrus/Leaves/healthy/33.pn.png  \n",
            "  inflating: Citrus/Leaves/healthy/34.pn.png  \n",
            "  inflating: Citrus/Leaves/healthy/35.pn.png  \n",
            "  inflating: Citrus/Leaves/healthy/36.pn.png  \n",
            "  inflating: Citrus/Leaves/healthy/37.pn.png  \n",
            "  inflating: Citrus/Leaves/healthy/38.pn.png  \n",
            "  inflating: Citrus/Leaves/healthy/39.pn.png  \n",
            "  inflating: Citrus/Leaves/healthy/4.png.png  \n",
            "  inflating: Citrus/Leaves/healthy/40.pn.png  \n",
            "  inflating: Citrus/Leaves/healthy/41.pn.png  \n",
            "  inflating: Citrus/Leaves/healthy/42.pn.png  \n",
            "  inflating: Citrus/Leaves/healthy/43.pn.png  \n",
            "  inflating: Citrus/Leaves/healthy/44.pn.png  \n",
            "  inflating: Citrus/Leaves/healthy/45.pn.png  \n",
            "  inflating: Citrus/Leaves/healthy/46.pn.png  \n",
            "  inflating: Citrus/Leaves/healthy/47.pn.png  \n",
            "  inflating: Citrus/Leaves/healthy/48.pn.png  \n",
            "  inflating: Citrus/Leaves/healthy/49.pn.png  \n",
            "  inflating: Citrus/Leaves/healthy/5.png.png  \n",
            "  inflating: Citrus/Leaves/healthy/50.pn.png  \n",
            "  inflating: Citrus/Leaves/healthy/51.pn.png  \n",
            "  inflating: Citrus/Leaves/healthy/52.pn.png  \n",
            "  inflating: Citrus/Leaves/healthy/53.pn.png  \n",
            "  inflating: Citrus/Leaves/healthy/54.pn.png  \n",
            "  inflating: Citrus/Leaves/healthy/55.pn.png  \n",
            "  inflating: Citrus/Leaves/healthy/56.pn.png  \n",
            "  inflating: Citrus/Leaves/healthy/57.pn.png  \n",
            "  inflating: Citrus/Leaves/healthy/58.pn.png  \n",
            "  inflating: Citrus/Leaves/healthy/6.png.png  \n",
            "  inflating: Citrus/Leaves/healthy/7.png.png  \n",
            "  inflating: Citrus/Leaves/healthy/8.png.png  \n",
            "  inflating: Citrus/Leaves/healthy/9.png.png  \n",
            "   creating: Citrus/Leaves/Melanose/\n",
            "  inflating: Citrus/Leaves/Melanose/142.jpg  \n",
            "  inflating: Citrus/Leaves/Melanose/146.jpg  \n",
            "  inflating: Citrus/Leaves/Melanose/32.jpg  \n",
            "  inflating: Citrus/Leaves/Melanose/33.jpg  \n",
            "  inflating: Citrus/Leaves/Melanose/34.jpg  \n",
            "  inflating: Citrus/Leaves/Melanose/38.jpg  \n",
            "  inflating: Citrus/Leaves/Melanose/SAM_3927Catla.jpg  \n",
            "  inflating: Citrus/Leaves/Melanose/SAM_3928Catla.jpg  \n",
            "  inflating: Citrus/Leaves/Melanose/SAM_3929Catla.jpg  \n",
            "  inflating: Citrus/Leaves/Melanose/SAM_3937Catla.jpg  \n",
            "  inflating: Citrus/Leaves/Melanose/SAM_3938Catla.jpg  \n",
            "  inflating: Citrus/Leaves/Melanose/SAM_3941Catla.jpg  \n",
            "  inflating: Citrus/Leaves/Melanose/SAM_4840Catla.jpg  \n"
          ],
          "name": "stdout"
        }
      ]
    },
    {
      "cell_type": "code",
      "metadata": {
        "id": "j2ELFuzfYIBi",
        "colab_type": "code",
        "colab": {}
      },
      "source": [
        "import numpy as np # linear algebra\n",
        "import pandas as pd # data processing, CSV file I/O (e.g. pd.read_csv)"
      ],
      "execution_count": 0,
      "outputs": []
    },
    {
      "cell_type": "code",
      "metadata": {
        "id": "HLLlRf3FYT-9",
        "colab_type": "code",
        "colab": {}
      },
      "source": [
        "from keras_preprocessing.image import ImageDataGenerator\n",
        "\n",
        "data_gen= ImageDataGenerator(\n",
        "    horizontal_flip=True,\n",
        "    vertical_flip=True,\n",
        "    rotation_range=90,\n",
        "    width_shift_range=0.1,\n",
        "    height_shift_range=0.1,\n",
        "    zoom_range=.1,\n",
        "    rescale=1/255,\n",
        "    fill_mode='nearest',\n",
        "    shear_range=0.1,\n",
        "    brightness_range=[0.5, 1.5],\n",
        "    validation_split=0.2)"
      ],
      "execution_count": 0,
      "outputs": []
    },
    {
      "cell_type": "code",
      "metadata": {
        "id": "89ZpuWkgYZHW",
        "colab_type": "code",
        "colab": {}
      },
      "source": [
        "img_shape=300\n",
        "batch_size=16"
      ],
      "execution_count": 0,
      "outputs": []
    },
    {
      "cell_type": "code",
      "metadata": {
        "id": "EsqIKDdmYa0l",
        "colab_type": "code",
        "outputId": "74c48a10-ff75-4cb3-9f29-92b17738fa16",
        "colab": {
          "base_uri": "https://localhost:8080/",
          "height": 33
        }
      },
      "source": [
        "#load the training data\n",
        "train_generator = data_gen.flow_from_directory(\n",
        "    '/content/Citrus/Leaves',\n",
        "    target_size=(img_shape,img_shape),\n",
        "    batch_size=batch_size,\n",
        "    class_mode='categorical',\n",
        "    subset='training',\n",
        "    shuffle=True)\n"
      ],
      "execution_count": 0,
      "outputs": [
        {
          "output_type": "stream",
          "text": [
            "Found 490 images belonging to 5 classes.\n"
          ],
          "name": "stdout"
        }
      ]
    },
    {
      "cell_type": "code",
      "metadata": {
        "id": "qPAoXFonZ7Pk",
        "colab_type": "code",
        "outputId": "4a3ded4b-ed83-45e8-9755-2a900d250457",
        "colab": {
          "base_uri": "https://localhost:8080/",
          "height": 33
        }
      },
      "source": [
        "#load the training data\n",
        "val_suffle=False\n",
        "val_generator = data_gen.flow_from_directory(\n",
        "    '/content/Citrus/Leaves',\n",
        "    target_size=(img_shape,img_shape),\n",
        "    batch_size=16,\n",
        "    class_mode='categorical',\n",
        "    subset='validation',shuffle=val_suffle)#shuffle should be False in validation\n",
        "    #https://stackoverflow.com/a/47439789/11170350\n"
      ],
      "execution_count": 0,
      "outputs": [
        {
          "output_type": "stream",
          "text": [
            "Found 119 images belonging to 5 classes.\n"
          ],
          "name": "stdout"
        }
      ]
    },
    {
      "cell_type": "code",
      "metadata": {
        "id": "UQwUaMd7Y1qL",
        "colab_type": "code",
        "outputId": "87a64f18-d180-4475-d7ed-4f0165ae4737",
        "colab": {
          "base_uri": "https://localhost:8080/",
          "height": 33
        }
      },
      "source": [
        "train_generator.next()[0].shape,train_generator.next()[1].shape"
      ],
      "execution_count": 0,
      "outputs": [
        {
          "output_type": "execute_result",
          "data": {
            "text/plain": [
              "((16, 300, 300, 3), (16, 5))"
            ]
          },
          "metadata": {
            "tags": []
          },
          "execution_count": 9
        }
      ]
    },
    {
      "cell_type": "code",
      "metadata": {
        "id": "XwCEKIuz0C1Z",
        "colab_type": "code",
        "outputId": "6926442a-575a-4384-868c-671e9526365c",
        "colab": {
          "base_uri": "https://localhost:8080/",
          "height": 33
        }
      },
      "source": [
        "val_generator.next()[0].shape,val_generator.next()[1].shape"
      ],
      "execution_count": 0,
      "outputs": [
        {
          "output_type": "execute_result",
          "data": {
            "text/plain": [
              "((16, 300, 300, 3), (16, 5))"
            ]
          },
          "metadata": {
            "tags": []
          },
          "execution_count": 10
        }
      ]
    },
    {
      "cell_type": "code",
      "metadata": {
        "id": "1INqpplvY5PN",
        "colab_type": "code",
        "colab": {}
      },
      "source": [
        "from tensorflow.keras.models import Sequential,Model\n",
        "from tensorflow.keras.layers import Activation, Dropout, Flatten, Dense, Conv2D, MaxPool2D, BatchNormalization,Input,MaxPooling2D,GlobalMaxPooling2D,concatenate\n",
        "from tensorflow.keras.layers import GlobalAveragePooling2D\n",
        "from tensorflow.keras.applications.resnet50 import ResNet50\n",
        "from tensorflow.keras.callbacks import ModelCheckpoint,ReduceLROnPlateau\n",
        "import tensorflow as tf"
      ],
      "execution_count": 0,
      "outputs": []
    },
    {
      "cell_type": "code",
      "metadata": {
        "id": "TROCpFHEY_hG",
        "colab_type": "code",
        "outputId": "35512f80-899a-4d10-de44-9141ded0737a",
        "colab": {
          "base_uri": "https://localhost:8080/",
          "height": 70
        }
      },
      "source": [
        "import efficientnet.tfkeras as efn\n",
        "model =efn.EfficientNetB4(weights = 'imagenet', include_top=False, input_shape = (img_shape,img_shape,3))\n"
      ],
      "execution_count": 0,
      "outputs": [
        {
          "output_type": "stream",
          "text": [
            "Downloading data from https://github.com/Callidior/keras-applications/releases/download/efficientnet/efficientnet-b4_weights_tf_dim_ordering_tf_kernels_autoaugment_notop.h5\n",
            "71892992/71892840 [==============================] - 3s 0us/step\n"
          ],
          "name": "stdout"
        }
      ]
    },
    {
      "cell_type": "code",
      "metadata": {
        "id": "bH-iijlsYv6Z",
        "colab_type": "code",
        "colab": {}
      },
      "source": [
        "x = model.output\n",
        "x = GlobalAveragePooling2D()(x)\n",
        "x = Dense(128, activation=\"relu\")(x)\n",
        "x = Dense(64, activation=\"relu\")(x)\n",
        "predictions = Dense(5, activation=\"softmax\")(x)"
      ],
      "execution_count": 0,
      "outputs": []
    },
    {
      "cell_type": "code",
      "metadata": {
        "id": "wHi6QjGpZTZa",
        "colab_type": "code",
        "colab": {}
      },
      "source": [
        "model = Model(inputs=model.input, outputs=predictions)"
      ],
      "execution_count": 0,
      "outputs": []
    },
    {
      "cell_type": "code",
      "metadata": {
        "id": "-EiFHYX6ZVAs",
        "colab_type": "code",
        "colab": {}
      },
      "source": [
        "def custom_loss(y_true, y_pred):\n",
        "    return tf.keras.losses.categorical_crossentropy(y_true, y_pred, label_smoothing=0.1)"
      ],
      "execution_count": 0,
      "outputs": []
    },
    {
      "cell_type": "code",
      "metadata": {
        "id": "6ILUJUKTaLpY",
        "colab_type": "code",
        "colab": {}
      },
      "source": [
        "model.compile(optimizer='adam', loss=custom_loss, metrics=['accuracy'])"
      ],
      "execution_count": 0,
      "outputs": []
    },
    {
      "cell_type": "code",
      "metadata": {
        "id": "XGM8_mVLZY8a",
        "colab_type": "code",
        "outputId": "ababa5f9-91fb-4464-cce9-3eebb4cc44f2",
        "colab": {
          "base_uri": "https://localhost:8080/",
          "height": 371
        }
      },
      "source": [
        "results = model.fit(train_generator,epochs=10,\n",
        "                              steps_per_epoch=train_generator.n/batch_size,\n",
        "                              validation_data=val_generator,\n",
        "                             validation_steps=val_generator.n/batch_size,\n",
        "                              callbacks=[ReduceLROnPlateau(monitor='val_loss', factor=0.3,patience=3, min_lr=0.000001)])"
      ],
      "execution_count": 0,
      "outputs": [
        {
          "output_type": "stream",
          "text": [
            "Epoch 1/10\n",
            "31/30 [==============================] - 24s 767ms/step - loss: 1.0140 - accuracy: 0.7122 - val_loss: 1.2439 - val_accuracy: 0.5210 - lr: 0.0010\n",
            "Epoch 2/10\n",
            "31/30 [==============================] - 21s 677ms/step - loss: 0.7134 - accuracy: 0.8673 - val_loss: 1.1497 - val_accuracy: 0.6303 - lr: 0.0010\n",
            "Epoch 3/10\n",
            "31/30 [==============================] - 21s 678ms/step - loss: 0.6225 - accuracy: 0.9000 - val_loss: 1.6805 - val_accuracy: 0.4874 - lr: 0.0010\n",
            "Epoch 4/10\n",
            "31/30 [==============================] - 21s 681ms/step - loss: 0.6050 - accuracy: 0.9020 - val_loss: 1.0457 - val_accuracy: 0.5714 - lr: 0.0010\n",
            "Epoch 5/10\n",
            "31/30 [==============================] - 21s 672ms/step - loss: 0.5792 - accuracy: 0.9163 - val_loss: 1.0041 - val_accuracy: 0.7983 - lr: 0.0010\n",
            "Epoch 6/10\n",
            "31/30 [==============================] - 21s 669ms/step - loss: 0.6209 - accuracy: 0.8980 - val_loss: 0.9795 - val_accuracy: 0.6723 - lr: 0.0010\n",
            "Epoch 7/10\n",
            "31/30 [==============================] - 21s 677ms/step - loss: 0.5435 - accuracy: 0.9286 - val_loss: 1.1325 - val_accuracy: 0.7227 - lr: 0.0010\n",
            "Epoch 8/10\n",
            "31/30 [==============================] - 22s 696ms/step - loss: 0.6101 - accuracy: 0.9061 - val_loss: 0.7341 - val_accuracy: 0.8739 - lr: 0.0010\n",
            "Epoch 9/10\n",
            "31/30 [==============================] - 21s 690ms/step - loss: 0.5422 - accuracy: 0.9306 - val_loss: 0.7193 - val_accuracy: 0.8487 - lr: 0.0010\n",
            "Epoch 10/10\n",
            "31/30 [==============================] - 22s 703ms/step - loss: 0.5460 - accuracy: 0.9388 - val_loss: 0.8085 - val_accuracy: 0.8403 - lr: 0.0010\n"
          ],
          "name": "stdout"
        }
      ]
    },
    {
      "cell_type": "code",
      "metadata": {
        "id": "1wwHnZWzchDE",
        "colab_type": "code",
        "outputId": "867ad45b-6304-4861-bcf5-7d25ccf10891",
        "colab": {
          "base_uri": "https://localhost:8080/",
          "height": 295
        }
      },
      "source": [
        "import matplotlib.pyplot as plt\n",
        "\n",
        "plt.plot(results.history['loss'])\n",
        "plt.plot(results.history['val_loss'])\n",
        "plt.title('model loss')\n",
        "plt.ylabel('loss')\n",
        "plt.xlabel('epoch')\n",
        "plt.legend(['train', 'test'], loc='upper left')\n",
        "plt.show()"
      ],
      "execution_count": 0,
      "outputs": [
        {
          "output_type": "display_data",
          "data": {
            "image/png": "[encoded data removed]",
            "text/plain": [
              "<Figure size 432x288 with 1 Axes>"
            ]
          },
          "metadata": {
            "tags": []
          }
        }
      ]
    },
    {
      "cell_type": "code",
      "metadata": {
        "id": "XBNK5gduAiIs",
        "colab_type": "code",
        "outputId": "278d8b9c-4cc4-420d-c5cd-8091f0ea19f6",
        "colab": {
          "base_uri": "https://localhost:8080/",
          "height": 50
        }
      },
      "source": [
        "model.evaluate(val_generator,steps=val_generator.n//batch_size)"
      ],
      "execution_count": 0,
      "outputs": [
        {
          "output_type": "stream",
          "text": [
            "7/7 [==============================] - 2s 344ms/step - loss: 0.7211 - accuracy: 0.8738\n"
          ],
          "name": "stdout"
        },
        {
          "output_type": "execute_result",
          "data": {
            "text/plain": [
              "[0.7210829854011536, 0.8737863898277283]"
            ]
          },
          "metadata": {
            "tags": []
          },
          "execution_count": 19
        }
      ]
    },
    {
      "cell_type": "code",
      "metadata": {
        "id": "3W31Zr5BBq3n",
        "colab_type": "code",
        "outputId": "6dcc909e-07f6-4b40-9c7f-dc0b82fdf38e",
        "colab": {
          "base_uri": "https://localhost:8080/",
          "height": 50
        }
      },
      "source": [
        "val_generator.reset()\n",
        "model.evaluate(val_generator,steps=val_generator.n//batch_size)"
      ],
      "execution_count": 0,
      "outputs": [
        {
          "output_type": "stream",
          "text": [
            "7/7 [==============================] - 3s 370ms/step - loss: 0.7691 - accuracy: 0.8661\n"
          ],
          "name": "stdout"
        },
        {
          "output_type": "execute_result",
          "data": {
            "text/plain": [
              "[0.7691188454627991, 0.8660714030265808]"
            ]
          },
          "metadata": {
            "tags": []
          },
          "execution_count": 20
        }
      ]
    },
    {
      "cell_type": "code",
      "metadata": {
        "id": "G_ZFYgc4zUBy",
        "colab_type": "code",
        "outputId": "039138bf-5ad9-4d47-9a5f-243f1827a071",
        "colab": {
          "base_uri": "https://localhost:8080/",
          "height": 33
        }
      },
      "source": [
        "val_generator.reset()\n",
        "y_pred=model.predict(val_generator,steps=val_generator.n/batch_size,verbose=1)"
      ],
      "execution_count": 0,
      "outputs": [
        {
          "output_type": "stream",
          "text": [
            "8/7 [================================] - 3s 340ms/step\n"
          ],
          "name": "stdout"
        }
      ]
    },
    {
      "cell_type": "code",
      "metadata": {
        "id": "XPbPFn7fDfFR",
        "colab_type": "code",
        "colab": {}
      },
      "source": [
        "if val_suffle==True:\n",
        "  per = np.random.permutation(val_generator.n)\n",
        "  val_generator.index_array = per\n",
        "  y_true = val_generator.classes[per]\n",
        "else: \n",
        "  y_true = val_generator.classes"
      ],
      "execution_count": 0,
      "outputs": []
    },
    {
      "cell_type": "code",
      "metadata": {
        "id": "MHU7_JsVB0jH",
        "colab_type": "code",
        "colab": {}
      },
      "source": [
        "y_pred=np.argmax(y_pred, axis=1)"
      ],
      "execution_count": 0,
      "outputs": []
    },
    {
      "cell_type": "code",
      "metadata": {
        "id": "4wpcSCSWEGnh",
        "colab_type": "code",
        "outputId": "654d4f33-69b3-4fbd-933a-2bf6a45fd03d",
        "colab": {
          "base_uri": "https://localhost:8080/",
          "height": 33
        }
      },
      "source": [
        "y_pred.shape,y_true.shape"
      ],
      "execution_count": 0,
      "outputs": [
        {
          "output_type": "execute_result",
          "data": {
            "text/plain": [
              "((119,), (119,))"
            ]
          },
          "metadata": {
            "tags": []
          },
          "execution_count": 27
        }
      ]
    },
    {
      "cell_type": "code",
      "metadata": {
        "id": "XpYXUzgyZf4g",
        "colab_type": "code",
        "outputId": "a38f33f4-0924-4147-c44c-5680d4b5f156",
        "colab": {
          "base_uri": "https://localhost:8080/",
          "height": 50
        }
      },
      "source": [
        "from sklearn.metrics import classification_report,accuracy_score,f1_score\n",
        "print(accuracy_score(y_true,y_pred))\n",
        "print(f1_score(y_true,y_pred,average='macro'))"
      ],
      "execution_count": 0,
      "outputs": [
        {
          "output_type": "stream",
          "text": [
            "0.8319327731092437\n",
            "0.8508798447928883\n"
          ],
          "name": "stdout"
        }
      ]
    },
    {
      "cell_type": "code",
      "metadata": {
        "id": "486dBdG0YqEV",
        "colab_type": "code",
        "outputId": "c1e94a83-1e7e-4e15-aae7-dc920031bc32",
        "colab": {
          "base_uri": "https://localhost:8080/",
          "height": 217
        }
      },
      "source": [
        "class_label=list(train_generator.class_indices.keys())\n",
        "print(classification_report(y_true, y_pred,target_names=class_label))#"
      ],
      "execution_count": 0,
      "outputs": [
        {
          "output_type": "stream",
          "text": [
            "              precision    recall  f1-score   support\n",
            "\n",
            "  Black spot       0.83      0.85      0.84        34\n",
            "    Melanose       1.00      1.00      1.00         2\n",
            "      canker       0.91      0.66      0.76        32\n",
            "    greening       0.84      0.93      0.88        40\n",
            "     healthy       0.67      0.91      0.77        11\n",
            "\n",
            "    accuracy                           0.83       119\n",
            "   macro avg       0.85      0.87      0.85       119\n",
            "weighted avg       0.84      0.83      0.83       119\n",
            "\n"
          ],
          "name": "stdout"
        }
      ]
    },
    {
      "cell_type": "markdown",
      "metadata": {
        "id": "QL5qbrpibgGU",
        "colab_type": "text"
      },
      "source": [
        "# Similar task transfer learning"
      ]
    },
    {
      "cell_type": "code",
      "metadata": {
        "id": "1M1etbC6blfK",
        "colab_type": "code",
        "outputId": "96b49fc7-31ff-4e9f-bc3d-42b8b34718d0",
        "colab": {
          "base_uri": "https://localhost:8080/",
          "height": 137
        }
      },
      "source": [
        "!wget  https://www.kaggleusercontent.com/kf/30290935/eyJhbGciOiJkaXIiLCJlbmMiOiJBMTI4Q0JDLUhTMjU2In0..CnWcjMaHIojIoLiToJ_z7g.bMyUQKLh7SxAiQmdnnw0jwD7w2PMmLCyhOH-WLGGXEYW32-YOFcM_AUBS1QE-4n93CKGY6Fp6jhepmmAAsm36j2faNBiHi0dwgC5WBcEziy0ztZ1Elg_1Bq960LfUu-Gpnp6eCkEJfcaYkHXT4-ORxWX-ImEwkez8EXqpBo85cJxPrnBXvkJ-RAY_2wZCU2uG0LAxROMP7MpeGlVPsniDunU6lgr5fpyCUfSZE7oPDAYIAqpozYg6EMYvWvBeBrwxQlgdx6UOHPus1h_LBJuZy0-Cb188nw1pPHui7fbPvi7TJshclfGKRCpJiajwLmwlfXhojYJZc41AWOHBPjdlgvgwQ24oWPIS4ybodmXc9kpEUCIw6Z3sAT05Kvm6r4rpJRKcVIQ9Mek7RY3Nrmg36uGBCkUNkd97zf4lRB1ESzpLTPI7CAoBA0MYoMDyh4BJRiXnJs5wWDIthm6J7KD_NKQbseIM59IrdU1sLIj0UAOSxn1LOolAoRf0gqVQwBoUKieIlQHGHJGkiZKfBf2QDE2YBIx-AVdcsFIPccHTqM46NcZyW7xfPNx9aoHB4mf9acU4f20MOzTxAdK3jqDR1UX7-P5ccU2kG_Odeei56sALVg9CQYa3D4XU5ttSbinlnDHwz7wlQUfitIErOqPn2ei4WwFWj8hYQjSkWrzdMU.Hy6STI12LR25Uf4WE3ZQFg/model.h5"
      ],
      "execution_count": 33,
      "outputs": [
        {
          "output_type": "stream",
          "text": [
            "--2020-03-30 11:12:34--  https://www.kaggleusercontent.com/kf/30290935/eyJhbGciOiJkaXIiLCJlbmMiOiJBMTI4Q0JDLUhTMjU2In0..CnWcjMaHIojIoLiToJ_z7g.bMyUQKLh7SxAiQmdnnw0jwD7w2PMmLCyhOH-WLGGXEYW32-YOFcM_AUBS1QE-4n93CKGY6Fp6jhepmmAAsm36j2faNBiHi0dwgC5WBcEziy0ztZ1Elg_1Bq960LfUu-Gpnp6eCkEJfcaYkHXT4-ORxWX-ImEwkez8EXqpBo85cJxPrnBXvkJ-RAY_2wZCU2uG0LAxROMP7MpeGlVPsniDunU6lgr5fpyCUfSZE7oPDAYIAqpozYg6EMYvWvBeBrwxQlgdx6UOHPus1h_LBJuZy0-Cb188nw1pPHui7fbPvi7TJshclfGKRCpJiajwLmwlfXhojYJZc41AWOHBPjdlgvgwQ24oWPIS4ybodmXc9kpEUCIw6Z3sAT05Kvm6r4rpJRKcVIQ9Mek7RY3Nrmg36uGBCkUNkd97zf4lRB1ESzpLTPI7CAoBA0MYoMDyh4BJRiXnJs5wWDIthm6J7KD_NKQbseIM59IrdU1sLIj0UAOSxn1LOolAoRf0gqVQwBoUKieIlQHGHJGkiZKfBf2QDE2YBIx-AVdcsFIPccHTqM46NcZyW7xfPNx9aoHB4mf9acU4f20MOzTxAdK3jqDR1UX7-P5ccU2kG_Odeei56sALVg9CQYa3D4XU5ttSbinlnDHwz7wlQUfitIErOqPn2ei4WwFWj8hYQjSkWrzdMU.Hy6STI12LR25Uf4WE3ZQFg/model.h5\n",
            "Resolving www.kaggleusercontent.com (www.kaggleusercontent.com)... 35.190.26.106\n",
            "Connecting to www.kaggleusercontent.com (www.kaggleusercontent.com)|35.190.26.106|:443... connected.\n",
            "HTTP request sent, awaiting response... 403 Forbidden\n",
            "2020-03-30 11:12:34 ERROR 403: Forbidden.\n",
            "\n"
          ],
          "name": "stdout"
        }
      ]
    },
    {
      "cell_type": "code",
      "metadata": {
        "id": "rOY0IT-ncmbg",
        "colab_type": "code",
        "colab": {}
      },
      "source": [
        "transfer_model =efn.EfficientNetB4(weights = None, include_top=False, input_shape = (img_shape,img_shape,3))\n",
        "x1 = transfer_model.output\n",
        "print(x1.shape)\n",
        "x1 = GlobalAveragePooling2D()(x1)\n",
        "x1 = Dense(128, activation=\"relu\")(x1)\n",
        "x1 = Dense(64, activation=\"relu\")(x1)\n",
        "transfer_predictions = Dense(4, activation=\"softmax\")(x1)\n",
        "transfer_model = Model(inputs=transfer_model.input, outputs=transfer_predictions)\n",
        "transfer_model.load_weights('model.h5')"
      ],
      "execution_count": 0,
      "outputs": []
    },
    {
      "cell_type": "code",
      "metadata": {
        "id": "69Cg09MsqRjE",
        "colab_type": "code",
        "colab": {}
      },
      "source": [
        "\n",
        "for layer in transfer_model.layers[:-4]:\n",
        "    layer.trainable = False\n"
      ],
      "execution_count": 0,
      "outputs": []
    },
    {
      "cell_type": "code",
      "metadata": {
        "id": "ncYOBatYoKWy",
        "colab_type": "code",
        "colab": {}
      },
      "source": [
        "transfer_model2 = Model(transfer_model.input, transfer_model.layers[-5].output)\n",
        "x1 = transfer_model2.output\n",
        "print(x1.shape)\n",
        "x1 = GlobalAveragePooling2D()(x1)\n",
        "x1 = Dense(128, activation=\"relu\")(x1)\n",
        "x1 = Dense(64, activation=\"relu\")(x1)\n",
        "transfer_predictions = Dense(5, activation=\"softmax\")(x1)\n",
        "transfer_model2 = Model(inputs=transfer_model2.input, outputs=transfer_predictions)\n"
      ],
      "execution_count": 0,
      "outputs": []
    },
    {
      "cell_type": "code",
      "metadata": {
        "id": "8aBINlyk6Nxk",
        "colab_type": "code",
        "colab": {}
      },
      "source": [
        "\n",
        "for layer in transfer_model2.layers[:-4]:\n",
        "    layer.trainable = False\n"
      ],
      "execution_count": 0,
      "outputs": []
    },
    {
      "cell_type": "code",
      "metadata": {
        "id": "CzH8HCBwemPj",
        "colab_type": "code",
        "colab": {}
      },
      "source": [
        "transfer_model2.compile(optimizer='adam', loss=custom_loss, metrics=['accuracy'])"
      ],
      "execution_count": 0,
      "outputs": []
    },
    {
      "cell_type": "code",
      "metadata": {
        "id": "rpkwcyUQeP0O",
        "colab_type": "code",
        "colab": {}
      },
      "source": [
        "results = transfer_model2.fit_generator(train_generator,epochs=15,\n",
        "                              steps_per_epoch=train_generator.n/batch_size,\n",
        "                              validation_data=val_generator,\n",
        "                             validation_steps=val_generator.n/batch_size,\n",
        "                              callbacks=[ReduceLROnPlateau(monitor='val_loss', factor=0.3,patience=3, min_lr=0.000001)])"
      ],
      "execution_count": 0,
      "outputs": []
    },
    {
      "cell_type": "code",
      "metadata": {
        "id": "5nYbst1kd5av",
        "colab_type": "code",
        "colab": {}
      },
      "source": [
        ""
      ],
      "execution_count": 0,
      "outputs": []
    }
  ]
}