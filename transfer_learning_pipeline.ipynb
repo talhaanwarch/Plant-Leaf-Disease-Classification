{
  "nbformat": 4,
  "nbformat_minor": 0,
  "metadata": {
    "colab": {
      "name": "transfer learning pipeline.ipynb",
      "provenance": [],
      "authorship_tag": "ABX9TyNVWHaE0Hhti2FSgZc0cnkD",
      "include_colab_link": true
    },
    "kernelspec": {
      "name": "python3",
      "display_name": "Python 3"
    },
    "accelerator": "GPU"
  },
  "cells": [
    {
      "cell_type": "markdown",
      "metadata": {
        "id": "view-in-github",
        "colab_type": "text"
      },
      "source": [
        "<a href=\"https://colab.research.google.com/github/talhaanwarch/Plant-Leaf-Disease-Classification/blob/master/transfer_learning_pipeline.ipynb\" target=\"_parent\"><img src=\"https://colab.research.google.com/assets/colab-badge.svg\" alt=\"Open In Colab\"/></a>"
      ]
    },
    {
      "cell_type": "markdown",
      "metadata": {
        "id": "xRWmuf4YMBuD",
        "colab_type": "text"
      },
      "source": [
        "### download data"
      ]
    },
    {
      "cell_type": "code",
      "metadata": {
        "id": "TZadifFOl5kk",
        "colab_type": "code",
        "outputId": "86b74c58-51df-4e9d-81b3-4db1f52f8526",
        "colab": {
          "base_uri": "https://localhost:8080/",
          "height": 120
        }
      },
      "source": [
        "from google.colab import drive\n",
        "drive.mount('/content/drive')"
      ],
      "execution_count": 0,
      "outputs": [
        {
          "output_type": "stream",
          "text": [
            "Go to this URL in a browser: https://accounts.google.com/o/oauth2/auth?client_id=947318989803-6bn6qk8qdgf4n4g3pfee6491hc0brc4i.apps.googleusercontent.com&redirect_uri=urn%3aietf%3awg%3aoauth%3a2.0%3aoob&response_type=code&scope=email%20https%3a%2f%2fwww.googleapis.com%2fauth%2fdocs.test%20https%3a%2f%2fwww.googleapis.com%2fauth%2fdrive%20https%3a%2f%2fwww.googleapis.com%2fauth%2fdrive.photos.readonly%20https%3a%2f%2fwww.googleapis.com%2fauth%2fpeopleapi.readonly\n",
            "\n",
            "Enter your authorization code:\n",
            "··········\n",
            "Mounted at /content/drive\n"
          ],
          "name": "stdout"
        }
      ]
    },
    {
      "cell_type": "code",
      "metadata": {
        "id": "-gDgFJrtX3fI",
        "colab_type": "code",
        "outputId": "4c07daac-0700-44ae-9010-d376a454cf57",
        "colab": {
          "base_uri": "https://localhost:8080/",
          "height": 284
        }
      },
      "source": [
        "!wget https://data.mendeley.com/datasets/3f83gxmv57/2/files/53398b67-6f0e-4a67-8384-e2b574b2ebf4/Citrus.zip"
      ],
      "execution_count": 0,
      "outputs": [
        {
          "output_type": "stream",
          "text": [
            "--2020-03-30 15:03:19--  https://data.mendeley.com/datasets/3f83gxmv57/2/files/53398b67-6f0e-4a67-8384-e2b574b2ebf4/Citrus.zip\n",
            "Resolving data.mendeley.com (data.mendeley.com)... 162.159.133.86, 162.159.130.86, 2606:4700:7::a29f:8256, ...\n",
            "Connecting to data.mendeley.com (data.mendeley.com)|162.159.133.86|:443... connected.\n",
            "HTTP request sent, awaiting response... 302 Found\n",
            "Location: https://md-datasets-public-files-prod.s3.eu-west-1.amazonaws.com/ad404a4d-cedf-4830-8a11-0fc204ce8acb [following]\n",
            "--2020-03-30 15:03:20--  https://md-datasets-public-files-prod.s3.eu-west-1.amazonaws.com/ad404a4d-cedf-4830-8a11-0fc204ce8acb\n",
            "Resolving md-datasets-public-files-prod.s3.eu-west-1.amazonaws.com (md-datasets-public-files-prod.s3.eu-west-1.amazonaws.com)... 52.218.106.152\n",
            "Connecting to md-datasets-public-files-prod.s3.eu-west-1.amazonaws.com (md-datasets-public-files-prod.s3.eu-west-1.amazonaws.com)|52.218.106.152|:443... connected.\n",
            "HTTP request sent, awaiting response... 200 OK\n",
            "Length: 66977095 (64M) [application/x-zip-compressed]\n",
            "Saving to: ‘Citrus.zip’\n",
            "\n",
            "Citrus.zip          100%[===================>]  63.87M   109MB/s    in 0.6s    \n",
            "\n",
            "2020-03-30 15:03:21 (109 MB/s) - ‘Citrus.zip’ saved [66977095/66977095]\n",
            "\n"
          ],
          "name": "stdout"
        }
      ]
    },
    {
      "cell_type": "markdown",
      "metadata": {
        "id": "wMtXcWESMF4u",
        "colab_type": "text"
      },
      "source": [
        "### install efficinetnet model"
      ]
    },
    {
      "cell_type": "code",
      "metadata": {
        "id": "4P2KNYuSYQXv",
        "colab_type": "code",
        "outputId": "784bd49d-3c72-448d-e7eb-8455ef820ba2",
        "colab": {
          "base_uri": "https://localhost:8080/",
          "height": 388
        }
      },
      "source": [
        "!pip install efficientnet"
      ],
      "execution_count": 0,
      "outputs": [
        {
          "output_type": "stream",
          "text": [
            "Collecting efficientnet\n",
            "  Downloading https://files.pythonhosted.org/packages/28/91/67848a143b54c331605bfba5fd31cf4e9db13d2e429d103fe807acc3bcf4/efficientnet-1.1.0-py3-none-any.whl\n",
            "Requirement already satisfied: keras-applications<=1.0.8,>=1.0.7 in /usr/local/lib/python3.6/dist-packages (from efficientnet) (1.0.8)\n",
            "Requirement already satisfied: scikit-image in /usr/local/lib/python3.6/dist-packages (from efficientnet) (0.16.2)\n",
            "Requirement already satisfied: h5py in /usr/local/lib/python3.6/dist-packages (from keras-applications<=1.0.8,>=1.0.7->efficientnet) (2.10.0)\n",
            "Requirement already satisfied: numpy>=1.9.1 in /usr/local/lib/python3.6/dist-packages (from keras-applications<=1.0.8,>=1.0.7->efficientnet) (1.18.2)\n",
            "Requirement already satisfied: matplotlib!=3.0.0,>=2.0.0 in /usr/local/lib/python3.6/dist-packages (from scikit-image->efficientnet) (3.2.1)\n",
            "Requirement already satisfied: pillow>=4.3.0 in /usr/local/lib/python3.6/dist-packages (from scikit-image->efficientnet) (7.0.0)\n",
            "Requirement already satisfied: scipy>=0.19.0 in /usr/local/lib/python3.6/dist-packages (from scikit-image->efficientnet) (1.4.1)\n",
            "Requirement already satisfied: imageio>=2.3.0 in /usr/local/lib/python3.6/dist-packages (from scikit-image->efficientnet) (2.4.1)\n",
            "Requirement already satisfied: PyWavelets>=0.4.0 in /usr/local/lib/python3.6/dist-packages (from scikit-image->efficientnet) (1.1.1)\n",
            "Requirement already satisfied: networkx>=2.0 in /usr/local/lib/python3.6/dist-packages (from scikit-image->efficientnet) (2.4)\n",
            "Requirement already satisfied: six in /usr/local/lib/python3.6/dist-packages (from h5py->keras-applications<=1.0.8,>=1.0.7->efficientnet) (1.12.0)\n",
            "Requirement already satisfied: cycler>=0.10 in /usr/local/lib/python3.6/dist-packages (from matplotlib!=3.0.0,>=2.0.0->scikit-image->efficientnet) (0.10.0)\n",
            "Requirement already satisfied: kiwisolver>=1.0.1 in /usr/local/lib/python3.6/dist-packages (from matplotlib!=3.0.0,>=2.0.0->scikit-image->efficientnet) (1.1.0)\n",
            "Requirement already satisfied: python-dateutil>=2.1 in /usr/local/lib/python3.6/dist-packages (from matplotlib!=3.0.0,>=2.0.0->scikit-image->efficientnet) (2.8.1)\n",
            "Requirement already satisfied: pyparsing!=2.0.4,!=2.1.2,!=2.1.6,>=2.0.1 in /usr/local/lib/python3.6/dist-packages (from matplotlib!=3.0.0,>=2.0.0->scikit-image->efficientnet) (2.4.6)\n",
            "Requirement already satisfied: decorator>=4.3.0 in /usr/local/lib/python3.6/dist-packages (from networkx>=2.0->scikit-image->efficientnet) (4.4.2)\n",
            "Requirement already satisfied: setuptools in /usr/local/lib/python3.6/dist-packages (from kiwisolver>=1.0.1->matplotlib!=3.0.0,>=2.0.0->scikit-image->efficientnet) (46.0.0)\n",
            "Installing collected packages: efficientnet\n",
            "Successfully installed efficientnet-1.1.0\n"
          ],
          "name": "stdout"
        }
      ]
    },
    {
      "cell_type": "markdown",
      "metadata": {
        "id": "T-6uWVJNMKAT",
        "colab_type": "text"
      },
      "source": [
        "### unzip donwloaded dataset"
      ]
    },
    {
      "cell_type": "code",
      "metadata": {
        "id": "B6jS6iFbYA_f",
        "colab_type": "code",
        "outputId": "4e49af88-2f28-477f-f1d4-a9aad5e45a41",
        "colab": {
          "base_uri": "https://localhost:8080/",
          "height": 1000
        }
      },
      "source": [
        "!unzip /content/Citrus.zip"
      ],
      "execution_count": 0,
      "outputs": [
        {
          "output_type": "stream",
          "text": [
            "Archive:  /content/Citrus.zip\n",
            "   creating: Citrus/\n",
            "   creating: Citrus/Fruits/\n",
            "   creating: Citrus/Fruits/Black spot/\n",
            "  inflating: Citrus/Fruits/Black spot/Black spot (1).jpg  \n",
            "  inflating: Citrus/Fruits/Black spot/Black spot (10).jpg  \n",
            "  inflating: Citrus/Fruits/Black spot/Black spot (11).jpg  \n",
            "  inflating: Citrus/Fruits/Black spot/Black spot (12).jpg  \n",
            "  inflating: Citrus/Fruits/Black spot/Black spot (13).jpg  \n",
            "  inflating: Citrus/Fruits/Black spot/Black spot (14).jpg  \n",
            "  inflating: Citrus/Fruits/Black spot/Black spot (15).jpg  \n",
            "  inflating: Citrus/Fruits/Black spot/Black spot (16).jpg  \n",
            "  inflating: Citrus/Fruits/Black spot/Black spot (17).jpg  \n",
            "  inflating: Citrus/Fruits/Black spot/Black spot (18).jpg  \n",
            "  inflating: Citrus/Fruits/Black spot/Black spot (19).jpg  \n",
            "  inflating: Citrus/Fruits/Black spot/Black spot (2).jpg  \n",
            "  inflating: Citrus/Fruits/Black spot/Black spot (3).jpg  \n",
            "  inflating: Citrus/Fruits/Black spot/Black spot (4).jpg  \n",
            "  inflating: Citrus/Fruits/Black spot/Black spot (5).jpg  \n",
            "  inflating: Citrus/Fruits/Black spot/Black spot (6).jpg  \n",
            "  inflating: Citrus/Fruits/Black spot/Black spot (7).jpg  \n",
            "  inflating: Citrus/Fruits/Black spot/Black spot (8).jpg  \n",
            "  inflating: Citrus/Fruits/Black spot/Black spot (9).jpg  \n",
            "   creating: Citrus/Fruits/Canker/\n",
            "  inflating: Citrus/Fruits/Canker/Canker (1).jpg  \n",
            "  inflating: Citrus/Fruits/Canker/Canker (100).jpg  \n",
            "  inflating: Citrus/Fruits/Canker/Canker (101).jpg  \n",
            "  inflating: Citrus/Fruits/Canker/Canker (102).jpg  \n",
            "  inflating: Citrus/Fruits/Canker/Canker (103).jpg  \n",
            "  inflating: Citrus/Fruits/Canker/Canker (104).jpg  \n",
            "  inflating: Citrus/Fruits/Canker/Canker (105).jpg  \n",
            "  inflating: Citrus/Fruits/Canker/Canker (106).jpg  \n",
            "  inflating: Citrus/Fruits/Canker/Canker (107).jpg  \n",
            "  inflating: Citrus/Fruits/Canker/Canker (108).jpg  \n",
            "  inflating: Citrus/Fruits/Canker/Canker (109).jpg  \n",
            "  inflating: Citrus/Fruits/Canker/Canker (110).jpg  \n",
            "  inflating: Citrus/Fruits/Canker/Canker (111).jpg  \n",
            "  inflating: Citrus/Fruits/Canker/Canker (112).jpg  \n",
            "  inflating: Citrus/Fruits/Canker/Canker (113).jpg  \n",
            "  inflating: Citrus/Fruits/Canker/Canker (114).jpg  \n",
            "  inflating: Citrus/Fruits/Canker/Canker (115).jpg  \n",
            "  inflating: Citrus/Fruits/Canker/Canker (116).jpg  \n",
            "  inflating: Citrus/Fruits/Canker/Canker (117).jpg  \n",
            "  inflating: Citrus/Fruits/Canker/Canker (118).jpg  \n",
            "  inflating: Citrus/Fruits/Canker/Canker (119).jpg  \n",
            "  inflating: Citrus/Fruits/Canker/Canker (120).jpg  \n",
            "  inflating: Citrus/Fruits/Canker/Canker (121).jpg  \n",
            "  inflating: Citrus/Fruits/Canker/Canker (122).jpg  \n",
            "  inflating: Citrus/Fruits/Canker/Canker (123).jpg  \n",
            "  inflating: Citrus/Fruits/Canker/Canker (124).jpg  \n",
            "  inflating: Citrus/Fruits/Canker/Canker (125).jpg  \n",
            "  inflating: Citrus/Fruits/Canker/Canker (49).jpg  \n",
            "  inflating: Citrus/Fruits/Canker/Canker (50).jpg  \n",
            "  inflating: Citrus/Fruits/Canker/Canker (51).jpg  \n",
            "  inflating: Citrus/Fruits/Canker/Canker (52).jpg  \n",
            "  inflating: Citrus/Fruits/Canker/Canker (53).jpg  \n",
            "  inflating: Citrus/Fruits/Canker/Canker (54).jpg  \n",
            "  inflating: Citrus/Fruits/Canker/Canker (55).jpg  \n",
            "  inflating: Citrus/Fruits/Canker/Canker (56).jpg  \n",
            "  inflating: Citrus/Fruits/Canker/Canker (57).jpg  \n",
            "  inflating: Citrus/Fruits/Canker/Canker (58).jpg  \n",
            "  inflating: Citrus/Fruits/Canker/Canker (59).jpg  \n",
            "  inflating: Citrus/Fruits/Canker/Canker (60).jpg  \n",
            "  inflating: Citrus/Fruits/Canker/Canker (61).JPG  \n",
            "  inflating: Citrus/Fruits/Canker/Canker (62).jpg  \n",
            "  inflating: Citrus/Fruits/Canker/Canker (63).jpg  \n",
            "  inflating: Citrus/Fruits/Canker/Canker (64).jpg  \n",
            "  inflating: Citrus/Fruits/Canker/Canker (65).jpg  \n",
            "  inflating: Citrus/Fruits/Canker/Canker (66).jpg  \n",
            "  inflating: Citrus/Fruits/Canker/Canker (67).jpg  \n",
            "  inflating: Citrus/Fruits/Canker/Canker (68).jpg  \n",
            "  inflating: Citrus/Fruits/Canker/Canker (69).jpg  \n",
            "  inflating: Citrus/Fruits/Canker/Canker (70).jpg  \n",
            "  inflating: Citrus/Fruits/Canker/Canker (71).jpg  \n",
            "  inflating: Citrus/Fruits/Canker/Canker (72).jpg  \n",
            "  inflating: Citrus/Fruits/Canker/Canker (73).jpg  \n",
            "  inflating: Citrus/Fruits/Canker/Canker (74).jpg  \n",
            "  inflating: Citrus/Fruits/Canker/Canker (75).jpg  \n",
            "  inflating: Citrus/Fruits/Canker/Canker (76).jpg  \n",
            "  inflating: Citrus/Fruits/Canker/Canker (77).jpg  \n",
            "  inflating: Citrus/Fruits/Canker/Canker (78).jpg  \n",
            "  inflating: Citrus/Fruits/Canker/Canker (79).jpg  \n",
            "  inflating: Citrus/Fruits/Canker/Canker (80).jpg  \n",
            "  inflating: Citrus/Fruits/Canker/Canker (81).jpg  \n",
            "  inflating: Citrus/Fruits/Canker/Canker (82).jpg  \n",
            "  inflating: Citrus/Fruits/Canker/Canker (83).jpg  \n",
            "  inflating: Citrus/Fruits/Canker/Canker (84).jpg  \n",
            "  inflating: Citrus/Fruits/Canker/Canker (85).jpg  \n",
            "  inflating: Citrus/Fruits/Canker/Canker (86).jpg  \n",
            "  inflating: Citrus/Fruits/Canker/Canker (87).jpg  \n",
            "  inflating: Citrus/Fruits/Canker/Canker (88).jpg  \n",
            "  inflating: Citrus/Fruits/Canker/Canker (89).jpg  \n",
            "  inflating: Citrus/Fruits/Canker/Canker (90).jpg  \n",
            "  inflating: Citrus/Fruits/Canker/Canker (91).jpg  \n",
            "  inflating: Citrus/Fruits/Canker/Canker (92).jpg  \n",
            "  inflating: Citrus/Fruits/Canker/Canker (93).jpg  \n",
            "  inflating: Citrus/Fruits/Canker/Canker (94).jpg  \n",
            "  inflating: Citrus/Fruits/Canker/Canker (95).jpg  \n",
            "  inflating: Citrus/Fruits/Canker/Canker (96).jpg  \n",
            "  inflating: Citrus/Fruits/Canker/Canker (97).jpg  \n",
            "  inflating: Citrus/Fruits/Canker/Canker (98).jpg  \n",
            "  inflating: Citrus/Fruits/Canker/Canker (99).jpg  \n",
            "   creating: Citrus/Fruits/Greening/\n",
            "  inflating: Citrus/Fruits/Greening/Greening (1).jpeg  \n",
            "  inflating: Citrus/Fruits/Greening/Greening (1).jpg  \n",
            "  inflating: Citrus/Fruits/Greening/Greening (10).jpg  \n",
            "  inflating: Citrus/Fruits/Greening/Greening (11).jpg  \n",
            "  inflating: Citrus/Fruits/Greening/Greening (12).jpg  \n",
            "  inflating: Citrus/Fruits/Greening/Greening (13).jpg  \n",
            "  inflating: Citrus/Fruits/Greening/Greening (14).jpg  \n",
            "  inflating: Citrus/Fruits/Greening/Greening (15).jpg  \n",
            "  inflating: Citrus/Fruits/Greening/Greening (2).jpg  \n",
            "  inflating: Citrus/Fruits/Greening/Greening (3).jpg  \n",
            "  inflating: Citrus/Fruits/Greening/Greening (4).jpg  \n",
            "  inflating: Citrus/Fruits/Greening/Greening (5).jpg  \n",
            "  inflating: Citrus/Fruits/Greening/Greening (6).jpg  \n",
            "  inflating: Citrus/Fruits/Greening/Greening (7).jpg  \n",
            "  inflating: Citrus/Fruits/Greening/Greening (8).jpg  \n",
            "  inflating: Citrus/Fruits/Greening/Greening (9).jpg  \n",
            "   creating: Citrus/Fruits/healthy/\n",
            "  inflating: Citrus/Fruits/healthy/Healthy (1).jpg  \n",
            "  inflating: Citrus/Fruits/healthy/Healthy (10).jpg  \n",
            "  inflating: Citrus/Fruits/healthy/Healthy (11).jpg  \n",
            "  inflating: Citrus/Fruits/healthy/Healthy (12).jpg  \n",
            "  inflating: Citrus/Fruits/healthy/Healthy (13).jpg  \n",
            "  inflating: Citrus/Fruits/healthy/Healthy (14).jpg  \n",
            "  inflating: Citrus/Fruits/healthy/Healthy (15).jpg  \n",
            "  inflating: Citrus/Fruits/healthy/Healthy (16).jpg  \n",
            "  inflating: Citrus/Fruits/healthy/Healthy (17).jpg  \n",
            "  inflating: Citrus/Fruits/healthy/Healthy (18).jpg  \n",
            "  inflating: Citrus/Fruits/healthy/Healthy (19).jpg  \n",
            "  inflating: Citrus/Fruits/healthy/Healthy (2).jpg  \n",
            "  inflating: Citrus/Fruits/healthy/Healthy (20).jpg  \n",
            "  inflating: Citrus/Fruits/healthy/Healthy (21).jpg  \n",
            "  inflating: Citrus/Fruits/healthy/Healthy (22).jpg  \n",
            "  inflating: Citrus/Fruits/healthy/Healthy (3).jpg  \n",
            "  inflating: Citrus/Fruits/healthy/Healthy (4).jpg  \n",
            "  inflating: Citrus/Fruits/healthy/Healthy (5).jpg  \n",
            "  inflating: Citrus/Fruits/healthy/Healthy (6).jpg  \n",
            "  inflating: Citrus/Fruits/healthy/Healthy (7).jpg  \n",
            "  inflating: Citrus/Fruits/healthy/Healthy (8).jpg  \n",
            "  inflating: Citrus/Fruits/healthy/Healthy (9).jpg  \n",
            "   creating: Citrus/Fruits/Scab/\n",
            "  inflating: Citrus/Fruits/Scab/16Catla.jpg  \n",
            "  inflating: Citrus/Fruits/Scab/170.jpg  \n",
            "  inflating: Citrus/Fruits/Scab/17Catla.jpg  \n",
            "  inflating: Citrus/Fruits/Scab/18Catla.jpg  \n",
            "  inflating: Citrus/Fruits/Scab/51.jpg  \n",
            "  inflating: Citrus/Fruits/Scab/51Catla.jpg  \n",
            "  inflating: Citrus/Fruits/Scab/52.jpg  \n",
            "  inflating: Citrus/Fruits/Scab/52Catla.jpg  \n",
            "  inflating: Citrus/Fruits/Scab/53.jpg  \n",
            "  inflating: Citrus/Fruits/Scab/53Catla.jpg  \n",
            "  inflating: Citrus/Fruits/Scab/54.jpg  \n",
            "  inflating: Citrus/Fruits/Scab/54Catla.jpg  \n",
            "  inflating: Citrus/Fruits/Scab/55.jpg  \n",
            "  inflating: Citrus/Fruits/Scab/55Catla.jpg  \n",
            "  inflating: Citrus/Fruits/Scab/56Catla.jpg  \n",
            "   creating: Citrus/Leaves/\n",
            "   creating: Citrus/Leaves/Black spot/\n",
            "  inflating: Citrus/Leaves/Black spot/74.jpg  \n",
            "  inflating: Citrus/Leaves/Black spot/78.jpg  \n",
            "  inflating: Citrus/Leaves/Black spot/b (11).png  \n",
            "  inflating: Citrus/Leaves/Black spot/b (126).png  \n",
            "  inflating: Citrus/Leaves/Black spot/b (131).png  \n",
            "  inflating: Citrus/Leaves/Black spot/b (134).png  \n",
            "  inflating: Citrus/Leaves/Black spot/b (139).png  \n",
            "  inflating: Citrus/Leaves/Black spot/b (14).png  \n",
            "  inflating: Citrus/Leaves/Black spot/b (140).png  \n",
            "  inflating: Citrus/Leaves/Black spot/b (142).png  \n",
            "  inflating: Citrus/Leaves/Black spot/b (144).png  \n",
            "  inflating: Citrus/Leaves/Black spot/b (145).png  \n",
            "  inflating: Citrus/Leaves/Black spot/b (146).png  \n",
            "  inflating: Citrus/Leaves/Black spot/b (148).png  \n",
            "  inflating: Citrus/Leaves/Black spot/b (150).png  \n",
            "  inflating: Citrus/Leaves/Black spot/b (151).png  \n",
            "  inflating: Citrus/Leaves/Black spot/b (152).png  \n",
            "  inflating: Citrus/Leaves/Black spot/b (154).png  \n",
            "  inflating: Citrus/Leaves/Black spot/b (155).png  \n",
            "  inflating: Citrus/Leaves/Black spot/b (156).png  \n",
            "  inflating: Citrus/Leaves/Black spot/b (157).png  \n",
            "  inflating: Citrus/Leaves/Black spot/b (158).png  \n",
            "  inflating: Citrus/Leaves/Black spot/b (160).png  \n",
            "  inflating: Citrus/Leaves/Black spot/b (161).png  \n",
            "  inflating: Citrus/Leaves/Black spot/b (162).png  \n",
            "  inflating: Citrus/Leaves/Black spot/b (163).png  \n",
            "  inflating: Citrus/Leaves/Black spot/b (164).png  \n",
            "  inflating: Citrus/Leaves/Black spot/b (165).png  \n",
            "  inflating: Citrus/Leaves/Black spot/b (166).png  \n",
            "  inflating: Citrus/Leaves/Black spot/b (167).png  \n",
            "  inflating: Citrus/Leaves/Black spot/b (168).png  \n",
            "  inflating: Citrus/Leaves/Black spot/b (169).png  \n",
            "  inflating: Citrus/Leaves/Black spot/b (170).png  \n",
            "  inflating: Citrus/Leaves/Black spot/b (172).png  \n",
            "  inflating: Citrus/Leaves/Black spot/b (173).png  \n",
            "  inflating: Citrus/Leaves/Black spot/b (174).png  \n",
            "  inflating: Citrus/Leaves/Black spot/b (175).png  \n",
            "  inflating: Citrus/Leaves/Black spot/b (176).png  \n",
            "  inflating: Citrus/Leaves/Black spot/b (177).png  \n",
            "  inflating: Citrus/Leaves/Black spot/b (180).png  \n",
            "  inflating: Citrus/Leaves/Black spot/b (181).png  \n",
            "  inflating: Citrus/Leaves/Black spot/b (182).png  \n",
            "  inflating: Citrus/Leaves/Black spot/b (183).png  \n",
            "  inflating: Citrus/Leaves/Black spot/b (184).png  \n",
            "  inflating: Citrus/Leaves/Black spot/b (185).png  \n",
            "  inflating: Citrus/Leaves/Black spot/b (186).png  \n",
            "  inflating: Citrus/Leaves/Black spot/b (187).png  \n",
            "  inflating: Citrus/Leaves/Black spot/b (188).png  \n",
            "  inflating: Citrus/Leaves/Black spot/b (189).png  \n",
            "  inflating: Citrus/Leaves/Black spot/b (190).png  \n",
            "  inflating: Citrus/Leaves/Black spot/b (191).png  \n",
            "  inflating: Citrus/Leaves/Black spot/b (192).png  \n",
            "  inflating: Citrus/Leaves/Black spot/b (193).png  \n",
            "  inflating: Citrus/Leaves/Black spot/b (194).png  \n",
            "  inflating: Citrus/Leaves/Black spot/b (195).png  \n",
            "  inflating: Citrus/Leaves/Black spot/b (196).png  \n",
            "  inflating: Citrus/Leaves/Black spot/b (197).png  \n",
            "  inflating: Citrus/Leaves/Black spot/b (198).png  \n",
            "  inflating: Citrus/Leaves/Black spot/b (199).png  \n",
            "  inflating: Citrus/Leaves/Black spot/b (2).png  \n",
            "  inflating: Citrus/Leaves/Black spot/b (202).png  \n",
            "  inflating: Citrus/Leaves/Black spot/b (203).png  \n",
            "  inflating: Citrus/Leaves/Black spot/b (205).png  \n",
            "  inflating: Citrus/Leaves/Black spot/b (207).png  \n",
            "  inflating: Citrus/Leaves/Black spot/b (209).png  \n",
            "  inflating: Citrus/Leaves/Black spot/b (21).png  \n",
            "  inflating: Citrus/Leaves/Black spot/b (221).png  \n",
            "  inflating: Citrus/Leaves/Black spot/b (222).png  \n",
            "  inflating: Citrus/Leaves/Black spot/b (223).png  \n",
            "  inflating: Citrus/Leaves/Black spot/b (224).png  \n",
            "  inflating: Citrus/Leaves/Black spot/b (225).png  \n",
            "  inflating: Citrus/Leaves/Black spot/b (226).png  \n",
            "  inflating: Citrus/Leaves/Black spot/b (227).png  \n",
            "  inflating: Citrus/Leaves/Black spot/b (229).png  \n",
            "  inflating: Citrus/Leaves/Black spot/b (23).png  \n",
            "  inflating: Citrus/Leaves/Black spot/b (230).png  \n",
            "  inflating: Citrus/Leaves/Black spot/b (231).png  \n",
            "  inflating: Citrus/Leaves/Black spot/b (232).png  \n",
            "  inflating: Citrus/Leaves/Black spot/b (233).png  \n",
            "  inflating: Citrus/Leaves/Black spot/b (234).png  \n",
            "  inflating: Citrus/Leaves/Black spot/b (236).png  \n",
            "  inflating: Citrus/Leaves/Black spot/b (237).png  \n",
            "  inflating: Citrus/Leaves/Black spot/b (238).png  \n",
            "  inflating: Citrus/Leaves/Black spot/b (24).png  \n",
            "  inflating: Citrus/Leaves/Black spot/b (240).png  \n",
            "  inflating: Citrus/Leaves/Black spot/b (241).png  \n",
            "  inflating: Citrus/Leaves/Black spot/b (242).png  \n",
            "  inflating: Citrus/Leaves/Black spot/b (243).png  \n",
            "  inflating: Citrus/Leaves/Black spot/b (244).png  \n",
            "  inflating: Citrus/Leaves/Black spot/b (249).png  \n",
            "  inflating: Citrus/Leaves/Black spot/b (250).png  \n",
            "  inflating: Citrus/Leaves/Black spot/b (251).png  \n",
            "  inflating: Citrus/Leaves/Black spot/b (252).png  \n",
            "  inflating: Citrus/Leaves/Black spot/b (254).png  \n",
            "  inflating: Citrus/Leaves/Black spot/b (256).png  \n",
            "  inflating: Citrus/Leaves/Black spot/b (257).png  \n",
            "  inflating: Citrus/Leaves/Black spot/b (258).png  \n",
            "  inflating: Citrus/Leaves/Black spot/b (259).png  \n",
            "  inflating: Citrus/Leaves/Black spot/b (261).png  \n",
            "  inflating: Citrus/Leaves/Black spot/b (262).png  \n",
            "  inflating: Citrus/Leaves/Black spot/b (263).png  \n",
            "  inflating: Citrus/Leaves/Black spot/b (264).png  \n",
            "  inflating: Citrus/Leaves/Black spot/b (265).png  \n",
            "  inflating: Citrus/Leaves/Black spot/b (266).png  \n",
            "  inflating: Citrus/Leaves/Black spot/b (267).png  \n",
            "  inflating: Citrus/Leaves/Black spot/b (268).png  \n",
            "  inflating: Citrus/Leaves/Black spot/b (269).png  \n",
            "  inflating: Citrus/Leaves/Black spot/b (270).png  \n",
            "  inflating: Citrus/Leaves/Black spot/b (271).png  \n",
            "  inflating: Citrus/Leaves/Black spot/b (272).png  \n",
            "  inflating: Citrus/Leaves/Black spot/b (273).png  \n",
            "  inflating: Citrus/Leaves/Black spot/b (274).png  \n",
            "  inflating: Citrus/Leaves/Black spot/b (275).png  \n",
            "  inflating: Citrus/Leaves/Black spot/b (276).png  \n",
            "  inflating: Citrus/Leaves/Black spot/b (277).png  \n",
            "  inflating: Citrus/Leaves/Black spot/b (278).png  \n",
            "  inflating: Citrus/Leaves/Black spot/b (280).png  \n",
            "  inflating: Citrus/Leaves/Black spot/b (281).png  \n",
            "  inflating: Citrus/Leaves/Black spot/b (282).png  \n",
            "  inflating: Citrus/Leaves/Black spot/b (32).png  \n",
            "  inflating: Citrus/Leaves/Black spot/b (35).png  \n",
            "  inflating: Citrus/Leaves/Black spot/b (40).png  \n",
            "  inflating: Citrus/Leaves/Black spot/b (42).png  \n",
            "  inflating: Citrus/Leaves/Black spot/b (43).png  \n",
            "  inflating: Citrus/Leaves/Black spot/b (44).png  \n",
            "  inflating: Citrus/Leaves/Black spot/b (45).png  \n",
            "  inflating: Citrus/Leaves/Black spot/b (46).png  \n",
            "  inflating: Citrus/Leaves/Black spot/b (47).png  \n",
            "  inflating: Citrus/Leaves/Black spot/b (48).png  \n",
            "  inflating: Citrus/Leaves/Black spot/b (49).png  \n",
            "  inflating: Citrus/Leaves/Black spot/b (5).png  \n",
            "  inflating: Citrus/Leaves/Black spot/b (50).png  \n",
            "  inflating: Citrus/Leaves/Black spot/b (51).png  \n",
            "  inflating: Citrus/Leaves/Black spot/b (52).png  \n",
            "  inflating: Citrus/Leaves/Black spot/b (53).png  \n",
            "  inflating: Citrus/Leaves/Black spot/b (55).png  \n",
            "  inflating: Citrus/Leaves/Black spot/b (56).png  \n",
            "  inflating: Citrus/Leaves/Black spot/b (57).png  \n",
            "  inflating: Citrus/Leaves/Black spot/b (58).png  \n",
            "  inflating: Citrus/Leaves/Black spot/b (59).png  \n",
            "  inflating: Citrus/Leaves/Black spot/b (60).png  \n",
            "  inflating: Citrus/Leaves/Black spot/b (61).png  \n",
            "  inflating: Citrus/Leaves/Black spot/b (62).png  \n",
            "  inflating: Citrus/Leaves/Black spot/b (67).png  \n",
            "  inflating: Citrus/Leaves/Black spot/b (68).png  \n",
            "  inflating: Citrus/Leaves/Black spot/b (69).png  \n",
            "  inflating: Citrus/Leaves/Black spot/b (70).png  \n",
            "  inflating: Citrus/Leaves/Black spot/b (74).png  \n",
            "  inflating: Citrus/Leaves/Black spot/b (75).png  \n",
            "  inflating: Citrus/Leaves/Black spot/b (76).png  \n",
            "  inflating: Citrus/Leaves/Black spot/b (77).png  \n",
            "  inflating: Citrus/Leaves/Black spot/b (78).png  \n",
            "  inflating: Citrus/Leaves/Black spot/b (82).png  \n",
            "  inflating: Citrus/Leaves/Black spot/b (83).png  \n",
            "  inflating: Citrus/Leaves/Black spot/b (84).png  \n",
            "  inflating: Citrus/Leaves/Black spot/b (85).png  \n",
            "  inflating: Citrus/Leaves/Black spot/b (86).png  \n",
            "  inflating: Citrus/Leaves/Black spot/b (87).png  \n",
            "  inflating: Citrus/Leaves/Black spot/b (89).png  \n",
            "  inflating: Citrus/Leaves/Black spot/b (91).png  \n",
            "  inflating: Citrus/Leaves/Black spot/b (92).png  \n",
            "  inflating: Citrus/Leaves/Black spot/b (93).png  \n",
            "  inflating: Citrus/Leaves/Black spot/b (94).png  \n",
            "  inflating: Citrus/Leaves/Black spot/b (95).png  \n",
            "  inflating: Citrus/Leaves/Black spot/b (98).png  \n",
            "  inflating: Citrus/Leaves/Black spot/bl (1).png  \n",
            "  inflating: Citrus/Leaves/Black spot/bl (2).png  \n",
            "  inflating: Citrus/Leaves/Black spot/bl (3).png  \n",
            "  inflating: Citrus/Leaves/Black spot/bl (4).png  \n",
            "  inflating: Citrus/Leaves/Black spot/bl (5).png  \n",
            "  inflating: Citrus/Leaves/Black spot/bl (6).png  \n",
            "   creating: Citrus/Leaves/canker/\n",
            "  inflating: Citrus/Leaves/canker/1.png.png  \n",
            "  inflating: Citrus/Leaves/canker/10.pn.png  \n",
            "  inflating: Citrus/Leaves/canker/100.p.png  \n",
            "  inflating: Citrus/Leaves/canker/101.p.png  \n",
            "  inflating: Citrus/Leaves/canker/102.p.png  \n",
            "  inflating: Citrus/Leaves/canker/103.p.png  \n",
            "  inflating: Citrus/Leaves/canker/104.p.png  \n",
            "  inflating: Citrus/Leaves/canker/105.p.png  \n",
            "  inflating: Citrus/Leaves/canker/106.p.png  \n",
            "  inflating: Citrus/Leaves/canker/107.p.png  \n",
            "  inflating: Citrus/Leaves/canker/108.p.png  \n",
            "  inflating: Citrus/Leaves/canker/109.p.png  \n",
            "  inflating: Citrus/Leaves/canker/11.pn.png  \n",
            "  inflating: Citrus/Leaves/canker/110.p.png  \n",
            "  inflating: Citrus/Leaves/canker/111.p.png  \n",
            "  inflating: Citrus/Leaves/canker/112.p.png  \n",
            "  inflating: Citrus/Leaves/canker/113.p.png  \n",
            "  inflating: Citrus/Leaves/canker/114.p.png  \n",
            "  inflating: Citrus/Leaves/canker/115.p.png  \n",
            "  inflating: Citrus/Leaves/canker/116.p.png  \n",
            "  inflating: Citrus/Leaves/canker/117.p.png  \n",
            "  inflating: Citrus/Leaves/canker/118.p.png  \n",
            "  inflating: Citrus/Leaves/canker/119.p.png  \n",
            "  inflating: Citrus/Leaves/canker/12.pn.png  \n",
            "  inflating: Citrus/Leaves/canker/120.p.png  \n",
            "  inflating: Citrus/Leaves/canker/121.p.png  \n",
            "  inflating: Citrus/Leaves/canker/122.p.png  \n",
            "  inflating: Citrus/Leaves/canker/123.p.png  \n",
            "  inflating: Citrus/Leaves/canker/124.p.png  \n",
            "  inflating: Citrus/Leaves/canker/125.p.png  \n",
            "  inflating: Citrus/Leaves/canker/126.p.png  \n",
            "  inflating: Citrus/Leaves/canker/127.p.png  \n",
            "  inflating: Citrus/Leaves/canker/128.p.png  \n",
            "  inflating: Citrus/Leaves/canker/129.p.png  \n",
            "  inflating: Citrus/Leaves/canker/13.pn.png  \n",
            "  inflating: Citrus/Leaves/canker/130.p.png  \n",
            "  inflating: Citrus/Leaves/canker/131.p.png  \n",
            "  inflating: Citrus/Leaves/canker/132.p.png  \n",
            "  inflating: Citrus/Leaves/canker/133.p.png  \n",
            "  inflating: Citrus/Leaves/canker/134.p.png  \n",
            "  inflating: Citrus/Leaves/canker/135.p.png  \n",
            "  inflating: Citrus/Leaves/canker/136.p.png  \n",
            "  inflating: Citrus/Leaves/canker/137.p.png  \n",
            "  inflating: Citrus/Leaves/canker/138.p.png  \n",
            "  inflating: Citrus/Leaves/canker/139.p.png  \n",
            "  inflating: Citrus/Leaves/canker/14.pn.png  \n",
            "  inflating: Citrus/Leaves/canker/140.p.png  \n",
            "  inflating: Citrus/Leaves/canker/141.p.png  \n",
            "  inflating: Citrus/Leaves/canker/142.p.png  \n",
            "  inflating: Citrus/Leaves/canker/143.p.png  \n",
            "  inflating: Citrus/Leaves/canker/144.p.png  \n",
            "  inflating: Citrus/Leaves/canker/145.p.png  \n",
            "  inflating: Citrus/Leaves/canker/146.p.png  \n",
            "  inflating: Citrus/Leaves/canker/147.p.png  \n",
            "  inflating: Citrus/Leaves/canker/148.p.png  \n",
            "  inflating: Citrus/Leaves/canker/149.p.png  \n",
            "  inflating: Citrus/Leaves/canker/15.pn.png  \n",
            "  inflating: Citrus/Leaves/canker/150.p.png  \n",
            "  inflating: Citrus/Leaves/canker/151.p.png  \n",
            "  inflating: Citrus/Leaves/canker/152.p.png  \n",
            "  inflating: Citrus/Leaves/canker/153.p.png  \n",
            "  inflating: Citrus/Leaves/canker/154.p.png  \n",
            "  inflating: Citrus/Leaves/canker/155.p.png  \n",
            "  inflating: Citrus/Leaves/canker/156.p.png  \n",
            "  inflating: Citrus/Leaves/canker/157.p.png  \n",
            "  inflating: Citrus/Leaves/canker/158.p.png  \n",
            "  inflating: Citrus/Leaves/canker/159.p.png  \n",
            "  inflating: Citrus/Leaves/canker/16.pn.png  \n",
            "  inflating: Citrus/Leaves/canker/160.p.png  \n",
            "  inflating: Citrus/Leaves/canker/161.p.png  \n",
            "  inflating: Citrus/Leaves/canker/162.p.png  \n",
            "  inflating: Citrus/Leaves/canker/163.p.png  \n",
            "  inflating: Citrus/Leaves/canker/17.pn.png  \n",
            "  inflating: Citrus/Leaves/canker/18.pn.png  \n",
            "  inflating: Citrus/Leaves/canker/19.pn.png  \n",
            "  inflating: Citrus/Leaves/canker/2.png.png  \n",
            "  inflating: Citrus/Leaves/canker/20.pn.png  \n",
            "  inflating: Citrus/Leaves/canker/21.pn.png  \n",
            "  inflating: Citrus/Leaves/canker/22.pn.png  \n",
            "  inflating: Citrus/Leaves/canker/23.pn.png  \n",
            "  inflating: Citrus/Leaves/canker/24.pn.png  \n",
            "  inflating: Citrus/Leaves/canker/25.pn.png  \n",
            "  inflating: Citrus/Leaves/canker/26.pn.png  \n",
            "  inflating: Citrus/Leaves/canker/27.pn.png  \n",
            "  inflating: Citrus/Leaves/canker/28.pn.png  \n",
            "  inflating: Citrus/Leaves/canker/29.pn.png  \n",
            "  inflating: Citrus/Leaves/canker/3.png.png  \n",
            "  inflating: Citrus/Leaves/canker/30.pn.png  \n",
            "  inflating: Citrus/Leaves/canker/31.pn.png  \n",
            "  inflating: Citrus/Leaves/canker/32.pn.png  \n",
            "  inflating: Citrus/Leaves/canker/33.pn.png  \n",
            "  inflating: Citrus/Leaves/canker/34.pn.png  \n",
            "  inflating: Citrus/Leaves/canker/35.pn.png  \n",
            "  inflating: Citrus/Leaves/canker/36.pn.png  \n",
            "  inflating: Citrus/Leaves/canker/37.pn.png  \n",
            "  inflating: Citrus/Leaves/canker/38.pn.png  \n",
            "  inflating: Citrus/Leaves/canker/39.pn.png  \n",
            "  inflating: Citrus/Leaves/canker/4.png.png  \n",
            "  inflating: Citrus/Leaves/canker/40.pn.png  \n",
            "  inflating: Citrus/Leaves/canker/41.pn.png  \n",
            "  inflating: Citrus/Leaves/canker/42.pn.png  \n",
            "  inflating: Citrus/Leaves/canker/43.pn.png  \n",
            "  inflating: Citrus/Leaves/canker/44.pn.png  \n",
            "  inflating: Citrus/Leaves/canker/45.pn.png  \n",
            "  inflating: Citrus/Leaves/canker/46.pn.png  \n",
            "  inflating: Citrus/Leaves/canker/47.pn.png  \n",
            "  inflating: Citrus/Leaves/canker/48.pn.png  \n",
            "  inflating: Citrus/Leaves/canker/49.pn.png  \n",
            "  inflating: Citrus/Leaves/canker/5.png.png  \n",
            "  inflating: Citrus/Leaves/canker/50.pn.png  \n",
            "  inflating: Citrus/Leaves/canker/51.pn.png  \n",
            "  inflating: Citrus/Leaves/canker/52.pn.png  \n",
            "  inflating: Citrus/Leaves/canker/53.pn.png  \n",
            "  inflating: Citrus/Leaves/canker/54.pn.png  \n",
            "  inflating: Citrus/Leaves/canker/55.pn.png  \n",
            "  inflating: Citrus/Leaves/canker/56.pn.png  \n",
            "  inflating: Citrus/Leaves/canker/57.pn.png  \n",
            "  inflating: Citrus/Leaves/canker/58.pn.png  \n",
            "  inflating: Citrus/Leaves/canker/59.pn.png  \n",
            "  inflating: Citrus/Leaves/canker/6.png.png  \n",
            "  inflating: Citrus/Leaves/canker/60.pn.png  \n",
            "  inflating: Citrus/Leaves/canker/61.pn.png  \n",
            "  inflating: Citrus/Leaves/canker/62.pn.png  \n",
            "  inflating: Citrus/Leaves/canker/63.pn.png  \n",
            "  inflating: Citrus/Leaves/canker/64.pn.png  \n",
            "  inflating: Citrus/Leaves/canker/65.pn.png  \n",
            "  inflating: Citrus/Leaves/canker/66.pn.png  \n",
            "  inflating: Citrus/Leaves/canker/67.pn.png  \n",
            "  inflating: Citrus/Leaves/canker/68.pn.png  \n",
            "  inflating: Citrus/Leaves/canker/69.pn.png  \n",
            "  inflating: Citrus/Leaves/canker/7.png.png  \n",
            "  inflating: Citrus/Leaves/canker/70.pn.png  \n",
            "  inflating: Citrus/Leaves/canker/71.pn.png  \n",
            "  inflating: Citrus/Leaves/canker/72.pn.png  \n",
            "  inflating: Citrus/Leaves/canker/73.pn.png  \n",
            "  inflating: Citrus/Leaves/canker/74.pn.png  \n",
            "  inflating: Citrus/Leaves/canker/75.pn.png  \n",
            "  inflating: Citrus/Leaves/canker/76.pn.png  \n",
            "  inflating: Citrus/Leaves/canker/77.pn.png  \n",
            "  inflating: Citrus/Leaves/canker/78.pn.png  \n",
            "  inflating: Citrus/Leaves/canker/79.pn.png  \n",
            "  inflating: Citrus/Leaves/canker/8.png.png  \n",
            "  inflating: Citrus/Leaves/canker/80.pn.png  \n",
            "  inflating: Citrus/Leaves/canker/81.pn.png  \n",
            "  inflating: Citrus/Leaves/canker/82.pn.png  \n",
            "  inflating: Citrus/Leaves/canker/83.pn.png  \n",
            "  inflating: Citrus/Leaves/canker/84.pn.png  \n",
            "  inflating: Citrus/Leaves/canker/85.pn.png  \n",
            "  inflating: Citrus/Leaves/canker/86.pn.png  \n",
            "  inflating: Citrus/Leaves/canker/87.pn.png  \n",
            "  inflating: Citrus/Leaves/canker/88.pn.png  \n",
            "  inflating: Citrus/Leaves/canker/89.pn.png  \n",
            "  inflating: Citrus/Leaves/canker/9.png.png  \n",
            "  inflating: Citrus/Leaves/canker/90.pn.png  \n",
            "  inflating: Citrus/Leaves/canker/91.pn.png  \n",
            "  inflating: Citrus/Leaves/canker/92.pn.png  \n",
            "  inflating: Citrus/Leaves/canker/93.pn.png  \n",
            "  inflating: Citrus/Leaves/canker/94.pn.png  \n",
            "  inflating: Citrus/Leaves/canker/95.pn.png  \n",
            "  inflating: Citrus/Leaves/canker/96.pn.png  \n",
            "  inflating: Citrus/Leaves/canker/97.pn.png  \n",
            "  inflating: Citrus/Leaves/canker/98.pn.png  \n",
            "  inflating: Citrus/Leaves/canker/99.pn.png  \n",
            "   creating: Citrus/Leaves/greening/\n",
            "  inflating: Citrus/Leaves/greening/g (1).png  \n",
            "  inflating: Citrus/Leaves/greening/g (10).png  \n",
            "  inflating: Citrus/Leaves/greening/g (100).png  \n",
            "  inflating: Citrus/Leaves/greening/g (101).png  \n",
            "  inflating: Citrus/Leaves/greening/g (102).png  \n",
            "  inflating: Citrus/Leaves/greening/g (103).png  \n",
            "  inflating: Citrus/Leaves/greening/g (104).png  \n",
            "  inflating: Citrus/Leaves/greening/g (105).png  \n",
            "  inflating: Citrus/Leaves/greening/g (106).png  \n",
            "  inflating: Citrus/Leaves/greening/g (107).png  \n",
            "  inflating: Citrus/Leaves/greening/g (108).png  \n",
            "  inflating: Citrus/Leaves/greening/g (109).png  \n",
            "  inflating: Citrus/Leaves/greening/g (11).png  \n",
            "  inflating: Citrus/Leaves/greening/g (110).png  \n",
            "  inflating: Citrus/Leaves/greening/g (111).png  \n",
            "  inflating: Citrus/Leaves/greening/g (112).png  \n",
            "  inflating: Citrus/Leaves/greening/g (113).png  \n",
            "  inflating: Citrus/Leaves/greening/g (114).png  \n",
            "  inflating: Citrus/Leaves/greening/g (115).png  \n",
            "  inflating: Citrus/Leaves/greening/g (116).png  \n",
            "  inflating: Citrus/Leaves/greening/g (117).png  \n",
            "  inflating: Citrus/Leaves/greening/g (118).png  \n",
            "  inflating: Citrus/Leaves/greening/g (119).png  \n",
            "  inflating: Citrus/Leaves/greening/g (12).png  \n",
            "  inflating: Citrus/Leaves/greening/g (120).png  \n",
            "  inflating: Citrus/Leaves/greening/g (121).png  \n",
            "  inflating: Citrus/Leaves/greening/g (122).png  \n",
            "  inflating: Citrus/Leaves/greening/g (123).png  \n",
            "  inflating: Citrus/Leaves/greening/g (124).png  \n",
            "  inflating: Citrus/Leaves/greening/g (125).png  \n",
            "  inflating: Citrus/Leaves/greening/g (126).png  \n",
            "  inflating: Citrus/Leaves/greening/g (127).png  \n",
            "  inflating: Citrus/Leaves/greening/g (128).png  \n",
            "  inflating: Citrus/Leaves/greening/g (129).png  \n",
            "  inflating: Citrus/Leaves/greening/g (13).png  \n",
            "  inflating: Citrus/Leaves/greening/g (130).png  \n",
            "  inflating: Citrus/Leaves/greening/g (131).png  \n",
            "  inflating: Citrus/Leaves/greening/g (132).png  \n",
            "  inflating: Citrus/Leaves/greening/g (133).png  \n",
            "  inflating: Citrus/Leaves/greening/g (134).png  \n",
            "  inflating: Citrus/Leaves/greening/g (135).png  \n",
            "  inflating: Citrus/Leaves/greening/g (136).png  \n",
            "  inflating: Citrus/Leaves/greening/g (137).png  \n",
            "  inflating: Citrus/Leaves/greening/g (138).png  \n",
            "  inflating: Citrus/Leaves/greening/g (139).png  \n",
            "  inflating: Citrus/Leaves/greening/g (14).png  \n",
            "  inflating: Citrus/Leaves/greening/g (140).png  \n",
            "  inflating: Citrus/Leaves/greening/g (141).png  \n",
            "  inflating: Citrus/Leaves/greening/g (142).png  \n",
            "  inflating: Citrus/Leaves/greening/g (143).png  \n",
            "  inflating: Citrus/Leaves/greening/g (144).png  \n",
            "  inflating: Citrus/Leaves/greening/g (145).png  \n",
            "  inflating: Citrus/Leaves/greening/g (146).png  \n",
            "  inflating: Citrus/Leaves/greening/g (147).png  \n",
            "  inflating: Citrus/Leaves/greening/g (148).png  \n",
            "  inflating: Citrus/Leaves/greening/g (149).png  \n",
            "  inflating: Citrus/Leaves/greening/g (15).png  \n",
            "  inflating: Citrus/Leaves/greening/g (150).png  \n",
            "  inflating: Citrus/Leaves/greening/g (151).png  \n",
            "  inflating: Citrus/Leaves/greening/g (152).png  \n",
            "  inflating: Citrus/Leaves/greening/g (153).png  \n",
            "  inflating: Citrus/Leaves/greening/g (154).png  \n",
            "  inflating: Citrus/Leaves/greening/g (155).png  \n",
            "  inflating: Citrus/Leaves/greening/g (156).png  \n",
            "  inflating: Citrus/Leaves/greening/g (157).png  \n",
            "  inflating: Citrus/Leaves/greening/g (158).png  \n",
            "  inflating: Citrus/Leaves/greening/g (159).png  \n",
            "  inflating: Citrus/Leaves/greening/g (16).png  \n",
            "  inflating: Citrus/Leaves/greening/g (160).png  \n",
            "  inflating: Citrus/Leaves/greening/g (161).png  \n",
            "  inflating: Citrus/Leaves/greening/g (162).png  \n",
            "  inflating: Citrus/Leaves/greening/g (163).png  \n",
            "  inflating: Citrus/Leaves/greening/g (164).png  \n",
            "  inflating: Citrus/Leaves/greening/g (165).png  \n",
            "  inflating: Citrus/Leaves/greening/g (166).png  \n",
            "  inflating: Citrus/Leaves/greening/g (167).png  \n",
            "  inflating: Citrus/Leaves/greening/g (168).png  \n",
            "  inflating: Citrus/Leaves/greening/g (169).png  \n",
            "  inflating: Citrus/Leaves/greening/g (17).png  \n",
            "  inflating: Citrus/Leaves/greening/g (170).png  \n",
            "  inflating: Citrus/Leaves/greening/g (171).png  \n",
            "  inflating: Citrus/Leaves/greening/g (172).png  \n",
            "  inflating: Citrus/Leaves/greening/g (173).png  \n",
            "  inflating: Citrus/Leaves/greening/g (174).png  \n",
            "  inflating: Citrus/Leaves/greening/g (175).png  \n",
            "  inflating: Citrus/Leaves/greening/g (176).png  \n",
            "  inflating: Citrus/Leaves/greening/g (177).png  \n",
            "  inflating: Citrus/Leaves/greening/g (178).png  \n",
            "  inflating: Citrus/Leaves/greening/g (179).png  \n",
            "  inflating: Citrus/Leaves/greening/g (18).png  \n",
            "  inflating: Citrus/Leaves/greening/g (180).png  \n",
            "  inflating: Citrus/Leaves/greening/g (181).png  \n",
            "  inflating: Citrus/Leaves/greening/g (182).png  \n",
            "  inflating: Citrus/Leaves/greening/g (183).png  \n",
            "  inflating: Citrus/Leaves/greening/g (184).png  \n",
            "  inflating: Citrus/Leaves/greening/g (185).png  \n",
            "  inflating: Citrus/Leaves/greening/g (186).png  \n",
            "  inflating: Citrus/Leaves/greening/g (187).png  \n",
            "  inflating: Citrus/Leaves/greening/g (188).png  \n",
            "  inflating: Citrus/Leaves/greening/g (189).png  \n",
            "  inflating: Citrus/Leaves/greening/g (19).png  \n",
            "  inflating: Citrus/Leaves/greening/g (190).png  \n",
            "  inflating: Citrus/Leaves/greening/g (191).png  \n",
            "  inflating: Citrus/Leaves/greening/g (192).png  \n",
            "  inflating: Citrus/Leaves/greening/g (193).png  \n",
            "  inflating: Citrus/Leaves/greening/g (194).png  \n",
            "  inflating: Citrus/Leaves/greening/g (195).png  \n",
            "  inflating: Citrus/Leaves/greening/g (196).png  \n",
            "  inflating: Citrus/Leaves/greening/g (197).png  \n",
            "  inflating: Citrus/Leaves/greening/g (198).png  \n",
            "  inflating: Citrus/Leaves/greening/g (199).png  \n",
            "  inflating: Citrus/Leaves/greening/g (2).png  \n",
            "  inflating: Citrus/Leaves/greening/g (20).png  \n",
            "  inflating: Citrus/Leaves/greening/g (200).png  \n",
            "  inflating: Citrus/Leaves/greening/g (201).png  \n",
            "  inflating: Citrus/Leaves/greening/g (202).png  \n",
            "  inflating: Citrus/Leaves/greening/g (203).png  \n",
            "  inflating: Citrus/Leaves/greening/g (204).png  \n",
            "  inflating: Citrus/Leaves/greening/g (21).png  \n",
            "  inflating: Citrus/Leaves/greening/g (22).png  \n",
            "  inflating: Citrus/Leaves/greening/g (23).png  \n",
            "  inflating: Citrus/Leaves/greening/g (24).png  \n",
            "  inflating: Citrus/Leaves/greening/g (25).png  \n",
            "  inflating: Citrus/Leaves/greening/g (26).png  \n",
            "  inflating: Citrus/Leaves/greening/g (27).png  \n",
            "  inflating: Citrus/Leaves/greening/g (28).png  \n",
            "  inflating: Citrus/Leaves/greening/g (29).png  \n",
            "  inflating: Citrus/Leaves/greening/g (3).png  \n",
            "  inflating: Citrus/Leaves/greening/g (30).png  \n",
            "  inflating: Citrus/Leaves/greening/g (31).png  \n",
            "  inflating: Citrus/Leaves/greening/g (32).png  \n",
            "  inflating: Citrus/Leaves/greening/g (33).png  \n",
            "  inflating: Citrus/Leaves/greening/g (34).png  \n",
            "  inflating: Citrus/Leaves/greening/g (35).png  \n",
            "  inflating: Citrus/Leaves/greening/g (36).png  \n",
            "  inflating: Citrus/Leaves/greening/g (37).png  \n",
            "  inflating: Citrus/Leaves/greening/g (38).png  \n",
            "  inflating: Citrus/Leaves/greening/g (39).png  \n",
            "  inflating: Citrus/Leaves/greening/g (4).png  \n",
            "  inflating: Citrus/Leaves/greening/g (40).png  \n",
            "  inflating: Citrus/Leaves/greening/g (41).png  \n",
            "  inflating: Citrus/Leaves/greening/g (42).png  \n",
            "  inflating: Citrus/Leaves/greening/g (43).png  \n",
            "  inflating: Citrus/Leaves/greening/g (44).png  \n",
            "  inflating: Citrus/Leaves/greening/g (45).png  \n",
            "  inflating: Citrus/Leaves/greening/g (46).png  \n",
            "  inflating: Citrus/Leaves/greening/g (47).png  \n",
            "  inflating: Citrus/Leaves/greening/g (48).png  \n",
            "  inflating: Citrus/Leaves/greening/g (49).png  \n",
            "  inflating: Citrus/Leaves/greening/g (5).png  \n",
            "  inflating: Citrus/Leaves/greening/g (50).png  \n",
            "  inflating: Citrus/Leaves/greening/g (51).png  \n",
            "  inflating: Citrus/Leaves/greening/g (52).png  \n",
            "  inflating: Citrus/Leaves/greening/g (53).png  \n",
            "  inflating: Citrus/Leaves/greening/g (54).png  \n",
            "  inflating: Citrus/Leaves/greening/g (55).png  \n",
            "  inflating: Citrus/Leaves/greening/g (56).png  \n",
            "  inflating: Citrus/Leaves/greening/g (57).png  \n",
            "  inflating: Citrus/Leaves/greening/g (58).png  \n",
            "  inflating: Citrus/Leaves/greening/g (59).png  \n",
            "  inflating: Citrus/Leaves/greening/g (6).png  \n",
            "  inflating: Citrus/Leaves/greening/g (60).png  \n",
            "  inflating: Citrus/Leaves/greening/g (61).png  \n",
            "  inflating: Citrus/Leaves/greening/g (62).png  \n",
            "  inflating: Citrus/Leaves/greening/g (63).png  \n",
            "  inflating: Citrus/Leaves/greening/g (64).png  \n",
            "  inflating: Citrus/Leaves/greening/g (65).png  \n",
            "  inflating: Citrus/Leaves/greening/g (66).png  \n",
            "  inflating: Citrus/Leaves/greening/g (67).png  \n",
            "  inflating: Citrus/Leaves/greening/g (68).png  \n",
            "  inflating: Citrus/Leaves/greening/g (69).png  \n",
            "  inflating: Citrus/Leaves/greening/g (7).png  \n",
            "  inflating: Citrus/Leaves/greening/g (70).png  \n",
            "  inflating: Citrus/Leaves/greening/g (71).png  \n",
            "  inflating: Citrus/Leaves/greening/g (72).png  \n",
            "  inflating: Citrus/Leaves/greening/g (73).png  \n",
            "  inflating: Citrus/Leaves/greening/g (74).png  \n",
            "  inflating: Citrus/Leaves/greening/g (75).png  \n",
            "  inflating: Citrus/Leaves/greening/g (76).png  \n",
            "  inflating: Citrus/Leaves/greening/g (77).png  \n",
            "  inflating: Citrus/Leaves/greening/g (78).png  \n",
            "  inflating: Citrus/Leaves/greening/g (79).png  \n",
            "  inflating: Citrus/Leaves/greening/g (8).png  \n",
            "  inflating: Citrus/Leaves/greening/g (80).png  \n",
            "  inflating: Citrus/Leaves/greening/g (81).png  \n",
            "  inflating: Citrus/Leaves/greening/g (82).png  \n",
            "  inflating: Citrus/Leaves/greening/g (83).png  \n",
            "  inflating: Citrus/Leaves/greening/g (84).png  \n",
            "  inflating: Citrus/Leaves/greening/g (85).png  \n",
            "  inflating: Citrus/Leaves/greening/g (86).png  \n",
            "  inflating: Citrus/Leaves/greening/g (87).png  \n",
            "  inflating: Citrus/Leaves/greening/g (88).png  \n",
            "  inflating: Citrus/Leaves/greening/g (89).png  \n",
            "  inflating: Citrus/Leaves/greening/g (9).png  \n",
            "  inflating: Citrus/Leaves/greening/g (90).png  \n",
            "  inflating: Citrus/Leaves/greening/g (91).png  \n",
            "  inflating: Citrus/Leaves/greening/g (92).png  \n",
            "  inflating: Citrus/Leaves/greening/g (93).png  \n",
            "  inflating: Citrus/Leaves/greening/g (94).png  \n",
            "  inflating: Citrus/Leaves/greening/g (95).png  \n",
            "  inflating: Citrus/Leaves/greening/g (96).png  \n",
            "  inflating: Citrus/Leaves/greening/g (97).png  \n",
            "  inflating: Citrus/Leaves/greening/g (98).png  \n",
            "  inflating: Citrus/Leaves/greening/g (99).png  \n",
            "   creating: Citrus/Leaves/healthy/\n",
            "  inflating: Citrus/Leaves/healthy/1.png.png  \n",
            "  inflating: Citrus/Leaves/healthy/10.pn.png  \n",
            "  inflating: Citrus/Leaves/healthy/11.pn.png  \n",
            "  inflating: Citrus/Leaves/healthy/12.pn.png  \n",
            "  inflating: Citrus/Leaves/healthy/13.pn.png  \n",
            "  inflating: Citrus/Leaves/healthy/14.pn.png  \n",
            "  inflating: Citrus/Leaves/healthy/15.pn.png  \n",
            "  inflating: Citrus/Leaves/healthy/16.pn.png  \n",
            "  inflating: Citrus/Leaves/healthy/17.pn.png  \n",
            "  inflating: Citrus/Leaves/healthy/18.pn.png  \n",
            "  inflating: Citrus/Leaves/healthy/19.pn.png  \n",
            "  inflating: Citrus/Leaves/healthy/2.png.png  \n",
            "  inflating: Citrus/Leaves/healthy/20.pn.png  \n",
            "  inflating: Citrus/Leaves/healthy/21.pn.png  \n",
            "  inflating: Citrus/Leaves/healthy/22.pn.png  \n",
            "  inflating: Citrus/Leaves/healthy/23.pn.png  \n",
            "  inflating: Citrus/Leaves/healthy/24.pn.png  \n",
            "  inflating: Citrus/Leaves/healthy/25.pn.png  \n",
            "  inflating: Citrus/Leaves/healthy/26.pn.png  \n",
            "  inflating: Citrus/Leaves/healthy/27.pn.png  \n",
            "  inflating: Citrus/Leaves/healthy/28.pn.png  \n",
            "  inflating: Citrus/Leaves/healthy/29.pn.png  \n",
            "  inflating: Citrus/Leaves/healthy/3.png.png  \n",
            "  inflating: Citrus/Leaves/healthy/30.pn.png  \n",
            "  inflating: Citrus/Leaves/healthy/31.pn.png  \n",
            "  inflating: Citrus/Leaves/healthy/32.pn.png  \n",
            "  inflating: Citrus/Leaves/healthy/33.pn.png  \n",
            "  inflating: Citrus/Leaves/healthy/34.pn.png  \n",
            "  inflating: Citrus/Leaves/healthy/35.pn.png  \n",
            "  inflating: Citrus/Leaves/healthy/36.pn.png  \n",
            "  inflating: Citrus/Leaves/healthy/37.pn.png  \n",
            "  inflating: Citrus/Leaves/healthy/38.pn.png  \n",
            "  inflating: Citrus/Leaves/healthy/39.pn.png  \n",
            "  inflating: Citrus/Leaves/healthy/4.png.png  \n",
            "  inflating: Citrus/Leaves/healthy/40.pn.png  \n",
            "  inflating: Citrus/Leaves/healthy/41.pn.png  \n",
            "  inflating: Citrus/Leaves/healthy/42.pn.png  \n",
            "  inflating: Citrus/Leaves/healthy/43.pn.png  \n",
            "  inflating: Citrus/Leaves/healthy/44.pn.png  \n",
            "  inflating: Citrus/Leaves/healthy/45.pn.png  \n",
            "  inflating: Citrus/Leaves/healthy/46.pn.png  \n",
            "  inflating: Citrus/Leaves/healthy/47.pn.png  \n",
            "  inflating: Citrus/Leaves/healthy/48.pn.png  \n",
            "  inflating: Citrus/Leaves/healthy/49.pn.png  \n",
            "  inflating: Citrus/Leaves/healthy/5.png.png  \n",
            "  inflating: Citrus/Leaves/healthy/50.pn.png  \n",
            "  inflating: Citrus/Leaves/healthy/51.pn.png  \n",
            "  inflating: Citrus/Leaves/healthy/52.pn.png  \n",
            "  inflating: Citrus/Leaves/healthy/53.pn.png  \n",
            "  inflating: Citrus/Leaves/healthy/54.pn.png  \n",
            "  inflating: Citrus/Leaves/healthy/55.pn.png  \n",
            "  inflating: Citrus/Leaves/healthy/56.pn.png  \n",
            "  inflating: Citrus/Leaves/healthy/57.pn.png  \n",
            "  inflating: Citrus/Leaves/healthy/58.pn.png  \n",
            "  inflating: Citrus/Leaves/healthy/6.png.png  \n",
            "  inflating: Citrus/Leaves/healthy/7.png.png  \n",
            "  inflating: Citrus/Leaves/healthy/8.png.png  \n",
            "  inflating: Citrus/Leaves/healthy/9.png.png  \n",
            "   creating: Citrus/Leaves/Melanose/\n",
            "  inflating: Citrus/Leaves/Melanose/142.jpg  \n",
            "  inflating: Citrus/Leaves/Melanose/146.jpg  \n",
            "  inflating: Citrus/Leaves/Melanose/32.jpg  \n",
            "  inflating: Citrus/Leaves/Melanose/33.jpg  \n",
            "  inflating: Citrus/Leaves/Melanose/34.jpg  \n",
            "  inflating: Citrus/Leaves/Melanose/38.jpg  \n",
            "  inflating: Citrus/Leaves/Melanose/SAM_3927Catla.jpg  \n",
            "  inflating: Citrus/Leaves/Melanose/SAM_3928Catla.jpg  \n",
            "  inflating: Citrus/Leaves/Melanose/SAM_3929Catla.jpg  \n",
            "  inflating: Citrus/Leaves/Melanose/SAM_3937Catla.jpg  \n",
            "  inflating: Citrus/Leaves/Melanose/SAM_3938Catla.jpg  \n",
            "  inflating: Citrus/Leaves/Melanose/SAM_3941Catla.jpg  \n",
            "  inflating: Citrus/Leaves/Melanose/SAM_4840Catla.jpg  \n"
          ],
          "name": "stdout"
        }
      ]
    },
    {
      "cell_type": "markdown",
      "metadata": {
        "id": "3ws3lz9gMNjZ",
        "colab_type": "text"
      },
      "source": [
        "## import libraries"
      ]
    },
    {
      "cell_type": "code",
      "metadata": {
        "id": "j2ELFuzfYIBi",
        "colab_type": "code",
        "colab": {}
      },
      "source": [
        "import numpy as np # linear algebra\n",
        "import pandas as pd # data processing, CSV file I/O (e.g. pd.read_csv)"
      ],
      "execution_count": 0,
      "outputs": []
    },
    {
      "cell_type": "markdown",
      "metadata": {
        "id": "NHcaPrv3MPp3",
        "colab_type": "text"
      },
      "source": [
        "## data augmentation "
      ]
    },
    {
      "cell_type": "code",
      "metadata": {
        "id": "HLLlRf3FYT-9",
        "colab_type": "code",
        "colab": {}
      },
      "source": [
        "from keras_preprocessing.image import ImageDataGenerator\n",
        "\n",
        "data_gen= ImageDataGenerator(\n",
        "    horizontal_flip=True,\n",
        "    vertical_flip=True,\n",
        "    rotation_range=90,\n",
        "    width_shift_range=0.1,\n",
        "    height_shift_range=0.1,\n",
        "    zoom_range=.1,\n",
        "    rescale=1/255,\n",
        "    fill_mode='nearest',\n",
        "    shear_range=0.1,\n",
        "    brightness_range=[0.5, 1.5],\n",
        "    validation_split=0.3)"
      ],
      "execution_count": 0,
      "outputs": []
    },
    {
      "cell_type": "markdown",
      "metadata": {
        "id": "SdGkQaB-MVOk",
        "colab_type": "text"
      },
      "source": [
        "## load data \n",
        "load data from directory in generator structure, infact data is loaded while training"
      ]
    },
    {
      "cell_type": "code",
      "metadata": {
        "id": "89ZpuWkgYZHW",
        "colab_type": "code",
        "colab": {}
      },
      "source": [
        "img_shape=300\n",
        "batch_size=16"
      ],
      "execution_count": 0,
      "outputs": []
    },
    {
      "cell_type": "code",
      "metadata": {
        "id": "EsqIKDdmYa0l",
        "colab_type": "code",
        "outputId": "c3e7fd24-9ae5-426f-ec62-1b3968eb2e9a",
        "colab": {
          "base_uri": "https://localhost:8080/",
          "height": 33
        }
      },
      "source": [
        "#load the training data\n",
        "train_generator = data_gen.flow_from_directory(\n",
        "    '/content/Citrus/Leaves',\n",
        "    target_size=(img_shape,img_shape),\n",
        "    batch_size=batch_size,\n",
        "    class_mode='categorical',\n",
        "    subset='training',\n",
        "    shuffle=True)\n"
      ],
      "execution_count": 0,
      "outputs": [
        {
          "output_type": "stream",
          "text": [
            "Found 429 images belonging to 5 classes.\n"
          ],
          "name": "stdout"
        }
      ]
    },
    {
      "cell_type": "code",
      "metadata": {
        "id": "qPAoXFonZ7Pk",
        "colab_type": "code",
        "outputId": "b112c172-3d4b-4279-ad88-eb876107a035",
        "colab": {
          "base_uri": "https://localhost:8080/",
          "height": 33
        }
      },
      "source": [
        "#load the training data\n",
        "val_suffle=False\n",
        "val_generator = data_gen.flow_from_directory(\n",
        "    '/content/Citrus/Leaves',\n",
        "    target_size=(img_shape,img_shape),\n",
        "    batch_size=16,\n",
        "    class_mode='categorical',\n",
        "    subset='validation',shuffle=val_suffle)#shuffle should be False in validation\n",
        "    #https://stackoverflow.com/a/47439789/11170350\n"
      ],
      "execution_count": 0,
      "outputs": [
        {
          "output_type": "stream",
          "text": [
            "Found 180 images belonging to 5 classes.\n"
          ],
          "name": "stdout"
        }
      ]
    },
    {
      "cell_type": "code",
      "metadata": {
        "id": "UQwUaMd7Y1qL",
        "colab_type": "code",
        "outputId": "91321f4b-a628-4362-d3e7-34c41e1291aa",
        "colab": {
          "base_uri": "https://localhost:8080/",
          "height": 33
        }
      },
      "source": [
        "train_generator.next()[0].shape,train_generator.next()[1].shape"
      ],
      "execution_count": 0,
      "outputs": [
        {
          "output_type": "execute_result",
          "data": {
            "text/plain": [
              "((16, 300, 300, 3), (16, 5))"
            ]
          },
          "metadata": {
            "tags": []
          },
          "execution_count": 10
        }
      ]
    },
    {
      "cell_type": "code",
      "metadata": {
        "id": "XwCEKIuz0C1Z",
        "colab_type": "code",
        "outputId": "cf78b26c-1b49-4407-c557-eee5c16265f0",
        "colab": {
          "base_uri": "https://localhost:8080/",
          "height": 33
        }
      },
      "source": [
        "val_generator.next()[0].shape,val_generator.next()[1].shape"
      ],
      "execution_count": 0,
      "outputs": [
        {
          "output_type": "execute_result",
          "data": {
            "text/plain": [
              "((16, 300, 300, 3), (16, 5))"
            ]
          },
          "metadata": {
            "tags": []
          },
          "execution_count": 11
        }
      ]
    },
    {
      "cell_type": "markdown",
      "metadata": {
        "id": "zD-g8AY9Mhcf",
        "colab_type": "text"
      },
      "source": [
        "## create efficent net architecture"
      ]
    },
    {
      "cell_type": "code",
      "metadata": {
        "id": "1INqpplvY5PN",
        "colab_type": "code",
        "colab": {}
      },
      "source": [
        "from tensorflow.keras.models import Sequential,Model\n",
        "from tensorflow.keras.layers import Activation, Dropout, Flatten, Dense, Conv2D, MaxPool2D, BatchNormalization,Input,MaxPooling2D,GlobalMaxPooling2D,concatenate\n",
        "from tensorflow.keras.layers import GlobalAveragePooling2D\n",
        "from tensorflow.keras.applications.resnet50 import ResNet50\n",
        "from tensorflow.keras.callbacks import ModelCheckpoint,ReduceLROnPlateau\n",
        "from tensorflow.keras.optimizers import Adam\n",
        "import tensorflow.keras.backend as K\n",
        "import tensorflow as tf"
      ],
      "execution_count": 0,
      "outputs": []
    },
    {
      "cell_type": "markdown",
      "metadata": {
        "id": "nGyQMzE_uLPJ",
        "colab_type": "text"
      },
      "source": [
        "### Base model"
      ]
    },
    {
      "cell_type": "code",
      "metadata": {
        "id": "knUQBAGIuXLs",
        "colab_type": "code",
        "colab": {}
      },
      "source": [
        ""
      ],
      "execution_count": 0,
      "outputs": []
    },
    {
      "cell_type": "code",
      "metadata": {
        "colab_type": "code",
        "outputId": "4c3e98cd-b9f2-40c9-c97e-e2eec6b9c6ad",
        "id": "_nJJRGcCuXdK",
        "colab": {
          "base_uri": "https://localhost:8080/",
          "height": 50
        }
      },
      "source": [
        "import efficientnet.tfkeras as efn\n",
        "model =efn.EfficientNetB4(weights ='noisy-student', include_top=False, input_shape = (img_shape,img_shape,3))\n"
      ],
      "execution_count": 0,
      "outputs": [
        {
          "output_type": "stream",
          "text": [
            "Downloading data from https://github.com/qubvel/efficientnet/releases/download/v0.0.1/efficientnet-b4_noisy-student_notop.h5\n",
            "71680000/71678424 [==============================] - 3s 0us/step\n"
          ],
          "name": "stdout"
        }
      ]
    },
    {
      "cell_type": "code",
      "metadata": {
        "colab_type": "code",
        "id": "Fpuh2ozquXdO",
        "colab": {}
      },
      "source": [
        "x = model.output\n",
        "x = GlobalAveragePooling2D()(x)\n",
        "x = Dropout(0.3)(x)\n",
        "x = Dense(128, activation=\"relu\")(x)\n",
        "x = Dropout(0.3)(x)\n",
        "x = Dense(64, activation=\"relu\")(x)\n",
        "predictions = Dense(5, activation=\"softmax\")(x)"
      ],
      "execution_count": 0,
      "outputs": []
    },
    {
      "cell_type": "code",
      "metadata": {
        "colab_type": "code",
        "id": "yucbpZ23uXdQ",
        "colab": {}
      },
      "source": [
        "model = Model(inputs=model.input, outputs=predictions)"
      ],
      "execution_count": 0,
      "outputs": []
    },
    {
      "cell_type": "code",
      "metadata": {
        "colab_type": "code",
        "id": "aK7Wg-4fuXdR",
        "colab": {}
      },
      "source": [
        "def custom_loss(y_true, y_pred):\n",
        "    return tf.keras.losses.categorical_crossentropy(y_true, y_pred, label_smoothing=0.1)"
      ],
      "execution_count": 0,
      "outputs": []
    },
    {
      "cell_type": "code",
      "metadata": {
        "colab_type": "code",
        "id": "XpIera9DuXdT",
        "colab": {}
      },
      "source": [
        "model.compile(optimizer='adam', loss=custom_loss, metrics=['accuracy'])"
      ],
      "execution_count": 0,
      "outputs": []
    },
    {
      "cell_type": "code",
      "metadata": {
        "colab_type": "code",
        "outputId": "148187ee-ba51-47da-c3a6-414cbca520d1",
        "id": "N7IaH8ROuXdV",
        "colab": {
          "base_uri": "https://localhost:8080/",
          "height": 67
        }
      },
      "source": [
        "\n",
        "trainable_count = np.sum([K.count_params(w) for w in model.trainable_weights])\n",
        "non_trainable_count = np.sum([K.count_params(w) for w in model.non_trainable_weights])\n",
        "\n",
        "print('Total params: {:,}'.format(trainable_count + non_trainable_count))\n",
        "print('Trainable params: {:,}'.format(trainable_count))\n",
        "print('Non-trainable params: {:,}'.format(non_trainable_count))"
      ],
      "execution_count": 0,
      "outputs": [
        {
          "output_type": "stream",
          "text": [
            "Total params: 17,911,901\n",
            "Trainable params: 17,786,701\n",
            "Non-trainable params: 125,200\n"
          ],
          "name": "stdout"
        }
      ]
    },
    {
      "cell_type": "code",
      "metadata": {
        "colab_type": "code",
        "outputId": "c0b45f6f-2910-4a0d-b26b-d1b139f9ca00",
        "id": "LSG-myX4uXdX",
        "colab": {
          "base_uri": "https://localhost:8080/",
          "height": 518
        }
      },
      "source": [
        "results = model.fit(train_generator,epochs=15,\n",
        "                              steps_per_epoch=train_generator.n/batch_size,\n",
        "                              validation_data=val_generator,\n",
        "                             validation_steps=val_generator.n/batch_size,\n",
        "                              callbacks=[ReduceLROnPlateau(monitor='val_loss', factor=0.3,patience=2, min_lr=0.000001)])"
      ],
      "execution_count": 0,
      "outputs": [
        {
          "output_type": "stream",
          "text": [
            "Epoch 1/15\n",
            "27/26 [==============================] - 22s 819ms/step - loss: 1.1317 - accuracy: 0.6247 - val_loss: 1.5866 - val_accuracy: 0.5944 - lr: 0.0010\n",
            "Epoch 2/15\n",
            "27/26 [==============================] - 20s 724ms/step - loss: 0.7690 - accuracy: 0.8392 - val_loss: 1.0498 - val_accuracy: 0.7278 - lr: 0.0010\n",
            "Epoch 3/15\n",
            "27/26 [==============================] - 19s 715ms/step - loss: 0.6711 - accuracy: 0.8718 - val_loss: 0.9144 - val_accuracy: 0.7444 - lr: 0.0010\n",
            "Epoch 4/15\n",
            "27/26 [==============================] - 19s 719ms/step - loss: 0.7298 - accuracy: 0.8578 - val_loss: 0.8566 - val_accuracy: 0.7944 - lr: 0.0010\n",
            "Epoch 5/15\n",
            "27/26 [==============================] - 19s 712ms/step - loss: 0.6303 - accuracy: 0.9021 - val_loss: 1.0481 - val_accuracy: 0.7500 - lr: 0.0010\n",
            "Epoch 6/15\n",
            "27/26 [==============================] - 20s 724ms/step - loss: 0.6480 - accuracy: 0.8974 - val_loss: 0.7038 - val_accuracy: 0.8500 - lr: 0.0010\n",
            "Epoch 7/15\n",
            "27/26 [==============================] - 19s 715ms/step - loss: 0.6226 - accuracy: 0.9161 - val_loss: 1.2383 - val_accuracy: 0.6722 - lr: 0.0010\n",
            "Epoch 8/15\n",
            "27/26 [==============================] - 19s 716ms/step - loss: 0.5991 - accuracy: 0.9184 - val_loss: 1.0244 - val_accuracy: 0.8000 - lr: 0.0010\n",
            "Epoch 9/15\n",
            "27/26 [==============================] - 19s 719ms/step - loss: 0.5439 - accuracy: 0.9394 - val_loss: 0.9357 - val_accuracy: 0.8222 - lr: 3.0000e-04\n",
            "Epoch 10/15\n",
            "27/26 [==============================] - 19s 707ms/step - loss: 0.5496 - accuracy: 0.9417 - val_loss: 0.8429 - val_accuracy: 0.8111 - lr: 3.0000e-04\n",
            "Epoch 11/15\n",
            "27/26 [==============================] - 19s 719ms/step - loss: 0.5231 - accuracy: 0.9604 - val_loss: 0.8101 - val_accuracy: 0.8167 - lr: 9.0000e-05\n",
            "Epoch 12/15\n",
            "27/26 [==============================] - 19s 720ms/step - loss: 0.5239 - accuracy: 0.9441 - val_loss: 0.7672 - val_accuracy: 0.8444 - lr: 9.0000e-05\n",
            "Epoch 13/15\n",
            "27/26 [==============================] - 20s 725ms/step - loss: 0.5140 - accuracy: 0.9487 - val_loss: 0.7230 - val_accuracy: 0.8444 - lr: 2.7000e-05\n",
            "Epoch 14/15\n",
            "27/26 [==============================] - 20s 723ms/step - loss: 0.4857 - accuracy: 0.9744 - val_loss: 0.6791 - val_accuracy: 0.8778 - lr: 2.7000e-05\n",
            "Epoch 15/15\n",
            "27/26 [==============================] - 19s 719ms/step - loss: 0.4902 - accuracy: 0.9627 - val_loss: 0.6783 - val_accuracy: 0.8722 - lr: 2.7000e-05\n"
          ],
          "name": "stdout"
        }
      ]
    },
    {
      "cell_type": "code",
      "metadata": {
        "colab_type": "code",
        "outputId": "4e9a42e3-8d20-4fe4-c876-f6e3a0d25522",
        "id": "m5KADpgcuXda",
        "colab": {
          "base_uri": "https://localhost:8080/",
          "height": 295
        }
      },
      "source": [
        "import matplotlib.pyplot as plt\n",
        "\n",
        "plt.plot(results.history['loss'])\n",
        "plt.plot(results.history['val_loss'])\n",
        "plt.title('model loss')\n",
        "plt.ylabel('loss')\n",
        "plt.xlabel('epoch')\n",
        "plt.legend(['train', 'test'], loc='upper left')\n",
        "plt.show()"
      ],
      "execution_count": 0,
      "outputs": [
        {
          "output_type": "display_data",
          "data": {
            "image/png": "[encoded data removed]",
            "text/plain": [
              "<Figure size 432x288 with 1 Axes>"
            ]
          },
          "metadata": {
            "tags": []
          }
        }
      ]
    },
    {
      "cell_type": "code",
      "metadata": {
        "colab_type": "code",
        "outputId": "5738836c-2fa5-405c-a252-b9b0ff03aa04",
        "id": "at7xjzsfuXdc",
        "colab": {
          "base_uri": "https://localhost:8080/",
          "height": 50
        }
      },
      "source": [
        "model.evaluate(val_generator,steps=val_generator.n//batch_size)"
      ],
      "execution_count": 0,
      "outputs": [
        {
          "output_type": "stream",
          "text": [
            "11/11 [==============================] - 4s 338ms/step - loss: 0.6615 - accuracy: 0.8659\n"
          ],
          "name": "stdout"
        },
        {
          "output_type": "execute_result",
          "data": {
            "text/plain": [
              "[0.6614859700202942, 0.8658536672592163]"
            ]
          },
          "metadata": {
            "tags": []
          },
          "execution_count": 21
        }
      ]
    },
    {
      "cell_type": "code",
      "metadata": {
        "colab_type": "code",
        "outputId": "d29ec28d-be1f-4de7-bac4-a4ee0ab74f20",
        "id": "0vnn2CqWuXdd",
        "colab": {
          "base_uri": "https://localhost:8080/",
          "height": 50
        }
      },
      "source": [
        "val_generator.reset()\n",
        "model.evaluate(val_generator,steps=val_generator.n//batch_size)"
      ],
      "execution_count": 0,
      "outputs": [
        {
          "output_type": "stream",
          "text": [
            "11/11 [==============================] - 4s 362ms/step - loss: 0.7230 - accuracy: 0.8636\n"
          ],
          "name": "stdout"
        },
        {
          "output_type": "execute_result",
          "data": {
            "text/plain": [
              "[0.7230337262153625, 0.8636363744735718]"
            ]
          },
          "metadata": {
            "tags": []
          },
          "execution_count": 22
        }
      ]
    },
    {
      "cell_type": "code",
      "metadata": {
        "colab_type": "code",
        "outputId": "e46875f6-7084-49aa-bcd8-54671f68711e",
        "id": "vu1hi9UPuXdf",
        "colab": {
          "base_uri": "https://localhost:8080/",
          "height": 33
        }
      },
      "source": [
        "val_generator.reset()\n",
        "y_pred=model.predict(val_generator,steps=val_generator.n/batch_size,verbose=1)"
      ],
      "execution_count": 0,
      "outputs": [
        {
          "output_type": "stream",
          "text": [
            "12/11 [================================] - 4s 342ms/step\n"
          ],
          "name": "stdout"
        }
      ]
    },
    {
      "cell_type": "code",
      "metadata": {
        "colab_type": "code",
        "id": "TiLZLyQkuXdh",
        "colab": {}
      },
      "source": [
        "if val_suffle==True:\n",
        "  per = np.random.permutation(val_generator.n)\n",
        "  val_generator.index_array = per\n",
        "  y_true = val_generator.classes[per]\n",
        "else: \n",
        "  y_true = val_generator.classes"
      ],
      "execution_count": 0,
      "outputs": []
    },
    {
      "cell_type": "code",
      "metadata": {
        "colab_type": "code",
        "id": "m2MTXwv0uXdj",
        "colab": {}
      },
      "source": [
        "y_pred=np.argmax(y_pred, axis=1)"
      ],
      "execution_count": 0,
      "outputs": []
    },
    {
      "cell_type": "code",
      "metadata": {
        "colab_type": "code",
        "outputId": "72e89d26-70e5-4e88-a185-eb7cb8f83cb2",
        "id": "-iEQWCe0uXdm",
        "colab": {
          "base_uri": "https://localhost:8080/",
          "height": 33
        }
      },
      "source": [
        "y_pred.shape,y_true.shape"
      ],
      "execution_count": 0,
      "outputs": [
        {
          "output_type": "execute_result",
          "data": {
            "text/plain": [
              "((180,), (180,))"
            ]
          },
          "metadata": {
            "tags": []
          },
          "execution_count": 26
        }
      ]
    },
    {
      "cell_type": "code",
      "metadata": {
        "colab_type": "code",
        "outputId": "b3f99a88-fd1e-4701-821d-70a0de11a020",
        "id": "a1g_Ku5auXdo",
        "colab": {
          "base_uri": "https://localhost:8080/",
          "height": 50
        }
      },
      "source": [
        "from sklearn.metrics import classification_report,accuracy_score,f1_score\n",
        "print(accuracy_score(y_true,y_pred))\n",
        "print(f1_score(y_true,y_pred,average='macro'))"
      ],
      "execution_count": 0,
      "outputs": [
        {
          "output_type": "stream",
          "text": [
            "0.8722222222222222\n",
            "0.9072243248114107\n"
          ],
          "name": "stdout"
        }
      ]
    },
    {
      "cell_type": "code",
      "metadata": {
        "colab_type": "code",
        "outputId": "916622a1-b40f-4ecd-cce7-2e7e7f3aa88c",
        "id": "QlKQtGX7uXdq",
        "colab": {
          "base_uri": "https://localhost:8080/",
          "height": 217
        }
      },
      "source": [
        "class_label=list(train_generator.class_indices.keys())\n",
        "print(classification_report(y_true, y_pred,target_names=class_label))#"
      ],
      "execution_count": 0,
      "outputs": [
        {
          "output_type": "stream",
          "text": [
            "              precision    recall  f1-score   support\n",
            "\n",
            "  Black spot       0.82      0.90      0.86        51\n",
            "    Melanose       1.00      1.00      1.00         3\n",
            "      canker       0.95      0.83      0.89        48\n",
            "    greening       0.85      0.84      0.84        61\n",
            "     healthy       0.89      1.00      0.94        17\n",
            "\n",
            "    accuracy                           0.87       180\n",
            "   macro avg       0.90      0.91      0.91       180\n",
            "weighted avg       0.88      0.87      0.87       180\n",
            "\n"
          ],
          "name": "stdout"
        }
      ]
    },
    {
      "cell_type": "markdown",
      "metadata": {
        "id": "g07G55lDuTHF",
        "colab_type": "text"
      },
      "source": [
        "### Imagenet weights"
      ]
    },
    {
      "cell_type": "code",
      "metadata": {
        "id": "TROCpFHEY_hG",
        "colab_type": "code",
        "outputId": "616237f4-351d-4577-9799-e761b56f7edc",
        "colab": {
          "base_uri": "https://localhost:8080/",
          "height": 70
        }
      },
      "source": [
        "import efficientnet.tfkeras as efn\n",
        "model =efn.EfficientNetB4(weights = 'imagenet', include_top=False, input_shape = (img_shape,img_shape,3))\n"
      ],
      "execution_count": 0,
      "outputs": [
        {
          "output_type": "stream",
          "text": [
            "Downloading data from https://github.com/Callidior/keras-applications/releases/download/efficientnet/efficientnet-b4_weights_tf_dim_ordering_tf_kernels_autoaugment_notop.h5\n",
            "71892992/71892840 [==============================] - 3s 0us/step\n"
          ],
          "name": "stdout"
        }
      ]
    },
    {
      "cell_type": "code",
      "metadata": {
        "id": "bH-iijlsYv6Z",
        "colab_type": "code",
        "colab": {}
      },
      "source": [
        "x = model.output\n",
        "x = GlobalAveragePooling2D()(x)\n",
        "x = Dropout(0.3)(x)\n",
        "x = Dense(128, activation=\"relu\")(x)\n",
        "x = Dropout(0.3)(x)\n",
        "x = Dense(64, activation=\"relu\")(x)\n",
        "predictions = Dense(5, activation=\"softmax\")(x)"
      ],
      "execution_count": 0,
      "outputs": []
    },
    {
      "cell_type": "code",
      "metadata": {
        "id": "wHi6QjGpZTZa",
        "colab_type": "code",
        "colab": {}
      },
      "source": [
        "model = Model(inputs=model.input, outputs=predictions)"
      ],
      "execution_count": 0,
      "outputs": []
    },
    {
      "cell_type": "code",
      "metadata": {
        "id": "-EiFHYX6ZVAs",
        "colab_type": "code",
        "colab": {}
      },
      "source": [
        "def custom_loss(y_true, y_pred):\n",
        "    return tf.keras.losses.categorical_crossentropy(y_true, y_pred, label_smoothing=0.1)"
      ],
      "execution_count": 0,
      "outputs": []
    },
    {
      "cell_type": "code",
      "metadata": {
        "id": "6ILUJUKTaLpY",
        "colab_type": "code",
        "colab": {}
      },
      "source": [
        "model.compile(optimizer='adam', loss=custom_loss, metrics=['accuracy'])"
      ],
      "execution_count": 0,
      "outputs": []
    },
    {
      "cell_type": "code",
      "metadata": {
        "id": "tvSJRzD9RMF9",
        "colab_type": "code",
        "outputId": "fbc56bce-d6db-49f2-d6c2-2af7fe78f0bb",
        "colab": {
          "base_uri": "https://localhost:8080/",
          "height": 67
        }
      },
      "source": [
        "\n",
        "trainable_count = np.sum([K.count_params(w) for w in model.trainable_weights])\n",
        "non_trainable_count = np.sum([K.count_params(w) for w in model.non_trainable_weights])\n",
        "\n",
        "print('Total params: {:,}'.format(trainable_count + non_trainable_count))\n",
        "print('Trainable params: {:,}'.format(trainable_count))\n",
        "print('Non-trainable params: {:,}'.format(non_trainable_count))"
      ],
      "execution_count": 0,
      "outputs": [
        {
          "output_type": "stream",
          "text": [
            "Total params: 17,911,901\n",
            "Trainable params: 17,786,701\n",
            "Non-trainable params: 125,200\n"
          ],
          "name": "stdout"
        }
      ]
    },
    {
      "cell_type": "code",
      "metadata": {
        "id": "XGM8_mVLZY8a",
        "colab_type": "code",
        "outputId": "6c303117-880b-4932-fe71-5daff7df549e",
        "colab": {
          "base_uri": "https://localhost:8080/",
          "height": 518
        }
      },
      "source": [
        "results = model.fit(train_generator,epochs=15,\n",
        "                              steps_per_epoch=train_generator.n/batch_size,\n",
        "                              validation_data=val_generator,\n",
        "                             validation_steps=val_generator.n/batch_size,\n",
        "                              callbacks=[ReduceLROnPlateau(monitor='val_loss', factor=0.3,patience=2, min_lr=0.000001)])"
      ],
      "execution_count": 0,
      "outputs": [
        {
          "output_type": "stream",
          "text": [
            "Epoch 1/15\n",
            "27/26 [==============================] - 21s 792ms/step - loss: 1.1492 - accuracy: 0.5991 - val_loss: 1.2210 - val_accuracy: 0.5611 - lr: 0.0010\n",
            "Epoch 2/15\n",
            "27/26 [==============================] - 20s 727ms/step - loss: 0.7869 - accuracy: 0.8345 - val_loss: 1.8741 - val_accuracy: 0.5556 - lr: 0.0010\n",
            "Epoch 3/15\n",
            "27/26 [==============================] - 20s 723ms/step - loss: 0.7042 - accuracy: 0.8811 - val_loss: 1.1582 - val_accuracy: 0.6333 - lr: 0.0010\n",
            "Epoch 4/15\n",
            "27/26 [==============================] - 20s 726ms/step - loss: 0.6689 - accuracy: 0.8858 - val_loss: 1.2304 - val_accuracy: 0.6722 - lr: 0.0010\n",
            "Epoch 5/15\n",
            "27/26 [==============================] - 19s 718ms/step - loss: 0.6541 - accuracy: 0.8928 - val_loss: 1.3836 - val_accuracy: 0.6444 - lr: 0.0010\n",
            "Epoch 6/15\n",
            "27/26 [==============================] - 19s 719ms/step - loss: 0.6235 - accuracy: 0.9044 - val_loss: 1.2125 - val_accuracy: 0.5944 - lr: 3.0000e-04\n",
            "Epoch 7/15\n",
            "27/26 [==============================] - 19s 719ms/step - loss: 0.5728 - accuracy: 0.9231 - val_loss: 1.1038 - val_accuracy: 0.6444 - lr: 3.0000e-04\n",
            "Epoch 8/15\n",
            "27/26 [==============================] - 20s 727ms/step - loss: 0.5348 - accuracy: 0.9510 - val_loss: 1.1161 - val_accuracy: 0.6389 - lr: 3.0000e-04\n",
            "Epoch 9/15\n",
            "27/26 [==============================] - 19s 718ms/step - loss: 0.5131 - accuracy: 0.9604 - val_loss: 1.0594 - val_accuracy: 0.6556 - lr: 3.0000e-04\n",
            "Epoch 10/15\n",
            "27/26 [==============================] - 19s 720ms/step - loss: 0.4961 - accuracy: 0.9650 - val_loss: 0.8049 - val_accuracy: 0.7944 - lr: 3.0000e-04\n",
            "Epoch 11/15\n",
            "27/26 [==============================] - 19s 713ms/step - loss: 0.4812 - accuracy: 0.9790 - val_loss: 0.8506 - val_accuracy: 0.8056 - lr: 3.0000e-04\n",
            "Epoch 12/15\n",
            "27/26 [==============================] - 20s 723ms/step - loss: 0.4987 - accuracy: 0.9627 - val_loss: 0.7418 - val_accuracy: 0.8333 - lr: 3.0000e-04\n",
            "Epoch 13/15\n",
            "27/26 [==============================] - 20s 726ms/step - loss: 0.4963 - accuracy: 0.9557 - val_loss: 0.8771 - val_accuracy: 0.7500 - lr: 3.0000e-04\n",
            "Epoch 14/15\n",
            "27/26 [==============================] - 19s 715ms/step - loss: 0.4674 - accuracy: 0.9720 - val_loss: 0.8572 - val_accuracy: 0.8111 - lr: 3.0000e-04\n",
            "Epoch 15/15\n",
            "27/26 [==============================] - 20s 724ms/step - loss: 0.4490 - accuracy: 0.9860 - val_loss: 0.8351 - val_accuracy: 0.8278 - lr: 9.0000e-05\n"
          ],
          "name": "stdout"
        }
      ]
    },
    {
      "cell_type": "code",
      "metadata": {
        "id": "1wwHnZWzchDE",
        "colab_type": "code",
        "outputId": "3ba6b5ee-23ce-44df-8753-46bcf29723e2",
        "colab": {
          "base_uri": "https://localhost:8080/",
          "height": 295
        }
      },
      "source": [
        "import matplotlib.pyplot as plt\n",
        "\n",
        "plt.plot(results.history['loss'])\n",
        "plt.plot(results.history['val_loss'])\n",
        "plt.title('model loss')\n",
        "plt.ylabel('loss')\n",
        "plt.xlabel('epoch')\n",
        "plt.legend(['train', 'test'], loc='upper left')\n",
        "plt.show()"
      ],
      "execution_count": 0,
      "outputs": [
        {
          "output_type": "display_data",
          "data": {
            "image/png": "[encoded data removed]",
            "text/plain": [
              "<Figure size 432x288 with 1 Axes>"
            ]
          },
          "metadata": {
            "tags": []
          }
        }
      ]
    },
    {
      "cell_type": "code",
      "metadata": {
        "id": "XBNK5gduAiIs",
        "colab_type": "code",
        "outputId": "715cff10-4ee1-472e-acef-828b4cb1a1f6",
        "colab": {
          "base_uri": "https://localhost:8080/",
          "height": 50
        }
      },
      "source": [
        "model.evaluate(val_generator,steps=val_generator.n//batch_size)"
      ],
      "execution_count": 0,
      "outputs": [
        {
          "output_type": "stream",
          "text": [
            "11/11 [==============================] - 4s 334ms/step - loss: 0.8045 - accuracy: 0.8354\n"
          ],
          "name": "stdout"
        },
        {
          "output_type": "execute_result",
          "data": {
            "text/plain": [
              "[0.8044862151145935, 0.8353658318519592]"
            ]
          },
          "metadata": {
            "tags": []
          },
          "execution_count": 37
        }
      ]
    },
    {
      "cell_type": "code",
      "metadata": {
        "id": "3W31Zr5BBq3n",
        "colab_type": "code",
        "outputId": "c258c288-25e4-4914-dc23-fc6a88d187de",
        "colab": {
          "base_uri": "https://localhost:8080/",
          "height": 50
        }
      },
      "source": [
        "val_generator.reset()\n",
        "model.evaluate(val_generator,steps=val_generator.n//batch_size)"
      ],
      "execution_count": 0,
      "outputs": [
        {
          "output_type": "stream",
          "text": [
            "11/11 [==============================] - 4s 364ms/step - loss: 0.8262 - accuracy: 0.8182\n"
          ],
          "name": "stdout"
        },
        {
          "output_type": "execute_result",
          "data": {
            "text/plain": [
              "[0.8262167572975159, 0.8181818127632141]"
            ]
          },
          "metadata": {
            "tags": []
          },
          "execution_count": 38
        }
      ]
    },
    {
      "cell_type": "code",
      "metadata": {
        "id": "G_ZFYgc4zUBy",
        "colab_type": "code",
        "outputId": "8fb012e9-700b-49f3-e4c7-fb67f821b421",
        "colab": {
          "base_uri": "https://localhost:8080/",
          "height": 33
        }
      },
      "source": [
        "val_generator.reset()\n",
        "y_pred=model.predict(val_generator,steps=val_generator.n/batch_size,verbose=1)"
      ],
      "execution_count": 0,
      "outputs": [
        {
          "output_type": "stream",
          "text": [
            "12/11 [================================] - 4s 347ms/step\n"
          ],
          "name": "stdout"
        }
      ]
    },
    {
      "cell_type": "code",
      "metadata": {
        "id": "XPbPFn7fDfFR",
        "colab_type": "code",
        "colab": {}
      },
      "source": [
        "if val_suffle==True:\n",
        "  per = np.random.permutation(val_generator.n)\n",
        "  val_generator.index_array = per\n",
        "  y_true = val_generator.classes[per]\n",
        "else: \n",
        "  y_true = val_generator.classes"
      ],
      "execution_count": 0,
      "outputs": []
    },
    {
      "cell_type": "code",
      "metadata": {
        "id": "MHU7_JsVB0jH",
        "colab_type": "code",
        "colab": {}
      },
      "source": [
        "y_pred=np.argmax(y_pred, axis=1)"
      ],
      "execution_count": 0,
      "outputs": []
    },
    {
      "cell_type": "code",
      "metadata": {
        "id": "4wpcSCSWEGnh",
        "colab_type": "code",
        "outputId": "e5da1cd6-33ca-4def-d453-d392da908e08",
        "colab": {
          "base_uri": "https://localhost:8080/",
          "height": 33
        }
      },
      "source": [
        "y_pred.shape,y_true.shape"
      ],
      "execution_count": 0,
      "outputs": [
        {
          "output_type": "execute_result",
          "data": {
            "text/plain": [
              "((180,), (180,))"
            ]
          },
          "metadata": {
            "tags": []
          },
          "execution_count": 42
        }
      ]
    },
    {
      "cell_type": "code",
      "metadata": {
        "id": "XpYXUzgyZf4g",
        "colab_type": "code",
        "outputId": "08178eae-8dcb-4d52-d430-b8056474a240",
        "colab": {
          "base_uri": "https://localhost:8080/",
          "height": 50
        }
      },
      "source": [
        "from sklearn.metrics import classification_report,accuracy_score,f1_score\n",
        "print(accuracy_score(y_true,y_pred))\n",
        "print(f1_score(y_true,y_pred,average='macro'))"
      ],
      "execution_count": 0,
      "outputs": [
        {
          "output_type": "stream",
          "text": [
            "0.85\n",
            "0.8965231349012492\n"
          ],
          "name": "stdout"
        }
      ]
    },
    {
      "cell_type": "code",
      "metadata": {
        "id": "486dBdG0YqEV",
        "colab_type": "code",
        "outputId": "20992e73-d59d-418c-9b74-ec35f586a63e",
        "colab": {
          "base_uri": "https://localhost:8080/",
          "height": 217
        }
      },
      "source": [
        "class_label=list(train_generator.class_indices.keys())\n",
        "print(classification_report(y_true, y_pred,target_names=class_label))#"
      ],
      "execution_count": 0,
      "outputs": [
        {
          "output_type": "stream",
          "text": [
            "              precision    recall  f1-score   support\n",
            "\n",
            "  Black spot       0.73      0.92      0.82        51\n",
            "    Melanose       1.00      1.00      1.00         3\n",
            "      canker       0.95      0.81      0.88        48\n",
            "    greening       0.87      0.77      0.82        61\n",
            "     healthy       0.94      1.00      0.97        17\n",
            "\n",
            "    accuracy                           0.85       180\n",
            "   macro avg       0.90      0.90      0.90       180\n",
            "weighted avg       0.86      0.85      0.85       180\n",
            "\n"
          ],
          "name": "stdout"
        }
      ]
    },
    {
      "cell_type": "markdown",
      "metadata": {
        "id": "QL5qbrpibgGU",
        "colab_type": "text"
      },
      "source": [
        "# Similar task transfer learning"
      ]
    },
    {
      "cell_type": "code",
      "metadata": {
        "id": "r7mwKSnDLrwY",
        "colab_type": "code",
        "colab": {}
      },
      "source": [
        ""
      ],
      "execution_count": 0,
      "outputs": []
    },
    {
      "cell_type": "markdown",
      "metadata": {
        "id": "hjKCpi6nLtA4",
        "colab_type": "text"
      },
      "source": [
        "##download pretrained model\n",
        "We trained this model on kaggle \n",
        "https://www.kaggle.com/chtalhaanwar/keras-efficientnet?scriptVersionId=30290935\n",
        "For each either download the model directly from kaggle given link below, if it does not work, you need to download it manually and upload it in google drive or here directly"
      ]
    },
    {
      "cell_type": "code",
      "metadata": {
        "id": "U71dlvelQIKi",
        "colab_type": "code",
        "colab": {}
      },
      "source": [
        "#!wget https://www.kaggleusercontent.com/kf/31126480/eyJhbGciOiJkaXIiLCJlbmMiOiJBMTI4Q0JDLUhTMjU2In0..tHB2-QNYsfqKBXukuQX30A.RmXgMxIt2sYEoJiyZg6ry9MrtxHLkDLoaojnvhIRtN5Pm-I3r2dlwxwYF0S8D1hs876KSQHU3Ju2QqrJiE1Ey_x8gFUTXq_d7QjO2TyQ9InbWfusw_nLbytbhs-ZGSG2zeaktKstevFa5T-u0O0VjuU1kayaHFXgZt-kLPaLoSHHbcpZCWXzw79MHIxWMdd2ZbkoJRmfMvXxElgbQ27ylbdAOc2yDJdcWXVzKF_aCkFH4k7CLQlYnh_nzPPbp0_bu6I7ZbNARD_g9jc3RQB0tg-Asz2AHF5aVGF7B3y-jWRSX3XG642lO3MNBMzm-X6UGlJoehtieQPHJj5Ky36Ir8hCM-jXyXgoJlTdOiZC61jpn_Kt7nzqHvHBPk_GFBC14wkdZmF3njakznhuSacZbkChJx9g-QGVRZWzGmRlkbDb23MsxFxQ3qpf8M4tV7vsQW0EhsRDI3QMDVKRZdmLJqgRlr5v3WHfPlJH9Dtcm0kK1r5tPzXPdciMhan3w2mf1pZmmCorHhwA7uvbd80iRLgY81g1irGEei3bGltjYSuI2JwaoTu3E5UP8vywT_wTSzwpFrY-38ENlqvqefbtYRQffLQjtPSZVYcvY7rKzviZakJrc0knW08QpZiNgPVmj0uLTCammTlwteSp3dbppK35NcgQgMzEJl-49-MP0wQ.tWGgsGxGaJxEmba-Q8zUVA/model_weights.h5"
      ],
      "execution_count": 0,
      "outputs": []
    },
    {
      "cell_type": "code",
      "metadata": {
        "id": "Muiiqpza84GK",
        "colab_type": "code",
        "colab": {}
      },
      "source": [
        "#cp /content/model_weights.h5 /content/drive/My\\ Drive/data/"
      ],
      "execution_count": 0,
      "outputs": []
    },
    {
      "cell_type": "code",
      "metadata": {
        "id": "6cYJRZxhQX0m",
        "colab_type": "code",
        "colab": {}
      },
      "source": [
        "cp /content/drive/My\\ Drive/data/model_weights.h5 /content"
      ],
      "execution_count": 0,
      "outputs": []
    },
    {
      "cell_type": "code",
      "metadata": {
        "id": "rOY0IT-ncmbg",
        "colab_type": "code",
        "outputId": "6207a2c4-4c82-4223-b896-262bb5c85444",
        "colab": {
          "base_uri": "https://localhost:8080/",
          "height": 33
        }
      },
      "source": [
        "transfer_model =efn.EfficientNetB4(weights = None, include_top=False, input_shape = (img_shape,img_shape,3))\n",
        "x = transfer_model.output\n",
        "print(x.shape)\n",
        "x = GlobalAveragePooling2D()(x)\n",
        "x = Dropout(0.3)(x)\n",
        "x = Dense(128, activation=\"relu\")(x)\n",
        "x = Dropout(0.3)(x)\n",
        "x = Dense(64, activation=\"relu\")(x)\n",
        "transfer_predictions = Dense(4, activation=\"softmax\")(x)\n",
        "transfer_model = Model(inputs=transfer_model.input, outputs=transfer_predictions)\n",
        "transfer_model.load_weights('model_weights.h5')"
      ],
      "execution_count": 0,
      "outputs": [
        {
          "output_type": "stream",
          "text": [
            "(None, 10, 10, 1792)\n"
          ],
          "name": "stdout"
        }
      ]
    },
    {
      "cell_type": "code",
      "metadata": {
        "id": "69Cg09MsqRjE",
        "colab_type": "code",
        "colab": {}
      },
      "source": [
        "for layer in transfer_model.layers[:-4]:\n",
        "    layer.trainable = False"
      ],
      "execution_count": 0,
      "outputs": []
    },
    {
      "cell_type": "code",
      "metadata": {
        "id": "cApeOsryWdjo",
        "colab_type": "code",
        "colab": {}
      },
      "source": [
        "# for i in transfer_model.layers:\n",
        "#   print(i,i.trainable)"
      ],
      "execution_count": 0,
      "outputs": []
    },
    {
      "cell_type": "code",
      "metadata": {
        "id": "sMbIzLCMQyZn",
        "colab_type": "code",
        "outputId": "fb52d184-0581-43fb-c1d0-d04ff0d0b6a5",
        "colab": {
          "base_uri": "https://localhost:8080/",
          "height": 67
        }
      },
      "source": [
        "trainable_count = np.sum([K.count_params(w) for w in transfer_model.trainable_weights])\n",
        "non_trainable_count = np.sum([K.count_params(w) for w in transfer_model.non_trainable_weights])\n",
        "\n",
        "print('Total params: {:,}'.format(trainable_count + non_trainable_count))\n",
        "print('Trainable params: {:,}'.format(trainable_count))\n",
        "print('Non-trainable params: {:,}'.format(non_trainable_count))"
      ],
      "execution_count": 0,
      "outputs": [
        {
          "output_type": "stream",
          "text": [
            "Total params: 17,911,836\n",
            "Trainable params: 238,020\n",
            "Non-trainable params: 17,673,816\n"
          ],
          "name": "stdout"
        }
      ]
    },
    {
      "cell_type": "code",
      "metadata": {
        "id": "ncYOBatYoKWy",
        "colab_type": "code",
        "colab": {}
      },
      "source": [
        "transfer_model2 = Model(transfer_model.input, transfer_model.layers[-7].output)"
      ],
      "execution_count": 0,
      "outputs": []
    },
    {
      "cell_type": "code",
      "metadata": {
        "id": "ouJIu7ZcDwB7",
        "colab_type": "code",
        "outputId": "9d4622cc-6b44-4284-dc0b-1780152135f0",
        "colab": {
          "base_uri": "https://localhost:8080/",
          "height": 33
        }
      },
      "source": [
        "x = transfer_model2.output\n",
        "print(x.shape)\n",
        "x = GlobalAveragePooling2D()(x)\n",
        "x = Dropout(0.3)(x)\n",
        "x = Dense(128, activation=\"relu\")(x)\n",
        "x = Dropout(0.3)(x)\n",
        "x = Dense(64, activation=\"relu\")(x)\n",
        "\n",
        "transfer_predictions = Dense(5, activation=\"softmax\")(x)\n",
        "transfer_model2 = Model(inputs=transfer_model2.input, outputs=transfer_predictions)"
      ],
      "execution_count": 0,
      "outputs": [
        {
          "output_type": "stream",
          "text": [
            "(None, 10, 10, 1792)\n"
          ],
          "name": "stdout"
        }
      ]
    },
    {
      "cell_type": "code",
      "metadata": {
        "id": "gd0YSSFSRXtt",
        "colab_type": "code",
        "outputId": "30a69eb0-904f-4089-9f3c-ed63af8f3468",
        "colab": {
          "base_uri": "https://localhost:8080/",
          "height": 67
        }
      },
      "source": [
        "trainable_count = np.sum([K.count_params(w) for w in transfer_model2.trainable_weights])\n",
        "non_trainable_count = np.sum([K.count_params(w) for w in transfer_model2.non_trainable_weights])\n",
        "\n",
        "print('Total params: {:,}'.format(trainable_count + non_trainable_count))\n",
        "print('Trainable params: {:,}'.format(trainable_count))\n",
        "print('Non-trainable params: {:,}'.format(non_trainable_count))"
      ],
      "execution_count": 0,
      "outputs": [
        {
          "output_type": "stream",
          "text": [
            "Total params: 17,911,901\n",
            "Trainable params: 238,085\n",
            "Non-trainable params: 17,673,816\n"
          ],
          "name": "stdout"
        }
      ]
    },
    {
      "cell_type": "code",
      "metadata": {
        "id": "CzH8HCBwemPj",
        "colab_type": "code",
        "colab": {}
      },
      "source": [
        "transfer_model2.compile(optimizer=Adam(0.0001), loss=custom_loss, metrics=['accuracy'])"
      ],
      "execution_count": 0,
      "outputs": []
    },
    {
      "cell_type": "code",
      "metadata": {
        "id": "rpkwcyUQeP0O",
        "colab_type": "code",
        "outputId": "90ac0ab2-94b0-40f1-cc5e-59bb5bdaebe1",
        "colab": {
          "base_uri": "https://localhost:8080/",
          "height": 518
        }
      },
      "source": [
        "results = transfer_model2.fit(train_generator,epochs=15,\n",
        "                              steps_per_epoch=train_generator.n/batch_size,\n",
        "                              validation_data=val_generator,\n",
        "                             validation_steps=val_generator.n/batch_size,\n",
        "                              callbacks=[ReduceLROnPlateau(monitor='val_loss', factor=0.3,patience=2, min_lr=0.0000001)])"
      ],
      "execution_count": 0,
      "outputs": [
        {
          "output_type": "stream",
          "text": [
            "Epoch 1/15\n",
            "27/26 [==============================] - 17s 643ms/step - loss: 1.4660 - accuracy: 0.3497 - val_loss: 1.3748 - val_accuracy: 0.6000 - lr: 1.0000e-04\n",
            "Epoch 2/15\n",
            "27/26 [==============================] - 15s 565ms/step - loss: 1.3417 - accuracy: 0.4732 - val_loss: 1.2837 - val_accuracy: 0.5389 - lr: 1.0000e-04\n",
            "Epoch 3/15\n",
            "27/26 [==============================] - 15s 566ms/step - loss: 1.2589 - accuracy: 0.5315 - val_loss: 1.2032 - val_accuracy: 0.6056 - lr: 1.0000e-04\n",
            "Epoch 4/15\n",
            "27/26 [==============================] - 16s 575ms/step - loss: 1.2149 - accuracy: 0.5315 - val_loss: 1.1697 - val_accuracy: 0.5944 - lr: 1.0000e-04\n",
            "Epoch 5/15\n",
            "27/26 [==============================] - 15s 570ms/step - loss: 1.1196 - accuracy: 0.6037 - val_loss: 1.1455 - val_accuracy: 0.6000 - lr: 1.0000e-04\n",
            "Epoch 6/15\n",
            "27/26 [==============================] - 16s 574ms/step - loss: 1.1293 - accuracy: 0.5641 - val_loss: 1.0728 - val_accuracy: 0.6222 - lr: 1.0000e-04\n",
            "Epoch 7/15\n",
            "27/26 [==============================] - 15s 568ms/step - loss: 1.1312 - accuracy: 0.5478 - val_loss: 1.1181 - val_accuracy: 0.6111 - lr: 1.0000e-04\n",
            "Epoch 8/15\n",
            "27/26 [==============================] - 15s 569ms/step - loss: 1.0986 - accuracy: 0.5664 - val_loss: 1.0770 - val_accuracy: 0.6167 - lr: 1.0000e-04\n",
            "Epoch 9/15\n",
            "27/26 [==============================] - 15s 568ms/step - loss: 1.0817 - accuracy: 0.5758 - val_loss: 1.0919 - val_accuracy: 0.6556 - lr: 3.0000e-05\n",
            "Epoch 10/15\n",
            "27/26 [==============================] - 15s 564ms/step - loss: 1.0682 - accuracy: 0.5804 - val_loss: 1.0152 - val_accuracy: 0.6722 - lr: 3.0000e-05\n",
            "Epoch 11/15\n",
            "27/26 [==============================] - 15s 560ms/step - loss: 1.0427 - accuracy: 0.5781 - val_loss: 1.0767 - val_accuracy: 0.6222 - lr: 3.0000e-05\n",
            "Epoch 12/15\n",
            "27/26 [==============================] - 16s 580ms/step - loss: 1.0830 - accuracy: 0.5828 - val_loss: 1.0472 - val_accuracy: 0.6722 - lr: 3.0000e-05\n",
            "Epoch 13/15\n",
            "27/26 [==============================] - 15s 570ms/step - loss: 1.0411 - accuracy: 0.6084 - val_loss: 1.0552 - val_accuracy: 0.7111 - lr: 9.0000e-06\n",
            "Epoch 14/15\n",
            "27/26 [==============================] - 15s 564ms/step - loss: 1.0437 - accuracy: 0.6434 - val_loss: 1.0430 - val_accuracy: 0.6500 - lr: 9.0000e-06\n",
            "Epoch 15/15\n",
            "27/26 [==============================] - 15s 571ms/step - loss: 1.0622 - accuracy: 0.5804 - val_loss: 1.0816 - val_accuracy: 0.6667 - lr: 2.7000e-06\n"
          ],
          "name": "stdout"
        }
      ]
    },
    {
      "cell_type": "code",
      "metadata": {
        "id": "lsK0-eKKRirF",
        "colab_type": "code",
        "colab": {}
      },
      "source": [
        "# import gc\n",
        "# del transfer_model2\n",
        "# tf.keras.backend.clear_session()\n",
        "# gc.collect()"
      ],
      "execution_count": 0,
      "outputs": []
    },
    {
      "cell_type": "code",
      "metadata": {
        "colab_type": "code",
        "outputId": "abaf5f08-8de4-4e94-f2ed-5e0f40ebf3f6",
        "id": "QL7J77qZRn3M",
        "colab": {
          "base_uri": "https://localhost:8080/",
          "height": 295
        }
      },
      "source": [
        "import matplotlib.pyplot as plt\n",
        "\n",
        "plt.plot(results.history['loss'])\n",
        "plt.plot(results.history['val_loss'])\n",
        "plt.title('model loss')\n",
        "plt.ylabel('loss')\n",
        "plt.xlabel('epoch')\n",
        "plt.legend(['train', 'test'], loc='upper left')\n",
        "plt.show()"
      ],
      "execution_count": 0,
      "outputs": [
        {
          "output_type": "display_data",
          "data": {
            "image/png": "[encoded data removed]",
            "text/plain": [
              "<Figure size 432x288 with 1 Axes>"
            ]
          },
          "metadata": {
            "tags": []
          }
        }
      ]
    },
    {
      "cell_type": "code",
      "metadata": {
        "colab_type": "code",
        "outputId": "51544183-0810-4915-8431-3b39dfb6dde9",
        "id": "PuJuxCBqRn3P",
        "colab": {
          "base_uri": "https://localhost:8080/",
          "height": 50
        }
      },
      "source": [
        "transfer_model2.evaluate(val_generator,steps=val_generator.n//batch_size)"
      ],
      "execution_count": 0,
      "outputs": [
        {
          "output_type": "stream",
          "text": [
            "11/11 [==============================] - 4s 336ms/step - loss: 1.0481 - accuracy: 0.6646\n"
          ],
          "name": "stdout"
        },
        {
          "output_type": "execute_result",
          "data": {
            "text/plain": [
              "[1.048058271408081, 0.6646341681480408]"
            ]
          },
          "metadata": {
            "tags": []
          },
          "execution_count": 85
        }
      ]
    },
    {
      "cell_type": "code",
      "metadata": {
        "colab_type": "code",
        "outputId": "7d23de1d-fbed-41b3-c76a-773b7e19bccf",
        "id": "tkiWqLoHRn3R",
        "colab": {
          "base_uri": "https://localhost:8080/",
          "height": 50
        }
      },
      "source": [
        "val_generator.reset()\n",
        "transfer_model2.evaluate(val_generator,steps=val_generator.n//batch_size)"
      ],
      "execution_count": 0,
      "outputs": [
        {
          "output_type": "stream",
          "text": [
            "11/11 [==============================] - 4s 362ms/step - loss: 1.0092 - accuracy: 0.6818\n"
          ],
          "name": "stdout"
        },
        {
          "output_type": "execute_result",
          "data": {
            "text/plain": [
              "[1.0092233419418335, 0.6818181872367859]"
            ]
          },
          "metadata": {
            "tags": []
          },
          "execution_count": 86
        }
      ]
    },
    {
      "cell_type": "code",
      "metadata": {
        "colab_type": "code",
        "outputId": "a14bdec6-b18a-4218-a299-4df09261002f",
        "id": "iFYQVKmlRn3V",
        "colab": {
          "base_uri": "https://localhost:8080/",
          "height": 33
        }
      },
      "source": [
        "val_generator.reset()\n",
        "y_pred=transfer_model2.predict(val_generator,steps=val_generator.n/batch_size,verbose=1)"
      ],
      "execution_count": 0,
      "outputs": [
        {
          "output_type": "stream",
          "text": [
            "12/11 [================================] - 4s 344ms/step\n"
          ],
          "name": "stdout"
        }
      ]
    },
    {
      "cell_type": "code",
      "metadata": {
        "colab_type": "code",
        "id": "uNa1nXifRn3X",
        "colab": {}
      },
      "source": [
        "if val_suffle==True:\n",
        "  per = np.random.permutation(val_generator.n)\n",
        "  val_generator.index_array = per\n",
        "  y_true = val_generator.classes[per]\n",
        "else: \n",
        "  y_true = val_generator.classes"
      ],
      "execution_count": 0,
      "outputs": []
    },
    {
      "cell_type": "code",
      "metadata": {
        "colab_type": "code",
        "id": "U5FpWo88Rn3Y",
        "colab": {}
      },
      "source": [
        "y_pred=np.argmax(y_pred, axis=1)"
      ],
      "execution_count": 0,
      "outputs": []
    },
    {
      "cell_type": "code",
      "metadata": {
        "colab_type": "code",
        "outputId": "63a07746-d68a-4f42-bfc8-6ebf2453edb2",
        "id": "IBJpGPKQRn3b",
        "colab": {
          "base_uri": "https://localhost:8080/",
          "height": 33
        }
      },
      "source": [
        "y_pred.shape,y_true.shape"
      ],
      "execution_count": 0,
      "outputs": [
        {
          "output_type": "execute_result",
          "data": {
            "text/plain": [
              "((180,), (180,))"
            ]
          },
          "metadata": {
            "tags": []
          },
          "execution_count": 90
        }
      ]
    },
    {
      "cell_type": "code",
      "metadata": {
        "colab_type": "code",
        "outputId": "5d350a7a-e03b-4c7e-b937-e263a57b5ebb",
        "id": "TLl0i4HERn3d",
        "colab": {
          "base_uri": "https://localhost:8080/",
          "height": 50
        }
      },
      "source": [
        "from sklearn.metrics import classification_report,accuracy_score,f1_score\n",
        "print(accuracy_score(y_true,y_pred))\n",
        "print(f1_score(y_true,y_pred,average='macro'))"
      ],
      "execution_count": 0,
      "outputs": [
        {
          "output_type": "stream",
          "text": [
            "0.6666666666666666\n",
            "0.6222232119017207\n"
          ],
          "name": "stdout"
        }
      ]
    },
    {
      "cell_type": "code",
      "metadata": {
        "colab_type": "code",
        "outputId": "7ea22d6f-e4b1-45bf-92a6-f9679262fe62",
        "id": "AvqCy_hhRn3f",
        "colab": {
          "base_uri": "https://localhost:8080/",
          "height": 217
        }
      },
      "source": [
        "class_label=list(train_generator.class_indices.keys())\n",
        "print(classification_report(y_true, y_pred,target_names=class_label))#"
      ],
      "execution_count": 0,
      "outputs": [
        {
          "output_type": "stream",
          "text": [
            "              precision    recall  f1-score   support\n",
            "\n",
            "  Black spot       0.76      0.31      0.44        51\n",
            "    Melanose       1.00      0.67      0.80         3\n",
            "      canker       0.98      0.83      0.90        48\n",
            "    greening       0.53      0.97      0.68        61\n",
            "     healthy       0.75      0.18      0.29        17\n",
            "\n",
            "    accuracy                           0.67       180\n",
            "   macro avg       0.80      0.59      0.62       180\n",
            "weighted avg       0.74      0.67      0.64       180\n",
            "\n"
          ],
          "name": "stdout"
        }
      ]
    },
    {
      "cell_type": "code",
      "metadata": {
        "id": "5nYbst1kd5av",
        "colab_type": "code",
        "colab": {}
      },
      "source": [
        ""
      ],
      "execution_count": 0,
      "outputs": []
    }
  ]
}