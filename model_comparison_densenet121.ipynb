{
  "nbformat": 4,
  "nbformat_minor": 0,
  "metadata": {
    "colab": {
      "name": "model_comparison_densenet121.ipynb",
      "provenance": [],
      "collapsed_sections": [],
      "include_colab_link": true
    },
    "kernelspec": {
      "name": "python3",
      "display_name": "Python 3"
    },
    "accelerator": "GPU"
  },
  "cells": [
    {
      "cell_type": "markdown",
      "metadata": {
        "id": "view-in-github",
        "colab_type": "text"
      },
      "source": [
        "<a href=\"https://colab.research.google.com/github/talhaanwarch/Plant-Leaf-Disease-Classification/blob/master/model_comparison_densenet121.ipynb\" target=\"_parent\"><img src=\"https://colab.research.google.com/assets/colab-badge.svg\" alt=\"Open In Colab\"/></a>"
      ]
    },
    {
      "cell_type": "code",
      "metadata": {
        "id": "6XjnbCiOJDBM",
        "colab_type": "code",
        "colab": {
          "base_uri": "https://localhost:8080/",
          "height": 124
        },
        "outputId": "72b44577-f6bf-4b82-c5ac-9df544586948"
      },
      "source": [
        "from google.colab import drive\n",
        "drive.mount('/content/drive')"
      ],
      "execution_count": 1,
      "outputs": [
        {
          "output_type": "stream",
          "text": [
            "Go to this URL in a browser: https://accounts.google.com/o/oauth2/auth?client_id=947318989803-6bn6qk8qdgf4n4g3pfee6491hc0brc4i.apps.googleusercontent.com&redirect_uri=urn%3aietf%3awg%3aoauth%3a2.0%3aoob&response_type=code&scope=email%20https%3a%2f%2fwww.googleapis.com%2fauth%2fdocs.test%20https%3a%2f%2fwww.googleapis.com%2fauth%2fdrive%20https%3a%2f%2fwww.googleapis.com%2fauth%2fdrive.photos.readonly%20https%3a%2f%2fwww.googleapis.com%2fauth%2fpeopleapi.readonly\n",
            "\n",
            "Enter your authorization code:\n",
            "··········\n",
            "Mounted at /content/drive\n"
          ],
          "name": "stdout"
        }
      ]
    },
    {
      "cell_type": "markdown",
      "metadata": {
        "id": "xRWmuf4YMBuD",
        "colab_type": "text"
      },
      "source": [
        "### download data"
      ]
    },
    {
      "cell_type": "code",
      "metadata": {
        "id": "-gDgFJrtX3fI",
        "colab_type": "code",
        "outputId": "7b990f55-987f-4e19-b7c5-638f8b3e9868",
        "colab": {
          "base_uri": "https://localhost:8080/",
          "height": 315
        }
      },
      "source": [
        "!wget https://data.mendeley.com/datasets/3f83gxmv57/2/files/53398b67-6f0e-4a67-8384-e2b574b2ebf4/Citrus.zip"
      ],
      "execution_count": 4,
      "outputs": [
        {
          "output_type": "stream",
          "text": [
            "--2020-04-14 06:16:58--  https://data.mendeley.com/datasets/3f83gxmv57/2/files/53398b67-6f0e-4a67-8384-e2b574b2ebf4/Citrus.zip\n",
            "Resolving data.mendeley.com (data.mendeley.com)... 162.159.130.86, 162.159.133.86, 2606:4700:7::a29f:8256, ...\n",
            "Connecting to data.mendeley.com (data.mendeley.com)|162.159.130.86|:443... connected.\n",
            "HTTP request sent, awaiting response... 302 Found\n",
            "Location: https://md-datasets-public-files-prod.s3.eu-west-1.amazonaws.com/ad404a4d-cedf-4830-8a11-0fc204ce8acb [following]\n",
            "--2020-04-14 06:16:59--  https://md-datasets-public-files-prod.s3.eu-west-1.amazonaws.com/ad404a4d-cedf-4830-8a11-0fc204ce8acb\n",
            "Resolving md-datasets-public-files-prod.s3.eu-west-1.amazonaws.com (md-datasets-public-files-prod.s3.eu-west-1.amazonaws.com)... 52.218.109.80\n",
            "Connecting to md-datasets-public-files-prod.s3.eu-west-1.amazonaws.com (md-datasets-public-files-prod.s3.eu-west-1.amazonaws.com)|52.218.109.80|:443... connected.\n",
            "HTTP request sent, awaiting response... 200 OK\n",
            "Length: 66977095 (64M) [application/x-zip-compressed]\n",
            "Saving to: ‘Citrus.zip’\n",
            "\n",
            "Citrus.zip          100%[===================>]  63.87M   112MB/s    in 0.6s    \n",
            "\n",
            "2020-04-14 06:16:59 (112 MB/s) - ‘Citrus.zip’ saved [66977095/66977095]\n",
            "\n"
          ],
          "name": "stdout"
        }
      ]
    },
    {
      "cell_type": "code",
      "metadata": {
        "id": "uPOXBR8sI7zk",
        "colab_type": "code",
        "colab": {}
      },
      "source": [
        "#!wget https://www.kaggleusercontent.com/kf/31940448/eyJhbGciOiJkaXIiLCJlbmMiOiJBMTI4Q0JDLUhTMjU2In0..3EZUGQlS8-vyVAUv-kR81g.x7rJM4b9UrYuds_FbbpOLkAHJSY6f8pi1njXjn73U2hQKUvJRwZeLc5_P_05H_zN1ydi7bTH31QRiM8hqmJKi_fmvrdvTbDT6IRNnQYHBfeSxfmO5OpltElX7J2y84FO1iws24RpDBpwkRKTKzdwOquoR2gHGtXqLgi4F9S4wi8-e_w6AjeyD_Lqpd-E1Py_NMb2mLHG4bO3OiXkHp8z5xZ3hj-cCkELMQ97KKWaO8jAMrrHWPM6FFOv4G2v4w5HgU1Uu3EM7N3BNgMhKlzzj4GoGBk_MtDkEcCUT3Vh2-C83b8C8-ecxd-TK62gVKYscVDINKHnTHJ8vYhxpXv_zM_E6827l0EhasaMO3j0yRbQf5hqSaB2lzYeY1zZgbb66yD8ojYyvtqRvoQcJp893El9ZKCPuUmCemrS95Yy3Y3a8hWdwtxO7Y032nUtC3P2eA-mm3cS8J9N2ToqZzLn2ZgPVtpyrnK_EV6ovt3ChmpXffrdu1eRdSNs0hRBmlnZ41tNCKoMplJMpry30v491-LO07t3fO6aUJC4l9CwCsF7krFmcpML0N_wCD2kVMqChyzxRhMyzdmpQakVe93gUKdoeccJfqPL3yBoeYDhUocFK8vl_hCM0rjitF5oplSFyKGiDumbFi3-KAkc0EzsrvQYsZDJuPRfj9i9XBZh3-Q.eiWxBkniMDaEugyP2W34mA/weights.hdf5\n",
        "#!wget https://www.kaggleusercontent.com/kf/31958940/eyJhbGciOiJkaXIiLCJlbmMiOiJBMTI4Q0JDLUhTMjU2In0..IFPcFIsWFWXvNbPjDWrhdA.X9PxJ2stzhlPMFcfo1yBlUefLSRdDt8XMa4Y-nxPv4CPpHcoSoiikqkNGWXg-7s05Ymvz4WtNzOECe8_y_4MVQNmKJh-T1Cx-TA16B-EuvC-1vdT3GRNzPzuroewoxnH9kXeI8X6lXS625vXWRj-750DBGmL5P-vkfD4td7V8uULJfQwNEIujNdx2_QfGo-8gKFFwWm2kDoYpcIFfBjzMaiD9UURCOC1URu2i3t3_Vc7jrprDvz5bPucNObehjp3mvfKzDH3dBKEN5kMXPAgviPfPxO6K4Cf_3o9HHvQA32UG-LeHHMmQg_Y2qwfmUblbUuRrD3lrYb5UxT2CcXxOaTWf3zqcsxb7Pnsqm728Cx-3-Rk__UVrCcmihyRMMtlV42RAZPUwXDqp8SyyHVwt7zTeNo2ZxRwPOOKxxtSJ56jT4LJM7lLuN8YiFgVpXp3HzgLZWuIGrNTj7JIP72Q62dbEIXaYdlBV6yiWvm9ydwWDFXRCq86TTODWy-6LhqLjTeQrqck_tXC6nRRY3GGG7fBCUFb3ky2Qwo4-0WgSJWYqiqpKFvu-Lg1_5YoUUdIWyRPUBHypSp9mNzGlMoQANm6_MFSPSuQGIOLWANQot0UjtBt2qRrCSPaeVztTgFN6CT4HP9X77pzocUvHk0Wcr1pK6kkgTOITCSHYJg8DbE.KVHlB7WTTL1nR9WwLvp6jw/scratch_weights.hdf5\n",
        "!cp /content/drive/My\\ Drive/data/densenet121_weights.hdf5 /content/\n",
        "!cp /content/drive/My\\ Drive/data/scratch_weights.hdf5 /content/"
      ],
      "execution_count": 0,
      "outputs": []
    },
    {
      "cell_type": "markdown",
      "metadata": {
        "id": "wMtXcWESMF4u",
        "colab_type": "text"
      },
      "source": [
        "### install efficinetnet model"
      ]
    },
    {
      "cell_type": "code",
      "metadata": {
        "id": "4P2KNYuSYQXv",
        "colab_type": "code",
        "colab": {}
      },
      "source": [
        "%%capture\n",
        "#!pip install efficientnet"
      ],
      "execution_count": 0,
      "outputs": []
    },
    {
      "cell_type": "markdown",
      "metadata": {
        "id": "T-6uWVJNMKAT",
        "colab_type": "text"
      },
      "source": [
        "### unzip donwloaded dataset"
      ]
    },
    {
      "cell_type": "code",
      "metadata": {
        "id": "B6jS6iFbYA_f",
        "colab_type": "code",
        "colab": {}
      },
      "source": [
        "%%capture\n",
        "!unzip /content/Citrus.zip"
      ],
      "execution_count": 0,
      "outputs": []
    },
    {
      "cell_type": "markdown",
      "metadata": {
        "id": "3ws3lz9gMNjZ",
        "colab_type": "text"
      },
      "source": [
        "## import libraries"
      ]
    },
    {
      "cell_type": "code",
      "metadata": {
        "id": "j2ELFuzfYIBi",
        "colab_type": "code",
        "colab": {}
      },
      "source": [
        "import numpy as np # linear algebra\n",
        "import pandas as pd # data processing, CSV file I/O (e.g. pd.read_csv)\n",
        "import matplotlib.pyplot as plt\n"
      ],
      "execution_count": 0,
      "outputs": []
    },
    {
      "cell_type": "markdown",
      "metadata": {
        "id": "NHcaPrv3MPp3",
        "colab_type": "text"
      },
      "source": [
        "## data augmentation "
      ]
    },
    {
      "cell_type": "code",
      "metadata": {
        "id": "HLLlRf3FYT-9",
        "colab_type": "code",
        "colab": {}
      },
      "source": [
        "from keras_preprocessing.image import ImageDataGenerator\n",
        "\n",
        "data_gen= ImageDataGenerator(\n",
        "    horizontal_flip=True,\n",
        "    vertical_flip=True,\n",
        "    rotation_range=360,\n",
        "    width_shift_range=0.1,\n",
        "    height_shift_range=0.1,\n",
        "    zoom_range=.1,\n",
        "    rescale=1/255,\n",
        "    fill_mode='nearest',\n",
        "    shear_range=0.1,\n",
        "    brightness_range=[0.5, 1.5],\n",
        "    validation_split=0.3)"
      ],
      "execution_count": 0,
      "outputs": []
    },
    {
      "cell_type": "markdown",
      "metadata": {
        "id": "SdGkQaB-MVOk",
        "colab_type": "text"
      },
      "source": [
        "## load data \n",
        "load data from directory in generator structure, infact data is loaded while training"
      ]
    },
    {
      "cell_type": "code",
      "metadata": {
        "id": "89ZpuWkgYZHW",
        "colab_type": "code",
        "colab": {}
      },
      "source": [
        "img_shape=224\n",
        "batch_size=24"
      ],
      "execution_count": 0,
      "outputs": []
    },
    {
      "cell_type": "code",
      "metadata": {
        "id": "EsqIKDdmYa0l",
        "colab_type": "code",
        "outputId": "d900484e-2662-4a7e-ff72-9e8078470663",
        "colab": {
          "base_uri": "https://localhost:8080/",
          "height": 35
        }
      },
      "source": [
        "#load the training data\n",
        "train_generator = data_gen.flow_from_directory(\n",
        "    '/content/Citrus/Leaves',\n",
        "    target_size=(img_shape,img_shape),\n",
        "    batch_size=batch_size,\n",
        "    class_mode='categorical',\n",
        "    subset='training',\n",
        "    shuffle=True)\n"
      ],
      "execution_count": 11,
      "outputs": [
        {
          "output_type": "stream",
          "text": [
            "Found 429 images belonging to 5 classes.\n"
          ],
          "name": "stdout"
        }
      ]
    },
    {
      "cell_type": "code",
      "metadata": {
        "id": "qPAoXFonZ7Pk",
        "colab_type": "code",
        "outputId": "e351e347-f26c-40c4-f6ab-fd0117b69789",
        "colab": {
          "base_uri": "https://localhost:8080/",
          "height": 35
        }
      },
      "source": [
        "#load the training data\n",
        "val_suffle=False\n",
        "val_generator = data_gen.flow_from_directory(\n",
        "    '/content/Citrus/Leaves',\n",
        "    target_size=(img_shape,img_shape),\n",
        "    batch_size=batch_size,\n",
        "    class_mode='categorical',\n",
        "    subset='validation',shuffle=val_suffle)#shuffle should be False in validation\n",
        "    #https://stackoverflow.com/a/47439789/11170350\n"
      ],
      "execution_count": 12,
      "outputs": [
        {
          "output_type": "stream",
          "text": [
            "Found 180 images belonging to 5 classes.\n"
          ],
          "name": "stdout"
        }
      ]
    },
    {
      "cell_type": "code",
      "metadata": {
        "id": "UQwUaMd7Y1qL",
        "colab_type": "code",
        "outputId": "2c9baa7c-5e7c-4ec2-b825-d95b2bfc34a2",
        "colab": {
          "base_uri": "https://localhost:8080/",
          "height": 35
        }
      },
      "source": [
        "train_generator.next()[0].shape,train_generator.next()[1].shape"
      ],
      "execution_count": 13,
      "outputs": [
        {
          "output_type": "execute_result",
          "data": {
            "text/plain": [
              "((24, 224, 224, 3), (24, 5))"
            ]
          },
          "metadata": {
            "tags": []
          },
          "execution_count": 13
        }
      ]
    },
    {
      "cell_type": "code",
      "metadata": {
        "id": "XwCEKIuz0C1Z",
        "colab_type": "code",
        "outputId": "e0652e0c-6cbe-40c7-9d2a-adba6fc58ffe",
        "colab": {
          "base_uri": "https://localhost:8080/",
          "height": 35
        }
      },
      "source": [
        "val_generator.next()[0].shape,val_generator.next()[1].shape"
      ],
      "execution_count": 14,
      "outputs": [
        {
          "output_type": "execute_result",
          "data": {
            "text/plain": [
              "((24, 224, 224, 3), (24, 5))"
            ]
          },
          "metadata": {
            "tags": []
          },
          "execution_count": 14
        }
      ]
    },
    {
      "cell_type": "code",
      "metadata": {
        "id": "gVKIceH_F3JX",
        "colab_type": "code",
        "colab": {}
      },
      "source": [
        ""
      ],
      "execution_count": 0,
      "outputs": []
    },
    {
      "cell_type": "code",
      "metadata": {
        "id": "3zjx1b6uFETG",
        "colab_type": "code",
        "outputId": "624d50d6-52e3-4533-fd8e-c98d6a849a66",
        "colab": {
          "base_uri": "https://localhost:8080/",
          "height": 72
        }
      },
      "source": [
        "from sklearn.metrics import roc_auc_score,roc_curve,auc\n",
        "import seaborn as sns\n",
        "def plot_multiclass_roc(y_pred, y_test, n_classes,class_label, figsize=(17, 6)):\n",
        "    \n",
        "    # structures\n",
        "    fpr = dict()\n",
        "    tpr = dict()\n",
        "    roc_auc = dict()\n",
        "\n",
        "    # calculate dummies once\n",
        "    for i in range(n_classes):\n",
        "        fpr[i], tpr[i], _ = roc_curve(y_test.iloc[:, i], y_pred[:, i])\n",
        "        roc_auc[i] = auc(fpr[i], tpr[i])\n",
        "\n",
        "    # roc for each class\n",
        "    fig, ax = plt.subplots()\n",
        "    ax.plot([0, 1], [0, 1], 'k--')\n",
        "    ax.set_xlim([0.0, 1.0])\n",
        "    ax.set_ylim([0.0, 1.05])\n",
        "    ax.set_xlabel('False Positive Rate',fontsize=12)\n",
        "    ax.set_ylabel('True Positive Rate',fontsize=12)\n",
        "    #ax.set_title('Receiver operating characteristic example')\n",
        "    for i,j in enumerate(class_label):\n",
        "        print(np.round(roc_auc[i],2),j)\n",
        "        ax.plot(fpr[i], tpr[i], label='ROC curve for {}'.format(j))\n",
        "    ax.legend(loc=\"best\")\n",
        "    ax.grid(alpha=.4)\n",
        "    sns.despine()\n",
        "    plt.show()\n",
        "  \n"
      ],
      "execution_count": 15,
      "outputs": [
        {
          "output_type": "stream",
          "text": [
            "/usr/local/lib/python3.6/dist-packages/statsmodels/tools/_testing.py:19: FutureWarning: pandas.util.testing is deprecated. Use the functions in the public API at pandas.testing instead.\n",
            "  import pandas.util.testing as tm\n"
          ],
          "name": "stderr"
        }
      ]
    },
    {
      "cell_type": "code",
      "metadata": {
        "id": "1INqpplvY5PN",
        "colab_type": "code",
        "colab": {}
      },
      "source": [
        "from tensorflow.keras.models import Sequential,Model\n",
        "from tensorflow.keras.layers import Activation, Dropout, Flatten, Dense, Conv2D, MaxPool2D, BatchNormalization,Input,MaxPooling2D,GlobalMaxPooling2D,concatenate\n",
        "from tensorflow.keras.layers import GlobalAveragePooling2D\n",
        "from tensorflow.keras.applications.resnet50 import ResNet50\n",
        "from tensorflow.keras.callbacks import ModelCheckpoint,ReduceLROnPlateau\n",
        "from tensorflow.keras.optimizers import Adam\n",
        "import tensorflow.keras.backend as K\n",
        "import tensorflow as tf"
      ],
      "execution_count": 0,
      "outputs": []
    },
    {
      "cell_type": "markdown",
      "metadata": {
        "colab_type": "text",
        "id": "Krz3zbaMB5Zh"
      },
      "source": [
        "## Densenet 121"
      ]
    },
    {
      "cell_type": "markdown",
      "metadata": {
        "id": "3NGU069DHm1-",
        "colab_type": "text"
      },
      "source": [
        "### no weights"
      ]
    },
    {
      "cell_type": "code",
      "metadata": {
        "colab_type": "code",
        "id": "eWSdRzugB5Zj",
        "colab": {}
      },
      "source": [
        "from tensorflow.keras.applications.densenet import DenseNet121\n",
        "base_model =DenseNet121(weights = None, include_top=False, input_shape = (img_shape,img_shape,3))\n"
      ],
      "execution_count": 0,
      "outputs": []
    },
    {
      "cell_type": "code",
      "metadata": {
        "colab_type": "code",
        "id": "jL3IOd3OB5Zl",
        "colab": {}
      },
      "source": [
        "x = base_model.output\n",
        "x = GlobalAveragePooling2D()(x)\n",
        "x = Dropout(0.3)(x)\n",
        "x = Dense(128, activation=\"relu\")(x)\n",
        "x = Dropout(0.3)(x)\n",
        "x = Dense(64, activation=\"relu\")(x)\n",
        "predictions = Dense(5, activation=\"softmax\")(x)"
      ],
      "execution_count": 0,
      "outputs": []
    },
    {
      "cell_type": "code",
      "metadata": {
        "colab_type": "code",
        "id": "2ruPk5SLB5Zn",
        "colab": {}
      },
      "source": [
        "base_model = Model(inputs=base_model.input, outputs=predictions)"
      ],
      "execution_count": 0,
      "outputs": []
    },
    {
      "cell_type": "code",
      "metadata": {
        "colab_type": "code",
        "id": "wgJ8fPXAB5Zp",
        "colab": {}
      },
      "source": [
        "def custom_loss(y_true, y_pred):\n",
        "    return tf.keras.losses.categorical_crossentropy(y_true, y_pred, label_smoothing=0.1)"
      ],
      "execution_count": 0,
      "outputs": []
    },
    {
      "cell_type": "code",
      "metadata": {
        "colab_type": "code",
        "id": "qwnnmZi9B5Zr",
        "colab": {}
      },
      "source": [
        "base_model.compile(optimizer='adam', loss=custom_loss, metrics=['accuracy'])"
      ],
      "execution_count": 0,
      "outputs": []
    },
    {
      "cell_type": "code",
      "metadata": {
        "colab_type": "code",
        "id": "icLoanKvB5Zu",
        "outputId": "366fcc2c-79d8-41c1-a8b1-bf6a47f78ef5",
        "colab": {
          "base_uri": "https://localhost:8080/",
          "height": 52
        }
      },
      "source": [
        "%%time\n",
        "result_base = base_model.fit(train_generator,epochs=15,verbose=0,\n",
        "                              steps_per_epoch=train_generator.n/batch_size,\n",
        "                              validation_data=val_generator,\n",
        "                             validation_steps=val_generator.n/batch_size,\n",
        "                              callbacks=[ReduceLROnPlateau(monitor='val_loss', factor=0.3,patience=2, min_lr=0.000001)]\n",
        "                    )"
      ],
      "execution_count": 22,
      "outputs": [
        {
          "output_type": "stream",
          "text": [
            "CPU times: user 3min 45s, sys: 4.82 s, total: 3min 50s\n",
            "Wall time: 3min 19s\n"
          ],
          "name": "stdout"
        }
      ]
    },
    {
      "cell_type": "code",
      "metadata": {
        "colab_type": "code",
        "id": "4CL_SpvRB5Zx",
        "outputId": "2954e079-95c9-400a-d272-eabb848e11e1",
        "colab": {
          "base_uri": "https://localhost:8080/",
          "height": 295
        }
      },
      "source": [
        "\n",
        "plt.plot(result_base.history['accuracy'])\n",
        "plt.plot(result_base.history['val_accuracy'])\n",
        "plt.title('model accuracy ')\n",
        "plt.ylabel('accuracy')\n",
        "plt.xlabel('epoch')\n",
        "plt.legend(['train', 'test'], loc='upper left')\n",
        "plt.show()"
      ],
      "execution_count": 23,
      "outputs": [
        {
          "output_type": "display_data",
          "data": {
            "image/png": "[encoded data removed]",
            "text/plain": [
              "<Figure size 432x288 with 1 Axes>"
            ]
          },
          "metadata": {
            "tags": [],
            "needs_background": "light"
          }
        }
      ]
    },
    {
      "cell_type": "code",
      "metadata": {
        "colab_type": "code",
        "id": "9k-a1j4cB5Zz",
        "outputId": "2767e6c6-3950-4b7d-9d0b-0be96797e1bb",
        "colab": {
          "base_uri": "https://localhost:8080/",
          "height": 295
        }
      },
      "source": [
        "\n",
        "plt.plot(result_base.history['loss'])\n",
        "plt.plot(result_base.history['val_loss'])\n",
        "plt.title('model loss')\n",
        "plt.ylabel('loss')\n",
        "plt.xlabel('epoch')\n",
        "plt.legend(['train', 'test'], loc='upper left')\n",
        "plt.show()"
      ],
      "execution_count": 24,
      "outputs": [
        {
          "output_type": "display_data",
          "data": {
            "image/png": "[encoded data removed]",
            "text/plain": [
              "<Figure size 432x288 with 1 Axes>"
            ]
          },
          "metadata": {
            "tags": [],
            "needs_background": "light"
          }
        }
      ]
    },
    {
      "cell_type": "code",
      "metadata": {
        "colab_type": "code",
        "id": "pFVKCjDQB5Z5",
        "outputId": "c6b11e2e-843c-429d-d4bc-a595c9e4b6cf",
        "colab": {
          "base_uri": "https://localhost:8080/",
          "height": 35
        }
      },
      "source": [
        "val_generator.reset()\n",
        "y_pred=base_model.predict(val_generator,steps=val_generator.n/batch_size,verbose=1)"
      ],
      "execution_count": 25,
      "outputs": [
        {
          "output_type": "stream",
          "text": [
            "8/7 [================================] - 3s 336ms/step\n"
          ],
          "name": "stdout"
        }
      ]
    },
    {
      "cell_type": "code",
      "metadata": {
        "id": "YrxtXzufFZ01",
        "colab_type": "code",
        "colab": {}
      },
      "source": [
        "class_label=list(train_generator.class_indices.keys())\n"
      ],
      "execution_count": 0,
      "outputs": []
    },
    {
      "cell_type": "code",
      "metadata": {
        "colab_type": "code",
        "id": "54Zzf36JB5Z6",
        "colab": {}
      },
      "source": [
        "if val_suffle==True:\n",
        "  per = np.random.permutation(val_generator.n)\n",
        "  val_generator.index_array = per\n",
        "  y_true = val_generator.classes[per]\n",
        "else: \n",
        "  y_true = val_generator.classes"
      ],
      "execution_count": 0,
      "outputs": []
    },
    {
      "cell_type": "code",
      "metadata": {
        "id": "dn-F2hupFKNy",
        "colab_type": "code",
        "outputId": "7561373a-5242-422a-dc3c-b74664f43472",
        "colab": {
          "base_uri": "https://localhost:8080/",
          "height": 369
        }
      },
      "source": [
        "plot_multiclass_roc( y_pred, pd.get_dummies(y_true), n_classes=5,class_label=class_label, figsize=(8, 6))"
      ],
      "execution_count": 28,
      "outputs": [
        {
          "output_type": "stream",
          "text": [
            "0.56 Black spot\n",
            "0.54 Melanose\n",
            "0.41 canker\n",
            "0.5 greening\n",
            "0.57 healthy\n"
          ],
          "name": "stdout"
        },
        {
          "output_type": "display_data",
          "data": {
            "image/png": "[encoded data removed]",
            "text/plain": [
              "<Figure size 432x288 with 1 Axes>"
            ]
          },
          "metadata": {
            "tags": [],
            "needs_background": "light"
          }
        }
      ]
    },
    {
      "cell_type": "code",
      "metadata": {
        "colab_type": "code",
        "id": "FC4j26dhB5Z8",
        "colab": {}
      },
      "source": [
        "y_pred=np.argmax(y_pred, axis=1)"
      ],
      "execution_count": 0,
      "outputs": []
    },
    {
      "cell_type": "code",
      "metadata": {
        "colab_type": "code",
        "id": "8_ExmH6gB5Z_",
        "outputId": "125f5f1c-e618-445e-ced6-9ca4a6597860",
        "colab": {
          "base_uri": "https://localhost:8080/",
          "height": 35
        }
      },
      "source": [
        "y_pred.shape,y_true.shape"
      ],
      "execution_count": 30,
      "outputs": [
        {
          "output_type": "execute_result",
          "data": {
            "text/plain": [
              "((180,), (180,))"
            ]
          },
          "metadata": {
            "tags": []
          },
          "execution_count": 30
        }
      ]
    },
    {
      "cell_type": "code",
      "metadata": {
        "colab_type": "code",
        "id": "cwhyCTytB5aB",
        "outputId": "c10de770-8a84-4dd8-e399-be71b4d2401a",
        "colab": {
          "base_uri": "https://localhost:8080/",
          "height": 52
        }
      },
      "source": [
        "from sklearn.metrics import classification_report,accuracy_score,f1_score\n",
        "print(accuracy_score(y_true,y_pred))\n",
        "print(f1_score(y_true,y_pred,average='macro'))"
      ],
      "execution_count": 31,
      "outputs": [
        {
          "output_type": "stream",
          "text": [
            "0.28888888888888886\n",
            "0.09786204114562322\n"
          ],
          "name": "stdout"
        }
      ]
    },
    {
      "cell_type": "code",
      "metadata": {
        "colab_type": "code",
        "id": "TgNAwQEnB5aD",
        "outputId": "62135b05-69f7-497e-dd02-5eb2b835e737",
        "colab": {
          "base_uri": "https://localhost:8080/",
          "height": 280
        }
      },
      "source": [
        "print(classification_report(y_true, y_pred,target_names=class_label))#"
      ],
      "execution_count": 32,
      "outputs": [
        {
          "output_type": "stream",
          "text": [
            "              precision    recall  f1-score   support\n",
            "\n",
            "  Black spot       0.30      1.00      0.46        51\n",
            "    Melanose       0.00      0.00      0.00         3\n",
            "      canker       0.00      0.00      0.00        48\n",
            "    greening       0.17      0.02      0.03        61\n",
            "     healthy       0.00      0.00      0.00        17\n",
            "\n",
            "    accuracy                           0.29       180\n",
            "   macro avg       0.09      0.20      0.10       180\n",
            "weighted avg       0.14      0.29      0.14       180\n",
            "\n"
          ],
          "name": "stdout"
        },
        {
          "output_type": "stream",
          "text": [
            "/usr/local/lib/python3.6/dist-packages/sklearn/metrics/_classification.py:1272: UndefinedMetricWarning: Precision and F-score are ill-defined and being set to 0.0 in labels with no predicted samples. Use `zero_division` parameter to control this behavior.\n",
            "  _warn_prf(average, modifier, msg_start, len(result))\n"
          ],
          "name": "stderr"
        }
      ]
    },
    {
      "cell_type": "code",
      "metadata": {
        "colab_type": "code",
        "id": "nSafY5wcB5aI",
        "colab": {}
      },
      "source": [
        ""
      ],
      "execution_count": 0,
      "outputs": []
    },
    {
      "cell_type": "markdown",
      "metadata": {
        "id": "IxJDBHpoJWSF",
        "colab_type": "text"
      },
      "source": [
        "### Model trained on villaged dataset"
      ]
    },
    {
      "cell_type": "code",
      "metadata": {
        "id": "kuzfVyvuB3Im",
        "colab_type": "code",
        "colab": {}
      },
      "source": [
        "from tensorflow.keras.applications.densenet import DenseNet121\n",
        "own_scratch_model =DenseNet121(weights = None, include_top=False, input_shape = (img_shape,img_shape,3))\n",
        "x = own_scratch_model.output\n",
        "x = GlobalAveragePooling2D()(x)\n",
        "x = Dropout(0.3)(x)\n",
        "x = Dense(128, activation=\"relu\")(x)\n",
        "x = Dropout(0.3)(x)\n",
        "x = Dense(64, activation=\"relu\")(x)\n",
        "predictions = Dense(15, activation=\"softmax\")(x)\n",
        "own_scratch_model = Model(inputs=own_scratch_model.input, outputs=predictions)\n",
        "own_scratch_model.load_weights('/content/scratch_weights.hdf5')"
      ],
      "execution_count": 0,
      "outputs": []
    },
    {
      "cell_type": "code",
      "metadata": {
        "id": "cIR_dlaROn3L",
        "colab_type": "code",
        "colab": {}
      },
      "source": [
        "transfer_scratch_model = Model(own_scratch_model.input, own_scratch_model.layers[-7].output)"
      ],
      "execution_count": 0,
      "outputs": []
    },
    {
      "cell_type": "code",
      "metadata": {
        "id": "h9z8g5KOLbGY",
        "colab_type": "code",
        "colab": {
          "base_uri": "https://localhost:8080/",
          "height": 69
        },
        "outputId": "ef5b39e4-6864-4341-fc1a-cbe09a4bf357"
      },
      "source": [
        "transfer_scratch_model.layers[7].get_weights()[0][0:10]"
      ],
      "execution_count": 35,
      "outputs": [
        {
          "output_type": "execute_result",
          "data": {
            "text/plain": [
              "array([0.9202305 , 0.93353206, 1.0833695 , 0.99886405, 0.9464825 ,\n",
              "       0.8838621 , 1.0045762 , 1.0752947 , 1.0655146 , 0.83632797],\n",
              "      dtype=float32)"
            ]
          },
          "metadata": {
            "tags": []
          },
          "execution_count": 35
        }
      ]
    },
    {
      "cell_type": "code",
      "metadata": {
        "id": "TVvUFtrQKgJY",
        "colab_type": "code",
        "colab": {}
      },
      "source": [
        "x = transfer_scratch_model.output\n",
        "x = GlobalAveragePooling2D()(x)\n",
        "x = Dropout(0.3)(x)\n",
        "x = Dense(128, activation=\"relu\")(x)\n",
        "x = Dropout(0.3)(x)\n",
        "x = Dense(64, activation=\"relu\")(x)\n",
        "\n",
        "transfer_predictions = Dense(5, activation=\"softmax\")(x)\n",
        "transfer_scratch_model = Model(inputs=transfer_scratch_model.input, outputs=transfer_predictions)"
      ],
      "execution_count": 0,
      "outputs": []
    },
    {
      "cell_type": "code",
      "metadata": {
        "id": "LpkY4NhsQa5M",
        "colab_type": "code",
        "colab": {
          "base_uri": "https://localhost:8080/",
          "height": 69
        },
        "outputId": "569f2619-7c09-4c8e-fac9-b39b556536ad"
      },
      "source": [
        "transfer_scratch_model.layers[7].get_weights()[0][0:10]"
      ],
      "execution_count": 37,
      "outputs": [
        {
          "output_type": "execute_result",
          "data": {
            "text/plain": [
              "array([0.9202305 , 0.93353206, 1.0833695 , 0.99886405, 0.9464825 ,\n",
              "       0.8838621 , 1.0045762 , 1.0752947 , 1.0655146 , 0.83632797],\n",
              "      dtype=float32)"
            ]
          },
          "metadata": {
            "tags": []
          },
          "execution_count": 37
        }
      ]
    },
    {
      "cell_type": "code",
      "metadata": {
        "id": "ZLDXjyxEQZTv",
        "colab_type": "code",
        "colab": {}
      },
      "source": [
        "def custom_loss(y_true, y_pred):\n",
        "    return tf.keras.losses.categorical_crossentropy(y_true, y_pred, label_smoothing=0.1)\n",
        "transfer_scratch_model.compile(optimizer='adam', loss=custom_loss, metrics=['accuracy'])\n"
      ],
      "execution_count": 0,
      "outputs": []
    },
    {
      "cell_type": "code",
      "metadata": {
        "id": "8zwfup1Bajs7",
        "colab_type": "code",
        "colab": {}
      },
      "source": [
        "%%time\n",
        "transfer_scratch_results = transfer_scratch_model.fit(train_generator,epochs=15,verbose=0,\n",
        "                              steps_per_epoch=train_generator.n/batch_size,\n",
        "                              validation_data=val_generator,\n",
        "                             validation_steps=val_generator.n/batch_size,\n",
        "                              callbacks=[ReduceLROnPlateau(monitor='val_loss', factor=0.3,patience=2, min_lr=0.000001)]\n",
        "                    )"
      ],
      "execution_count": 0,
      "outputs": []
    },
    {
      "cell_type": "code",
      "metadata": {
        "colab_type": "code",
        "outputId": "fc315e8c-d55d-44ad-d0da-e38d981e365f",
        "id": "AhzOtyG8s4KJ",
        "colab": {
          "base_uri": "https://localhost:8080/",
          "height": 295
        }
      },
      "source": [
        "\n",
        "plt.plot(transfer_scratch_results.history['accuracy'])\n",
        "plt.plot(transfer_scratch_results.history['val_accuracy'])\n",
        "plt.title('model accuracy ')\n",
        "plt.ylabel('accuracy')\n",
        "plt.xlabel('epoch')\n",
        "plt.legend(['train', 'test'], loc='upper left')\n",
        "plt.show()"
      ],
      "execution_count": 40,
      "outputs": [
        {
          "output_type": "display_data",
          "data": {
            "image/png": "[encoded data removed]",
            "text/plain": [
              "<Figure size 432x288 with 1 Axes>"
            ]
          },
          "metadata": {
            "tags": [],
            "needs_background": "light"
          }
        }
      ]
    },
    {
      "cell_type": "code",
      "metadata": {
        "colab_type": "code",
        "outputId": "edeee0b8-528f-4607-a329-74ccc240b5e2",
        "id": "jgw0nJxxs4KM",
        "colab": {
          "base_uri": "https://localhost:8080/",
          "height": 295
        }
      },
      "source": [
        "\n",
        "plt.plot(transfer_scratch_results.history['loss'])\n",
        "plt.plot(transfer_scratch_results.history['val_loss'])\n",
        "plt.title('model loss')\n",
        "plt.ylabel('loss')\n",
        "plt.xlabel('epoch')\n",
        "plt.legend(['train', 'test'], loc='upper left')\n",
        "plt.show()"
      ],
      "execution_count": 41,
      "outputs": [
        {
          "output_type": "display_data",
          "data": {
            "image/png": "[encoded data removed]",
            "text/plain": [
              "<Figure size 432x288 with 1 Axes>"
            ]
          },
          "metadata": {
            "tags": [],
            "needs_background": "light"
          }
        }
      ]
    },
    {
      "cell_type": "code",
      "metadata": {
        "colab_type": "code",
        "outputId": "33fa882e-2374-449a-80d8-86ddb8324ff2",
        "id": "131-QQ6YSc7x",
        "colab": {
          "base_uri": "https://localhost:8080/",
          "height": 35
        }
      },
      "source": [
        "val_generator.reset()\n",
        "y_pred=transfer_scratch_model.predict(val_generator,steps=val_generator.n/batch_size,verbose=1)"
      ],
      "execution_count": 43,
      "outputs": [
        {
          "output_type": "stream",
          "text": [
            "8/7 [================================] - 3s 339ms/step\n"
          ],
          "name": "stdout"
        }
      ]
    },
    {
      "cell_type": "code",
      "metadata": {
        "colab_type": "code",
        "id": "Ya2LoinhSc72",
        "colab": {}
      },
      "source": [
        "class_label=list(train_generator.class_indices.keys())"
      ],
      "execution_count": 0,
      "outputs": []
    },
    {
      "cell_type": "code",
      "metadata": {
        "colab_type": "code",
        "id": "DCnqB3lHSc76",
        "colab": {}
      },
      "source": [
        "if val_suffle==True:\n",
        "  per = np.random.permutation(val_generator.n)\n",
        "  val_generator.index_array = per\n",
        "  y_true = val_generator.classes[per]\n",
        "else: \n",
        "  y_true = val_generator.classes"
      ],
      "execution_count": 0,
      "outputs": []
    },
    {
      "cell_type": "code",
      "metadata": {
        "colab_type": "code",
        "outputId": "ad91b485-061b-42c5-bb40-6680392faa1d",
        "id": "dohUdYJiSc8A",
        "colab": {
          "base_uri": "https://localhost:8080/",
          "height": 369
        }
      },
      "source": [
        "plot_multiclass_roc( y_pred, pd.get_dummies(y_true), n_classes=5,class_label=class_label, figsize=(5, 5))"
      ],
      "execution_count": 46,
      "outputs": [
        {
          "output_type": "stream",
          "text": [
            "0.94 Black spot\n",
            "1.0 Melanose\n",
            "0.99 canker\n",
            "0.96 greening\n",
            "1.0 healthy\n"
          ],
          "name": "stdout"
        },
        {
          "output_type": "display_data",
          "data": {
            "image/png": "[encoded data removed]",
            "text/plain": [
              "<Figure size 432x288 with 1 Axes>"
            ]
          },
          "metadata": {
            "tags": [],
            "needs_background": "light"
          }
        }
      ]
    },
    {
      "cell_type": "code",
      "metadata": {
        "colab_type": "code",
        "id": "zDMEodx1Sc8F",
        "colab": {}
      },
      "source": [
        "y_pred=np.argmax(y_pred, axis=1)"
      ],
      "execution_count": 0,
      "outputs": []
    },
    {
      "cell_type": "code",
      "metadata": {
        "colab_type": "code",
        "outputId": "17d76503-393b-4e0c-d1df-e8a794810772",
        "id": "Mnr6jBJJSc8J",
        "colab": {
          "base_uri": "https://localhost:8080/",
          "height": 35
        }
      },
      "source": [
        "y_pred.shape,y_true.shape"
      ],
      "execution_count": 48,
      "outputs": [
        {
          "output_type": "execute_result",
          "data": {
            "text/plain": [
              "((180,), (180,))"
            ]
          },
          "metadata": {
            "tags": []
          },
          "execution_count": 48
        }
      ]
    },
    {
      "cell_type": "code",
      "metadata": {
        "colab_type": "code",
        "outputId": "285be085-aee4-474d-a179-382bc7d8263e",
        "id": "SpWnrJCaSc8P",
        "colab": {
          "base_uri": "https://localhost:8080/",
          "height": 52
        }
      },
      "source": [
        "from sklearn.metrics import classification_report,accuracy_score,f1_score\n",
        "print(accuracy_score(y_true,y_pred))\n",
        "print(f1_score(y_true,y_pred,average='macro'))"
      ],
      "execution_count": 49,
      "outputs": [
        {
          "output_type": "stream",
          "text": [
            "0.8611111111111112\n",
            "0.9027162268268988\n"
          ],
          "name": "stdout"
        }
      ]
    },
    {
      "cell_type": "code",
      "metadata": {
        "colab_type": "code",
        "outputId": "ea0381cc-c24f-4eda-bde5-282bdb1c3ceb",
        "id": "KQ8DVNVbSc8U",
        "colab": {
          "base_uri": "https://localhost:8080/",
          "height": 225
        }
      },
      "source": [
        "print(classification_report(y_true, y_pred,target_names=class_label))#"
      ],
      "execution_count": 50,
      "outputs": [
        {
          "output_type": "stream",
          "text": [
            "              precision    recall  f1-score   support\n",
            "\n",
            "  Black spot       0.77      0.86      0.81        51\n",
            "    Melanose       1.00      1.00      1.00         3\n",
            "      canker       0.91      0.83      0.87        48\n",
            "    greening       0.87      0.85      0.86        61\n",
            "     healthy       1.00      0.94      0.97        17\n",
            "\n",
            "    accuracy                           0.86       180\n",
            "   macro avg       0.91      0.90      0.90       180\n",
            "weighted avg       0.87      0.86      0.86       180\n",
            "\n"
          ],
          "name": "stdout"
        }
      ]
    },
    {
      "cell_type": "markdown",
      "metadata": {
        "colab_type": "text",
        "id": "Ov8K7XWlUjMD"
      },
      "source": [
        "### Model trained on villaged dataset trained on imagenet"
      ]
    },
    {
      "cell_type": "code",
      "metadata": {
        "colab_type": "code",
        "id": "lol0E4HgUjMF",
        "colab": {}
      },
      "source": [
        "from tensorflow.keras.applications.densenet import DenseNet121\n",
        "transfer_imgnet_model =DenseNet121(weights = None, include_top=False, input_shape = (img_shape,img_shape,3))\n",
        "x = transfer_imgnet_model.output\n",
        "x = GlobalAveragePooling2D()(x)\n",
        "x = Dropout(0.3)(x)\n",
        "x = Dense(128, activation=\"relu\")(x)\n",
        "x = Dropout(0.3)(x)\n",
        "x = Dense(64, activation=\"relu\")(x)\n",
        "predictions = Dense(15, activation=\"softmax\")(x)\n",
        "transfer_imgnet_model = Model(inputs=transfer_imgnet_model.input, outputs=predictions)\n",
        "transfer_imgnet_model.load_weights('/content/densenet121_weights.hdf5')"
      ],
      "execution_count": 0,
      "outputs": []
    },
    {
      "cell_type": "code",
      "metadata": {
        "colab_type": "code",
        "id": "OyxW3g2sUjMQ",
        "colab": {}
      },
      "source": [
        "transfer_imgnet_model = Model(transfer_imgnet_model.input, transfer_imgnet_model.layers[-7].output)\n"
      ],
      "execution_count": 0,
      "outputs": []
    },
    {
      "cell_type": "code",
      "metadata": {
        "colab_type": "code",
        "outputId": "73e98bb4-b934-4b85-e2b4-59db41b15fba",
        "id": "iTX63Uj2UjMV",
        "colab": {
          "base_uri": "https://localhost:8080/",
          "height": 69
        }
      },
      "source": [
        "transfer_imgnet_model.layers[7].get_weights()[0][0:10]"
      ],
      "execution_count": 53,
      "outputs": [
        {
          "output_type": "execute_result",
          "data": {
            "text/plain": [
              "array([3.32417786e-01, 7.54606426e-02, 1.05246633e-01, 2.35008463e-01,\n",
              "       2.48995930e-01, 4.55867082e-01, 2.59272406e-06, 1.28041402e-01,\n",
              "       1.12553934e-07, 2.02194408e-01], dtype=float32)"
            ]
          },
          "metadata": {
            "tags": []
          },
          "execution_count": 53
        }
      ]
    },
    {
      "cell_type": "code",
      "metadata": {
        "colab_type": "code",
        "id": "LUilT5i_UjMb",
        "colab": {}
      },
      "source": [
        "x = transfer_imgnet_model.output\n",
        "x = GlobalAveragePooling2D()(x)\n",
        "x = Dropout(0.3)(x)\n",
        "x = Dense(128, activation=\"relu\")(x)\n",
        "x = Dropout(0.3)(x)\n",
        "x = Dense(64, activation=\"relu\")(x)\n",
        "\n",
        "transfer_predictions = Dense(5, activation=\"softmax\")(x)\n",
        "transfer_imgnet_model = Model(inputs=transfer_imgnet_model.input, outputs=transfer_predictions)"
      ],
      "execution_count": 0,
      "outputs": []
    },
    {
      "cell_type": "code",
      "metadata": {
        "colab_type": "code",
        "outputId": "92387404-eb39-48aa-8227-089d73d97b2c",
        "id": "Ce6-eK-fUjMg",
        "colab": {
          "base_uri": "https://localhost:8080/",
          "height": 69
        }
      },
      "source": [
        "transfer_imgnet_model.layers[7].get_weights()[0][0:10]"
      ],
      "execution_count": 55,
      "outputs": [
        {
          "output_type": "execute_result",
          "data": {
            "text/plain": [
              "array([3.32417786e-01, 7.54606426e-02, 1.05246633e-01, 2.35008463e-01,\n",
              "       2.48995930e-01, 4.55867082e-01, 2.59272406e-06, 1.28041402e-01,\n",
              "       1.12553934e-07, 2.02194408e-01], dtype=float32)"
            ]
          },
          "metadata": {
            "tags": []
          },
          "execution_count": 55
        }
      ]
    },
    {
      "cell_type": "code",
      "metadata": {
        "colab_type": "code",
        "id": "_GErFgGAUjMl",
        "colab": {}
      },
      "source": [
        "def custom_loss(y_true, y_pred):\n",
        "    return tf.keras.losses.categorical_crossentropy(y_true, y_pred, label_smoothing=0.1)\n",
        "transfer_imgnet_model.compile(optimizer='adam', loss=custom_loss, metrics=['accuracy'])\n"
      ],
      "execution_count": 0,
      "outputs": []
    },
    {
      "cell_type": "code",
      "metadata": {
        "colab_type": "code",
        "id": "o5aLdFMJUjMq",
        "colab": {
          "base_uri": "https://localhost:8080/",
          "height": 52
        },
        "outputId": "276c12b6-25c6-424e-e4fb-dbf88dd51ca9"
      },
      "source": [
        "%%time\n",
        "transfer_imgnet_results = transfer_imgnet_model.fit(train_generator,epochs=15,verbose=0,\n",
        "                              steps_per_epoch=train_generator.n/batch_size,\n",
        "                              validation_data=val_generator,\n",
        "                             validation_steps=val_generator.n/batch_size,\n",
        "                              callbacks=[ReduceLROnPlateau(monitor='val_loss', factor=0.3,patience=2, min_lr=0.000001)]\n",
        "                    )"
      ],
      "execution_count": 57,
      "outputs": [
        {
          "output_type": "stream",
          "text": [
            "CPU times: user 3min 42s, sys: 3 s, total: 3min 45s\n",
            "Wall time: 3min 11s\n"
          ],
          "name": "stdout"
        }
      ]
    },
    {
      "cell_type": "code",
      "metadata": {
        "id": "1DyWD4SKZH0q",
        "colab_type": "code",
        "colab": {
          "base_uri": "https://localhost:8080/",
          "height": 295
        },
        "outputId": "5292610d-426a-4c43-b2a1-117c48de85cd"
      },
      "source": [
        "\n",
        "plt.plot(transfer_imgnet_results.history['accuracy'])\n",
        "plt.plot(transfer_imgnet_results.history['val_accuracy'])\n",
        "plt.title('model loss')\n",
        "plt.ylabel('accuracy')\n",
        "plt.xlabel('epoch')\n",
        "plt.legend(['train', 'test'], loc='upper left')\n",
        "plt.show()"
      ],
      "execution_count": 59,
      "outputs": [
        {
          "output_type": "display_data",
          "data": {
            "image/png": "[encoded data removed]",
            "text/plain": [
              "<Figure size 432x288 with 1 Axes>"
            ]
          },
          "metadata": {
            "tags": [],
            "needs_background": "light"
          }
        }
      ]
    },
    {
      "cell_type": "code",
      "metadata": {
        "colab_type": "code",
        "outputId": "b04b2d24-0019-4059-e24e-b36a2382490d",
        "id": "k-CzWINuUjM4",
        "colab": {
          "base_uri": "https://localhost:8080/",
          "height": 295
        }
      },
      "source": [
        "\n",
        "plt.plot(transfer_imgnet_results.history['loss'])\n",
        "plt.plot(transfer_imgnet_results.history['val_loss'])\n",
        "plt.title('model loss')\n",
        "plt.ylabel('loss')\n",
        "plt.xlabel('epoch')\n",
        "plt.legend(['train', 'test'], loc='upper left')\n",
        "plt.show()"
      ],
      "execution_count": 58,
      "outputs": [
        {
          "output_type": "display_data",
          "data": {
            "image/png": "[encoded data removed]",
            "text/plain": [
              "<Figure size 432x288 with 1 Axes>"
            ]
          },
          "metadata": {
            "tags": [],
            "needs_background": "light"
          }
        }
      ]
    },
    {
      "cell_type": "code",
      "metadata": {
        "colab_type": "code",
        "outputId": "a9f02740-3e1f-41ea-e0e6-e4552f648047",
        "id": "jS4e_9MOUjM9",
        "colab": {
          "base_uri": "https://localhost:8080/",
          "height": 35
        }
      },
      "source": [
        "val_generator.reset()\n",
        "y_pred=transfer_imgnet_model.predict(val_generator,steps=val_generator.n/batch_size,verbose=1)"
      ],
      "execution_count": 60,
      "outputs": [
        {
          "output_type": "stream",
          "text": [
            "8/7 [================================] - 3s 341ms/step\n"
          ],
          "name": "stdout"
        }
      ]
    },
    {
      "cell_type": "code",
      "metadata": {
        "colab_type": "code",
        "id": "REMUCSBaUjNC",
        "colab": {}
      },
      "source": [
        "class_label=list(train_generator.class_indices.keys())"
      ],
      "execution_count": 0,
      "outputs": []
    },
    {
      "cell_type": "code",
      "metadata": {
        "colab_type": "code",
        "id": "4WdbdzdRUjNG",
        "colab": {}
      },
      "source": [
        "if val_suffle==True:\n",
        "  per = np.random.permutation(val_generator.n)\n",
        "  val_generator.index_array = per\n",
        "  y_true = val_generator.classes[per]\n",
        "else: \n",
        "  y_true = val_generator.classes"
      ],
      "execution_count": 0,
      "outputs": []
    },
    {
      "cell_type": "code",
      "metadata": {
        "colab_type": "code",
        "outputId": "073d4f58-96ea-4640-acab-62bc80ae61ef",
        "id": "IALWIuE7UjNO",
        "colab": {
          "base_uri": "https://localhost:8080/",
          "height": 369
        }
      },
      "source": [
        "plot_multiclass_roc( y_pred, pd.get_dummies(y_true), n_classes=5,class_label=class_label, figsize=(5, 5))"
      ],
      "execution_count": 63,
      "outputs": [
        {
          "output_type": "stream",
          "text": [
            "0.95 Black spot\n",
            "1.0 Melanose\n",
            "0.99 canker\n",
            "0.97 greening\n",
            "1.0 healthy\n"
          ],
          "name": "stdout"
        },
        {
          "output_type": "display_data",
          "data": {
            "image/png": "[encoded data removed]",
            "text/plain": [
              "<Figure size 432x288 with 1 Axes>"
            ]
          },
          "metadata": {
            "tags": [],
            "needs_background": "light"
          }
        }
      ]
    },
    {
      "cell_type": "code",
      "metadata": {
        "colab_type": "code",
        "id": "FcYyTb9pUjNS",
        "colab": {}
      },
      "source": [
        "y_pred=np.argmax(y_pred, axis=1)"
      ],
      "execution_count": 0,
      "outputs": []
    },
    {
      "cell_type": "code",
      "metadata": {
        "colab_type": "code",
        "outputId": "9449e2b8-cc7f-4d59-922c-a83e0f6e8a42",
        "id": "gQPWN25IUjNV",
        "colab": {
          "base_uri": "https://localhost:8080/",
          "height": 35
        }
      },
      "source": [
        "y_pred.shape,y_true.shape"
      ],
      "execution_count": 65,
      "outputs": [
        {
          "output_type": "execute_result",
          "data": {
            "text/plain": [
              "((180,), (180,))"
            ]
          },
          "metadata": {
            "tags": []
          },
          "execution_count": 65
        }
      ]
    },
    {
      "cell_type": "code",
      "metadata": {
        "colab_type": "code",
        "outputId": "413dd7f6-fd95-4324-f499-db43bd658567",
        "id": "hMmH5BIYUjNZ",
        "colab": {
          "base_uri": "https://localhost:8080/",
          "height": 52
        }
      },
      "source": [
        "from sklearn.metrics import classification_report,accuracy_score,f1_score\n",
        "print(accuracy_score(y_true,y_pred))\n",
        "print(f1_score(y_true,y_pred,average='macro'))"
      ],
      "execution_count": 66,
      "outputs": [
        {
          "output_type": "stream",
          "text": [
            "0.8888888888888888\n",
            "0.9220934731697383\n"
          ],
          "name": "stdout"
        }
      ]
    },
    {
      "cell_type": "code",
      "metadata": {
        "colab_type": "code",
        "outputId": "45b0a341-eb8d-411b-a5d3-41872cd939f0",
        "id": "FHjZ-zxeUjNd",
        "colab": {
          "base_uri": "https://localhost:8080/",
          "height": 225
        }
      },
      "source": [
        "print(classification_report(y_true, y_pred,target_names=class_label))#"
      ],
      "execution_count": 67,
      "outputs": [
        {
          "output_type": "stream",
          "text": [
            "              precision    recall  f1-score   support\n",
            "\n",
            "  Black spot       0.83      0.88      0.86        51\n",
            "    Melanose       1.00      1.00      1.00         3\n",
            "      canker       0.95      0.88      0.91        48\n",
            "    greening       0.87      0.87      0.87        61\n",
            "     healthy       0.94      1.00      0.97        17\n",
            "\n",
            "    accuracy                           0.89       180\n",
            "   macro avg       0.92      0.93      0.92       180\n",
            "weighted avg       0.89      0.89      0.89       180\n",
            "\n"
          ],
          "name": "stdout"
        }
      ]
    },
    {
      "cell_type": "markdown",
      "metadata": {
        "id": "g07G55lDuTHF",
        "colab_type": "text"
      },
      "source": [
        "### Imagenet weights"
      ]
    },
    {
      "cell_type": "code",
      "metadata": {
        "id": "TROCpFHEY_hG",
        "colab_type": "code",
        "outputId": "acb7927b-886e-48ad-9691-f8a485728d2b",
        "colab": {
          "base_uri": "https://localhost:8080/",
          "height": 72
        }
      },
      "source": [
        "from tensorflow.keras.applications.densenet import DenseNet121\n",
        "image_model =DenseNet121(weights = 'imagenet', include_top=False, input_shape = (img_shape,img_shape,3))\n"
      ],
      "execution_count": 68,
      "outputs": [
        {
          "output_type": "stream",
          "text": [
            "Downloading data from https://storage.googleapis.com/tensorflow/keras-applications/densenet/densenet121_weights_tf_dim_ordering_tf_kernels_notop.h5\n",
            "29089792/29084464 [==============================] - 1s 0us/step\n"
          ],
          "name": "stdout"
        }
      ]
    },
    {
      "cell_type": "code",
      "metadata": {
        "id": "bH-iijlsYv6Z",
        "colab_type": "code",
        "colab": {}
      },
      "source": [
        "x = image_model.output\n",
        "x = GlobalAveragePooling2D()(x)\n",
        "x = Dropout(0.3)(x)\n",
        "x = Dense(128, activation=\"relu\")(x)\n",
        "x = Dropout(0.3)(x)\n",
        "x = Dense(64, activation=\"relu\")(x)\n",
        "predictions = Dense(5, activation=\"softmax\")(x)"
      ],
      "execution_count": 0,
      "outputs": []
    },
    {
      "cell_type": "code",
      "metadata": {
        "id": "wHi6QjGpZTZa",
        "colab_type": "code",
        "colab": {}
      },
      "source": [
        "image_model = Model(inputs=image_model.input, outputs=predictions)"
      ],
      "execution_count": 0,
      "outputs": []
    },
    {
      "cell_type": "code",
      "metadata": {
        "id": "wy7REZm-zh0t",
        "colab_type": "code",
        "colab": {
          "base_uri": "https://localhost:8080/",
          "height": 69
        },
        "outputId": "c593ae8c-428a-4404-d022-0a419ad2617d"
      },
      "source": [
        "image_model.layers[7].get_weights()[0][0:10]"
      ],
      "execution_count": 71,
      "outputs": [
        {
          "output_type": "execute_result",
          "data": {
            "text/plain": [
              "array([2.81978130e-01, 1.29865497e-01, 2.31768519e-01, 1.80121988e-01,\n",
              "       2.50349194e-01, 3.19371969e-01, 2.59272406e-06, 1.99219480e-01,\n",
              "       1.12553934e-07, 2.05804318e-01], dtype=float32)"
            ]
          },
          "metadata": {
            "tags": []
          },
          "execution_count": 71
        }
      ]
    },
    {
      "cell_type": "code",
      "metadata": {
        "id": "-EiFHYX6ZVAs",
        "colab_type": "code",
        "colab": {}
      },
      "source": [
        "def custom_loss(y_true, y_pred):\n",
        "    return tf.keras.losses.categorical_crossentropy(y_true, y_pred, label_smoothing=0.1)"
      ],
      "execution_count": 0,
      "outputs": []
    },
    {
      "cell_type": "code",
      "metadata": {
        "id": "6ILUJUKTaLpY",
        "colab_type": "code",
        "colab": {}
      },
      "source": [
        "image_model.compile(optimizer='adam', loss=custom_loss, metrics=['accuracy'])"
      ],
      "execution_count": 0,
      "outputs": []
    },
    {
      "cell_type": "code",
      "metadata": {
        "id": "XGM8_mVLZY8a",
        "colab_type": "code",
        "outputId": "97b2c3d5-9ef1-4486-d731-5439687ebe08",
        "colab": {
          "base_uri": "https://localhost:8080/",
          "height": 52
        }
      },
      "source": [
        "%%time\n",
        "image_results = image_model.fit(train_generator,epochs=15,verbose=0,\n",
        "                              steps_per_epoch=train_generator.n/batch_size,\n",
        "                              validation_data=val_generator,\n",
        "                             validation_steps=val_generator.n/batch_size,\n",
        "                              callbacks=[ReduceLROnPlateau(monitor='val_loss', factor=0.3,patience=2, min_lr=0.000001)]\n",
        "                    )"
      ],
      "execution_count": 74,
      "outputs": [
        {
          "output_type": "stream",
          "text": [
            "CPU times: user 3min 38s, sys: 3.27 s, total: 3min 41s\n",
            "Wall time: 3min 8s\n"
          ],
          "name": "stdout"
        }
      ]
    },
    {
      "cell_type": "code",
      "metadata": {
        "id": "Cf2JhDiNMhlZ",
        "colab_type": "code",
        "outputId": "68c19dd1-1a3d-4e8c-b2ae-c33f5599dace",
        "colab": {
          "base_uri": "https://localhost:8080/",
          "height": 295
        }
      },
      "source": [
        "\n",
        "plt.plot(image_results.history['accuracy'])\n",
        "plt.plot(image_results.history['val_accuracy'])\n",
        "plt.title('model accuracy ')\n",
        "plt.ylabel('accuracy')\n",
        "plt.xlabel('epoch')\n",
        "plt.legend(['train', 'test'], loc='upper left')\n",
        "plt.show()"
      ],
      "execution_count": 75,
      "outputs": [
        {
          "output_type": "display_data",
          "data": {
            "image/png": "[encoded data removed]",
            "text/plain": [
              "<Figure size 432x288 with 1 Axes>"
            ]
          },
          "metadata": {
            "tags": [],
            "needs_background": "light"
          }
        }
      ]
    },
    {
      "cell_type": "code",
      "metadata": {
        "id": "1wwHnZWzchDE",
        "colab_type": "code",
        "outputId": "08d0bf82-2630-4560-eceb-3d1b1c58f06f",
        "colab": {
          "base_uri": "https://localhost:8080/",
          "height": 295
        }
      },
      "source": [
        "\n",
        "plt.plot(image_results.history['loss'])\n",
        "plt.plot(image_results.history['val_loss'])\n",
        "plt.title('model loss')\n",
        "plt.ylabel('loss')\n",
        "plt.xlabel('epoch')\n",
        "plt.legend(['train', 'test'], loc='upper left')\n",
        "plt.show()"
      ],
      "execution_count": 76,
      "outputs": [
        {
          "output_type": "display_data",
          "data": {
            "image/png": "[encoded data removed]",
            "text/plain": [
              "<Figure size 432x288 with 1 Axes>"
            ]
          },
          "metadata": {
            "tags": [],
            "needs_background": "light"
          }
        }
      ]
    },
    {
      "cell_type": "code",
      "metadata": {
        "id": "G_ZFYgc4zUBy",
        "colab_type": "code",
        "outputId": "e33ede91-cad1-4c3d-8f7f-665126485557",
        "colab": {
          "base_uri": "https://localhost:8080/",
          "height": 35
        }
      },
      "source": [
        "val_generator.reset()\n",
        "y_pred=image_model.predict(val_generator,steps=val_generator.n/batch_size,verbose=1)"
      ],
      "execution_count": 77,
      "outputs": [
        {
          "output_type": "stream",
          "text": [
            "8/7 [================================] - 3s 335ms/step\n"
          ],
          "name": "stdout"
        }
      ]
    },
    {
      "cell_type": "code",
      "metadata": {
        "id": "XPbPFn7fDfFR",
        "colab_type": "code",
        "colab": {}
      },
      "source": [
        "if val_suffle==True:\n",
        "  per = np.random.permutation(val_generator.n)\n",
        "  val_generator.index_array = per\n",
        "  y_true = val_generator.classes[per]\n",
        "else: \n",
        "  y_true = val_generator.classes"
      ],
      "execution_count": 0,
      "outputs": []
    },
    {
      "cell_type": "code",
      "metadata": {
        "id": "qVCzrjWWIetS",
        "colab_type": "code",
        "outputId": "d3bd4237-22e8-4f17-c6fe-5d56951b4cda",
        "colab": {
          "base_uri": "https://localhost:8080/",
          "height": 369
        }
      },
      "source": [
        "plot_multiclass_roc( y_pred, pd.get_dummies(y_true), n_classes=5,class_label=class_label, figsize=(10, 5))"
      ],
      "execution_count": 79,
      "outputs": [
        {
          "output_type": "stream",
          "text": [
            "0.96 Black spot\n",
            "1.0 Melanose\n",
            "0.9 canker\n",
            "0.89 greening\n",
            "1.0 healthy\n"
          ],
          "name": "stdout"
        },
        {
          "output_type": "display_data",
          "data": {
            "image/png": "[encoded data removed]",
            "text/plain": [
              "<Figure size 432x288 with 1 Axes>"
            ]
          },
          "metadata": {
            "tags": [],
            "needs_background": "light"
          }
        }
      ]
    },
    {
      "cell_type": "code",
      "metadata": {
        "id": "MHU7_JsVB0jH",
        "colab_type": "code",
        "colab": {}
      },
      "source": [
        "y_pred=np.argmax(y_pred, axis=1)"
      ],
      "execution_count": 0,
      "outputs": []
    },
    {
      "cell_type": "code",
      "metadata": {
        "id": "4wpcSCSWEGnh",
        "colab_type": "code",
        "outputId": "f24a918f-80e2-48f9-fed2-e08148979e01",
        "colab": {
          "base_uri": "https://localhost:8080/",
          "height": 35
        }
      },
      "source": [
        "y_pred.shape,y_true.shape"
      ],
      "execution_count": 81,
      "outputs": [
        {
          "output_type": "execute_result",
          "data": {
            "text/plain": [
              "((180,), (180,))"
            ]
          },
          "metadata": {
            "tags": []
          },
          "execution_count": 81
        }
      ]
    },
    {
      "cell_type": "code",
      "metadata": {
        "id": "XpYXUzgyZf4g",
        "colab_type": "code",
        "outputId": "2e816fa9-ab65-4512-b90f-443d0cb6fd9d",
        "colab": {
          "base_uri": "https://localhost:8080/",
          "height": 52
        }
      },
      "source": [
        "from sklearn.metrics import classification_report,accuracy_score,f1_score\n",
        "print(accuracy_score(y_true,y_pred))\n",
        "print(f1_score(y_true,y_pred,average='macro'))"
      ],
      "execution_count": 82,
      "outputs": [
        {
          "output_type": "stream",
          "text": [
            "0.7888888888888889\n",
            "0.7820421238189539\n"
          ],
          "name": "stdout"
        }
      ]
    },
    {
      "cell_type": "code",
      "metadata": {
        "id": "486dBdG0YqEV",
        "colab_type": "code",
        "outputId": "196e560f-144d-4ee9-e1fb-667c1a4bc7ab",
        "colab": {
          "base_uri": "https://localhost:8080/",
          "height": 225
        }
      },
      "source": [
        "class_label=list(train_generator.class_indices.keys())\n",
        "print(classification_report(y_true, y_pred,target_names=class_label))#"
      ],
      "execution_count": 83,
      "outputs": [
        {
          "output_type": "stream",
          "text": [
            "              precision    recall  f1-score   support\n",
            "\n",
            "  Black spot       0.95      0.75      0.84        51\n",
            "    Melanose       1.00      0.67      0.80         3\n",
            "      canker       0.97      0.67      0.79        48\n",
            "    greening       0.73      0.87      0.79        61\n",
            "     healthy       0.53      1.00      0.69        17\n",
            "\n",
            "    accuracy                           0.79       180\n",
            "   macro avg       0.84      0.79      0.78       180\n",
            "weighted avg       0.84      0.79      0.79       180\n",
            "\n"
          ],
          "name": "stdout"
        }
      ]
    },
    {
      "cell_type": "markdown",
      "metadata": {
        "id": "zM5HFzpGyv-W",
        "colab_type": "text"
      },
      "source": [
        "# Result"
      ]
    },
    {
      "cell_type": "code",
      "metadata": {
        "id": "lf8oqt9ZH_d4",
        "colab_type": "code",
        "colab": {
          "base_uri": "https://localhost:8080/",
          "height": 298
        },
        "outputId": "b735f867-47fc-4ec4-83c9-d17cebff11b7"
      },
      "source": [
        "\n",
        "plt.plot(result_base.history['val_accuracy'])\n",
        "plt.plot(transfer_scratch_results.history['val_accuracy'])\n",
        "plt.plot(transfer_imgnet_results.history['val_accuracy'])\n",
        "plt.plot(image_results.history['val_accuracy'])\n",
        "plt.title('Models Accuracy ',fontsize=12)\n",
        "plt.ylabel('Accuracy',fontsize=12)\n",
        "plt.xlabel('Epochs',fontsize=12)\n",
        "plt.legend(['Base Model', 'Scratch Pretrained Model','ImageNet Pretrained Model','ImageNet Model'], loc='best')\n",
        "plt.show()"
      ],
      "execution_count": 84,
      "outputs": [
        {
          "output_type": "display_data",
          "data": {
            "image/png": "[encoded data removed]",
            "text/plain": [
              "<Figure size 432x288 with 1 Axes>"
            ]
          },
          "metadata": {
            "tags": [],
            "needs_background": "light"
          }
        }
      ]
    },
    {
      "cell_type": "code",
      "metadata": {
        "id": "pKHk1cADzrW8",
        "colab_type": "code",
        "colab": {
          "base_uri": "https://localhost:8080/",
          "height": 298
        },
        "outputId": "066431ed-bddd-463a-8a39-8137d3eecb57"
      },
      "source": [
        "\n",
        "plt.plot(result_base.history['val_loss'])\n",
        "plt.plot(transfer_scratch_results.history['val_loss'])\n",
        "plt.plot(transfer_imgnet_results.history['val_loss'])\n",
        "plt.plot(image_results.history['val_loss'])\n",
        "plt.title('Models accuracy ',fontsize=12)\n",
        "plt.ylabel('Accuracy',fontsize=12)\n",
        "plt.xlabel('Epochs',fontsize=12)\n",
        "plt.legend(['Base Model', 'Scratch Pretrained Model','ImageNet Pretrained Model','ImageNet Model'], loc='best')\n",
        "plt.show()"
      ],
      "execution_count": 85,
      "outputs": [
        {
          "output_type": "display_data",
          "data": {
            "image/png": "[encoded data removed]",
            "text/plain": [
              "<Figure size 432x288 with 1 Axes>"
            ]
          },
          "metadata": {
            "tags": [],
            "needs_background": "light"
          }
        }
      ]
    },
    {
      "cell_type": "code",
      "metadata": {
        "id": "qTXeRazg0l_6",
        "colab_type": "code",
        "colab": {}
      },
      "source": [
        ""
      ],
      "execution_count": 0,
      "outputs": []
    },
    {
      "cell_type": "code",
      "metadata": {
        "id": "KGsICcbqUil_",
        "colab_type": "code",
        "colab": {}
      },
      "source": [
        ""
      ],
      "execution_count": 0,
      "outputs": []
    }
  ]
}