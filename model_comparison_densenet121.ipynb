{
  "nbformat": 4,
  "nbformat_minor": 0,
  "metadata": {
    "colab": {
      "name": "model_comparison_densenet121.ipynb",
      "provenance": [],
      "collapsed_sections": [],
      "toc_visible": true,
      "include_colab_link": true
    },
    "kernelspec": {
      "name": "python3",
      "display_name": "Python 3"
    },
    "accelerator": "GPU"
  },
  "cells": [
    {
      "cell_type": "markdown",
      "metadata": {
        "id": "view-in-github",
        "colab_type": "text"
      },
      "source": [
        "<a href=\"https://colab.research.google.com/github/talhaanwarch/Plant-Leaf-Disease-Classification/blob/master/model_comparison_densenet121.ipynb\" target=\"_parent\"><img src=\"https://colab.research.google.com/assets/colab-badge.svg\" alt=\"Open In Colab\"/></a>"
      ]
    },
    {
      "cell_type": "code",
      "metadata": {
        "id": "6XjnbCiOJDBM",
        "colab_type": "code",
        "outputId": "214bd94f-68af-4788-89fd-253e57a34e4c",
        "colab": {
          "base_uri": "https://localhost:8080/",
          "height": 124
        }
      },
      "source": [
        "from google.colab import drive\n",
        "drive.mount('/content/drive')"
      ],
      "execution_count": 1,
      "outputs": [
        {
          "output_type": "stream",
          "text": [
            "Go to this URL in a browser: https://accounts.google.com/o/oauth2/auth?client_id=947318989803-6bn6qk8qdgf4n4g3pfee6491hc0brc4i.apps.googleusercontent.com&redirect_uri=urn%3aietf%3awg%3aoauth%3a2.0%3aoob&response_type=code&scope=email%20https%3a%2f%2fwww.googleapis.com%2fauth%2fdocs.test%20https%3a%2f%2fwww.googleapis.com%2fauth%2fdrive%20https%3a%2f%2fwww.googleapis.com%2fauth%2fdrive.photos.readonly%20https%3a%2f%2fwww.googleapis.com%2fauth%2fpeopleapi.readonly\n",
            "\n",
            "Enter your authorization code:\n",
            "··········\n",
            "Mounted at /content/drive\n"
          ],
          "name": "stdout"
        }
      ]
    },
    {
      "cell_type": "code",
      "metadata": {
        "id": "zFyYLgrWESO5",
        "colab_type": "code",
        "colab": {}
      },
      "source": [
        "#!pip install tensorflow-addons"
      ],
      "execution_count": 0,
      "outputs": []
    },
    {
      "cell_type": "markdown",
      "metadata": {
        "id": "xRWmuf4YMBuD",
        "colab_type": "text"
      },
      "source": [
        "### download data"
      ]
    },
    {
      "cell_type": "code",
      "metadata": {
        "id": "-gDgFJrtX3fI",
        "colab_type": "code",
        "outputId": "9c7211a6-db82-4b75-9993-a3743dc2371f",
        "colab": {
          "base_uri": "https://localhost:8080/",
          "height": 315
        }
      },
      "source": [
        "!wget https://data.mendeley.com/datasets/3f83gxmv57/2/files/53398b67-6f0e-4a67-8384-e2b574b2ebf4/Citrus.zip"
      ],
      "execution_count": 2,
      "outputs": [
        {
          "output_type": "stream",
          "text": [
            "--2020-06-15 07:29:16--  https://data.mendeley.com/datasets/3f83gxmv57/2/files/53398b67-6f0e-4a67-8384-e2b574b2ebf4/Citrus.zip\n",
            "Resolving data.mendeley.com (data.mendeley.com)... 162.159.133.86, 162.159.130.86, 2606:4700:7::a29f:8256, ...\n",
            "Connecting to data.mendeley.com (data.mendeley.com)|162.159.133.86|:443... connected.\n",
            "HTTP request sent, awaiting response... 302 Found\n",
            "Location: https://md-datasets-public-files-prod.s3.eu-west-1.amazonaws.com/ad404a4d-cedf-4830-8a11-0fc204ce8acb [following]\n",
            "--2020-06-15 07:29:17--  https://md-datasets-public-files-prod.s3.eu-west-1.amazonaws.com/ad404a4d-cedf-4830-8a11-0fc204ce8acb\n",
            "Resolving md-datasets-public-files-prod.s3.eu-west-1.amazonaws.com (md-datasets-public-files-prod.s3.eu-west-1.amazonaws.com)... 52.218.88.152\n",
            "Connecting to md-datasets-public-files-prod.s3.eu-west-1.amazonaws.com (md-datasets-public-files-prod.s3.eu-west-1.amazonaws.com)|52.218.88.152|:443... connected.\n",
            "HTTP request sent, awaiting response... 200 OK\n",
            "Length: 66977095 (64M) [application/x-zip-compressed]\n",
            "Saving to: ‘Citrus.zip’\n",
            "\n",
            "Citrus.zip          100%[===================>]  63.87M  21.1MB/s    in 3.0s    \n",
            "\n",
            "2020-06-15 07:29:21 (21.1 MB/s) - ‘Citrus.zip’ saved [66977095/66977095]\n",
            "\n"
          ],
          "name": "stdout"
        }
      ]
    },
    {
      "cell_type": "code",
      "metadata": {
        "id": "uPOXBR8sI7zk",
        "colab_type": "code",
        "colab": {}
      },
      "source": [
        "#!wget https://www.kaggleusercontent.com/kf/31940448/eyJhbGciOiJkaXIiLCJlbmMiOiJBMTI4Q0JDLUhTMjU2In0..3EZUGQlS8-vyVAUv-kR81g.x7rJM4b9UrYuds_FbbpOLkAHJSY6f8pi1njXjn73U2hQKUvJRwZeLc5_P_05H_zN1ydi7bTH31QRiM8hqmJKi_fmvrdvTbDT6IRNnQYHBfeSxfmO5OpltElX7J2y84FO1iws24RpDBpwkRKTKzdwOquoR2gHGtXqLgi4F9S4wi8-e_w6AjeyD_Lqpd-E1Py_NMb2mLHG4bO3OiXkHp8z5xZ3hj-cCkELMQ97KKWaO8jAMrrHWPM6FFOv4G2v4w5HgU1Uu3EM7N3BNgMhKlzzj4GoGBk_MtDkEcCUT3Vh2-C83b8C8-ecxd-TK62gVKYscVDINKHnTHJ8vYhxpXv_zM_E6827l0EhasaMO3j0yRbQf5hqSaB2lzYeY1zZgbb66yD8ojYyvtqRvoQcJp893El9ZKCPuUmCemrS95Yy3Y3a8hWdwtxO7Y032nUtC3P2eA-mm3cS8J9N2ToqZzLn2ZgPVtpyrnK_EV6ovt3ChmpXffrdu1eRdSNs0hRBmlnZ41tNCKoMplJMpry30v491-LO07t3fO6aUJC4l9CwCsF7krFmcpML0N_wCD2kVMqChyzxRhMyzdmpQakVe93gUKdoeccJfqPL3yBoeYDhUocFK8vl_hCM0rjitF5oplSFyKGiDumbFi3-KAkc0EzsrvQYsZDJuPRfj9i9XBZh3-Q.eiWxBkniMDaEugyP2W34mA/weights.hdf5\n",
        "#!wget https://www.kaggleusercontent.com/kf/31958940/eyJhbGciOiJkaXIiLCJlbmMiOiJBMTI4Q0JDLUhTMjU2In0..IFPcFIsWFWXvNbPjDWrhdA.X9PxJ2stzhlPMFcfo1yBlUefLSRdDt8XMa4Y-nxPv4CPpHcoSoiikqkNGWXg-7s05Ymvz4WtNzOECe8_y_4MVQNmKJh-T1Cx-TA16B-EuvC-1vdT3GRNzPzuroewoxnH9kXeI8X6lXS625vXWRj-750DBGmL5P-vkfD4td7V8uULJfQwNEIujNdx2_QfGo-8gKFFwWm2kDoYpcIFfBjzMaiD9UURCOC1URu2i3t3_Vc7jrprDvz5bPucNObehjp3mvfKzDH3dBKEN5kMXPAgviPfPxO6K4Cf_3o9HHvQA32UG-LeHHMmQg_Y2qwfmUblbUuRrD3lrYb5UxT2CcXxOaTWf3zqcsxb7Pnsqm728Cx-3-Rk__UVrCcmihyRMMtlV42RAZPUwXDqp8SyyHVwt7zTeNo2ZxRwPOOKxxtSJ56jT4LJM7lLuN8YiFgVpXp3HzgLZWuIGrNTj7JIP72Q62dbEIXaYdlBV6yiWvm9ydwWDFXRCq86TTODWy-6LhqLjTeQrqck_tXC6nRRY3GGG7fBCUFb3ky2Qwo4-0WgSJWYqiqpKFvu-Lg1_5YoUUdIWyRPUBHypSp9mNzGlMoQANm6_MFSPSuQGIOLWANQot0UjtBt2qRrCSPaeVztTgFN6CT4HP9X77pzocUvHk0Wcr1pK6kkgTOITCSHYJg8DbE.KVHlB7WTTL1nR9WwLvp6jw/scratch_weights.hdf5\n",
        "!cp /content/drive/My\\ Drive/data/densenet121_weights.hdf5 /content/\n",
        "!cp /content/drive/My\\ Drive/data/scratch_weights.hdf5 /content/"
      ],
      "execution_count": 0,
      "outputs": []
    },
    {
      "cell_type": "markdown",
      "metadata": {
        "id": "wMtXcWESMF4u",
        "colab_type": "text"
      },
      "source": [
        "### install efficinetnet model"
      ]
    },
    {
      "cell_type": "code",
      "metadata": {
        "id": "4P2KNYuSYQXv",
        "colab_type": "code",
        "colab": {}
      },
      "source": [
        "%%capture\n",
        "#!pip install efficientnet"
      ],
      "execution_count": 0,
      "outputs": []
    },
    {
      "cell_type": "markdown",
      "metadata": {
        "id": "T-6uWVJNMKAT",
        "colab_type": "text"
      },
      "source": [
        "### unzip donwloaded dataset"
      ]
    },
    {
      "cell_type": "code",
      "metadata": {
        "id": "B6jS6iFbYA_f",
        "colab_type": "code",
        "colab": {}
      },
      "source": [
        "%%capture\n",
        "!unzip /content/Citrus.zip"
      ],
      "execution_count": 0,
      "outputs": []
    },
    {
      "cell_type": "markdown",
      "metadata": {
        "id": "3ws3lz9gMNjZ",
        "colab_type": "text"
      },
      "source": [
        "## import libraries"
      ]
    },
    {
      "cell_type": "code",
      "metadata": {
        "id": "j2ELFuzfYIBi",
        "colab_type": "code",
        "colab": {}
      },
      "source": [
        "import numpy as np # linear algebra\n",
        "import pandas as pd # data processing, CSV file I/O (e.g. pd.read_csv)\n",
        "import matplotlib.pyplot as plt\n"
      ],
      "execution_count": 0,
      "outputs": []
    },
    {
      "cell_type": "markdown",
      "metadata": {
        "id": "NHcaPrv3MPp3",
        "colab_type": "text"
      },
      "source": [
        "## data augmentation "
      ]
    },
    {
      "cell_type": "code",
      "metadata": {
        "id": "HLLlRf3FYT-9",
        "colab_type": "code",
        "colab": {}
      },
      "source": [
        "from keras_preprocessing.image import ImageDataGenerator\n",
        "\n",
        "data_gen= ImageDataGenerator(\n",
        "    horizontal_flip=True,\n",
        "    vertical_flip=True,\n",
        "    rotation_range=360,\n",
        "    width_shift_range=0.1,\n",
        "    height_shift_range=0.1,\n",
        "    zoom_range=.1,\n",
        "    rescale=1/255,\n",
        "    fill_mode='nearest',\n",
        "    shear_range=0.1,\n",
        "    brightness_range=[0.5, 1.5],\n",
        "    validation_split=0.3)"
      ],
      "execution_count": 0,
      "outputs": []
    },
    {
      "cell_type": "markdown",
      "metadata": {
        "id": "SdGkQaB-MVOk",
        "colab_type": "text"
      },
      "source": [
        "## load data \n",
        "load data from directory in generator structure, infact data is loaded while training"
      ]
    },
    {
      "cell_type": "code",
      "metadata": {
        "id": "89ZpuWkgYZHW",
        "colab_type": "code",
        "colab": {}
      },
      "source": [
        "img_shape=224\n",
        "batch_size=32\n",
        "n_epochs=20"
      ],
      "execution_count": 0,
      "outputs": []
    },
    {
      "cell_type": "code",
      "metadata": {
        "id": "EsqIKDdmYa0l",
        "colab_type": "code",
        "outputId": "d73e59bc-2701-4f9c-c37c-cfb34c13e0b1",
        "colab": {
          "base_uri": "https://localhost:8080/",
          "height": 35
        }
      },
      "source": [
        "#load the training data\n",
        "train_generator = data_gen.flow_from_directory(\n",
        "    '/content/Citrus/Leaves',\n",
        "    target_size=(img_shape,img_shape),\n",
        "    batch_size=batch_size,\n",
        "    class_mode='categorical',\n",
        "    subset='training',\n",
        "    shuffle=True)\n"
      ],
      "execution_count": 9,
      "outputs": [
        {
          "output_type": "stream",
          "text": [
            "Found 429 images belonging to 5 classes.\n"
          ],
          "name": "stdout"
        }
      ]
    },
    {
      "cell_type": "code",
      "metadata": {
        "id": "qPAoXFonZ7Pk",
        "colab_type": "code",
        "outputId": "d654522e-b6b7-4dd3-f10d-aa163474b81b",
        "colab": {
          "base_uri": "https://localhost:8080/",
          "height": 35
        }
      },
      "source": [
        "#load the training data\n",
        "val_suffle=False\n",
        "val_generator = data_gen.flow_from_directory(\n",
        "    '/content/Citrus/Leaves',\n",
        "    target_size=(img_shape,img_shape),\n",
        "    batch_size=batch_size,\n",
        "    class_mode='categorical',\n",
        "    subset='validation',shuffle=val_suffle)#shuffle should be False in validation\n",
        "    #https://stackoverflow.com/a/47439789/11170350\n"
      ],
      "execution_count": 10,
      "outputs": [
        {
          "output_type": "stream",
          "text": [
            "Found 180 images belonging to 5 classes.\n"
          ],
          "name": "stdout"
        }
      ]
    },
    {
      "cell_type": "code",
      "metadata": {
        "id": "UQwUaMd7Y1qL",
        "colab_type": "code",
        "outputId": "3d2c376f-8f0b-4a4b-c3f8-fbdbfd99c2d6",
        "colab": {
          "base_uri": "https://localhost:8080/",
          "height": 35
        }
      },
      "source": [
        "train_generator.next()[0].shape,train_generator.next()[1].shape"
      ],
      "execution_count": 11,
      "outputs": [
        {
          "output_type": "execute_result",
          "data": {
            "text/plain": [
              "((32, 224, 224, 3), (32, 5))"
            ]
          },
          "metadata": {
            "tags": []
          },
          "execution_count": 11
        }
      ]
    },
    {
      "cell_type": "code",
      "metadata": {
        "id": "XwCEKIuz0C1Z",
        "colab_type": "code",
        "outputId": "fd7b301f-1109-45b9-fe37-d845dc19550a",
        "colab": {
          "base_uri": "https://localhost:8080/",
          "height": 35
        }
      },
      "source": [
        "val_generator.next()[0].shape,val_generator.next()[1].shape"
      ],
      "execution_count": 12,
      "outputs": [
        {
          "output_type": "execute_result",
          "data": {
            "text/plain": [
              "((32, 224, 224, 3), (32, 5))"
            ]
          },
          "metadata": {
            "tags": []
          },
          "execution_count": 12
        }
      ]
    },
    {
      "cell_type": "code",
      "metadata": {
        "id": "gVKIceH_F3JX",
        "colab_type": "code",
        "colab": {}
      },
      "source": [
        ""
      ],
      "execution_count": 0,
      "outputs": []
    },
    {
      "cell_type": "code",
      "metadata": {
        "id": "3zjx1b6uFETG",
        "colab_type": "code",
        "outputId": "5deb8b3d-bdf6-4c91-8e08-46871a3bbc78",
        "colab": {
          "base_uri": "https://localhost:8080/",
          "height": 72
        }
      },
      "source": [
        "from sklearn.metrics import roc_auc_score,roc_curve,auc\n",
        "import seaborn as sns\n",
        "def plot_multiclass_roc(y_pred, y_test, n_classes,class_label,fig_title, figsize=(17, 6)):\n",
        "    \n",
        "    # structures\n",
        "    fpr = dict()\n",
        "    tpr = dict()\n",
        "    roc_auc = dict()\n",
        "\n",
        "    # calculate dummies once\n",
        "    for i in range(n_classes):\n",
        "        fpr[i], tpr[i], _ = roc_curve(y_test.iloc[:, i], y_pred[:, i])\n",
        "        roc_auc[i] = auc(fpr[i], tpr[i])\n",
        "\n",
        "    # roc for each class\n",
        "    fig, ax = plt.subplots()\n",
        "    ax.plot([0, 1], [0, 1], 'k--')\n",
        "    ax.set_xlim([0.0, 1.0])\n",
        "    ax.set_ylim([0.0, 1.05])\n",
        "    ax.set_xlabel('False Positive Rate',fontsize=12)\n",
        "    ax.set_ylabel('True Positive Rate',fontsize=12)\n",
        "    #ax.set_title('Receiver operating characteristic example')\n",
        "    for i,j in enumerate(class_label):\n",
        "        print(np.round(roc_auc[i],2),j)\n",
        "        ax.plot(fpr[i], tpr[i], label='ROC curve for {}'.format(j))\n",
        "    ax.legend(loc=\"best\")\n",
        "    ax.grid(alpha=.4)\n",
        "    sns.despine()\n",
        "    plt.savefig(fig_title,format='png' ,dpi=300)\n",
        "    plt.show()\n",
        "  \n"
      ],
      "execution_count": 13,
      "outputs": [
        {
          "output_type": "stream",
          "text": [
            "/usr/local/lib/python3.6/dist-packages/statsmodels/tools/_testing.py:19: FutureWarning: pandas.util.testing is deprecated. Use the functions in the public API at pandas.testing instead.\n",
            "  import pandas.util.testing as tm\n"
          ],
          "name": "stderr"
        }
      ]
    },
    {
      "cell_type": "code",
      "metadata": {
        "id": "1INqpplvY5PN",
        "colab_type": "code",
        "colab": {}
      },
      "source": [
        "from tensorflow.keras.models import Sequential,Model\n",
        "from tensorflow.keras.layers import Activation, Dropout, Flatten, Dense, Conv2D, MaxPool2D, BatchNormalization,Input,MaxPooling2D,GlobalMaxPooling2D,concatenate\n",
        "from tensorflow.keras.layers import GlobalAveragePooling2D\n",
        "from tensorflow.keras.applications.resnet50 import ResNet50\n",
        "from tensorflow.keras.callbacks import ModelCheckpoint,ReduceLROnPlateau\n",
        "from tensorflow.keras.optimizers import Adam\n",
        "import tensorflow.keras.backend as K\n",
        "import tensorflow as tf\n",
        "import tensorflow_addons as tfa"
      ],
      "execution_count": 0,
      "outputs": []
    },
    {
      "cell_type": "markdown",
      "metadata": {
        "colab_type": "text",
        "id": "Krz3zbaMB5Zh"
      },
      "source": [
        "## Densenet 121"
      ]
    },
    {
      "cell_type": "code",
      "metadata": {
        "id": "NbQr2BdBFRAY",
        "colab_type": "code",
        "colab": {}
      },
      "source": [
        "#opt=tfa.optimizers.RectifiedAdam()\n",
        "opt=Adam(0.0001)\n",
        "lr=[ReduceLROnPlateau(monitor='val_loss', factor=0.5,patience=3, min_lr=0.000001)]"
      ],
      "execution_count": 0,
      "outputs": []
    },
    {
      "cell_type": "markdown",
      "metadata": {
        "id": "3NGU069DHm1-",
        "colab_type": "text"
      },
      "source": [
        "### no weights"
      ]
    },
    {
      "cell_type": "code",
      "metadata": {
        "colab_type": "code",
        "id": "eWSdRzugB5Zj",
        "colab": {}
      },
      "source": [
        "from tensorflow.keras.applications.densenet import DenseNet121\n",
        "base_model =DenseNet121(weights = None, include_top=False, input_shape = (img_shape,img_shape,3))\n"
      ],
      "execution_count": 0,
      "outputs": []
    },
    {
      "cell_type": "code",
      "metadata": {
        "colab_type": "code",
        "id": "jL3IOd3OB5Zl",
        "colab": {}
      },
      "source": [
        "x = base_model.output\n",
        "x = GlobalAveragePooling2D()(x)\n",
        "x = Dropout(0.3)(x)\n",
        "x = Dense(128, activation=\"relu\")(x)\n",
        "x = Dropout(0.3)(x)\n",
        "x = Dense(64, activation=\"relu\")(x)\n",
        "predictions = Dense(5, activation=\"softmax\")(x)"
      ],
      "execution_count": 0,
      "outputs": []
    },
    {
      "cell_type": "code",
      "metadata": {
        "colab_type": "code",
        "id": "2ruPk5SLB5Zn",
        "colab": {}
      },
      "source": [
        "base_model = Model(inputs=base_model.input, outputs=predictions)"
      ],
      "execution_count": 0,
      "outputs": []
    },
    {
      "cell_type": "code",
      "metadata": {
        "colab_type": "code",
        "id": "wgJ8fPXAB5Zp",
        "colab": {}
      },
      "source": [
        "def custom_loss(y_true, y_pred):\n",
        "    return tf.keras.losses.categorical_crossentropy(y_true, y_pred, label_smoothing=0.1)"
      ],
      "execution_count": 0,
      "outputs": []
    },
    {
      "cell_type": "code",
      "metadata": {
        "colab_type": "code",
        "id": "qwnnmZi9B5Zr",
        "colab": {}
      },
      "source": [
        "base_model.compile(optimizer=tfa.optimizers.RectifiedAdam(), loss=custom_loss, metrics=['accuracy'])"
      ],
      "execution_count": 0,
      "outputs": []
    },
    {
      "cell_type": "code",
      "metadata": {
        "colab_type": "code",
        "id": "icLoanKvB5Zu",
        "outputId": "868dd67b-fba6-4ecf-aece-e64f67d0b5fa",
        "colab": {
          "base_uri": "https://localhost:8080/",
          "height": 52
        }
      },
      "source": [
        "%%time\n",
        "result_base = base_model.fit(train_generator,epochs=n_epochs,verbose=0,\n",
        "                              steps_per_epoch=train_generator.n/batch_size,\n",
        "                              validation_data=val_generator,\n",
        "                             validation_steps=val_generator.n/batch_size,\n",
        "                              callbacks=lr\n",
        "                    )"
      ],
      "execution_count": 21,
      "outputs": [
        {
          "output_type": "stream",
          "text": [
            "CPU times: user 7min 59s, sys: 1min 9s, total: 9min 9s\n",
            "Wall time: 6min 26s\n"
          ],
          "name": "stdout"
        }
      ]
    },
    {
      "cell_type": "code",
      "metadata": {
        "colab_type": "code",
        "id": "4CL_SpvRB5Zx",
        "outputId": "7ebc4a5b-0eb7-442d-d51e-e1835e4ff621",
        "colab": {
          "base_uri": "https://localhost:8080/",
          "height": 295
        }
      },
      "source": [
        "\n",
        "plt.plot(result_base.history['accuracy'])\n",
        "plt.plot(result_base.history['val_accuracy'])\n",
        "plt.title('model accuracy ')\n",
        "plt.ylabel('accuracy')\n",
        "plt.xlabel('epoch')\n",
        "plt.legend(['train', 'test'], loc='upper left')\n",
        "plt.show()"
      ],
      "execution_count": 22,
      "outputs": [
        {
          "output_type": "display_data",
          "data": {
            "image/png": "[encoded data removed]",
            "text/plain": [
              "<Figure size 432x288 with 1 Axes>"
            ]
          },
          "metadata": {
            "tags": [],
            "needs_background": "light"
          }
        }
      ]
    },
    {
      "cell_type": "code",
      "metadata": {
        "colab_type": "code",
        "id": "9k-a1j4cB5Zz",
        "outputId": "eb1ad0a1-c957-4142-8ed6-ff34476147f8",
        "colab": {
          "base_uri": "https://localhost:8080/",
          "height": 295
        }
      },
      "source": [
        "\n",
        "plt.plot(result_base.history['loss'])\n",
        "plt.plot(result_base.history['val_loss'])\n",
        "plt.title('model loss')\n",
        "plt.ylabel('loss')\n",
        "plt.xlabel('epoch')\n",
        "plt.legend(['train', 'test'], loc='upper left')\n",
        "plt.show()"
      ],
      "execution_count": 23,
      "outputs": [
        {
          "output_type": "display_data",
          "data": {
            "image/png": "[encoded data removed]",
            "text/plain": [
              "<Figure size 432x288 with 1 Axes>"
            ]
          },
          "metadata": {
            "tags": [],
            "needs_background": "light"
          }
        }
      ]
    },
    {
      "cell_type": "code",
      "metadata": {
        "colab_type": "code",
        "id": "pFVKCjDQB5Z5",
        "outputId": "34a4dbc6-f69c-480c-e3b1-28ecdbe0e4f2",
        "colab": {
          "base_uri": "https://localhost:8080/",
          "height": 35
        }
      },
      "source": [
        "val_generator.reset()\n",
        "y_pred=base_model.predict(val_generator,steps=val_generator.n/batch_size,verbose=1)"
      ],
      "execution_count": 24,
      "outputs": [
        {
          "output_type": "stream",
          "text": [
            "6/5 [================================] - 2s 406ms/step\n"
          ],
          "name": "stdout"
        }
      ]
    },
    {
      "cell_type": "code",
      "metadata": {
        "id": "YrxtXzufFZ01",
        "colab_type": "code",
        "colab": {}
      },
      "source": [
        "class_label=list(train_generator.class_indices.keys())\n"
      ],
      "execution_count": 0,
      "outputs": []
    },
    {
      "cell_type": "code",
      "metadata": {
        "colab_type": "code",
        "id": "54Zzf36JB5Z6",
        "colab": {}
      },
      "source": [
        "if val_suffle==True:\n",
        "  per = np.random.permutation(val_generator.n)\n",
        "  val_generator.index_array = per\n",
        "  y_true = val_generator.classes[per]\n",
        "else: \n",
        "  y_true = val_generator.classes"
      ],
      "execution_count": 0,
      "outputs": []
    },
    {
      "cell_type": "code",
      "metadata": {
        "id": "dn-F2hupFKNy",
        "colab_type": "code",
        "outputId": "a8f5e2a4-af6b-4c71-834c-8d895160366f",
        "colab": {
          "base_uri": "https://localhost:8080/",
          "height": 369
        }
      },
      "source": [
        "plot_multiclass_roc( y_pred, pd.get_dummies(y_true), n_classes=5,class_label=class_label,fig_title='BM.png', figsize=(8, 6))\n"
      ],
      "execution_count": 27,
      "outputs": [
        {
          "output_type": "stream",
          "text": [
            "0.54 Black spot\n",
            "0.6 Melanose\n",
            "0.51 canker\n",
            "0.47 greening\n",
            "0.55 healthy\n"
          ],
          "name": "stdout"
        },
        {
          "output_type": "display_data",
          "data": {
            "image/png": "[encoded data removed]",
            "text/plain": [
              "<Figure size 432x288 with 1 Axes>"
            ]
          },
          "metadata": {
            "tags": [],
            "needs_background": "light"
          }
        }
      ]
    },
    {
      "cell_type": "code",
      "metadata": {
        "colab_type": "code",
        "id": "FC4j26dhB5Z8",
        "colab": {}
      },
      "source": [
        "y_pred=np.argmax(y_pred, axis=1)"
      ],
      "execution_count": 0,
      "outputs": []
    },
    {
      "cell_type": "code",
      "metadata": {
        "colab_type": "code",
        "id": "8_ExmH6gB5Z_",
        "outputId": "ba377268-8795-418d-d17b-6a8f11d22d07",
        "colab": {
          "base_uri": "https://localhost:8080/",
          "height": 35
        }
      },
      "source": [
        "y_pred.shape,y_true.shape"
      ],
      "execution_count": 29,
      "outputs": [
        {
          "output_type": "execute_result",
          "data": {
            "text/plain": [
              "((180,), (180,))"
            ]
          },
          "metadata": {
            "tags": []
          },
          "execution_count": 29
        }
      ]
    },
    {
      "cell_type": "code",
      "metadata": {
        "colab_type": "code",
        "id": "cwhyCTytB5aB",
        "outputId": "6978eb9d-86af-408a-b5e2-05434e3e7826",
        "colab": {
          "base_uri": "https://localhost:8080/",
          "height": 52
        }
      },
      "source": [
        "from sklearn.metrics import classification_report,accuracy_score,f1_score\n",
        "print(accuracy_score(y_true,y_pred))\n",
        "print(f1_score(y_true,y_pred,average='macro'))"
      ],
      "execution_count": 30,
      "outputs": [
        {
          "output_type": "stream",
          "text": [
            "0.3\n",
            "0.14948275862068966\n"
          ],
          "name": "stdout"
        }
      ]
    },
    {
      "cell_type": "code",
      "metadata": {
        "colab_type": "code",
        "id": "TgNAwQEnB5aD",
        "outputId": "939a1cda-13d9-4f84-a985-e7251bf30f3e",
        "colab": {
          "base_uri": "https://localhost:8080/",
          "height": 280
        }
      },
      "source": [
        "print(classification_report(y_true, y_pred,target_names=class_label))#"
      ],
      "execution_count": 31,
      "outputs": [
        {
          "output_type": "stream",
          "text": [
            "              precision    recall  f1-score   support\n",
            "\n",
            "  Black spot       0.00      0.00      0.00        51\n",
            "    Melanose       0.00      0.00      0.00         3\n",
            "      canker       0.28      0.56      0.38        48\n",
            "    greening       0.32      0.44      0.37        61\n",
            "     healthy       0.00      0.00      0.00        17\n",
            "\n",
            "    accuracy                           0.30       180\n",
            "   macro avg       0.12      0.20      0.15       180\n",
            "weighted avg       0.18      0.30      0.23       180\n",
            "\n"
          ],
          "name": "stdout"
        },
        {
          "output_type": "stream",
          "text": [
            "/usr/local/lib/python3.6/dist-packages/sklearn/metrics/_classification.py:1272: UndefinedMetricWarning: Precision and F-score are ill-defined and being set to 0.0 in labels with no predicted samples. Use `zero_division` parameter to control this behavior.\n",
            "  _warn_prf(average, modifier, msg_start, len(result))\n"
          ],
          "name": "stderr"
        }
      ]
    },
    {
      "cell_type": "code",
      "metadata": {
        "colab_type": "code",
        "id": "nSafY5wcB5aI",
        "colab": {}
      },
      "source": [
        ""
      ],
      "execution_count": 0,
      "outputs": []
    },
    {
      "cell_type": "markdown",
      "metadata": {
        "id": "IxJDBHpoJWSF",
        "colab_type": "text"
      },
      "source": [
        "### Model trained on villaged dataset"
      ]
    },
    {
      "cell_type": "code",
      "metadata": {
        "id": "kuzfVyvuB3Im",
        "colab_type": "code",
        "colab": {}
      },
      "source": [
        "from tensorflow.keras.applications.densenet import DenseNet121\n",
        "own_scratch_model =DenseNet121(weights = None, include_top=False, input_shape = (img_shape,img_shape,3))\n",
        "x = own_scratch_model.output\n",
        "x = GlobalAveragePooling2D()(x)\n",
        "x = Dropout(0.3)(x)\n",
        "x = Dense(128, activation=\"relu\")(x)\n",
        "x = Dropout(0.3)(x)\n",
        "x = Dense(64, activation=\"relu\")(x)\n",
        "predictions = Dense(15, activation=\"softmax\")(x)\n",
        "own_scratch_model = Model(inputs=own_scratch_model.input, outputs=predictions)\n",
        "own_scratch_model.load_weights('/content/scratch_weights.hdf5')"
      ],
      "execution_count": 0,
      "outputs": []
    },
    {
      "cell_type": "code",
      "metadata": {
        "id": "cIR_dlaROn3L",
        "colab_type": "code",
        "colab": {}
      },
      "source": [
        "transfer_scratch_model = Model(own_scratch_model.input, own_scratch_model.layers[-7].output)"
      ],
      "execution_count": 0,
      "outputs": []
    },
    {
      "cell_type": "code",
      "metadata": {
        "id": "h9z8g5KOLbGY",
        "colab_type": "code",
        "outputId": "3742b704-3884-4bec-d5fa-0a9aa3677ad5",
        "colab": {
          "base_uri": "https://localhost:8080/",
          "height": 69
        }
      },
      "source": [
        "transfer_scratch_model.layers[7].get_weights()[0][0:10]"
      ],
      "execution_count": 34,
      "outputs": [
        {
          "output_type": "execute_result",
          "data": {
            "text/plain": [
              "array([0.9202305 , 0.93353206, 1.0833695 , 0.99886405, 0.9464825 ,\n",
              "       0.8838621 , 1.0045762 , 1.0752947 , 1.0655146 , 0.83632797],\n",
              "      dtype=float32)"
            ]
          },
          "metadata": {
            "tags": []
          },
          "execution_count": 34
        }
      ]
    },
    {
      "cell_type": "code",
      "metadata": {
        "id": "TVvUFtrQKgJY",
        "colab_type": "code",
        "colab": {}
      },
      "source": [
        "x = transfer_scratch_model.output\n",
        "x = GlobalAveragePooling2D()(x)\n",
        "x = Dropout(0.3)(x)\n",
        "x = Dense(128,name='dense1', activation=\"relu\")(x)\n",
        "x = Dropout(0.3)(x)\n",
        "x = Dense(64,name='dense2', activation=\"relu\")(x)\n",
        "\n",
        "transfer_predictions = Dense(5,name='output', activation=\"softmax\")(x)\n",
        "transfer_scratch_model = Model(inputs=transfer_scratch_model.input, outputs=transfer_predictions)"
      ],
      "execution_count": 0,
      "outputs": []
    },
    {
      "cell_type": "code",
      "metadata": {
        "id": "LpkY4NhsQa5M",
        "colab_type": "code",
        "outputId": "5bf8a2a3-e7c1-4d3b-b5ac-0403b2364c70",
        "colab": {
          "base_uri": "https://localhost:8080/",
          "height": 69
        }
      },
      "source": [
        "transfer_scratch_model.layers[7].get_weights()[0][0:10]"
      ],
      "execution_count": 36,
      "outputs": [
        {
          "output_type": "execute_result",
          "data": {
            "text/plain": [
              "array([0.9202305 , 0.93353206, 1.0833695 , 0.99886405, 0.9464825 ,\n",
              "       0.8838621 , 1.0045762 , 1.0752947 , 1.0655146 , 0.83632797],\n",
              "      dtype=float32)"
            ]
          },
          "metadata": {
            "tags": []
          },
          "execution_count": 36
        }
      ]
    },
    {
      "cell_type": "code",
      "metadata": {
        "id": "ZLDXjyxEQZTv",
        "colab_type": "code",
        "colab": {}
      },
      "source": [
        "def custom_loss(y_true, y_pred):\n",
        "    return tf.keras.losses.categorical_crossentropy(y_true, y_pred, label_smoothing=0.1)\n",
        "transfer_scratch_model.compile(optimizer=opt, loss=custom_loss, metrics=['accuracy'])\n"
      ],
      "execution_count": 0,
      "outputs": []
    },
    {
      "cell_type": "code",
      "metadata": {
        "id": "8zwfup1Bajs7",
        "colab_type": "code",
        "outputId": "cd3a4468-07e0-4b4f-ad53-0a6a15156c72",
        "colab": {
          "base_uri": "https://localhost:8080/",
          "height": 52
        }
      },
      "source": [
        "%%time\n",
        "transfer_scratch_results = transfer_scratch_model.fit(train_generator,epochs=n_epochs,verbose=0,\n",
        "                              steps_per_epoch=train_generator.n/batch_size,\n",
        "                              validation_data=val_generator,\n",
        "                             validation_steps=val_generator.n/batch_size,\n",
        "                              callbacks=lr\n",
        "                    )"
      ],
      "execution_count": 38,
      "outputs": [
        {
          "output_type": "stream",
          "text": [
            "CPU times: user 5min 33s, sys: 29.8 s, total: 6min 3s\n",
            "Wall time: 4min 48s\n"
          ],
          "name": "stdout"
        }
      ]
    },
    {
      "cell_type": "code",
      "metadata": {
        "colab_type": "code",
        "outputId": "53d8f490-825a-404e-f093-a516c3bc4a1c",
        "id": "AhzOtyG8s4KJ",
        "colab": {
          "base_uri": "https://localhost:8080/",
          "height": 295
        }
      },
      "source": [
        "\n",
        "plt.plot(transfer_scratch_results.history['accuracy'])\n",
        "plt.plot(transfer_scratch_results.history['val_accuracy'])\n",
        "plt.title('model accuracy ')\n",
        "plt.ylabel('accuracy')\n",
        "plt.xlabel('epoch')\n",
        "plt.legend(['train', 'test'], loc='best')\n",
        "plt.show()"
      ],
      "execution_count": 39,
      "outputs": [
        {
          "output_type": "display_data",
          "data": {
            "image/png": "[encoded data removed]",
            "text/plain": [
              "<Figure size 432x288 with 1 Axes>"
            ]
          },
          "metadata": {
            "tags": [],
            "needs_background": "light"
          }
        }
      ]
    },
    {
      "cell_type": "code",
      "metadata": {
        "colab_type": "code",
        "outputId": "ca3dfa68-0875-49d8-96ef-e4e422f520f2",
        "id": "jgw0nJxxs4KM",
        "colab": {
          "base_uri": "https://localhost:8080/",
          "height": 295
        }
      },
      "source": [
        "\n",
        "plt.plot(transfer_scratch_results.history['loss'])\n",
        "plt.plot(transfer_scratch_results.history['val_loss'])\n",
        "plt.title('model loss')\n",
        "plt.ylabel('loss')\n",
        "plt.xlabel('epoch')\n",
        "plt.legend(['train', 'test'], loc='best')\n",
        "plt.show()\n"
      ],
      "execution_count": 40,
      "outputs": [
        {
          "output_type": "display_data",
          "data": {
            "image/png": "[encoded data removed]",
            "text/plain": [
              "<Figure size 432x288 with 1 Axes>"
            ]
          },
          "metadata": {
            "tags": [],
            "needs_background": "light"
          }
        }
      ]
    },
    {
      "cell_type": "code",
      "metadata": {
        "colab_type": "code",
        "outputId": "30b3fb7c-cb40-4540-9b5f-28e0ec55fd00",
        "id": "131-QQ6YSc7x",
        "colab": {
          "base_uri": "https://localhost:8080/",
          "height": 35
        }
      },
      "source": [
        "val_generator.reset()\n",
        "y_pred=transfer_scratch_model.predict(val_generator,steps=val_generator.n/batch_size,verbose=1)"
      ],
      "execution_count": 41,
      "outputs": [
        {
          "output_type": "stream",
          "text": [
            "6/5 [================================] - 3s 421ms/step\n"
          ],
          "name": "stdout"
        }
      ]
    },
    {
      "cell_type": "code",
      "metadata": {
        "colab_type": "code",
        "id": "Ya2LoinhSc72",
        "colab": {}
      },
      "source": [
        "class_label=list(train_generator.class_indices.keys())"
      ],
      "execution_count": 0,
      "outputs": []
    },
    {
      "cell_type": "code",
      "metadata": {
        "colab_type": "code",
        "id": "DCnqB3lHSc76",
        "colab": {}
      },
      "source": [
        "if val_suffle==True:\n",
        "  per = np.random.permutation(val_generator.n)\n",
        "  val_generator.index_array = per\n",
        "  y_true = val_generator.classes[per]\n",
        "else: \n",
        "  y_true = val_generator.classes"
      ],
      "execution_count": 0,
      "outputs": []
    },
    {
      "cell_type": "code",
      "metadata": {
        "colab_type": "code",
        "outputId": "6084375f-7cf1-46d8-8ff5-d3eceb6dd6e7",
        "id": "dohUdYJiSc8A",
        "colab": {
          "base_uri": "https://localhost:8080/",
          "height": 369
        }
      },
      "source": [
        "plot_multiclass_roc( y_pred, pd.get_dummies(y_true), n_classes=5,class_label=class_label,fig_title='SMP.png', figsize=(8, 6))\n"
      ],
      "execution_count": 44,
      "outputs": [
        {
          "output_type": "stream",
          "text": [
            "0.96 Black spot\n",
            "1.0 Melanose\n",
            "1.0 canker\n",
            "0.98 greening\n",
            "1.0 healthy\n"
          ],
          "name": "stdout"
        },
        {
          "output_type": "display_data",
          "data": {
            "image/png": "[encoded data removed]",
            "text/plain": [
              "<Figure size 432x288 with 1 Axes>"
            ]
          },
          "metadata": {
            "tags": [],
            "needs_background": "light"
          }
        }
      ]
    },
    {
      "cell_type": "code",
      "metadata": {
        "colab_type": "code",
        "id": "zDMEodx1Sc8F",
        "colab": {}
      },
      "source": [
        "y_pred=np.argmax(y_pred, axis=1)"
      ],
      "execution_count": 0,
      "outputs": []
    },
    {
      "cell_type": "code",
      "metadata": {
        "colab_type": "code",
        "outputId": "706c1f0a-4d32-47f5-abf6-88c925628d83",
        "id": "Mnr6jBJJSc8J",
        "colab": {
          "base_uri": "https://localhost:8080/",
          "height": 35
        }
      },
      "source": [
        "y_pred.shape,y_true.shape"
      ],
      "execution_count": 46,
      "outputs": [
        {
          "output_type": "execute_result",
          "data": {
            "text/plain": [
              "((180,), (180,))"
            ]
          },
          "metadata": {
            "tags": []
          },
          "execution_count": 46
        }
      ]
    },
    {
      "cell_type": "code",
      "metadata": {
        "colab_type": "code",
        "outputId": "1d5dacea-e82f-489e-f85b-61a84320e696",
        "id": "SpWnrJCaSc8P",
        "colab": {
          "base_uri": "https://localhost:8080/",
          "height": 52
        }
      },
      "source": [
        "from sklearn.metrics import classification_report,accuracy_score,f1_score\n",
        "print(accuracy_score(y_true,y_pred))\n",
        "print(f1_score(y_true,y_pred,average='macro'))"
      ],
      "execution_count": 47,
      "outputs": [
        {
          "output_type": "stream",
          "text": [
            "0.9111111111111111\n",
            "0.940825484987523\n"
          ],
          "name": "stdout"
        }
      ]
    },
    {
      "cell_type": "code",
      "metadata": {
        "colab_type": "code",
        "outputId": "5a42f8cb-25c5-4c38-e905-b6c66ceb4a96",
        "id": "KQ8DVNVbSc8U",
        "colab": {
          "base_uri": "https://localhost:8080/",
          "height": 225
        }
      },
      "source": [
        "print(classification_report(y_true, y_pred,target_names=class_label))#"
      ],
      "execution_count": 48,
      "outputs": [
        {
          "output_type": "stream",
          "text": [
            "              precision    recall  f1-score   support\n",
            "\n",
            "  Black spot       0.86      0.84      0.85        51\n",
            "    Melanose       1.00      1.00      1.00         3\n",
            "      canker       0.96      0.96      0.96        48\n",
            "    greening       0.89      0.90      0.89        61\n",
            "     healthy       1.00      1.00      1.00        17\n",
            "\n",
            "    accuracy                           0.91       180\n",
            "   macro avg       0.94      0.94      0.94       180\n",
            "weighted avg       0.91      0.91      0.91       180\n",
            "\n"
          ],
          "name": "stdout"
        }
      ]
    },
    {
      "cell_type": "markdown",
      "metadata": {
        "colab_type": "text",
        "id": "Ov8K7XWlUjMD"
      },
      "source": [
        "### Model trained on villaged dataset trained on imagenet"
      ]
    },
    {
      "cell_type": "code",
      "metadata": {
        "colab_type": "code",
        "id": "lol0E4HgUjMF",
        "colab": {}
      },
      "source": [
        "from tensorflow.keras.applications.densenet import DenseNet121\n",
        "transfer_imgnet_model =DenseNet121(weights = None, include_top=False, input_shape = (img_shape,img_shape,3))\n",
        "x = transfer_imgnet_model.output\n",
        "x = GlobalAveragePooling2D()(x)\n",
        "x = Dropout(0.3)(x)\n",
        "x = Dense(128, activation=\"relu\")(x)\n",
        "x = Dropout(0.3)(x)\n",
        "x = Dense(64, activation=\"relu\")(x)\n",
        "predictions = Dense(15, activation=\"softmax\")(x)\n",
        "transfer_imgnet_model = Model(inputs=transfer_imgnet_model.input, outputs=predictions)\n",
        "transfer_imgnet_model.load_weights('/content/densenet121_weights.hdf5')"
      ],
      "execution_count": 0,
      "outputs": []
    },
    {
      "cell_type": "code",
      "metadata": {
        "colab_type": "code",
        "id": "OyxW3g2sUjMQ",
        "colab": {}
      },
      "source": [
        "transfer_imgnet_model = Model(transfer_imgnet_model.input, transfer_imgnet_model.layers[-7].output)\n"
      ],
      "execution_count": 0,
      "outputs": []
    },
    {
      "cell_type": "code",
      "metadata": {
        "colab_type": "code",
        "outputId": "2efe8065-8413-49ed-a42c-4d9aed260416",
        "id": "iTX63Uj2UjMV",
        "colab": {
          "base_uri": "https://localhost:8080/",
          "height": 69
        }
      },
      "source": [
        "transfer_imgnet_model.layers[7].get_weights()[0][0:10]"
      ],
      "execution_count": 51,
      "outputs": [
        {
          "output_type": "execute_result",
          "data": {
            "text/plain": [
              "array([3.32417786e-01, 7.54606426e-02, 1.05246633e-01, 2.35008463e-01,\n",
              "       2.48995930e-01, 4.55867082e-01, 2.59272406e-06, 1.28041402e-01,\n",
              "       1.12553934e-07, 2.02194408e-01], dtype=float32)"
            ]
          },
          "metadata": {
            "tags": []
          },
          "execution_count": 51
        }
      ]
    },
    {
      "cell_type": "code",
      "metadata": {
        "colab_type": "code",
        "id": "LUilT5i_UjMb",
        "colab": {}
      },
      "source": [
        "x = transfer_imgnet_model.output\n",
        "x = GlobalAveragePooling2D()(x)\n",
        "x = Dropout(0.3)(x)\n",
        "x = Dense(128, activation=\"relu\")(x)\n",
        "x = Dropout(0.3)(x)\n",
        "x = Dense(64, activation=\"relu\")(x)\n",
        "\n",
        "transfer_predictions = Dense(5, activation=\"softmax\")(x)\n",
        "transfer_imgnet_model = Model(inputs=transfer_imgnet_model.input, outputs=transfer_predictions)"
      ],
      "execution_count": 0,
      "outputs": []
    },
    {
      "cell_type": "code",
      "metadata": {
        "colab_type": "code",
        "outputId": "3bff3b8f-87b7-4fab-fde5-09fc7cee9313",
        "id": "Ce6-eK-fUjMg",
        "colab": {
          "base_uri": "https://localhost:8080/",
          "height": 69
        }
      },
      "source": [
        "transfer_imgnet_model.layers[7].get_weights()[0][0:10]"
      ],
      "execution_count": 53,
      "outputs": [
        {
          "output_type": "execute_result",
          "data": {
            "text/plain": [
              "array([3.32417786e-01, 7.54606426e-02, 1.05246633e-01, 2.35008463e-01,\n",
              "       2.48995930e-01, 4.55867082e-01, 2.59272406e-06, 1.28041402e-01,\n",
              "       1.12553934e-07, 2.02194408e-01], dtype=float32)"
            ]
          },
          "metadata": {
            "tags": []
          },
          "execution_count": 53
        }
      ]
    },
    {
      "cell_type": "code",
      "metadata": {
        "colab_type": "code",
        "id": "_GErFgGAUjMl",
        "colab": {}
      },
      "source": [
        "def custom_loss(y_true, y_pred):\n",
        "    return tf.keras.losses.categorical_crossentropy(y_true, y_pred, label_smoothing=0.1)\n",
        "transfer_imgnet_model.compile(optimizer=opt, loss=custom_loss, metrics=['accuracy'])\n"
      ],
      "execution_count": 0,
      "outputs": []
    },
    {
      "cell_type": "code",
      "metadata": {
        "colab_type": "code",
        "id": "o5aLdFMJUjMq",
        "outputId": "46738155-65c7-4c90-baa1-236ea9552367",
        "colab": {
          "base_uri": "https://localhost:8080/",
          "height": 52
        }
      },
      "source": [
        "%%time\n",
        "transfer_imgnet_results = transfer_imgnet_model.fit(train_generator,epochs=n_epochs,verbose=0,\n",
        "                              steps_per_epoch=train_generator.n/batch_size,\n",
        "                              validation_data=val_generator,\n",
        "                             validation_steps=val_generator.n/batch_size,\n",
        "                              callbacks=lr\n",
        "                    )"
      ],
      "execution_count": 55,
      "outputs": [
        {
          "output_type": "stream",
          "text": [
            "CPU times: user 5min 47s, sys: 27.8 s, total: 6min 15s\n",
            "Wall time: 5min\n"
          ],
          "name": "stdout"
        }
      ]
    },
    {
      "cell_type": "code",
      "metadata": {
        "id": "1DyWD4SKZH0q",
        "colab_type": "code",
        "outputId": "3690c5e7-6fa3-4e37-8886-0eefbde4b4d3",
        "colab": {
          "base_uri": "https://localhost:8080/",
          "height": 295
        }
      },
      "source": [
        "\n",
        "plt.plot(transfer_imgnet_results.history['accuracy'])\n",
        "plt.plot(transfer_imgnet_results.history['val_accuracy'])\n",
        "plt.title('model loss')\n",
        "plt.ylabel('accuracy')\n",
        "plt.xlabel('epoch')\n",
        "plt.legend(['train', 'test'], loc='upper left')\n",
        "plt.show()"
      ],
      "execution_count": 56,
      "outputs": [
        {
          "output_type": "display_data",
          "data": {
            "image/png": "[encoded data removed]",
            "text/plain": [
              "<Figure size 432x288 with 1 Axes>"
            ]
          },
          "metadata": {
            "tags": [],
            "needs_background": "light"
          }
        }
      ]
    },
    {
      "cell_type": "code",
      "metadata": {
        "colab_type": "code",
        "outputId": "9c1fad7e-6951-4015-ac77-c75febfae7f3",
        "id": "k-CzWINuUjM4",
        "colab": {
          "base_uri": "https://localhost:8080/",
          "height": 295
        }
      },
      "source": [
        "\n",
        "plt.plot(transfer_imgnet_results.history['loss'])\n",
        "plt.plot(transfer_imgnet_results.history['val_loss'])\n",
        "plt.title('model loss')\n",
        "plt.ylabel('loss')\n",
        "plt.xlabel('epoch')\n",
        "plt.legend(['train', 'test'], loc='upper left')\n",
        "plt.show()"
      ],
      "execution_count": 57,
      "outputs": [
        {
          "output_type": "display_data",
          "data": {
            "image/png": "[encoded data removed]",
            "text/plain": [
              "<Figure size 432x288 with 1 Axes>"
            ]
          },
          "metadata": {
            "tags": [],
            "needs_background": "light"
          }
        }
      ]
    },
    {
      "cell_type": "code",
      "metadata": {
        "colab_type": "code",
        "outputId": "d6019c98-d40d-405e-b0fd-4d643e679190",
        "id": "jS4e_9MOUjM9",
        "colab": {
          "base_uri": "https://localhost:8080/",
          "height": 35
        }
      },
      "source": [
        "val_generator.reset()\n",
        "y_pred=transfer_imgnet_model.predict(val_generator,steps=val_generator.n/batch_size,verbose=1)"
      ],
      "execution_count": 92,
      "outputs": [
        {
          "output_type": "stream",
          "text": [
            "6/5 [================================] - 3s 443ms/step\n"
          ],
          "name": "stdout"
        }
      ]
    },
    {
      "cell_type": "code",
      "metadata": {
        "colab_type": "code",
        "id": "REMUCSBaUjNC",
        "colab": {}
      },
      "source": [
        "class_label=list(train_generator.class_indices.keys())"
      ],
      "execution_count": 0,
      "outputs": []
    },
    {
      "cell_type": "code",
      "metadata": {
        "colab_type": "code",
        "id": "4WdbdzdRUjNG",
        "colab": {}
      },
      "source": [
        "if val_suffle==True:\n",
        "  per = np.random.permutation(val_generator.n)\n",
        "  val_generator.index_array = per\n",
        "  y_true = val_generator.classes[per]\n",
        "else: \n",
        "  y_true = val_generator.classes"
      ],
      "execution_count": 0,
      "outputs": []
    },
    {
      "cell_type": "code",
      "metadata": {
        "colab_type": "code",
        "outputId": "8d6514ad-dc5b-4b24-ac5d-0ad3d801f93a",
        "id": "IALWIuE7UjNO",
        "colab": {
          "base_uri": "https://localhost:8080/",
          "height": 369
        }
      },
      "source": [
        "plot_multiclass_roc( y_pred, pd.get_dummies(y_true), n_classes=5,class_label=class_label,fig_title='IMP.png', figsize=(8, 6))\n"
      ],
      "execution_count": 95,
      "outputs": [
        {
          "output_type": "stream",
          "text": [
            "0.96 Black spot\n",
            "1.0 Melanose\n",
            "0.98 canker\n",
            "0.97 greening\n",
            "1.0 healthy\n"
          ],
          "name": "stdout"
        },
        {
          "output_type": "display_data",
          "data": {
            "image/png": "[encoded data removed]",
            "text/plain": [
              "<Figure size 432x288 with 1 Axes>"
            ]
          },
          "metadata": {
            "tags": [],
            "needs_background": "light"
          }
        }
      ]
    },
    {
      "cell_type": "code",
      "metadata": {
        "colab_type": "code",
        "id": "FcYyTb9pUjNS",
        "colab": {}
      },
      "source": [
        "y_pred=np.argmax(y_pred, axis=1)"
      ],
      "execution_count": 0,
      "outputs": []
    },
    {
      "cell_type": "code",
      "metadata": {
        "colab_type": "code",
        "outputId": "7774dab6-730f-4841-b36b-9d6e8239da55",
        "id": "gQPWN25IUjNV",
        "colab": {
          "base_uri": "https://localhost:8080/",
          "height": 35
        }
      },
      "source": [
        "y_pred.shape,y_true.shape"
      ],
      "execution_count": 97,
      "outputs": [
        {
          "output_type": "execute_result",
          "data": {
            "text/plain": [
              "((180,), (180,))"
            ]
          },
          "metadata": {
            "tags": []
          },
          "execution_count": 97
        }
      ]
    },
    {
      "cell_type": "code",
      "metadata": {
        "colab_type": "code",
        "outputId": "8e510acf-04eb-43a6-da6a-68e100ac9765",
        "id": "hMmH5BIYUjNZ",
        "colab": {
          "base_uri": "https://localhost:8080/",
          "height": 52
        }
      },
      "source": [
        "from sklearn.metrics import classification_report,accuracy_score,f1_score\n",
        "print(accuracy_score(y_true,y_pred))\n",
        "print(f1_score(y_true,y_pred,average='macro'))"
      ],
      "execution_count": 98,
      "outputs": [
        {
          "output_type": "stream",
          "text": [
            "0.8777777777777778\n",
            "0.8704352346999407\n"
          ],
          "name": "stdout"
        }
      ]
    },
    {
      "cell_type": "code",
      "metadata": {
        "colab_type": "code",
        "outputId": "62ecd866-1006-43ad-aa83-ef3cb171caa8",
        "id": "FHjZ-zxeUjNd",
        "colab": {
          "base_uri": "https://localhost:8080/",
          "height": 225
        }
      },
      "source": [
        "print(classification_report(y_true, y_pred,target_names=class_label))#"
      ],
      "execution_count": 99,
      "outputs": [
        {
          "output_type": "stream",
          "text": [
            "              precision    recall  f1-score   support\n",
            "\n",
            "  Black spot       0.90      0.84      0.87        51\n",
            "    Melanose       1.00      0.67      0.80         3\n",
            "      canker       0.95      0.79      0.86        48\n",
            "    greening       0.80      0.98      0.88        61\n",
            "     healthy       1.00      0.88      0.94        17\n",
            "\n",
            "    accuracy                           0.88       180\n",
            "   macro avg       0.93      0.83      0.87       180\n",
            "weighted avg       0.89      0.88      0.88       180\n",
            "\n"
          ],
          "name": "stdout"
        }
      ]
    },
    {
      "cell_type": "markdown",
      "metadata": {
        "id": "g07G55lDuTHF",
        "colab_type": "text"
      },
      "source": [
        "### Imagenet weights"
      ]
    },
    {
      "cell_type": "code",
      "metadata": {
        "id": "TROCpFHEY_hG",
        "colab_type": "code",
        "outputId": "3a0c83d8-37a8-4874-f0ff-80536f3a68b4",
        "colab": {
          "base_uri": "https://localhost:8080/",
          "height": 72
        }
      },
      "source": [
        "from tensorflow.keras.applications.densenet import DenseNet121\n",
        "image_model =DenseNet121(weights = 'imagenet', include_top=False, input_shape = (img_shape,img_shape,3))\n"
      ],
      "execution_count": 66,
      "outputs": [
        {
          "output_type": "stream",
          "text": [
            "Downloading data from https://storage.googleapis.com/tensorflow/keras-applications/densenet/densenet121_weights_tf_dim_ordering_tf_kernels_notop.h5\n",
            "29089792/29084464 [==============================] - 0s 0us/step\n"
          ],
          "name": "stdout"
        }
      ]
    },
    {
      "cell_type": "code",
      "metadata": {
        "id": "bH-iijlsYv6Z",
        "colab_type": "code",
        "colab": {}
      },
      "source": [
        "x = image_model.output\n",
        "x = GlobalAveragePooling2D()(x)\n",
        "x = Dropout(0.3)(x)\n",
        "x = Dense(128, activation=\"relu\")(x)\n",
        "x = Dropout(0.3)(x)\n",
        "x = Dense(64, activation=\"relu\")(x)\n",
        "predictions = Dense(5, activation=\"softmax\")(x)"
      ],
      "execution_count": 0,
      "outputs": []
    },
    {
      "cell_type": "code",
      "metadata": {
        "id": "wHi6QjGpZTZa",
        "colab_type": "code",
        "colab": {}
      },
      "source": [
        "image_model = Model(inputs=image_model.input, outputs=predictions)"
      ],
      "execution_count": 0,
      "outputs": []
    },
    {
      "cell_type": "code",
      "metadata": {
        "id": "wy7REZm-zh0t",
        "colab_type": "code",
        "outputId": "e2560bcd-0bab-4d38-867e-95a1ba576479",
        "colab": {
          "base_uri": "https://localhost:8080/",
          "height": 69
        }
      },
      "source": [
        "image_model.layers[7].get_weights()[0][0:10]"
      ],
      "execution_count": 69,
      "outputs": [
        {
          "output_type": "execute_result",
          "data": {
            "text/plain": [
              "array([2.81978130e-01, 1.29865497e-01, 2.31768519e-01, 1.80121988e-01,\n",
              "       2.50349194e-01, 3.19371969e-01, 2.59272406e-06, 1.99219480e-01,\n",
              "       1.12553934e-07, 2.05804318e-01], dtype=float32)"
            ]
          },
          "metadata": {
            "tags": []
          },
          "execution_count": 69
        }
      ]
    },
    {
      "cell_type": "code",
      "metadata": {
        "id": "-EiFHYX6ZVAs",
        "colab_type": "code",
        "colab": {}
      },
      "source": [
        "def custom_loss(y_true, y_pred):\n",
        "    return tf.keras.losses.categorical_crossentropy(y_true, y_pred, label_smoothing=0.1)"
      ],
      "execution_count": 0,
      "outputs": []
    },
    {
      "cell_type": "code",
      "metadata": {
        "id": "6ILUJUKTaLpY",
        "colab_type": "code",
        "colab": {}
      },
      "source": [
        "image_model.compile(optimizer=opt, loss=custom_loss, metrics=['accuracy'])"
      ],
      "execution_count": 0,
      "outputs": []
    },
    {
      "cell_type": "code",
      "metadata": {
        "id": "XGM8_mVLZY8a",
        "colab_type": "code",
        "outputId": "953107d3-c051-4472-d6cf-8d14c5887f7c",
        "colab": {
          "base_uri": "https://localhost:8080/",
          "height": 52
        }
      },
      "source": [
        "%%time\n",
        "image_results = image_model.fit(train_generator,epochs=n_epochs,verbose=0,\n",
        "                              steps_per_epoch=train_generator.n/batch_size,\n",
        "                              validation_data=val_generator,\n",
        "                             validation_steps=val_generator.n/batch_size,\n",
        "                              callbacks=lr\n",
        "                    )"
      ],
      "execution_count": 72,
      "outputs": [
        {
          "output_type": "stream",
          "text": [
            "CPU times: user 5min 59s, sys: 27.6 s, total: 6min 27s\n",
            "Wall time: 5min 11s\n"
          ],
          "name": "stdout"
        }
      ]
    },
    {
      "cell_type": "code",
      "metadata": {
        "id": "Cf2JhDiNMhlZ",
        "colab_type": "code",
        "outputId": "bdc0265c-f9a4-4591-8592-9074e93ff869",
        "colab": {
          "base_uri": "https://localhost:8080/",
          "height": 295
        }
      },
      "source": [
        "\n",
        "plt.plot(image_results.history['accuracy'])\n",
        "plt.plot(image_results.history['val_accuracy'])\n",
        "plt.title('model accuracy ')\n",
        "plt.ylabel('accuracy')\n",
        "plt.xlabel('epoch')\n",
        "plt.legend(['train', 'test'], loc='upper left')\n",
        "plt.show()"
      ],
      "execution_count": 73,
      "outputs": [
        {
          "output_type": "display_data",
          "data": {
            "image/png": "[encoded data removed]",
            "text/plain": [
              "<Figure size 432x288 with 1 Axes>"
            ]
          },
          "metadata": {
            "tags": [],
            "needs_background": "light"
          }
        }
      ]
    },
    {
      "cell_type": "code",
      "metadata": {
        "id": "1wwHnZWzchDE",
        "colab_type": "code",
        "outputId": "9356817d-b9e9-4a3e-93bb-029b10d75de0",
        "colab": {
          "base_uri": "https://localhost:8080/",
          "height": 295
        }
      },
      "source": [
        "\n",
        "plt.plot(image_results.history['loss'])\n",
        "plt.plot(image_results.history['val_loss'])\n",
        "plt.title('model loss')\n",
        "plt.ylabel('loss')\n",
        "plt.xlabel('epoch')\n",
        "plt.legend(['train', 'test'], loc='upper left')\n",
        "plt.show()"
      ],
      "execution_count": 74,
      "outputs": [
        {
          "output_type": "display_data",
          "data": {
            "image/png": "[encoded data removed]",
            "text/plain": [
              "<Figure size 432x288 with 1 Axes>"
            ]
          },
          "metadata": {
            "tags": [],
            "needs_background": "light"
          }
        }
      ]
    },
    {
      "cell_type": "code",
      "metadata": {
        "id": "G_ZFYgc4zUBy",
        "colab_type": "code",
        "outputId": "430a7cf0-c406-4516-be18-0c0703abf2e9",
        "colab": {
          "base_uri": "https://localhost:8080/",
          "height": 35
        }
      },
      "source": [
        "val_generator.reset()\n",
        "y_pred=image_model.predict(val_generator,steps=val_generator.n/batch_size,verbose=1)"
      ],
      "execution_count": 75,
      "outputs": [
        {
          "output_type": "stream",
          "text": [
            "6/5 [================================] - 3s 452ms/step\n"
          ],
          "name": "stdout"
        }
      ]
    },
    {
      "cell_type": "code",
      "metadata": {
        "id": "XPbPFn7fDfFR",
        "colab_type": "code",
        "colab": {}
      },
      "source": [
        "if val_suffle==True:\n",
        "  per = np.random.permutation(val_generator.n)\n",
        "  val_generator.index_array = per\n",
        "  y_true = val_generator.classes[per]\n",
        "else: \n",
        "  y_true = val_generator.classes"
      ],
      "execution_count": 0,
      "outputs": []
    },
    {
      "cell_type": "code",
      "metadata": {
        "id": "qVCzrjWWIetS",
        "colab_type": "code",
        "outputId": "607b7d6d-acd2-44c1-e41c-5fa49654460c",
        "colab": {
          "base_uri": "https://localhost:8080/",
          "height": 369
        }
      },
      "source": [
        "plot_multiclass_roc( y_pred, pd.get_dummies(y_true), n_classes=5,class_label=class_label,fig_title='IM.png', figsize=(8, 6))\n"
      ],
      "execution_count": 77,
      "outputs": [
        {
          "output_type": "stream",
          "text": [
            "0.93 Black spot\n",
            "1.0 Melanose\n",
            "0.94 canker\n",
            "0.93 greening\n",
            "0.99 healthy\n"
          ],
          "name": "stdout"
        },
        {
          "output_type": "display_data",
          "data": {
            "image/png": "[encoded data removed]",
            "text/plain": [
              "<Figure size 432x288 with 1 Axes>"
            ]
          },
          "metadata": {
            "tags": [],
            "needs_background": "light"
          }
        }
      ]
    },
    {
      "cell_type": "code",
      "metadata": {
        "id": "MHU7_JsVB0jH",
        "colab_type": "code",
        "colab": {}
      },
      "source": [
        "y_pred=np.argmax(y_pred, axis=1)"
      ],
      "execution_count": 0,
      "outputs": []
    },
    {
      "cell_type": "code",
      "metadata": {
        "id": "4wpcSCSWEGnh",
        "colab_type": "code",
        "outputId": "8d447b80-b176-4ff0-d257-0b4e0c6a585e",
        "colab": {
          "base_uri": "https://localhost:8080/",
          "height": 35
        }
      },
      "source": [
        "y_pred.shape,y_true.shape"
      ],
      "execution_count": 79,
      "outputs": [
        {
          "output_type": "execute_result",
          "data": {
            "text/plain": [
              "((180,), (180,))"
            ]
          },
          "metadata": {
            "tags": []
          },
          "execution_count": 79
        }
      ]
    },
    {
      "cell_type": "code",
      "metadata": {
        "id": "XpYXUzgyZf4g",
        "colab_type": "code",
        "outputId": "ef1fdd7a-d63e-4a71-ddaf-67a0d6b5db07",
        "colab": {
          "base_uri": "https://localhost:8080/",
          "height": 52
        }
      },
      "source": [
        "from sklearn.metrics import classification_report,accuracy_score,f1_score\n",
        "print(accuracy_score(y_true,y_pred))\n",
        "print(f1_score(y_true,y_pred,average='macro'))"
      ],
      "execution_count": 80,
      "outputs": [
        {
          "output_type": "stream",
          "text": [
            "0.8666666666666667\n",
            "0.8565669318281998\n"
          ],
          "name": "stdout"
        }
      ]
    },
    {
      "cell_type": "code",
      "metadata": {
        "id": "486dBdG0YqEV",
        "colab_type": "code",
        "outputId": "7bd9c9a1-b3f3-438c-dbc8-1654a09ada79",
        "colab": {
          "base_uri": "https://localhost:8080/",
          "height": 225
        }
      },
      "source": [
        "class_label=list(train_generator.class_indices.keys())\n",
        "print(classification_report(y_true, y_pred,target_names=class_label))#"
      ],
      "execution_count": 81,
      "outputs": [
        {
          "output_type": "stream",
          "text": [
            "              precision    recall  f1-score   support\n",
            "\n",
            "  Black spot       0.89      0.80      0.85        51\n",
            "    Melanose       1.00      0.67      0.80         3\n",
            "      canker       0.95      0.81      0.88        48\n",
            "    greening       0.81      0.95      0.87        61\n",
            "     healthy       0.84      0.94      0.89        17\n",
            "\n",
            "    accuracy                           0.87       180\n",
            "   macro avg       0.90      0.84      0.86       180\n",
            "weighted avg       0.88      0.87      0.87       180\n",
            "\n"
          ],
          "name": "stdout"
        }
      ]
    },
    {
      "cell_type": "markdown",
      "metadata": {
        "id": "zM5HFzpGyv-W",
        "colab_type": "text"
      },
      "source": [
        "# Result"
      ]
    },
    {
      "cell_type": "code",
      "metadata": {
        "id": "lf8oqt9ZH_d4",
        "colab_type": "code",
        "outputId": "a4dc1f26-cda1-4d9d-df50-a93a3394878f",
        "colab": {
          "base_uri": "https://localhost:8080/",
          "height": 298
        }
      },
      "source": [
        "\n",
        "plt.plot(result_base.history['val_accuracy'])\n",
        "plt.plot(transfer_scratch_results.history['val_accuracy'])\n",
        "plt.plot(transfer_imgnet_results.history['val_accuracy'])\n",
        "plt.plot(image_results.history['val_accuracy'])\n",
        "plt.title('Models Accuracy ',fontsize=12)\n",
        "plt.ylabel('Accuracy',fontsize=12)\n",
        "plt.xlabel('Epochs',fontsize=12)\n",
        "plt.legend(['Base Model', 'Scratch Pretrained Model','ImageNet Pretrained Model','ImageNet Model'], loc='best')\n",
        "plt.savefig('accuracy.png',format='png' ,dpi=300)\n",
        "plt.show()\n"
      ],
      "execution_count": 82,
      "outputs": [
        {
          "output_type": "display_data",
          "data": {
            "image/png": "[encoded data removed]",
            "text/plain": [
              "<Figure size 432x288 with 1 Axes>"
            ]
          },
          "metadata": {
            "tags": [],
            "needs_background": "light"
          }
        }
      ]
    },
    {
      "cell_type": "code",
      "metadata": {
        "id": "pKHk1cADzrW8",
        "colab_type": "code",
        "outputId": "54cf61c9-00b3-412a-f4b3-9385c87b6794",
        "colab": {
          "base_uri": "https://localhost:8080/",
          "height": 298
        }
      },
      "source": [
        "\n",
        "plt.plot(result_base.history['val_loss'])\n",
        "plt.plot(transfer_scratch_results.history['val_loss'])\n",
        "plt.plot(transfer_imgnet_results.history['val_loss'])\n",
        "plt.plot(image_results.history['val_loss'])\n",
        "plt.title('Models Loss ',fontsize=12)\n",
        "plt.ylabel('Loss',fontsize=12)\n",
        "plt.xlabel('Epochs',fontsize=12)\n",
        "plt.legend(['Base Model', 'Scratch Pretrained Model','ImageNet Pretrained Model','ImageNet Model'], loc='best')\n",
        "plt.savefig('loss.png',format='png' ,dpi=300)\n",
        "plt.show()\n"
      ],
      "execution_count": 83,
      "outputs": [
        {
          "output_type": "display_data",
          "data": {
            "image/png": "[encoded data removed]",
            "text/plain": [
              "<Figure size 432x288 with 1 Axes>"
            ]
          },
          "metadata": {
            "tags": [],
            "needs_background": "light"
          }
        }
      ]
    },
    {
      "cell_type": "code",
      "metadata": {
        "id": "qTXeRazg0l_6",
        "colab_type": "code",
        "colab": {}
      },
      "source": [
        ""
      ],
      "execution_count": 0,
      "outputs": []
    },
    {
      "cell_type": "code",
      "metadata": {
        "id": "KGsICcbqUil_",
        "colab_type": "code",
        "colab": {}
      },
      "source": [
        ""
      ],
      "execution_count": 0,
      "outputs": []
    }
  ]
}