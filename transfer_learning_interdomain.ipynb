{
  "nbformat": 4,
  "nbformat_minor": 0,
  "metadata": {
    "colab": {
      "name": "Copy of transfer learning pipeline.ipynb",
      "provenance": [],
      "collapsed_sections": [],
      "include_colab_link": true
    },
    "kernelspec": {
      "name": "python3",
      "display_name": "Python 3"
    },
    "accelerator": "GPU"
  },
  "cells": [
    {
      "cell_type": "markdown",
      "metadata": {
        "id": "view-in-github",
        "colab_type": "text"
      },
      "source": [
        "<a href=\"https://colab.research.google.com/github/talhaanwarch/Plant-Leaf-Disease-Classification/blob/master/transfer_learning_interdomain.ipynb\" target=\"_parent\"><img src=\"https://colab.research.google.com/assets/colab-badge.svg\" alt=\"Open In Colab\"/></a>"
      ]
    },
    {
      "cell_type": "markdown",
      "metadata": {
        "id": "xRWmuf4YMBuD",
        "colab_type": "text"
      },
      "source": [
        "### download data"
      ]
    },
    {
      "cell_type": "markdown",
      "metadata": {
        "id": "wMtXcWESMF4u",
        "colab_type": "text"
      },
      "source": [
        "### install efficinetnet model"
      ]
    },
    {
      "cell_type": "code",
      "metadata": {
        "id": "4P2KNYuSYQXv",
        "colab_type": "code",
        "outputId": "f7959e85-485e-45a7-e9de-2a878f373a8c",
        "colab": {
          "base_uri": "https://localhost:8080/",
          "height": 388
        }
      },
      "source": [
        "!pip install efficientnet"
      ],
      "execution_count": 1,
      "outputs": [
        {
          "output_type": "stream",
          "text": [
            "Collecting efficientnet\n",
            "  Downloading https://files.pythonhosted.org/packages/28/91/67848a143b54c331605bfba5fd31cf4e9db13d2e429d103fe807acc3bcf4/efficientnet-1.1.0-py3-none-any.whl\n",
            "Requirement already satisfied: scikit-image in /usr/local/lib/python3.6/dist-packages (from efficientnet) (0.16.2)\n",
            "Requirement already satisfied: keras-applications<=1.0.8,>=1.0.7 in /usr/local/lib/python3.6/dist-packages (from efficientnet) (1.0.8)\n",
            "Requirement already satisfied: matplotlib!=3.0.0,>=2.0.0 in /usr/local/lib/python3.6/dist-packages (from scikit-image->efficientnet) (3.2.1)\n",
            "Requirement already satisfied: PyWavelets>=0.4.0 in /usr/local/lib/python3.6/dist-packages (from scikit-image->efficientnet) (1.1.1)\n",
            "Requirement already satisfied: networkx>=2.0 in /usr/local/lib/python3.6/dist-packages (from scikit-image->efficientnet) (2.4)\n",
            "Requirement already satisfied: pillow>=4.3.0 in /usr/local/lib/python3.6/dist-packages (from scikit-image->efficientnet) (7.0.0)\n",
            "Requirement already satisfied: scipy>=0.19.0 in /usr/local/lib/python3.6/dist-packages (from scikit-image->efficientnet) (1.4.1)\n",
            "Requirement already satisfied: imageio>=2.3.0 in /usr/local/lib/python3.6/dist-packages (from scikit-image->efficientnet) (2.4.1)\n",
            "Requirement already satisfied: h5py in /usr/local/lib/python3.6/dist-packages (from keras-applications<=1.0.8,>=1.0.7->efficientnet) (2.10.0)\n",
            "Requirement already satisfied: numpy>=1.9.1 in /usr/local/lib/python3.6/dist-packages (from keras-applications<=1.0.8,>=1.0.7->efficientnet) (1.18.2)\n",
            "Requirement already satisfied: kiwisolver>=1.0.1 in /usr/local/lib/python3.6/dist-packages (from matplotlib!=3.0.0,>=2.0.0->scikit-image->efficientnet) (1.1.0)\n",
            "Requirement already satisfied: cycler>=0.10 in /usr/local/lib/python3.6/dist-packages (from matplotlib!=3.0.0,>=2.0.0->scikit-image->efficientnet) (0.10.0)\n",
            "Requirement already satisfied: pyparsing!=2.0.4,!=2.1.2,!=2.1.6,>=2.0.1 in /usr/local/lib/python3.6/dist-packages (from matplotlib!=3.0.0,>=2.0.0->scikit-image->efficientnet) (2.4.6)\n",
            "Requirement already satisfied: python-dateutil>=2.1 in /usr/local/lib/python3.6/dist-packages (from matplotlib!=3.0.0,>=2.0.0->scikit-image->efficientnet) (2.8.1)\n",
            "Requirement already satisfied: decorator>=4.3.0 in /usr/local/lib/python3.6/dist-packages (from networkx>=2.0->scikit-image->efficientnet) (4.4.2)\n",
            "Requirement already satisfied: six in /usr/local/lib/python3.6/dist-packages (from h5py->keras-applications<=1.0.8,>=1.0.7->efficientnet) (1.12.0)\n",
            "Requirement already satisfied: setuptools in /usr/local/lib/python3.6/dist-packages (from kiwisolver>=1.0.1->matplotlib!=3.0.0,>=2.0.0->scikit-image->efficientnet) (46.0.0)\n",
            "Installing collected packages: efficientnet\n",
            "Successfully installed efficientnet-1.1.0\n"
          ],
          "name": "stdout"
        }
      ]
    },
    {
      "cell_type": "code",
      "metadata": {
        "id": "-gDgFJrtX3fI",
        "colab_type": "code",
        "outputId": "4d67b8ba-f0bb-4c56-d1d2-f4655b49f34c",
        "colab": {
          "base_uri": "https://localhost:8080/",
          "height": 304
        }
      },
      "source": [
        "!wget https://data.mendeley.com/datasets/3f83gxmv57/2/files/53398b67-6f0e-4a67-8384-e2b574b2ebf4/Citrus.zip"
      ],
      "execution_count": 2,
      "outputs": [
        {
          "output_type": "stream",
          "text": [
            "--2020-03-31 11:50:51--  https://data.mendeley.com/datasets/3f83gxmv57/2/files/53398b67-6f0e-4a67-8384-e2b574b2ebf4/Citrus.zip\n",
            "Resolving data.mendeley.com (data.mendeley.com)... 162.159.130.86, 162.159.133.86, 2606:4700:7::a29f:8256, ...\n",
            "Connecting to data.mendeley.com (data.mendeley.com)|162.159.130.86|:443... connected.\n",
            "HTTP request sent, awaiting response... 302 Found\n",
            "Location: https://md-datasets-public-files-prod.s3.eu-west-1.amazonaws.com/ad404a4d-cedf-4830-8a11-0fc204ce8acb [following]\n",
            "--2020-03-31 11:50:53--  https://md-datasets-public-files-prod.s3.eu-west-1.amazonaws.com/ad404a4d-cedf-4830-8a11-0fc204ce8acb\n",
            "Resolving md-datasets-public-files-prod.s3.eu-west-1.amazonaws.com (md-datasets-public-files-prod.s3.eu-west-1.amazonaws.com)... 52.218.24.35\n",
            "Connecting to md-datasets-public-files-prod.s3.eu-west-1.amazonaws.com (md-datasets-public-files-prod.s3.eu-west-1.amazonaws.com)|52.218.24.35|:443... connected.\n",
            "HTTP request sent, awaiting response... 200 OK\n",
            "Length: 66977095 (64M) [application/x-zip-compressed]\n",
            "Saving to: ‘Citrus.zip’\n",
            "\n",
            "Citrus.zip          100%[===================>]  63.87M  11.8MB/s    in 7.1s    \n",
            "\n",
            "2020-03-31 11:51:01 (8.98 MB/s) - ‘Citrus.zip’ saved [66977095/66977095]\n",
            "\n"
          ],
          "name": "stdout"
        }
      ]
    },
    {
      "cell_type": "markdown",
      "metadata": {
        "id": "T-6uWVJNMKAT",
        "colab_type": "text"
      },
      "source": [
        "### unzip donwloaded dataset"
      ]
    },
    {
      "cell_type": "code",
      "metadata": {
        "id": "B6jS6iFbYA_f",
        "colab_type": "code",
        "outputId": "10605165-6245-4ee1-f66d-2206571a93fe",
        "colab": {
          "base_uri": "https://localhost:8080/",
          "height": 1000
        }
      },
      "source": [
        "!unzip /content/Citrus.zip"
      ],
      "execution_count": 3,
      "outputs": [
        {
          "output_type": "stream",
          "text": [
            "Archive:  /content/Citrus.zip\n",
            "   creating: Citrus/\n",
            "   creating: Citrus/Fruits/\n",
            "   creating: Citrus/Fruits/Black spot/\n",
            "  inflating: Citrus/Fruits/Black spot/Black spot (1).jpg  \n",
            "  inflating: Citrus/Fruits/Black spot/Black spot (10).jpg  \n",
            "  inflating: Citrus/Fruits/Black spot/Black spot (11).jpg  \n",
            "  inflating: Citrus/Fruits/Black spot/Black spot (12).jpg  \n",
            "  inflating: Citrus/Fruits/Black spot/Black spot (13).jpg  \n",
            "  inflating: Citrus/Fruits/Black spot/Black spot (14).jpg  \n",
            "  inflating: Citrus/Fruits/Black spot/Black spot (15).jpg  \n",
            "  inflating: Citrus/Fruits/Black spot/Black spot (16).jpg  \n",
            "  inflating: Citrus/Fruits/Black spot/Black spot (17).jpg  \n",
            "  inflating: Citrus/Fruits/Black spot/Black spot (18).jpg  \n",
            "  inflating: Citrus/Fruits/Black spot/Black spot (19).jpg  \n",
            "  inflating: Citrus/Fruits/Black spot/Black spot (2).jpg  \n",
            "  inflating: Citrus/Fruits/Black spot/Black spot (3).jpg  \n",
            "  inflating: Citrus/Fruits/Black spot/Black spot (4).jpg  \n",
            "  inflating: Citrus/Fruits/Black spot/Black spot (5).jpg  \n",
            "  inflating: Citrus/Fruits/Black spot/Black spot (6).jpg  \n",
            "  inflating: Citrus/Fruits/Black spot/Black spot (7).jpg  \n",
            "  inflating: Citrus/Fruits/Black spot/Black spot (8).jpg  \n",
            "  inflating: Citrus/Fruits/Black spot/Black spot (9).jpg  \n",
            "   creating: Citrus/Fruits/Canker/\n",
            "  inflating: Citrus/Fruits/Canker/Canker (1).jpg  \n",
            "  inflating: Citrus/Fruits/Canker/Canker (100).jpg  \n",
            "  inflating: Citrus/Fruits/Canker/Canker (101).jpg  \n",
            "  inflating: Citrus/Fruits/Canker/Canker (102).jpg  \n",
            "  inflating: Citrus/Fruits/Canker/Canker (103).jpg  \n",
            "  inflating: Citrus/Fruits/Canker/Canker (104).jpg  \n",
            "  inflating: Citrus/Fruits/Canker/Canker (105).jpg  \n",
            "  inflating: Citrus/Fruits/Canker/Canker (106).jpg  \n",
            "  inflating: Citrus/Fruits/Canker/Canker (107).jpg  \n",
            "  inflating: Citrus/Fruits/Canker/Canker (108).jpg  \n",
            "  inflating: Citrus/Fruits/Canker/Canker (109).jpg  \n",
            "  inflating: Citrus/Fruits/Canker/Canker (110).jpg  \n",
            "  inflating: Citrus/Fruits/Canker/Canker (111).jpg  \n",
            "  inflating: Citrus/Fruits/Canker/Canker (112).jpg  \n",
            "  inflating: Citrus/Fruits/Canker/Canker (113).jpg  \n",
            "  inflating: Citrus/Fruits/Canker/Canker (114).jpg  \n",
            "  inflating: Citrus/Fruits/Canker/Canker (115).jpg  \n",
            "  inflating: Citrus/Fruits/Canker/Canker (116).jpg  \n",
            "  inflating: Citrus/Fruits/Canker/Canker (117).jpg  \n",
            "  inflating: Citrus/Fruits/Canker/Canker (118).jpg  \n",
            "  inflating: Citrus/Fruits/Canker/Canker (119).jpg  \n",
            "  inflating: Citrus/Fruits/Canker/Canker (120).jpg  \n",
            "  inflating: Citrus/Fruits/Canker/Canker (121).jpg  \n",
            "  inflating: Citrus/Fruits/Canker/Canker (122).jpg  \n",
            "  inflating: Citrus/Fruits/Canker/Canker (123).jpg  \n",
            "  inflating: Citrus/Fruits/Canker/Canker (124).jpg  \n",
            "  inflating: Citrus/Fruits/Canker/Canker (125).jpg  \n",
            "  inflating: Citrus/Fruits/Canker/Canker (49).jpg  \n",
            "  inflating: Citrus/Fruits/Canker/Canker (50).jpg  \n",
            "  inflating: Citrus/Fruits/Canker/Canker (51).jpg  \n",
            "  inflating: Citrus/Fruits/Canker/Canker (52).jpg  \n",
            "  inflating: Citrus/Fruits/Canker/Canker (53).jpg  \n",
            "  inflating: Citrus/Fruits/Canker/Canker (54).jpg  \n",
            "  inflating: Citrus/Fruits/Canker/Canker (55).jpg  \n",
            "  inflating: Citrus/Fruits/Canker/Canker (56).jpg  \n",
            "  inflating: Citrus/Fruits/Canker/Canker (57).jpg  \n",
            "  inflating: Citrus/Fruits/Canker/Canker (58).jpg  \n",
            "  inflating: Citrus/Fruits/Canker/Canker (59).jpg  \n",
            "  inflating: Citrus/Fruits/Canker/Canker (60).jpg  \n",
            "  inflating: Citrus/Fruits/Canker/Canker (61).JPG  \n",
            "  inflating: Citrus/Fruits/Canker/Canker (62).jpg  \n",
            "  inflating: Citrus/Fruits/Canker/Canker (63).jpg  \n",
            "  inflating: Citrus/Fruits/Canker/Canker (64).jpg  \n",
            "  inflating: Citrus/Fruits/Canker/Canker (65).jpg  \n",
            "  inflating: Citrus/Fruits/Canker/Canker (66).jpg  \n",
            "  inflating: Citrus/Fruits/Canker/Canker (67).jpg  \n",
            "  inflating: Citrus/Fruits/Canker/Canker (68).jpg  \n",
            "  inflating: Citrus/Fruits/Canker/Canker (69).jpg  \n",
            "  inflating: Citrus/Fruits/Canker/Canker (70).jpg  \n",
            "  inflating: Citrus/Fruits/Canker/Canker (71).jpg  \n",
            "  inflating: Citrus/Fruits/Canker/Canker (72).jpg  \n",
            "  inflating: Citrus/Fruits/Canker/Canker (73).jpg  \n",
            "  inflating: Citrus/Fruits/Canker/Canker (74).jpg  \n",
            "  inflating: Citrus/Fruits/Canker/Canker (75).jpg  \n",
            "  inflating: Citrus/Fruits/Canker/Canker (76).jpg  \n",
            "  inflating: Citrus/Fruits/Canker/Canker (77).jpg  \n",
            "  inflating: Citrus/Fruits/Canker/Canker (78).jpg  \n",
            "  inflating: Citrus/Fruits/Canker/Canker (79).jpg  \n",
            "  inflating: Citrus/Fruits/Canker/Canker (80).jpg  \n",
            "  inflating: Citrus/Fruits/Canker/Canker (81).jpg  \n",
            "  inflating: Citrus/Fruits/Canker/Canker (82).jpg  \n",
            "  inflating: Citrus/Fruits/Canker/Canker (83).jpg  \n",
            "  inflating: Citrus/Fruits/Canker/Canker (84).jpg  \n",
            "  inflating: Citrus/Fruits/Canker/Canker (85).jpg  \n",
            "  inflating: Citrus/Fruits/Canker/Canker (86).jpg  \n",
            "  inflating: Citrus/Fruits/Canker/Canker (87).jpg  \n",
            "  inflating: Citrus/Fruits/Canker/Canker (88).jpg  \n",
            "  inflating: Citrus/Fruits/Canker/Canker (89).jpg  \n",
            "  inflating: Citrus/Fruits/Canker/Canker (90).jpg  \n",
            "  inflating: Citrus/Fruits/Canker/Canker (91).jpg  \n",
            "  inflating: Citrus/Fruits/Canker/Canker (92).jpg  \n",
            "  inflating: Citrus/Fruits/Canker/Canker (93).jpg  \n",
            "  inflating: Citrus/Fruits/Canker/Canker (94).jpg  \n",
            "  inflating: Citrus/Fruits/Canker/Canker (95).jpg  \n",
            "  inflating: Citrus/Fruits/Canker/Canker (96).jpg  \n",
            "  inflating: Citrus/Fruits/Canker/Canker (97).jpg  \n",
            "  inflating: Citrus/Fruits/Canker/Canker (98).jpg  \n",
            "  inflating: Citrus/Fruits/Canker/Canker (99).jpg  \n",
            "   creating: Citrus/Fruits/Greening/\n",
            "  inflating: Citrus/Fruits/Greening/Greening (1).jpeg  \n",
            "  inflating: Citrus/Fruits/Greening/Greening (1).jpg  \n",
            "  inflating: Citrus/Fruits/Greening/Greening (10).jpg  \n",
            "  inflating: Citrus/Fruits/Greening/Greening (11).jpg  \n",
            "  inflating: Citrus/Fruits/Greening/Greening (12).jpg  \n",
            "  inflating: Citrus/Fruits/Greening/Greening (13).jpg  \n",
            "  inflating: Citrus/Fruits/Greening/Greening (14).jpg  \n",
            "  inflating: Citrus/Fruits/Greening/Greening (15).jpg  \n",
            "  inflating: Citrus/Fruits/Greening/Greening (2).jpg  \n",
            "  inflating: Citrus/Fruits/Greening/Greening (3).jpg  \n",
            "  inflating: Citrus/Fruits/Greening/Greening (4).jpg  \n",
            "  inflating: Citrus/Fruits/Greening/Greening (5).jpg  \n",
            "  inflating: Citrus/Fruits/Greening/Greening (6).jpg  \n",
            "  inflating: Citrus/Fruits/Greening/Greening (7).jpg  \n",
            "  inflating: Citrus/Fruits/Greening/Greening (8).jpg  \n",
            "  inflating: Citrus/Fruits/Greening/Greening (9).jpg  \n",
            "   creating: Citrus/Fruits/healthy/\n",
            "  inflating: Citrus/Fruits/healthy/Healthy (1).jpg  \n",
            "  inflating: Citrus/Fruits/healthy/Healthy (10).jpg  \n",
            "  inflating: Citrus/Fruits/healthy/Healthy (11).jpg  \n",
            "  inflating: Citrus/Fruits/healthy/Healthy (12).jpg  \n",
            "  inflating: Citrus/Fruits/healthy/Healthy (13).jpg  \n",
            "  inflating: Citrus/Fruits/healthy/Healthy (14).jpg  \n",
            "  inflating: Citrus/Fruits/healthy/Healthy (15).jpg  \n",
            "  inflating: Citrus/Fruits/healthy/Healthy (16).jpg  \n",
            "  inflating: Citrus/Fruits/healthy/Healthy (17).jpg  \n",
            "  inflating: Citrus/Fruits/healthy/Healthy (18).jpg  \n",
            "  inflating: Citrus/Fruits/healthy/Healthy (19).jpg  \n",
            "  inflating: Citrus/Fruits/healthy/Healthy (2).jpg  \n",
            "  inflating: Citrus/Fruits/healthy/Healthy (20).jpg  \n",
            "  inflating: Citrus/Fruits/healthy/Healthy (21).jpg  \n",
            "  inflating: Citrus/Fruits/healthy/Healthy (22).jpg  \n",
            "  inflating: Citrus/Fruits/healthy/Healthy (3).jpg  \n",
            "  inflating: Citrus/Fruits/healthy/Healthy (4).jpg  \n",
            "  inflating: Citrus/Fruits/healthy/Healthy (5).jpg  \n",
            "  inflating: Citrus/Fruits/healthy/Healthy (6).jpg  \n",
            "  inflating: Citrus/Fruits/healthy/Healthy (7).jpg  \n",
            "  inflating: Citrus/Fruits/healthy/Healthy (8).jpg  \n",
            "  inflating: Citrus/Fruits/healthy/Healthy (9).jpg  \n",
            "   creating: Citrus/Fruits/Scab/\n",
            "  inflating: Citrus/Fruits/Scab/16Catla.jpg  \n",
            "  inflating: Citrus/Fruits/Scab/170.jpg  \n",
            "  inflating: Citrus/Fruits/Scab/17Catla.jpg  \n",
            "  inflating: Citrus/Fruits/Scab/18Catla.jpg  \n",
            "  inflating: Citrus/Fruits/Scab/51.jpg  \n",
            "  inflating: Citrus/Fruits/Scab/51Catla.jpg  \n",
            "  inflating: Citrus/Fruits/Scab/52.jpg  \n",
            "  inflating: Citrus/Fruits/Scab/52Catla.jpg  \n",
            "  inflating: Citrus/Fruits/Scab/53.jpg  \n",
            "  inflating: Citrus/Fruits/Scab/53Catla.jpg  \n",
            "  inflating: Citrus/Fruits/Scab/54.jpg  \n",
            "  inflating: Citrus/Fruits/Scab/54Catla.jpg  \n",
            "  inflating: Citrus/Fruits/Scab/55.jpg  \n",
            "  inflating: Citrus/Fruits/Scab/55Catla.jpg  \n",
            "  inflating: Citrus/Fruits/Scab/56Catla.jpg  \n",
            "   creating: Citrus/Leaves/\n",
            "   creating: Citrus/Leaves/Black spot/\n",
            "  inflating: Citrus/Leaves/Black spot/74.jpg  \n",
            "  inflating: Citrus/Leaves/Black spot/78.jpg  \n",
            "  inflating: Citrus/Leaves/Black spot/b (11).png  \n",
            "  inflating: Citrus/Leaves/Black spot/b (126).png  \n",
            "  inflating: Citrus/Leaves/Black spot/b (131).png  \n",
            "  inflating: Citrus/Leaves/Black spot/b (134).png  \n",
            "  inflating: Citrus/Leaves/Black spot/b (139).png  \n",
            "  inflating: Citrus/Leaves/Black spot/b (14).png  \n",
            "  inflating: Citrus/Leaves/Black spot/b (140).png  \n",
            "  inflating: Citrus/Leaves/Black spot/b (142).png  \n",
            "  inflating: Citrus/Leaves/Black spot/b (144).png  \n",
            "  inflating: Citrus/Leaves/Black spot/b (145).png  \n",
            "  inflating: Citrus/Leaves/Black spot/b (146).png  \n",
            "  inflating: Citrus/Leaves/Black spot/b (148).png  \n",
            "  inflating: Citrus/Leaves/Black spot/b (150).png  \n",
            "  inflating: Citrus/Leaves/Black spot/b (151).png  \n",
            "  inflating: Citrus/Leaves/Black spot/b (152).png  \n",
            "  inflating: Citrus/Leaves/Black spot/b (154).png  \n",
            "  inflating: Citrus/Leaves/Black spot/b (155).png  \n",
            "  inflating: Citrus/Leaves/Black spot/b (156).png  \n",
            "  inflating: Citrus/Leaves/Black spot/b (157).png  \n",
            "  inflating: Citrus/Leaves/Black spot/b (158).png  \n",
            "  inflating: Citrus/Leaves/Black spot/b (160).png  \n",
            "  inflating: Citrus/Leaves/Black spot/b (161).png  \n",
            "  inflating: Citrus/Leaves/Black spot/b (162).png  \n",
            "  inflating: Citrus/Leaves/Black spot/b (163).png  \n",
            "  inflating: Citrus/Leaves/Black spot/b (164).png  \n",
            "  inflating: Citrus/Leaves/Black spot/b (165).png  \n",
            "  inflating: Citrus/Leaves/Black spot/b (166).png  \n",
            "  inflating: Citrus/Leaves/Black spot/b (167).png  \n",
            "  inflating: Citrus/Leaves/Black spot/b (168).png  \n",
            "  inflating: Citrus/Leaves/Black spot/b (169).png  \n",
            "  inflating: Citrus/Leaves/Black spot/b (170).png  \n",
            "  inflating: Citrus/Leaves/Black spot/b (172).png  \n",
            "  inflating: Citrus/Leaves/Black spot/b (173).png  \n",
            "  inflating: Citrus/Leaves/Black spot/b (174).png  \n",
            "  inflating: Citrus/Leaves/Black spot/b (175).png  \n",
            "  inflating: Citrus/Leaves/Black spot/b (176).png  \n",
            "  inflating: Citrus/Leaves/Black spot/b (177).png  \n",
            "  inflating: Citrus/Leaves/Black spot/b (180).png  \n",
            "  inflating: Citrus/Leaves/Black spot/b (181).png  \n",
            "  inflating: Citrus/Leaves/Black spot/b (182).png  \n",
            "  inflating: Citrus/Leaves/Black spot/b (183).png  \n",
            "  inflating: Citrus/Leaves/Black spot/b (184).png  \n",
            "  inflating: Citrus/Leaves/Black spot/b (185).png  \n",
            "  inflating: Citrus/Leaves/Black spot/b (186).png  \n",
            "  inflating: Citrus/Leaves/Black spot/b (187).png  \n",
            "  inflating: Citrus/Leaves/Black spot/b (188).png  \n",
            "  inflating: Citrus/Leaves/Black spot/b (189).png  \n",
            "  inflating: Citrus/Leaves/Black spot/b (190).png  \n",
            "  inflating: Citrus/Leaves/Black spot/b (191).png  \n",
            "  inflating: Citrus/Leaves/Black spot/b (192).png  \n",
            "  inflating: Citrus/Leaves/Black spot/b (193).png  \n",
            "  inflating: Citrus/Leaves/Black spot/b (194).png  \n",
            "  inflating: Citrus/Leaves/Black spot/b (195).png  \n",
            "  inflating: Citrus/Leaves/Black spot/b (196).png  \n",
            "  inflating: Citrus/Leaves/Black spot/b (197).png  \n",
            "  inflating: Citrus/Leaves/Black spot/b (198).png  \n",
            "  inflating: Citrus/Leaves/Black spot/b (199).png  \n",
            "  inflating: Citrus/Leaves/Black spot/b (2).png  \n",
            "  inflating: Citrus/Leaves/Black spot/b (202).png  \n",
            "  inflating: Citrus/Leaves/Black spot/b (203).png  \n",
            "  inflating: Citrus/Leaves/Black spot/b (205).png  \n",
            "  inflating: Citrus/Leaves/Black spot/b (207).png  \n",
            "  inflating: Citrus/Leaves/Black spot/b (209).png  \n",
            "  inflating: Citrus/Leaves/Black spot/b (21).png  \n",
            "  inflating: Citrus/Leaves/Black spot/b (221).png  \n",
            "  inflating: Citrus/Leaves/Black spot/b (222).png  \n",
            "  inflating: Citrus/Leaves/Black spot/b (223).png  \n",
            "  inflating: Citrus/Leaves/Black spot/b (224).png  \n",
            "  inflating: Citrus/Leaves/Black spot/b (225).png  \n",
            "  inflating: Citrus/Leaves/Black spot/b (226).png  \n",
            "  inflating: Citrus/Leaves/Black spot/b (227).png  \n",
            "  inflating: Citrus/Leaves/Black spot/b (229).png  \n",
            "  inflating: Citrus/Leaves/Black spot/b (23).png  \n",
            "  inflating: Citrus/Leaves/Black spot/b (230).png  \n",
            "  inflating: Citrus/Leaves/Black spot/b (231).png  \n",
            "  inflating: Citrus/Leaves/Black spot/b (232).png  \n",
            "  inflating: Citrus/Leaves/Black spot/b (233).png  \n",
            "  inflating: Citrus/Leaves/Black spot/b (234).png  \n",
            "  inflating: Citrus/Leaves/Black spot/b (236).png  \n",
            "  inflating: Citrus/Leaves/Black spot/b (237).png  \n",
            "  inflating: Citrus/Leaves/Black spot/b (238).png  \n",
            "  inflating: Citrus/Leaves/Black spot/b (24).png  \n",
            "  inflating: Citrus/Leaves/Black spot/b (240).png  \n",
            "  inflating: Citrus/Leaves/Black spot/b (241).png  \n",
            "  inflating: Citrus/Leaves/Black spot/b (242).png  \n",
            "  inflating: Citrus/Leaves/Black spot/b (243).png  \n",
            "  inflating: Citrus/Leaves/Black spot/b (244).png  \n",
            "  inflating: Citrus/Leaves/Black spot/b (249).png  \n",
            "  inflating: Citrus/Leaves/Black spot/b (250).png  \n",
            "  inflating: Citrus/Leaves/Black spot/b (251).png  \n",
            "  inflating: Citrus/Leaves/Black spot/b (252).png  \n",
            "  inflating: Citrus/Leaves/Black spot/b (254).png  \n",
            "  inflating: Citrus/Leaves/Black spot/b (256).png  \n",
            "  inflating: Citrus/Leaves/Black spot/b (257).png  \n",
            "  inflating: Citrus/Leaves/Black spot/b (258).png  \n",
            "  inflating: Citrus/Leaves/Black spot/b (259).png  \n",
            "  inflating: Citrus/Leaves/Black spot/b (261).png  \n",
            "  inflating: Citrus/Leaves/Black spot/b (262).png  \n",
            "  inflating: Citrus/Leaves/Black spot/b (263).png  \n",
            "  inflating: Citrus/Leaves/Black spot/b (264).png  \n",
            "  inflating: Citrus/Leaves/Black spot/b (265).png  \n",
            "  inflating: Citrus/Leaves/Black spot/b (266).png  \n",
            "  inflating: Citrus/Leaves/Black spot/b (267).png  \n",
            "  inflating: Citrus/Leaves/Black spot/b (268).png  \n",
            "  inflating: Citrus/Leaves/Black spot/b (269).png  \n",
            "  inflating: Citrus/Leaves/Black spot/b (270).png  \n",
            "  inflating: Citrus/Leaves/Black spot/b (271).png  \n",
            "  inflating: Citrus/Leaves/Black spot/b (272).png  \n",
            "  inflating: Citrus/Leaves/Black spot/b (273).png  \n",
            "  inflating: Citrus/Leaves/Black spot/b (274).png  \n",
            "  inflating: Citrus/Leaves/Black spot/b (275).png  \n",
            "  inflating: Citrus/Leaves/Black spot/b (276).png  \n",
            "  inflating: Citrus/Leaves/Black spot/b (277).png  \n",
            "  inflating: Citrus/Leaves/Black spot/b (278).png  \n",
            "  inflating: Citrus/Leaves/Black spot/b (280).png  \n",
            "  inflating: Citrus/Leaves/Black spot/b (281).png  \n",
            "  inflating: Citrus/Leaves/Black spot/b (282).png  \n",
            "  inflating: Citrus/Leaves/Black spot/b (32).png  \n",
            "  inflating: Citrus/Leaves/Black spot/b (35).png  \n",
            "  inflating: Citrus/Leaves/Black spot/b (40).png  \n",
            "  inflating: Citrus/Leaves/Black spot/b (42).png  \n",
            "  inflating: Citrus/Leaves/Black spot/b (43).png  \n",
            "  inflating: Citrus/Leaves/Black spot/b (44).png  \n",
            "  inflating: Citrus/Leaves/Black spot/b (45).png  \n",
            "  inflating: Citrus/Leaves/Black spot/b (46).png  \n",
            "  inflating: Citrus/Leaves/Black spot/b (47).png  \n",
            "  inflating: Citrus/Leaves/Black spot/b (48).png  \n",
            "  inflating: Citrus/Leaves/Black spot/b (49).png  \n",
            "  inflating: Citrus/Leaves/Black spot/b (5).png  \n",
            "  inflating: Citrus/Leaves/Black spot/b (50).png  \n",
            "  inflating: Citrus/Leaves/Black spot/b (51).png  \n",
            "  inflating: Citrus/Leaves/Black spot/b (52).png  \n",
            "  inflating: Citrus/Leaves/Black spot/b (53).png  \n",
            "  inflating: Citrus/Leaves/Black spot/b (55).png  \n",
            "  inflating: Citrus/Leaves/Black spot/b (56).png  \n",
            "  inflating: Citrus/Leaves/Black spot/b (57).png  \n",
            "  inflating: Citrus/Leaves/Black spot/b (58).png  \n",
            "  inflating: Citrus/Leaves/Black spot/b (59).png  \n",
            "  inflating: Citrus/Leaves/Black spot/b (60).png  \n",
            "  inflating: Citrus/Leaves/Black spot/b (61).png  \n",
            "  inflating: Citrus/Leaves/Black spot/b (62).png  \n",
            "  inflating: Citrus/Leaves/Black spot/b (67).png  \n",
            "  inflating: Citrus/Leaves/Black spot/b (68).png  \n",
            "  inflating: Citrus/Leaves/Black spot/b (69).png  \n",
            "  inflating: Citrus/Leaves/Black spot/b (70).png  \n",
            "  inflating: Citrus/Leaves/Black spot/b (74).png  \n",
            "  inflating: Citrus/Leaves/Black spot/b (75).png  \n",
            "  inflating: Citrus/Leaves/Black spot/b (76).png  \n",
            "  inflating: Citrus/Leaves/Black spot/b (77).png  \n",
            "  inflating: Citrus/Leaves/Black spot/b (78).png  \n",
            "  inflating: Citrus/Leaves/Black spot/b (82).png  \n",
            "  inflating: Citrus/Leaves/Black spot/b (83).png  \n",
            "  inflating: Citrus/Leaves/Black spot/b (84).png  \n",
            "  inflating: Citrus/Leaves/Black spot/b (85).png  \n",
            "  inflating: Citrus/Leaves/Black spot/b (86).png  \n",
            "  inflating: Citrus/Leaves/Black spot/b (87).png  \n",
            "  inflating: Citrus/Leaves/Black spot/b (89).png  \n",
            "  inflating: Citrus/Leaves/Black spot/b (91).png  \n",
            "  inflating: Citrus/Leaves/Black spot/b (92).png  \n",
            "  inflating: Citrus/Leaves/Black spot/b (93).png  \n",
            "  inflating: Citrus/Leaves/Black spot/b (94).png  \n",
            "  inflating: Citrus/Leaves/Black spot/b (95).png  \n",
            "  inflating: Citrus/Leaves/Black spot/b (98).png  \n",
            "  inflating: Citrus/Leaves/Black spot/bl (1).png  \n",
            "  inflating: Citrus/Leaves/Black spot/bl (2).png  \n",
            "  inflating: Citrus/Leaves/Black spot/bl (3).png  \n",
            "  inflating: Citrus/Leaves/Black spot/bl (4).png  \n",
            "  inflating: Citrus/Leaves/Black spot/bl (5).png  \n",
            "  inflating: Citrus/Leaves/Black spot/bl (6).png  \n",
            "   creating: Citrus/Leaves/canker/\n",
            "  inflating: Citrus/Leaves/canker/1.png.png  \n",
            "  inflating: Citrus/Leaves/canker/10.pn.png  \n",
            "  inflating: Citrus/Leaves/canker/100.p.png  \n",
            "  inflating: Citrus/Leaves/canker/101.p.png  \n",
            "  inflating: Citrus/Leaves/canker/102.p.png  \n",
            "  inflating: Citrus/Leaves/canker/103.p.png  \n",
            "  inflating: Citrus/Leaves/canker/104.p.png  \n",
            "  inflating: Citrus/Leaves/canker/105.p.png  \n",
            "  inflating: Citrus/Leaves/canker/106.p.png  \n",
            "  inflating: Citrus/Leaves/canker/107.p.png  \n",
            "  inflating: Citrus/Leaves/canker/108.p.png  \n",
            "  inflating: Citrus/Leaves/canker/109.p.png  \n",
            "  inflating: Citrus/Leaves/canker/11.pn.png  \n",
            "  inflating: Citrus/Leaves/canker/110.p.png  \n",
            "  inflating: Citrus/Leaves/canker/111.p.png  \n",
            "  inflating: Citrus/Leaves/canker/112.p.png  \n",
            "  inflating: Citrus/Leaves/canker/113.p.png  \n",
            "  inflating: Citrus/Leaves/canker/114.p.png  \n",
            "  inflating: Citrus/Leaves/canker/115.p.png  \n",
            "  inflating: Citrus/Leaves/canker/116.p.png  \n",
            "  inflating: Citrus/Leaves/canker/117.p.png  \n",
            "  inflating: Citrus/Leaves/canker/118.p.png  \n",
            "  inflating: Citrus/Leaves/canker/119.p.png  \n",
            "  inflating: Citrus/Leaves/canker/12.pn.png  \n",
            "  inflating: Citrus/Leaves/canker/120.p.png  \n",
            "  inflating: Citrus/Leaves/canker/121.p.png  \n",
            "  inflating: Citrus/Leaves/canker/122.p.png  \n",
            "  inflating: Citrus/Leaves/canker/123.p.png  \n",
            "  inflating: Citrus/Leaves/canker/124.p.png  \n",
            "  inflating: Citrus/Leaves/canker/125.p.png  \n",
            "  inflating: Citrus/Leaves/canker/126.p.png  \n",
            "  inflating: Citrus/Leaves/canker/127.p.png  \n",
            "  inflating: Citrus/Leaves/canker/128.p.png  \n",
            "  inflating: Citrus/Leaves/canker/129.p.png  \n",
            "  inflating: Citrus/Leaves/canker/13.pn.png  \n",
            "  inflating: Citrus/Leaves/canker/130.p.png  \n",
            "  inflating: Citrus/Leaves/canker/131.p.png  \n",
            "  inflating: Citrus/Leaves/canker/132.p.png  \n",
            "  inflating: Citrus/Leaves/canker/133.p.png  \n",
            "  inflating: Citrus/Leaves/canker/134.p.png  \n",
            "  inflating: Citrus/Leaves/canker/135.p.png  \n",
            "  inflating: Citrus/Leaves/canker/136.p.png  \n",
            "  inflating: Citrus/Leaves/canker/137.p.png  \n",
            "  inflating: Citrus/Leaves/canker/138.p.png  \n",
            "  inflating: Citrus/Leaves/canker/139.p.png  \n",
            "  inflating: Citrus/Leaves/canker/14.pn.png  \n",
            "  inflating: Citrus/Leaves/canker/140.p.png  \n",
            "  inflating: Citrus/Leaves/canker/141.p.png  \n",
            "  inflating: Citrus/Leaves/canker/142.p.png  \n",
            "  inflating: Citrus/Leaves/canker/143.p.png  \n",
            "  inflating: Citrus/Leaves/canker/144.p.png  \n",
            "  inflating: Citrus/Leaves/canker/145.p.png  \n",
            "  inflating: Citrus/Leaves/canker/146.p.png  \n",
            "  inflating: Citrus/Leaves/canker/147.p.png  \n",
            "  inflating: Citrus/Leaves/canker/148.p.png  \n",
            "  inflating: Citrus/Leaves/canker/149.p.png  \n",
            "  inflating: Citrus/Leaves/canker/15.pn.png  \n",
            "  inflating: Citrus/Leaves/canker/150.p.png  \n",
            "  inflating: Citrus/Leaves/canker/151.p.png  \n",
            "  inflating: Citrus/Leaves/canker/152.p.png  \n",
            "  inflating: Citrus/Leaves/canker/153.p.png  \n",
            "  inflating: Citrus/Leaves/canker/154.p.png  \n",
            "  inflating: Citrus/Leaves/canker/155.p.png  \n",
            "  inflating: Citrus/Leaves/canker/156.p.png  \n",
            "  inflating: Citrus/Leaves/canker/157.p.png  \n",
            "  inflating: Citrus/Leaves/canker/158.p.png  \n",
            "  inflating: Citrus/Leaves/canker/159.p.png  \n",
            "  inflating: Citrus/Leaves/canker/16.pn.png  \n",
            "  inflating: Citrus/Leaves/canker/160.p.png  \n",
            "  inflating: Citrus/Leaves/canker/161.p.png  \n",
            "  inflating: Citrus/Leaves/canker/162.p.png  \n",
            "  inflating: Citrus/Leaves/canker/163.p.png  \n",
            "  inflating: Citrus/Leaves/canker/17.pn.png  \n",
            "  inflating: Citrus/Leaves/canker/18.pn.png  \n",
            "  inflating: Citrus/Leaves/canker/19.pn.png  \n",
            "  inflating: Citrus/Leaves/canker/2.png.png  \n",
            "  inflating: Citrus/Leaves/canker/20.pn.png  \n",
            "  inflating: Citrus/Leaves/canker/21.pn.png  \n",
            "  inflating: Citrus/Leaves/canker/22.pn.png  \n",
            "  inflating: Citrus/Leaves/canker/23.pn.png  \n",
            "  inflating: Citrus/Leaves/canker/24.pn.png  \n",
            "  inflating: Citrus/Leaves/canker/25.pn.png  \n",
            "  inflating: Citrus/Leaves/canker/26.pn.png  \n",
            "  inflating: Citrus/Leaves/canker/27.pn.png  \n",
            "  inflating: Citrus/Leaves/canker/28.pn.png  \n",
            "  inflating: Citrus/Leaves/canker/29.pn.png  \n",
            "  inflating: Citrus/Leaves/canker/3.png.png  \n",
            "  inflating: Citrus/Leaves/canker/30.pn.png  \n",
            "  inflating: Citrus/Leaves/canker/31.pn.png  \n",
            "  inflating: Citrus/Leaves/canker/32.pn.png  \n",
            "  inflating: Citrus/Leaves/canker/33.pn.png  \n",
            "  inflating: Citrus/Leaves/canker/34.pn.png  \n",
            "  inflating: Citrus/Leaves/canker/35.pn.png  \n",
            "  inflating: Citrus/Leaves/canker/36.pn.png  \n",
            "  inflating: Citrus/Leaves/canker/37.pn.png  \n",
            "  inflating: Citrus/Leaves/canker/38.pn.png  \n",
            "  inflating: Citrus/Leaves/canker/39.pn.png  \n",
            "  inflating: Citrus/Leaves/canker/4.png.png  \n",
            "  inflating: Citrus/Leaves/canker/40.pn.png  \n",
            "  inflating: Citrus/Leaves/canker/41.pn.png  \n",
            "  inflating: Citrus/Leaves/canker/42.pn.png  \n",
            "  inflating: Citrus/Leaves/canker/43.pn.png  \n",
            "  inflating: Citrus/Leaves/canker/44.pn.png  \n",
            "  inflating: Citrus/Leaves/canker/45.pn.png  \n",
            "  inflating: Citrus/Leaves/canker/46.pn.png  \n",
            "  inflating: Citrus/Leaves/canker/47.pn.png  \n",
            "  inflating: Citrus/Leaves/canker/48.pn.png  \n",
            "  inflating: Citrus/Leaves/canker/49.pn.png  \n",
            "  inflating: Citrus/Leaves/canker/5.png.png  \n",
            "  inflating: Citrus/Leaves/canker/50.pn.png  \n",
            "  inflating: Citrus/Leaves/canker/51.pn.png  \n",
            "  inflating: Citrus/Leaves/canker/52.pn.png  \n",
            "  inflating: Citrus/Leaves/canker/53.pn.png  \n",
            "  inflating: Citrus/Leaves/canker/54.pn.png  \n",
            "  inflating: Citrus/Leaves/canker/55.pn.png  \n",
            "  inflating: Citrus/Leaves/canker/56.pn.png  \n",
            "  inflating: Citrus/Leaves/canker/57.pn.png  \n",
            "  inflating: Citrus/Leaves/canker/58.pn.png  \n",
            "  inflating: Citrus/Leaves/canker/59.pn.png  \n",
            "  inflating: Citrus/Leaves/canker/6.png.png  \n",
            "  inflating: Citrus/Leaves/canker/60.pn.png  \n",
            "  inflating: Citrus/Leaves/canker/61.pn.png  \n",
            "  inflating: Citrus/Leaves/canker/62.pn.png  \n",
            "  inflating: Citrus/Leaves/canker/63.pn.png  \n",
            "  inflating: Citrus/Leaves/canker/64.pn.png  \n",
            "  inflating: Citrus/Leaves/canker/65.pn.png  \n",
            "  inflating: Citrus/Leaves/canker/66.pn.png  \n",
            "  inflating: Citrus/Leaves/canker/67.pn.png  \n",
            "  inflating: Citrus/Leaves/canker/68.pn.png  \n",
            "  inflating: Citrus/Leaves/canker/69.pn.png  \n",
            "  inflating: Citrus/Leaves/canker/7.png.png  \n",
            "  inflating: Citrus/Leaves/canker/70.pn.png  \n",
            "  inflating: Citrus/Leaves/canker/71.pn.png  \n",
            "  inflating: Citrus/Leaves/canker/72.pn.png  \n",
            "  inflating: Citrus/Leaves/canker/73.pn.png  \n",
            "  inflating: Citrus/Leaves/canker/74.pn.png  \n",
            "  inflating: Citrus/Leaves/canker/75.pn.png  \n",
            "  inflating: Citrus/Leaves/canker/76.pn.png  \n",
            "  inflating: Citrus/Leaves/canker/77.pn.png  \n",
            "  inflating: Citrus/Leaves/canker/78.pn.png  \n",
            "  inflating: Citrus/Leaves/canker/79.pn.png  \n",
            "  inflating: Citrus/Leaves/canker/8.png.png  \n",
            "  inflating: Citrus/Leaves/canker/80.pn.png  \n",
            "  inflating: Citrus/Leaves/canker/81.pn.png  \n",
            "  inflating: Citrus/Leaves/canker/82.pn.png  \n",
            "  inflating: Citrus/Leaves/canker/83.pn.png  \n",
            "  inflating: Citrus/Leaves/canker/84.pn.png  \n",
            "  inflating: Citrus/Leaves/canker/85.pn.png  \n",
            "  inflating: Citrus/Leaves/canker/86.pn.png  \n",
            "  inflating: Citrus/Leaves/canker/87.pn.png  \n",
            "  inflating: Citrus/Leaves/canker/88.pn.png  \n",
            "  inflating: Citrus/Leaves/canker/89.pn.png  \n",
            "  inflating: Citrus/Leaves/canker/9.png.png  \n",
            "  inflating: Citrus/Leaves/canker/90.pn.png  \n",
            "  inflating: Citrus/Leaves/canker/91.pn.png  \n",
            "  inflating: Citrus/Leaves/canker/92.pn.png  \n",
            "  inflating: Citrus/Leaves/canker/93.pn.png  \n",
            "  inflating: Citrus/Leaves/canker/94.pn.png  \n",
            "  inflating: Citrus/Leaves/canker/95.pn.png  \n",
            "  inflating: Citrus/Leaves/canker/96.pn.png  \n",
            "  inflating: Citrus/Leaves/canker/97.pn.png  \n",
            "  inflating: Citrus/Leaves/canker/98.pn.png  \n",
            "  inflating: Citrus/Leaves/canker/99.pn.png  \n",
            "   creating: Citrus/Leaves/greening/\n",
            "  inflating: Citrus/Leaves/greening/g (1).png  \n",
            "  inflating: Citrus/Leaves/greening/g (10).png  \n",
            "  inflating: Citrus/Leaves/greening/g (100).png  \n",
            "  inflating: Citrus/Leaves/greening/g (101).png  \n",
            "  inflating: Citrus/Leaves/greening/g (102).png  \n",
            "  inflating: Citrus/Leaves/greening/g (103).png  \n",
            "  inflating: Citrus/Leaves/greening/g (104).png  \n",
            "  inflating: Citrus/Leaves/greening/g (105).png  \n",
            "  inflating: Citrus/Leaves/greening/g (106).png  \n",
            "  inflating: Citrus/Leaves/greening/g (107).png  \n",
            "  inflating: Citrus/Leaves/greening/g (108).png  \n",
            "  inflating: Citrus/Leaves/greening/g (109).png  \n",
            "  inflating: Citrus/Leaves/greening/g (11).png  \n",
            "  inflating: Citrus/Leaves/greening/g (110).png  \n",
            "  inflating: Citrus/Leaves/greening/g (111).png  \n",
            "  inflating: Citrus/Leaves/greening/g (112).png  \n",
            "  inflating: Citrus/Leaves/greening/g (113).png  \n",
            "  inflating: Citrus/Leaves/greening/g (114).png  \n",
            "  inflating: Citrus/Leaves/greening/g (115).png  \n",
            "  inflating: Citrus/Leaves/greening/g (116).png  \n",
            "  inflating: Citrus/Leaves/greening/g (117).png  \n",
            "  inflating: Citrus/Leaves/greening/g (118).png  \n",
            "  inflating: Citrus/Leaves/greening/g (119).png  \n",
            "  inflating: Citrus/Leaves/greening/g (12).png  \n",
            "  inflating: Citrus/Leaves/greening/g (120).png  \n",
            "  inflating: Citrus/Leaves/greening/g (121).png  \n",
            "  inflating: Citrus/Leaves/greening/g (122).png  \n",
            "  inflating: Citrus/Leaves/greening/g (123).png  \n",
            "  inflating: Citrus/Leaves/greening/g (124).png  \n",
            "  inflating: Citrus/Leaves/greening/g (125).png  \n",
            "  inflating: Citrus/Leaves/greening/g (126).png  \n",
            "  inflating: Citrus/Leaves/greening/g (127).png  \n",
            "  inflating: Citrus/Leaves/greening/g (128).png  \n",
            "  inflating: Citrus/Leaves/greening/g (129).png  \n",
            "  inflating: Citrus/Leaves/greening/g (13).png  \n",
            "  inflating: Citrus/Leaves/greening/g (130).png  \n",
            "  inflating: Citrus/Leaves/greening/g (131).png  \n",
            "  inflating: Citrus/Leaves/greening/g (132).png  \n",
            "  inflating: Citrus/Leaves/greening/g (133).png  \n",
            "  inflating: Citrus/Leaves/greening/g (134).png  \n",
            "  inflating: Citrus/Leaves/greening/g (135).png  \n",
            "  inflating: Citrus/Leaves/greening/g (136).png  \n",
            "  inflating: Citrus/Leaves/greening/g (137).png  \n",
            "  inflating: Citrus/Leaves/greening/g (138).png  \n",
            "  inflating: Citrus/Leaves/greening/g (139).png  \n",
            "  inflating: Citrus/Leaves/greening/g (14).png  \n",
            "  inflating: Citrus/Leaves/greening/g (140).png  \n",
            "  inflating: Citrus/Leaves/greening/g (141).png  \n",
            "  inflating: Citrus/Leaves/greening/g (142).png  \n",
            "  inflating: Citrus/Leaves/greening/g (143).png  \n",
            "  inflating: Citrus/Leaves/greening/g (144).png  \n",
            "  inflating: Citrus/Leaves/greening/g (145).png  \n",
            "  inflating: Citrus/Leaves/greening/g (146).png  \n",
            "  inflating: Citrus/Leaves/greening/g (147).png  \n",
            "  inflating: Citrus/Leaves/greening/g (148).png  \n",
            "  inflating: Citrus/Leaves/greening/g (149).png  \n",
            "  inflating: Citrus/Leaves/greening/g (15).png  \n",
            "  inflating: Citrus/Leaves/greening/g (150).png  \n",
            "  inflating: Citrus/Leaves/greening/g (151).png  \n",
            "  inflating: Citrus/Leaves/greening/g (152).png  \n",
            "  inflating: Citrus/Leaves/greening/g (153).png  \n",
            "  inflating: Citrus/Leaves/greening/g (154).png  \n",
            "  inflating: Citrus/Leaves/greening/g (155).png  \n",
            "  inflating: Citrus/Leaves/greening/g (156).png  \n",
            "  inflating: Citrus/Leaves/greening/g (157).png  \n",
            "  inflating: Citrus/Leaves/greening/g (158).png  \n",
            "  inflating: Citrus/Leaves/greening/g (159).png  \n",
            "  inflating: Citrus/Leaves/greening/g (16).png  \n",
            "  inflating: Citrus/Leaves/greening/g (160).png  \n",
            "  inflating: Citrus/Leaves/greening/g (161).png  \n",
            "  inflating: Citrus/Leaves/greening/g (162).png  \n",
            "  inflating: Citrus/Leaves/greening/g (163).png  \n",
            "  inflating: Citrus/Leaves/greening/g (164).png  \n",
            "  inflating: Citrus/Leaves/greening/g (165).png  \n",
            "  inflating: Citrus/Leaves/greening/g (166).png  \n",
            "  inflating: Citrus/Leaves/greening/g (167).png  \n",
            "  inflating: Citrus/Leaves/greening/g (168).png  \n",
            "  inflating: Citrus/Leaves/greening/g (169).png  \n",
            "  inflating: Citrus/Leaves/greening/g (17).png  \n",
            "  inflating: Citrus/Leaves/greening/g (170).png  \n",
            "  inflating: Citrus/Leaves/greening/g (171).png  \n",
            "  inflating: Citrus/Leaves/greening/g (172).png  \n",
            "  inflating: Citrus/Leaves/greening/g (173).png  \n",
            "  inflating: Citrus/Leaves/greening/g (174).png  \n",
            "  inflating: Citrus/Leaves/greening/g (175).png  \n",
            "  inflating: Citrus/Leaves/greening/g (176).png  \n",
            "  inflating: Citrus/Leaves/greening/g (177).png  \n",
            "  inflating: Citrus/Leaves/greening/g (178).png  \n",
            "  inflating: Citrus/Leaves/greening/g (179).png  \n",
            "  inflating: Citrus/Leaves/greening/g (18).png  \n",
            "  inflating: Citrus/Leaves/greening/g (180).png  \n",
            "  inflating: Citrus/Leaves/greening/g (181).png  \n",
            "  inflating: Citrus/Leaves/greening/g (182).png  \n",
            "  inflating: Citrus/Leaves/greening/g (183).png  \n",
            "  inflating: Citrus/Leaves/greening/g (184).png  \n",
            "  inflating: Citrus/Leaves/greening/g (185).png  \n",
            "  inflating: Citrus/Leaves/greening/g (186).png  \n",
            "  inflating: Citrus/Leaves/greening/g (187).png  \n",
            "  inflating: Citrus/Leaves/greening/g (188).png  \n",
            "  inflating: Citrus/Leaves/greening/g (189).png  \n",
            "  inflating: Citrus/Leaves/greening/g (19).png  \n",
            "  inflating: Citrus/Leaves/greening/g (190).png  \n",
            "  inflating: Citrus/Leaves/greening/g (191).png  \n",
            "  inflating: Citrus/Leaves/greening/g (192).png  \n",
            "  inflating: Citrus/Leaves/greening/g (193).png  \n",
            "  inflating: Citrus/Leaves/greening/g (194).png  \n",
            "  inflating: Citrus/Leaves/greening/g (195).png  \n",
            "  inflating: Citrus/Leaves/greening/g (196).png  \n",
            "  inflating: Citrus/Leaves/greening/g (197).png  \n",
            "  inflating: Citrus/Leaves/greening/g (198).png  \n",
            "  inflating: Citrus/Leaves/greening/g (199).png  \n",
            "  inflating: Citrus/Leaves/greening/g (2).png  \n",
            "  inflating: Citrus/Leaves/greening/g (20).png  \n",
            "  inflating: Citrus/Leaves/greening/g (200).png  \n",
            "  inflating: Citrus/Leaves/greening/g (201).png  \n",
            "  inflating: Citrus/Leaves/greening/g (202).png  \n",
            "  inflating: Citrus/Leaves/greening/g (203).png  \n",
            "  inflating: Citrus/Leaves/greening/g (204).png  \n",
            "  inflating: Citrus/Leaves/greening/g (21).png  \n",
            "  inflating: Citrus/Leaves/greening/g (22).png  \n",
            "  inflating: Citrus/Leaves/greening/g (23).png  \n",
            "  inflating: Citrus/Leaves/greening/g (24).png  \n",
            "  inflating: Citrus/Leaves/greening/g (25).png  \n",
            "  inflating: Citrus/Leaves/greening/g (26).png  \n",
            "  inflating: Citrus/Leaves/greening/g (27).png  \n",
            "  inflating: Citrus/Leaves/greening/g (28).png  \n",
            "  inflating: Citrus/Leaves/greening/g (29).png  \n",
            "  inflating: Citrus/Leaves/greening/g (3).png  \n",
            "  inflating: Citrus/Leaves/greening/g (30).png  \n",
            "  inflating: Citrus/Leaves/greening/g (31).png  \n",
            "  inflating: Citrus/Leaves/greening/g (32).png  \n",
            "  inflating: Citrus/Leaves/greening/g (33).png  \n",
            "  inflating: Citrus/Leaves/greening/g (34).png  \n",
            "  inflating: Citrus/Leaves/greening/g (35).png  \n",
            "  inflating: Citrus/Leaves/greening/g (36).png  \n",
            "  inflating: Citrus/Leaves/greening/g (37).png  \n",
            "  inflating: Citrus/Leaves/greening/g (38).png  \n",
            "  inflating: Citrus/Leaves/greening/g (39).png  \n",
            "  inflating: Citrus/Leaves/greening/g (4).png  \n",
            "  inflating: Citrus/Leaves/greening/g (40).png  \n",
            "  inflating: Citrus/Leaves/greening/g (41).png  \n",
            "  inflating: Citrus/Leaves/greening/g (42).png  \n",
            "  inflating: Citrus/Leaves/greening/g (43).png  \n",
            "  inflating: Citrus/Leaves/greening/g (44).png  \n",
            "  inflating: Citrus/Leaves/greening/g (45).png  \n",
            "  inflating: Citrus/Leaves/greening/g (46).png  \n",
            "  inflating: Citrus/Leaves/greening/g (47).png  \n",
            "  inflating: Citrus/Leaves/greening/g (48).png  \n",
            "  inflating: Citrus/Leaves/greening/g (49).png  \n",
            "  inflating: Citrus/Leaves/greening/g (5).png  \n",
            "  inflating: Citrus/Leaves/greening/g (50).png  \n",
            "  inflating: Citrus/Leaves/greening/g (51).png  \n",
            "  inflating: Citrus/Leaves/greening/g (52).png  \n",
            "  inflating: Citrus/Leaves/greening/g (53).png  \n",
            "  inflating: Citrus/Leaves/greening/g (54).png  \n",
            "  inflating: Citrus/Leaves/greening/g (55).png  \n",
            "  inflating: Citrus/Leaves/greening/g (56).png  \n",
            "  inflating: Citrus/Leaves/greening/g (57).png  \n",
            "  inflating: Citrus/Leaves/greening/g (58).png  \n",
            "  inflating: Citrus/Leaves/greening/g (59).png  \n",
            "  inflating: Citrus/Leaves/greening/g (6).png  \n",
            "  inflating: Citrus/Leaves/greening/g (60).png  \n",
            "  inflating: Citrus/Leaves/greening/g (61).png  \n",
            "  inflating: Citrus/Leaves/greening/g (62).png  \n",
            "  inflating: Citrus/Leaves/greening/g (63).png  \n",
            "  inflating: Citrus/Leaves/greening/g (64).png  \n",
            "  inflating: Citrus/Leaves/greening/g (65).png  \n",
            "  inflating: Citrus/Leaves/greening/g (66).png  \n",
            "  inflating: Citrus/Leaves/greening/g (67).png  \n",
            "  inflating: Citrus/Leaves/greening/g (68).png  \n",
            "  inflating: Citrus/Leaves/greening/g (69).png  \n",
            "  inflating: Citrus/Leaves/greening/g (7).png  \n",
            "  inflating: Citrus/Leaves/greening/g (70).png  \n",
            "  inflating: Citrus/Leaves/greening/g (71).png  \n",
            "  inflating: Citrus/Leaves/greening/g (72).png  \n",
            "  inflating: Citrus/Leaves/greening/g (73).png  \n",
            "  inflating: Citrus/Leaves/greening/g (74).png  \n",
            "  inflating: Citrus/Leaves/greening/g (75).png  \n",
            "  inflating: Citrus/Leaves/greening/g (76).png  \n",
            "  inflating: Citrus/Leaves/greening/g (77).png  \n",
            "  inflating: Citrus/Leaves/greening/g (78).png  \n",
            "  inflating: Citrus/Leaves/greening/g (79).png  \n",
            "  inflating: Citrus/Leaves/greening/g (8).png  \n",
            "  inflating: Citrus/Leaves/greening/g (80).png  \n",
            "  inflating: Citrus/Leaves/greening/g (81).png  \n",
            "  inflating: Citrus/Leaves/greening/g (82).png  \n",
            "  inflating: Citrus/Leaves/greening/g (83).png  \n",
            "  inflating: Citrus/Leaves/greening/g (84).png  \n",
            "  inflating: Citrus/Leaves/greening/g (85).png  \n",
            "  inflating: Citrus/Leaves/greening/g (86).png  \n",
            "  inflating: Citrus/Leaves/greening/g (87).png  \n",
            "  inflating: Citrus/Leaves/greening/g (88).png  \n",
            "  inflating: Citrus/Leaves/greening/g (89).png  \n",
            "  inflating: Citrus/Leaves/greening/g (9).png  \n",
            "  inflating: Citrus/Leaves/greening/g (90).png  \n",
            "  inflating: Citrus/Leaves/greening/g (91).png  \n",
            "  inflating: Citrus/Leaves/greening/g (92).png  \n",
            "  inflating: Citrus/Leaves/greening/g (93).png  \n",
            "  inflating: Citrus/Leaves/greening/g (94).png  \n",
            "  inflating: Citrus/Leaves/greening/g (95).png  \n",
            "  inflating: Citrus/Leaves/greening/g (96).png  \n",
            "  inflating: Citrus/Leaves/greening/g (97).png  \n",
            "  inflating: Citrus/Leaves/greening/g (98).png  \n",
            "  inflating: Citrus/Leaves/greening/g (99).png  \n",
            "   creating: Citrus/Leaves/healthy/\n",
            "  inflating: Citrus/Leaves/healthy/1.png.png  \n",
            "  inflating: Citrus/Leaves/healthy/10.pn.png  \n",
            "  inflating: Citrus/Leaves/healthy/11.pn.png  \n",
            "  inflating: Citrus/Leaves/healthy/12.pn.png  \n",
            "  inflating: Citrus/Leaves/healthy/13.pn.png  \n",
            "  inflating: Citrus/Leaves/healthy/14.pn.png  \n",
            "  inflating: Citrus/Leaves/healthy/15.pn.png  \n",
            "  inflating: Citrus/Leaves/healthy/16.pn.png  \n",
            "  inflating: Citrus/Leaves/healthy/17.pn.png  \n",
            "  inflating: Citrus/Leaves/healthy/18.pn.png  \n",
            "  inflating: Citrus/Leaves/healthy/19.pn.png  \n",
            "  inflating: Citrus/Leaves/healthy/2.png.png  \n",
            "  inflating: Citrus/Leaves/healthy/20.pn.png  \n",
            "  inflating: Citrus/Leaves/healthy/21.pn.png  \n",
            "  inflating: Citrus/Leaves/healthy/22.pn.png  \n",
            "  inflating: Citrus/Leaves/healthy/23.pn.png  \n",
            "  inflating: Citrus/Leaves/healthy/24.pn.png  \n",
            "  inflating: Citrus/Leaves/healthy/25.pn.png  \n",
            "  inflating: Citrus/Leaves/healthy/26.pn.png  \n",
            "  inflating: Citrus/Leaves/healthy/27.pn.png  \n",
            "  inflating: Citrus/Leaves/healthy/28.pn.png  \n",
            "  inflating: Citrus/Leaves/healthy/29.pn.png  \n",
            "  inflating: Citrus/Leaves/healthy/3.png.png  \n",
            "  inflating: Citrus/Leaves/healthy/30.pn.png  \n",
            "  inflating: Citrus/Leaves/healthy/31.pn.png  \n",
            "  inflating: Citrus/Leaves/healthy/32.pn.png  \n",
            "  inflating: Citrus/Leaves/healthy/33.pn.png  \n",
            "  inflating: Citrus/Leaves/healthy/34.pn.png  \n",
            "  inflating: Citrus/Leaves/healthy/35.pn.png  \n",
            "  inflating: Citrus/Leaves/healthy/36.pn.png  \n",
            "  inflating: Citrus/Leaves/healthy/37.pn.png  \n",
            "  inflating: Citrus/Leaves/healthy/38.pn.png  \n",
            "  inflating: Citrus/Leaves/healthy/39.pn.png  \n",
            "  inflating: Citrus/Leaves/healthy/4.png.png  \n",
            "  inflating: Citrus/Leaves/healthy/40.pn.png  \n",
            "  inflating: Citrus/Leaves/healthy/41.pn.png  \n",
            "  inflating: Citrus/Leaves/healthy/42.pn.png  \n",
            "  inflating: Citrus/Leaves/healthy/43.pn.png  \n",
            "  inflating: Citrus/Leaves/healthy/44.pn.png  \n",
            "  inflating: Citrus/Leaves/healthy/45.pn.png  \n",
            "  inflating: Citrus/Leaves/healthy/46.pn.png  \n",
            "  inflating: Citrus/Leaves/healthy/47.pn.png  \n",
            "  inflating: Citrus/Leaves/healthy/48.pn.png  \n",
            "  inflating: Citrus/Leaves/healthy/49.pn.png  \n",
            "  inflating: Citrus/Leaves/healthy/5.png.png  \n",
            "  inflating: Citrus/Leaves/healthy/50.pn.png  \n",
            "  inflating: Citrus/Leaves/healthy/51.pn.png  \n",
            "  inflating: Citrus/Leaves/healthy/52.pn.png  \n",
            "  inflating: Citrus/Leaves/healthy/53.pn.png  \n",
            "  inflating: Citrus/Leaves/healthy/54.pn.png  \n",
            "  inflating: Citrus/Leaves/healthy/55.pn.png  \n",
            "  inflating: Citrus/Leaves/healthy/56.pn.png  \n",
            "  inflating: Citrus/Leaves/healthy/57.pn.png  \n",
            "  inflating: Citrus/Leaves/healthy/58.pn.png  \n",
            "  inflating: Citrus/Leaves/healthy/6.png.png  \n",
            "  inflating: Citrus/Leaves/healthy/7.png.png  \n",
            "  inflating: Citrus/Leaves/healthy/8.png.png  \n",
            "  inflating: Citrus/Leaves/healthy/9.png.png  \n",
            "   creating: Citrus/Leaves/Melanose/\n",
            "  inflating: Citrus/Leaves/Melanose/142.jpg  \n",
            "  inflating: Citrus/Leaves/Melanose/146.jpg  \n",
            "  inflating: Citrus/Leaves/Melanose/32.jpg  \n",
            "  inflating: Citrus/Leaves/Melanose/33.jpg  \n",
            "  inflating: Citrus/Leaves/Melanose/34.jpg  \n",
            "  inflating: Citrus/Leaves/Melanose/38.jpg  \n",
            "  inflating: Citrus/Leaves/Melanose/SAM_3927Catla.jpg  \n",
            "  inflating: Citrus/Leaves/Melanose/SAM_3928Catla.jpg  \n",
            "  inflating: Citrus/Leaves/Melanose/SAM_3929Catla.jpg  \n",
            "  inflating: Citrus/Leaves/Melanose/SAM_3937Catla.jpg  \n",
            "  inflating: Citrus/Leaves/Melanose/SAM_3938Catla.jpg  \n",
            "  inflating: Citrus/Leaves/Melanose/SAM_3941Catla.jpg  \n",
            "  inflating: Citrus/Leaves/Melanose/SAM_4840Catla.jpg  \n"
          ],
          "name": "stdout"
        }
      ]
    },
    {
      "cell_type": "markdown",
      "metadata": {
        "id": "3ws3lz9gMNjZ",
        "colab_type": "text"
      },
      "source": [
        "## import libraries"
      ]
    },
    {
      "cell_type": "code",
      "metadata": {
        "id": "j2ELFuzfYIBi",
        "colab_type": "code",
        "colab": {}
      },
      "source": [
        "import numpy as np # linear algebra\n",
        "import pandas as pd # data processing, CSV file I/O (e.g. pd.read_csv)\n",
        "import matplotlib.pyplot as plt\n"
      ],
      "execution_count": 0,
      "outputs": []
    },
    {
      "cell_type": "code",
      "metadata": {
        "id": "tt4DJeFSUxOH",
        "colab_type": "code",
        "colab": {}
      },
      "source": [
        "from tensorflow.keras.models import Sequential,Model\n",
        "from tensorflow.keras.layers import Activation, Dropout, Flatten, Dense, Conv2D, MaxPool2D, BatchNormalization,Input,MaxPooling2D,GlobalMaxPooling2D,concatenate\n",
        "from tensorflow.keras.layers import GlobalAveragePooling2D\n",
        "from tensorflow.keras.applications.resnet50 import ResNet50\n",
        "from tensorflow.keras.callbacks import ModelCheckpoint,ReduceLROnPlateau\n",
        "from tensorflow.keras.optimizers import Adam\n",
        "import tensorflow.keras.backend as K\n",
        "import tensorflow as tf"
      ],
      "execution_count": 0,
      "outputs": []
    },
    {
      "cell_type": "markdown",
      "metadata": {
        "id": "NHcaPrv3MPp3",
        "colab_type": "text"
      },
      "source": [
        "## data augmentation "
      ]
    },
    {
      "cell_type": "code",
      "metadata": {
        "id": "HLLlRf3FYT-9",
        "colab_type": "code",
        "colab": {}
      },
      "source": [
        "from keras_preprocessing.image import ImageDataGenerator\n",
        "\n",
        "data_gen= ImageDataGenerator(\n",
        "    horizontal_flip=True,\n",
        "    vertical_flip=True,\n",
        "    rotation_range=90,\n",
        "    width_shift_range=0.1,\n",
        "    height_shift_range=0.1,\n",
        "    zoom_range=.1,\n",
        "    rescale=1/255,\n",
        "    fill_mode='nearest',\n",
        "    shear_range=0.1,\n",
        "    brightness_range=[0.5, 1.5],\n",
        "    validation_split=0.3)"
      ],
      "execution_count": 0,
      "outputs": []
    },
    {
      "cell_type": "code",
      "metadata": {
        "id": "89ZpuWkgYZHW",
        "colab_type": "code",
        "colab": {}
      },
      "source": [
        "img_shape=300\n",
        "batch_size=16"
      ],
      "execution_count": 0,
      "outputs": []
    },
    {
      "cell_type": "markdown",
      "metadata": {
        "id": "lZzYvOzARZlM",
        "colab_type": "text"
      },
      "source": [
        "# Leaves"
      ]
    },
    {
      "cell_type": "code",
      "metadata": {
        "id": "EsqIKDdmYa0l",
        "colab_type": "code",
        "outputId": "fa4a3c99-ed98-4404-b033-2aa6d7e4de16",
        "colab": {
          "base_uri": "https://localhost:8080/",
          "height": 33
        }
      },
      "source": [
        "#load the training data\n",
        "leaves_train_generator = data_gen.flow_from_directory(\n",
        "    '/content/Citrus/Leaves',\n",
        "    target_size=(img_shape,img_shape),\n",
        "    batch_size=batch_size,\n",
        "    class_mode='categorical',\n",
        "    subset='training',\n",
        "    shuffle=True)\n"
      ],
      "execution_count": 8,
      "outputs": [
        {
          "output_type": "stream",
          "text": [
            "Found 429 images belonging to 5 classes.\n"
          ],
          "name": "stdout"
        }
      ]
    },
    {
      "cell_type": "code",
      "metadata": {
        "id": "qPAoXFonZ7Pk",
        "colab_type": "code",
        "outputId": "ff0babc6-4c62-4fb0-d780-b6e03eea0c57",
        "colab": {
          "base_uri": "https://localhost:8080/",
          "height": 33
        }
      },
      "source": [
        "#load the training data\n",
        "val_suffle=False\n",
        "leaves_val_generator = data_gen.flow_from_directory(\n",
        "    '/content/Citrus/Leaves',\n",
        "    target_size=(img_shape,img_shape),\n",
        "    batch_size=16,\n",
        "    class_mode='categorical',\n",
        "    subset='validation',shuffle=val_suffle)#shuffle should be False in validation\n",
        "    #https://stackoverflow.com/a/47439789/11170350\n"
      ],
      "execution_count": 9,
      "outputs": [
        {
          "output_type": "stream",
          "text": [
            "Found 180 images belonging to 5 classes.\n"
          ],
          "name": "stdout"
        }
      ]
    },
    {
      "cell_type": "code",
      "metadata": {
        "id": "UQwUaMd7Y1qL",
        "colab_type": "code",
        "outputId": "ca8fbad0-cc7a-438d-e394-a6d42125254d",
        "colab": {
          "base_uri": "https://localhost:8080/",
          "height": 33
        }
      },
      "source": [
        "leaves_train_generator.next()[0].shape,leaves_train_generator.next()[1].shape"
      ],
      "execution_count": 10,
      "outputs": [
        {
          "output_type": "execute_result",
          "data": {
            "text/plain": [
              "((16, 300, 300, 3), (16, 5))"
            ]
          },
          "metadata": {
            "tags": []
          },
          "execution_count": 10
        }
      ]
    },
    {
      "cell_type": "code",
      "metadata": {
        "id": "XwCEKIuz0C1Z",
        "colab_type": "code",
        "outputId": "e7be761d-c1e1-457e-ecfc-d5505bc07193",
        "colab": {
          "base_uri": "https://localhost:8080/",
          "height": 33
        }
      },
      "source": [
        "leaves_val_generator.next()[0].shape,leaves_val_generator.next()[1].shape"
      ],
      "execution_count": 11,
      "outputs": [
        {
          "output_type": "execute_result",
          "data": {
            "text/plain": [
              "((16, 300, 300, 3), (16, 5))"
            ]
          },
          "metadata": {
            "tags": []
          },
          "execution_count": 11
        }
      ]
    },
    {
      "cell_type": "markdown",
      "metadata": {
        "id": "nGyQMzE_uLPJ",
        "colab_type": "text"
      },
      "source": [
        "### Base model"
      ]
    },
    {
      "cell_type": "code",
      "metadata": {
        "id": "knUQBAGIuXLs",
        "colab_type": "code",
        "colab": {}
      },
      "source": [
        ""
      ],
      "execution_count": 0,
      "outputs": []
    },
    {
      "cell_type": "code",
      "metadata": {
        "colab_type": "code",
        "outputId": "9e03b5a2-6e4b-40d9-ed4e-f9b1477c070e",
        "id": "_nJJRGcCuXdK",
        "colab": {
          "base_uri": "https://localhost:8080/",
          "height": 50
        }
      },
      "source": [
        "import efficientnet.tfkeras as efn\n",
        "leaves_model =efn.EfficientNetB4(weights ='noisy-student', include_top=False, input_shape = (img_shape,img_shape,3))\n"
      ],
      "execution_count": 12,
      "outputs": [
        {
          "output_type": "stream",
          "text": [
            "Downloading data from https://github.com/qubvel/efficientnet/releases/download/v0.0.1/efficientnet-b4_noisy-student_notop.h5\n",
            "71680000/71678424 [==============================] - 6s 0us/step\n"
          ],
          "name": "stdout"
        }
      ]
    },
    {
      "cell_type": "code",
      "metadata": {
        "colab_type": "code",
        "id": "Fpuh2ozquXdO",
        "colab": {}
      },
      "source": [
        "x = leaves_model.output\n",
        "x = GlobalAveragePooling2D()(x)\n",
        "x = Dropout(0.3)(x)\n",
        "x = Dense(128, activation=\"relu\")(x)\n",
        "x = Dropout(0.3)(x)\n",
        "x = Dense(64, activation=\"relu\")(x)\n",
        "predictions = Dense(5, activation=\"softmax\")(x)"
      ],
      "execution_count": 0,
      "outputs": []
    },
    {
      "cell_type": "code",
      "metadata": {
        "colab_type": "code",
        "id": "yucbpZ23uXdQ",
        "colab": {}
      },
      "source": [
        "leaves_model = Model(inputs=leaves_model.input, outputs=predictions)"
      ],
      "execution_count": 0,
      "outputs": []
    },
    {
      "cell_type": "code",
      "metadata": {
        "colab_type": "code",
        "id": "aK7Wg-4fuXdR",
        "colab": {}
      },
      "source": [
        "def custom_loss(y_true, y_pred):\n",
        "    return tf.keras.losses.categorical_crossentropy(y_true, y_pred, label_smoothing=0.1)"
      ],
      "execution_count": 0,
      "outputs": []
    },
    {
      "cell_type": "code",
      "metadata": {
        "colab_type": "code",
        "id": "XpIera9DuXdT",
        "colab": {}
      },
      "source": [
        "leaves_model.compile(optimizer='adam', loss=custom_loss, metrics=['accuracy'])"
      ],
      "execution_count": 0,
      "outputs": []
    },
    {
      "cell_type": "code",
      "metadata": {
        "colab_type": "code",
        "outputId": "419afd43-7409-4124-d1cc-ba4461797e63",
        "id": "N7IaH8ROuXdV",
        "colab": {
          "base_uri": "https://localhost:8080/",
          "height": 67
        }
      },
      "source": [
        "\n",
        "trainable_count = np.sum([K.count_params(w) for w in leaves_model.trainable_weights])\n",
        "non_trainable_count = np.sum([K.count_params(w) for w in leaves_model.non_trainable_weights])\n",
        "\n",
        "print('Total params: {:,}'.format(trainable_count + non_trainable_count))\n",
        "print('Trainable params: {:,}'.format(trainable_count))\n",
        "print('Non-trainable params: {:,}'.format(non_trainable_count))"
      ],
      "execution_count": 17,
      "outputs": [
        {
          "output_type": "stream",
          "text": [
            "Total params: 17,911,901\n",
            "Trainable params: 17,786,701\n",
            "Non-trainable params: 125,200\n"
          ],
          "name": "stdout"
        }
      ]
    },
    {
      "cell_type": "code",
      "metadata": {
        "colab_type": "code",
        "outputId": "3ec411ea-bb9d-470c-bc3d-1a3770237c01",
        "id": "LSG-myX4uXdX",
        "colab": {
          "base_uri": "https://localhost:8080/",
          "height": 472
        }
      },
      "source": [
        "results = leaves_model.fit(leaves_train_generator,epochs=15,\n",
        "                              steps_per_epoch=leaves_train_generator.n/batch_size,\n",
        "                              validation_data=leaves_val_generator,\n",
        "                             validation_steps=leaves_val_generator.n/batch_size,\n",
        "                              callbacks=[ReduceLROnPlateau(monitor='val_loss', factor=0.3,patience=2, min_lr=0.000001)])"
      ],
      "execution_count": 0,
      "outputs": [
        {
          "output_type": "stream",
          "text": [
            "Epoch 1/15\n",
            "27/26 [==============================] - 46s 2s/step - loss: 1.0846 - accuracy: 0.6457 - val_loss: 1.3474 - val_accuracy: 0.5167 - lr: 0.0010\n",
            "Epoch 2/15\n",
            "27/26 [==============================] - 40s 1s/step - loss: 0.7906 - accuracy: 0.8368 - val_loss: 1.1324 - val_accuracy: 0.5944 - lr: 0.0010\n",
            "Epoch 3/15\n",
            "27/26 [==============================] - 40s 1s/step - loss: 0.6825 - accuracy: 0.8811 - val_loss: 1.0418 - val_accuracy: 0.6167 - lr: 0.0010\n",
            "Epoch 4/15\n",
            "27/26 [==============================] - 40s 1s/step - loss: 0.6747 - accuracy: 0.8741 - val_loss: 1.8749 - val_accuracy: 0.5333 - lr: 0.0010\n",
            "Epoch 5/15\n",
            "27/26 [==============================] - 40s 1s/step - loss: 0.7097 - accuracy: 0.8741 - val_loss: 1.1298 - val_accuracy: 0.7056 - lr: 0.0010\n",
            "Epoch 6/15\n",
            "27/26 [==============================] - 40s 1s/step - loss: 0.6162 - accuracy: 0.9068 - val_loss: 0.9661 - val_accuracy: 0.7722 - lr: 3.0000e-04\n",
            "Epoch 7/15\n",
            "27/26 [==============================] - 40s 1s/step - loss: 0.6065 - accuracy: 0.9231 - val_loss: 0.8175 - val_accuracy: 0.7944 - lr: 3.0000e-04\n",
            "Epoch 8/15\n",
            "27/26 [==============================] - 40s 1s/step - loss: 0.5371 - accuracy: 0.9487 - val_loss: 1.0701 - val_accuracy: 0.7222 - lr: 3.0000e-04\n",
            "Epoch 9/15\n",
            "27/26 [==============================] - 40s 1s/step - loss: 0.5215 - accuracy: 0.9580 - val_loss: 0.9690 - val_accuracy: 0.7333 - lr: 3.0000e-04\n",
            "Epoch 10/15\n",
            "27/26 [==============================] - 40s 1s/step - loss: 0.5009 - accuracy: 0.9604 - val_loss: 0.9230 - val_accuracy: 0.7500 - lr: 9.0000e-05\n",
            "Epoch 11/15\n",
            "27/26 [==============================] - 40s 1s/step - loss: 0.5513 - accuracy: 0.9207 - val_loss: 0.8667 - val_accuracy: 0.7889 - lr: 9.0000e-05\n",
            "Epoch 12/15\n",
            "27/26 [==============================] - 40s 1s/step - loss: 0.5152 - accuracy: 0.9580 - val_loss: 0.7986 - val_accuracy: 0.8000 - lr: 2.7000e-05\n",
            "Epoch 13/15\n",
            "14/26 [==============>...............] - ETA: 15s - loss: 0.5006 - accuracy: 0.9554"
          ],
          "name": "stdout"
        }
      ]
    },
    {
      "cell_type": "code",
      "metadata": {
        "id": "V3ovS33jMJrE",
        "colab_type": "code",
        "colab": {}
      },
      "source": [
        "\n",
        "plt.plot(results.history['accuracy'])\n",
        "plt.plot(results.history['val_accuracy'])\n",
        "plt.title('leaves_model accuracy ')\n",
        "plt.ylabel('accuracy')\n",
        "plt.xlabel('epoch')\n",
        "plt.legend(['train', 'test'], loc='upper left')\n",
        "plt.show()"
      ],
      "execution_count": 0,
      "outputs": []
    },
    {
      "cell_type": "code",
      "metadata": {
        "colab_type": "code",
        "id": "m5KADpgcuXda",
        "colab": {}
      },
      "source": [
        "\n",
        "plt.plot(results.history['loss'])\n",
        "plt.plot(results.history['val_loss'])\n",
        "plt.title('leaves_model loss')\n",
        "plt.ylabel('loss')\n",
        "plt.xlabel('epoch')\n",
        "plt.legend(['train', 'test'], loc='upper left')\n",
        "plt.show()"
      ],
      "execution_count": 0,
      "outputs": []
    },
    {
      "cell_type": "code",
      "metadata": {
        "colab_type": "code",
        "id": "at7xjzsfuXdc",
        "colab": {}
      },
      "source": [
        "leaves_model.evaluate(leaves_val_generator,steps=leaves_val_generator.n//batch_size)"
      ],
      "execution_count": 0,
      "outputs": []
    },
    {
      "cell_type": "code",
      "metadata": {
        "colab_type": "code",
        "id": "0vnn2CqWuXdd",
        "colab": {}
      },
      "source": [
        "leaves_val_generator.reset()\n",
        "leaves_model.evaluate(leaves_val_generator,steps=leaves_val_generator.n//batch_size)"
      ],
      "execution_count": 0,
      "outputs": []
    },
    {
      "cell_type": "code",
      "metadata": {
        "colab_type": "code",
        "id": "vu1hi9UPuXdf",
        "colab": {}
      },
      "source": [
        "leaves_val_generator.reset()\n",
        "y_pred=leaves_model.predict(leaves_val_generator,steps=leaves_val_generator.n/batch_size,verbose=1)"
      ],
      "execution_count": 0,
      "outputs": []
    },
    {
      "cell_type": "code",
      "metadata": {
        "colab_type": "code",
        "id": "TiLZLyQkuXdh",
        "colab": {}
      },
      "source": [
        "if val_suffle==True:\n",
        "  per = np.random.permutation(leaves_val_generator.n)\n",
        "  leaves_val_generator.index_array = per\n",
        "  y_true = leaves_val_generator.classes[per]\n",
        "else: \n",
        "  y_true = leaves_val_generator.classes"
      ],
      "execution_count": 0,
      "outputs": []
    },
    {
      "cell_type": "code",
      "metadata": {
        "colab_type": "code",
        "id": "m2MTXwv0uXdj",
        "colab": {}
      },
      "source": [
        "y_pred=np.argmax(y_pred, axis=1)"
      ],
      "execution_count": 0,
      "outputs": []
    },
    {
      "cell_type": "code",
      "metadata": {
        "colab_type": "code",
        "id": "-iEQWCe0uXdm",
        "colab": {}
      },
      "source": [
        "y_pred.shape,y_true.shape"
      ],
      "execution_count": 0,
      "outputs": []
    },
    {
      "cell_type": "code",
      "metadata": {
        "colab_type": "code",
        "id": "a1g_Ku5auXdo",
        "colab": {}
      },
      "source": [
        "from sklearn.metrics import classification_report,accuracy_score,f1_score\n",
        "print(accuracy_score(y_true,y_pred))\n",
        "print(f1_score(y_true,y_pred,average='macro'))"
      ],
      "execution_count": 0,
      "outputs": []
    },
    {
      "cell_type": "code",
      "metadata": {
        "colab_type": "code",
        "id": "QlKQtGX7uXdq",
        "colab": {}
      },
      "source": [
        "class_label=list(leaves_train_generator.class_indices.keys())\n",
        "print(classification_report(y_true, y_pred,target_names=class_label))#"
      ],
      "execution_count": 0,
      "outputs": []
    },
    {
      "cell_type": "code",
      "metadata": {
        "id": "bf-7mSW0aKkF",
        "colab_type": "code",
        "colab": {}
      },
      "source": [
        "leaves_model.save('leave_model.h5')"
      ],
      "execution_count": 0,
      "outputs": []
    },
    {
      "cell_type": "markdown",
      "metadata": {
        "id": "ihUjDtt6T4k8",
        "colab_type": "text"
      },
      "source": [
        "# Fruit"
      ]
    },
    {
      "cell_type": "code",
      "metadata": {
        "id": "x13zWgkaT1RV",
        "colab_type": "code",
        "colab": {}
      },
      "source": [
        ""
      ],
      "execution_count": 0,
      "outputs": []
    },
    {
      "cell_type": "code",
      "metadata": {
        "colab_type": "code",
        "id": "BcsMD0xjUFfL",
        "colab": {}
      },
      "source": [
        "#load the training data\n",
        "fruits_train_generator = data_gen.flow_from_directory(\n",
        "    '/content/Citrus/Fruits',\n",
        "    target_size=(img_shape,img_shape),\n",
        "    batch_size=batch_size,\n",
        "    class_mode='categorical',\n",
        "    subset='training',\n",
        "    shuffle=True)\n"
      ],
      "execution_count": 0,
      "outputs": []
    },
    {
      "cell_type": "code",
      "metadata": {
        "colab_type": "code",
        "id": "EBAWOOgGUFfY",
        "colab": {}
      },
      "source": [
        "#load the training data\n",
        "val_suffle=False\n",
        "fruits_val_generator = data_gen.flow_from_directory(\n",
        "    '/content/Citrus/Fruits',\n",
        "    target_size=(img_shape,img_shape),\n",
        "    batch_size=16,\n",
        "    class_mode='categorical',\n",
        "    subset='validation',shuffle=val_suffle)#shuffle should be False in validation\n",
        "    #https://stackoverflow.com/a/47439789/11170350\n"
      ],
      "execution_count": 0,
      "outputs": []
    },
    {
      "cell_type": "code",
      "metadata": {
        "colab_type": "code",
        "id": "NFQtVep-UFfg",
        "colab": {}
      },
      "source": [
        "fruits_train_generator.next()[0].shape,fruits_train_generator.next()[1].shape"
      ],
      "execution_count": 0,
      "outputs": []
    },
    {
      "cell_type": "code",
      "metadata": {
        "colab_type": "code",
        "id": "vRa9_TroUFfn",
        "colab": {}
      },
      "source": [
        "fruits_val_generator.next()[0].shape,fruits_val_generator.next()[1].shape"
      ],
      "execution_count": 0,
      "outputs": []
    },
    {
      "cell_type": "markdown",
      "metadata": {
        "colab_type": "text",
        "id": "xoPWNmIRUFfz"
      },
      "source": [
        "### Base model"
      ]
    },
    {
      "cell_type": "code",
      "metadata": {
        "colab_type": "code",
        "id": "AR290u56UFf0",
        "colab": {}
      },
      "source": [
        ""
      ],
      "execution_count": 0,
      "outputs": []
    },
    {
      "cell_type": "code",
      "metadata": {
        "colab_type": "code",
        "id": "_vnU5PMjUFf6",
        "colab": {}
      },
      "source": [
        "import efficientnet.tfkeras as efn\n",
        "fruit_model =efn.EfficientNetB4(weights ='noisy-student', include_top=False, input_shape = (img_shape,img_shape,3))\n"
      ],
      "execution_count": 0,
      "outputs": []
    },
    {
      "cell_type": "code",
      "metadata": {
        "colab_type": "code",
        "id": "eZu_g86CUFgA",
        "colab": {}
      },
      "source": [
        "x = fruit_model.output\n",
        "x = GlobalAveragePooling2D()(x)\n",
        "x = Dropout(0.3)(x)\n",
        "x = Dense(128, activation=\"relu\")(x)\n",
        "x = Dropout(0.3)(x)\n",
        "x = Dense(64, activation=\"relu\")(x)\n",
        "predictions = Dense(5, activation=\"softmax\")(x)"
      ],
      "execution_count": 0,
      "outputs": []
    },
    {
      "cell_type": "code",
      "metadata": {
        "colab_type": "code",
        "id": "0lomki1MUFgG",
        "colab": {}
      },
      "source": [
        "fruit_model = Model(inputs=fruit_model.input, outputs=predictions)"
      ],
      "execution_count": 0,
      "outputs": []
    },
    {
      "cell_type": "code",
      "metadata": {
        "colab_type": "code",
        "id": "cT_FjomXUFgL",
        "colab": {}
      },
      "source": [
        "def custom_loss(y_true, y_pred):\n",
        "    return tf.keras.losses.categorical_crossentropy(y_true, y_pred, label_smoothing=0.1)"
      ],
      "execution_count": 0,
      "outputs": []
    },
    {
      "cell_type": "code",
      "metadata": {
        "colab_type": "code",
        "id": "w30C5sSdUFgR",
        "colab": {}
      },
      "source": [
        "fruit_model.compile(optimizer='adam', loss=custom_loss, metrics=['accuracy'])"
      ],
      "execution_count": 0,
      "outputs": []
    },
    {
      "cell_type": "code",
      "metadata": {
        "colab_type": "code",
        "id": "EKtcLWg1UFgX",
        "colab": {}
      },
      "source": [
        "\n",
        "trainable_count = np.sum([K.count_params(w) for w in fruit_model.trainable_weights])\n",
        "non_trainable_count = np.sum([K.count_params(w) for w in fruit_model.non_trainable_weights])\n",
        "\n",
        "print('Total params: {:,}'.format(trainable_count + non_trainable_count))\n",
        "print('Trainable params: {:,}'.format(trainable_count))\n",
        "print('Non-trainable params: {:,}'.format(non_trainable_count))"
      ],
      "execution_count": 0,
      "outputs": []
    },
    {
      "cell_type": "code",
      "metadata": {
        "colab_type": "code",
        "id": "j0AwtC07UFgd",
        "colab": {}
      },
      "source": [
        "results = fruit_model.fit(fruits_train_generator,epochs=15,\n",
        "                              steps_per_epoch=fruits_train_generator.n/batch_size,\n",
        "                              validation_data=fruits_val_generator,\n",
        "                             validation_steps=fruits_val_generator.n/batch_size,\n",
        "                              callbacks=[ReduceLROnPlateau(monitor='val_loss', factor=0.3,patience=2, min_lr=0.000001)])"
      ],
      "execution_count": 0,
      "outputs": []
    },
    {
      "cell_type": "code",
      "metadata": {
        "colab_type": "code",
        "id": "jeZz-e9uUFgk",
        "colab": {}
      },
      "source": [
        "\n",
        "plt.plot(results.history['accuracy'])\n",
        "plt.plot(results.history['val_accuracy'])\n",
        "plt.title('fruit_model accuracy ')\n",
        "plt.ylabel('accuracy')\n",
        "plt.xlabel('epoch')\n",
        "plt.legend(['train', 'test'], loc='upper left')\n",
        "plt.show()"
      ],
      "execution_count": 0,
      "outputs": []
    },
    {
      "cell_type": "code",
      "metadata": {
        "colab_type": "code",
        "id": "9gwkXDL3UFgo",
        "colab": {}
      },
      "source": [
        "\n",
        "plt.plot(results.history['loss'])\n",
        "plt.plot(results.history['val_loss'])\n",
        "plt.title('fruit_model loss')\n",
        "plt.ylabel('loss')\n",
        "plt.xlabel('epoch')\n",
        "plt.legend(['train', 'test'], loc='upper left')\n",
        "plt.show()"
      ],
      "execution_count": 0,
      "outputs": []
    },
    {
      "cell_type": "code",
      "metadata": {
        "colab_type": "code",
        "id": "BkoOClMcUFgt",
        "colab": {}
      },
      "source": [
        "fruit_model.evaluate(fruits_val_generator,steps=fruits_val_generator.n//batch_size)"
      ],
      "execution_count": 0,
      "outputs": []
    },
    {
      "cell_type": "code",
      "metadata": {
        "colab_type": "code",
        "id": "GtvbMVFpUFgx",
        "colab": {}
      },
      "source": [
        "fruits_val_generator.reset()\n",
        "fruit_model.evaluate(fruits_val_generator,steps=fruits_val_generator.n//batch_size)"
      ],
      "execution_count": 0,
      "outputs": []
    },
    {
      "cell_type": "code",
      "metadata": {
        "colab_type": "code",
        "id": "FJqkQn9jUFg2",
        "colab": {}
      },
      "source": [
        "fruits_val_generator.reset()\n",
        "y_pred=fruit_model.predict(fruits_val_generator,steps=fruits_val_generator.n/batch_size,verbose=1)"
      ],
      "execution_count": 0,
      "outputs": []
    },
    {
      "cell_type": "code",
      "metadata": {
        "colab_type": "code",
        "id": "68MmA8FNUFg6",
        "colab": {}
      },
      "source": [
        "if val_suffle==True:\n",
        "  per = np.random.permutation(fruits_val_generator.n)\n",
        "  fruits_val_generator.index_array = per\n",
        "  y_true = fruits_val_generator.classes[per]\n",
        "else: \n",
        "  y_true = fruits_val_generator.classes"
      ],
      "execution_count": 0,
      "outputs": []
    },
    {
      "cell_type": "code",
      "metadata": {
        "colab_type": "code",
        "id": "XOhTpQICUFg-",
        "colab": {}
      },
      "source": [
        "y_pred=np.argmax(y_pred, axis=1)"
      ],
      "execution_count": 0,
      "outputs": []
    },
    {
      "cell_type": "code",
      "metadata": {
        "colab_type": "code",
        "id": "B3eXupHuUFhC",
        "colab": {}
      },
      "source": [
        "y_pred.shape,y_true.shape"
      ],
      "execution_count": 0,
      "outputs": []
    },
    {
      "cell_type": "code",
      "metadata": {
        "colab_type": "code",
        "id": "MChmTDtjUFhG",
        "colab": {}
      },
      "source": [
        "from sklearn.metrics import classification_report,accuracy_score,f1_score\n",
        "print(accuracy_score(y_true,y_pred))\n",
        "print(f1_score(y_true,y_pred,average='macro'))"
      ],
      "execution_count": 0,
      "outputs": []
    },
    {
      "cell_type": "code",
      "metadata": {
        "colab_type": "code",
        "id": "Sb1oOUBQUFhK",
        "colab": {}
      },
      "source": [
        "class_label=list(fruits_train_generator.class_indices.keys())\n",
        "print(classification_report(y_true, y_pred,target_names=class_label))#"
      ],
      "execution_count": 0,
      "outputs": []
    },
    {
      "cell_type": "code",
      "metadata": {
        "id": "SEVR5zSxY9xG",
        "colab_type": "code",
        "colab": {}
      },
      "source": [
        ""
      ],
      "execution_count": 0,
      "outputs": []
    },
    {
      "cell_type": "markdown",
      "metadata": {
        "id": "v7nTR9cdVXL6",
        "colab_type": "text"
      },
      "source": [
        "# Model Transfer\n",
        "Leave model to Fruit model"
      ]
    },
    {
      "cell_type": "code",
      "metadata": {
        "id": "j5pEMwFmVdR-",
        "colab_type": "code",
        "colab": {}
      },
      "source": [
        ""
      ],
      "execution_count": 0,
      "outputs": []
    },
    {
      "cell_type": "code",
      "metadata": {
        "colab_type": "code",
        "id": "hBPREPnQZxn6",
        "colab": {}
      },
      "source": [
        "import efficientnet.tfkeras as efn\n",
        "leave2fruit =efn.EfficientNetB4(weights =None, include_top=False, input_shape = (img_shape,img_shape,3))\n"
      ],
      "execution_count": 0,
      "outputs": []
    },
    {
      "cell_type": "code",
      "metadata": {
        "colab_type": "code",
        "id": "XA6nGWjMZxoH",
        "colab": {}
      },
      "source": [
        "x = leave2fruit.output\n",
        "x = GlobalAveragePooling2D()(x)\n",
        "x = Dropout(0.3)(x)\n",
        "x = Dense(128, activation=\"relu\")(x)\n",
        "x = Dropout(0.3)(x)\n",
        "x = Dense(64, activation=\"relu\")(x)\n",
        "predictions = Dense(5, activation=\"softmax\")(x)"
      ],
      "execution_count": 0,
      "outputs": []
    },
    {
      "cell_type": "code",
      "metadata": {
        "colab_type": "code",
        "id": "KE7mTYoiZxoL",
        "colab": {}
      },
      "source": [
        "leave2fruit = Model(inputs=leave2fruit.input, outputs=predictions)"
      ],
      "execution_count": 0,
      "outputs": []
    },
    {
      "cell_type": "code",
      "metadata": {
        "colab_type": "code",
        "id": "G9x8QGshZxoP",
        "colab": {}
      },
      "source": [
        "def custom_loss(y_true, y_pred):\n",
        "    return tf.keras.losses.categorical_crossentropy(y_true, y_pred, label_smoothing=0.1)"
      ],
      "execution_count": 0,
      "outputs": []
    },
    {
      "cell_type": "code",
      "metadata": {
        "colab_type": "code",
        "id": "VBuieO3NZxoT",
        "colab": {}
      },
      "source": [
        "leave2fruit.compile(optimizer=Adam(0.0001), loss=custom_loss, metrics=['accuracy'])"
      ],
      "execution_count": 0,
      "outputs": []
    },
    {
      "cell_type": "code",
      "metadata": {
        "id": "92aVc63EabCK",
        "colab_type": "code",
        "colab": {}
      },
      "source": [
        "leave2fruit.load_weights('leave_model.h5')"
      ],
      "execution_count": 0,
      "outputs": []
    },
    {
      "cell_type": "code",
      "metadata": {
        "colab_type": "code",
        "id": "MmgocnW9ZxoW",
        "colab": {}
      },
      "source": [
        "\n",
        "trainable_count = np.sum([K.count_params(w) for w in leave2fruit.trainable_weights])\n",
        "non_trainable_count = np.sum([K.count_params(w) for w in leave2fruit.non_trainable_weights])\n",
        "\n",
        "print('Total params: {:,}'.format(trainable_count + non_trainable_count))\n",
        "print('Trainable params: {:,}'.format(trainable_count))\n",
        "print('Non-trainable params: {:,}'.format(non_trainable_count))"
      ],
      "execution_count": 0,
      "outputs": []
    },
    {
      "cell_type": "code",
      "metadata": {
        "colab_type": "code",
        "id": "w0orirtxZxoc",
        "colab": {}
      },
      "source": [
        "results = leave2fruit.fit(fruits_train_generator,epochs=15,\n",
        "                              steps_per_epoch=fruits_train_generator.n/batch_size,\n",
        "                              validation_data=fruits_val_generator,\n",
        "                             validation_steps=fruits_val_generator.n/batch_size,\n",
        "                              callbacks=[ReduceLROnPlateau(monitor='val_loss', factor=0.2,patience=2, min_lr=0.000001)])"
      ],
      "execution_count": 0,
      "outputs": []
    },
    {
      "cell_type": "code",
      "metadata": {
        "colab_type": "code",
        "id": "J9TNKD2XZxog",
        "colab": {}
      },
      "source": [
        "\n",
        "plt.plot(results.history['accuracy'])\n",
        "plt.plot(results.history['val_accuracy'])\n",
        "plt.title('leave2fruit accuracy ')\n",
        "plt.ylabel('accuracy')\n",
        "plt.xlabel('epoch')\n",
        "plt.legend(['train', 'test'], loc='upper left')\n",
        "plt.show()"
      ],
      "execution_count": 0,
      "outputs": []
    },
    {
      "cell_type": "code",
      "metadata": {
        "colab_type": "code",
        "id": "DZ7F0yqoZxok",
        "colab": {}
      },
      "source": [
        "\n",
        "plt.plot(results.history['loss'])\n",
        "plt.plot(results.history['val_loss'])\n",
        "plt.title('leave2fruit loss')\n",
        "plt.ylabel('loss')\n",
        "plt.xlabel('epoch')\n",
        "plt.legend(['train', 'test'], loc='upper left')\n",
        "plt.show()"
      ],
      "execution_count": 0,
      "outputs": []
    },
    {
      "cell_type": "code",
      "metadata": {
        "colab_type": "code",
        "id": "dAvbarSxZxoo",
        "colab": {}
      },
      "source": [
        "leave2fruit.evaluate(fruits_val_generator,steps=fruits_val_generator.n//batch_size)"
      ],
      "execution_count": 0,
      "outputs": []
    },
    {
      "cell_type": "code",
      "metadata": {
        "colab_type": "code",
        "id": "0qa5l6yqZxos",
        "colab": {}
      },
      "source": [
        "fruits_val_generator.reset()\n",
        "leave2fruit.evaluate(fruits_val_generator,steps=fruits_val_generator.n//batch_size)"
      ],
      "execution_count": 0,
      "outputs": []
    },
    {
      "cell_type": "code",
      "metadata": {
        "colab_type": "code",
        "id": "eC9OvvaBZxow",
        "colab": {}
      },
      "source": [
        "fruits_val_generator.reset()\n",
        "y_pred=leave2fruit.predict(fruits_val_generator,steps=fruits_val_generator.n/batch_size,verbose=1)"
      ],
      "execution_count": 0,
      "outputs": []
    },
    {
      "cell_type": "code",
      "metadata": {
        "colab_type": "code",
        "id": "Y0D0_g8oZxo0",
        "colab": {}
      },
      "source": [
        "if val_suffle==True:\n",
        "  per = np.random.permutation(fruits_val_generator.n)\n",
        "  fruits_val_generator.index_array = per\n",
        "  y_true = fruits_val_generator.classes[per]\n",
        "else: \n",
        "  y_true = fruits_val_generator.classes"
      ],
      "execution_count": 0,
      "outputs": []
    },
    {
      "cell_type": "code",
      "metadata": {
        "colab_type": "code",
        "id": "e4-J06W5Zxo4",
        "colab": {}
      },
      "source": [
        "y_pred=np.argmax(y_pred, axis=1)"
      ],
      "execution_count": 0,
      "outputs": []
    },
    {
      "cell_type": "code",
      "metadata": {
        "colab_type": "code",
        "id": "8YCmwzP5Zxo-",
        "colab": {}
      },
      "source": [
        "y_pred.shape,y_true.shape"
      ],
      "execution_count": 0,
      "outputs": []
    },
    {
      "cell_type": "code",
      "metadata": {
        "colab_type": "code",
        "id": "8xb7ub4uZxpD",
        "colab": {}
      },
      "source": [
        "from sklearn.metrics import classification_report,accuracy_score,f1_score\n",
        "print(accuracy_score(y_true,y_pred))\n",
        "print(f1_score(y_true,y_pred,average='macro'))"
      ],
      "execution_count": 0,
      "outputs": []
    },
    {
      "cell_type": "code",
      "metadata": {
        "colab_type": "code",
        "id": "1HXaNAmFZxpH",
        "colab": {}
      },
      "source": [
        "class_label=list(fruits_train_generator.class_indices.keys())\n",
        "print(classification_report(y_true, y_pred,target_names=class_label))#"
      ],
      "execution_count": 0,
      "outputs": []
    },
    {
      "cell_type": "code",
      "metadata": {
        "colab_type": "code",
        "id": "0lYXLQK8ZxpL",
        "colab": {}
      },
      "source": [
        ""
      ],
      "execution_count": 0,
      "outputs": []
    },
    {
      "cell_type": "markdown",
      "metadata": {
        "colab_type": "text",
        "id": "-FZ5wHZHZxpQ"
      },
      "source": [
        "# Model Transfer\n",
        "Leave model to Fruit model"
      ]
    }
  ]
}