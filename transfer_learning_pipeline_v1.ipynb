{
  "nbformat": 4,
  "nbformat_minor": 0,
  "metadata": {
    "colab": {
      "name": "Copy of transfer learning pipeline.ipynb",
      "provenance": [],
      "collapsed_sections": [],
      "include_colab_link": true
    },
    "kernelspec": {
      "name": "python3",
      "display_name": "Python 3"
    },
    "accelerator": "GPU"
  },
  "cells": [
    {
      "cell_type": "markdown",
      "metadata": {
        "id": "view-in-github",
        "colab_type": "text"
      },
      "source": [
        "<a href=\"https://colab.research.google.com/github/talhaanwarch/Plant-Leaf-Disease-Classification/blob/master/transfer_learning_pipeline_v1.ipynb\" target=\"_parent\"><img src=\"https://colab.research.google.com/assets/colab-badge.svg\" alt=\"Open In Colab\"/></a>"
      ]
    },
    {
      "cell_type": "markdown",
      "metadata": {
        "id": "xRWmuf4YMBuD",
        "colab_type": "text"
      },
      "source": [
        "### download data"
      ]
    },
    {
      "cell_type": "code",
      "metadata": {
        "id": "-gDgFJrtX3fI",
        "colab_type": "code",
        "outputId": "43b87966-ba28-4069-c547-82c70c431a12",
        "colab": {
          "base_uri": "https://localhost:8080/",
          "height": 284
        }
      },
      "source": [
        "!wget https://data.mendeley.com/datasets/3f83gxmv57/2/files/53398b67-6f0e-4a67-8384-e2b574b2ebf4/Citrus.zip"
      ],
      "execution_count": 1,
      "outputs": [
        {
          "output_type": "stream",
          "text": [
            "--2020-04-01 01:05:20--  https://data.mendeley.com/datasets/3f83gxmv57/2/files/53398b67-6f0e-4a67-8384-e2b574b2ebf4/Citrus.zip\n",
            "Resolving data.mendeley.com (data.mendeley.com)... 162.159.130.86, 162.159.133.86, 2606:4700:7::a29f:8256, ...\n",
            "Connecting to data.mendeley.com (data.mendeley.com)|162.159.130.86|:443... connected.\n",
            "HTTP request sent, awaiting response... 302 Found\n",
            "Location: https://md-datasets-public-files-prod.s3.eu-west-1.amazonaws.com/ad404a4d-cedf-4830-8a11-0fc204ce8acb [following]\n",
            "--2020-04-01 01:05:21--  https://md-datasets-public-files-prod.s3.eu-west-1.amazonaws.com/ad404a4d-cedf-4830-8a11-0fc204ce8acb\n",
            "Resolving md-datasets-public-files-prod.s3.eu-west-1.amazonaws.com (md-datasets-public-files-prod.s3.eu-west-1.amazonaws.com)... 52.218.37.152\n",
            "Connecting to md-datasets-public-files-prod.s3.eu-west-1.amazonaws.com (md-datasets-public-files-prod.s3.eu-west-1.amazonaws.com)|52.218.37.152|:443... connected.\n",
            "HTTP request sent, awaiting response... 200 OK\n",
            "Length: 66977095 (64M) [application/x-zip-compressed]\n",
            "Saving to: ‘Citrus.zip’\n",
            "\n",
            "Citrus.zip          100%[===================>]  63.87M   110MB/s    in 0.6s    \n",
            "\n",
            "2020-04-01 01:05:22 (110 MB/s) - ‘Citrus.zip’ saved [66977095/66977095]\n",
            "\n"
          ],
          "name": "stdout"
        }
      ]
    },
    {
      "cell_type": "markdown",
      "metadata": {
        "id": "T-6uWVJNMKAT",
        "colab_type": "text"
      },
      "source": [
        "### unzip donwloaded dataset"
      ]
    },
    {
      "cell_type": "code",
      "metadata": {
        "id": "B6jS6iFbYA_f",
        "colab_type": "code",
        "outputId": "e067451e-05b0-46b7-91c4-5a634706e9cd",
        "colab": {
          "base_uri": "https://localhost:8080/",
          "height": 1000
        }
      },
      "source": [
        "!unzip /content/Citrus.zip"
      ],
      "execution_count": 2,
      "outputs": [
        {
          "output_type": "stream",
          "text": [
            "Archive:  /content/Citrus.zip\n",
            "   creating: Citrus/\n",
            "   creating: Citrus/Fruits/\n",
            "   creating: Citrus/Fruits/Black spot/\n",
            "  inflating: Citrus/Fruits/Black spot/Black spot (1).jpg  \n",
            "  inflating: Citrus/Fruits/Black spot/Black spot (10).jpg  \n",
            "  inflating: Citrus/Fruits/Black spot/Black spot (11).jpg  \n",
            "  inflating: Citrus/Fruits/Black spot/Black spot (12).jpg  \n",
            "  inflating: Citrus/Fruits/Black spot/Black spot (13).jpg  \n",
            "  inflating: Citrus/Fruits/Black spot/Black spot (14).jpg  \n",
            "  inflating: Citrus/Fruits/Black spot/Black spot (15).jpg  \n",
            "  inflating: Citrus/Fruits/Black spot/Black spot (16).jpg  \n",
            "  inflating: Citrus/Fruits/Black spot/Black spot (17).jpg  \n",
            "  inflating: Citrus/Fruits/Black spot/Black spot (18).jpg  \n",
            "  inflating: Citrus/Fruits/Black spot/Black spot (19).jpg  \n",
            "  inflating: Citrus/Fruits/Black spot/Black spot (2).jpg  \n",
            "  inflating: Citrus/Fruits/Black spot/Black spot (3).jpg  \n",
            "  inflating: Citrus/Fruits/Black spot/Black spot (4).jpg  \n",
            "  inflating: Citrus/Fruits/Black spot/Black spot (5).jpg  \n",
            "  inflating: Citrus/Fruits/Black spot/Black spot (6).jpg  \n",
            "  inflating: Citrus/Fruits/Black spot/Black spot (7).jpg  \n",
            "  inflating: Citrus/Fruits/Black spot/Black spot (8).jpg  \n",
            "  inflating: Citrus/Fruits/Black spot/Black spot (9).jpg  \n",
            "   creating: Citrus/Fruits/Canker/\n",
            "  inflating: Citrus/Fruits/Canker/Canker (1).jpg  \n",
            "  inflating: Citrus/Fruits/Canker/Canker (100).jpg  \n",
            "  inflating: Citrus/Fruits/Canker/Canker (101).jpg  \n",
            "  inflating: Citrus/Fruits/Canker/Canker (102).jpg  \n",
            "  inflating: Citrus/Fruits/Canker/Canker (103).jpg  \n",
            "  inflating: Citrus/Fruits/Canker/Canker (104).jpg  \n",
            "  inflating: Citrus/Fruits/Canker/Canker (105).jpg  \n",
            "  inflating: Citrus/Fruits/Canker/Canker (106).jpg  \n",
            "  inflating: Citrus/Fruits/Canker/Canker (107).jpg  \n",
            "  inflating: Citrus/Fruits/Canker/Canker (108).jpg  \n",
            "  inflating: Citrus/Fruits/Canker/Canker (109).jpg  \n",
            "  inflating: Citrus/Fruits/Canker/Canker (110).jpg  \n",
            "  inflating: Citrus/Fruits/Canker/Canker (111).jpg  \n",
            "  inflating: Citrus/Fruits/Canker/Canker (112).jpg  \n",
            "  inflating: Citrus/Fruits/Canker/Canker (113).jpg  \n",
            "  inflating: Citrus/Fruits/Canker/Canker (114).jpg  \n",
            "  inflating: Citrus/Fruits/Canker/Canker (115).jpg  \n",
            "  inflating: Citrus/Fruits/Canker/Canker (116).jpg  \n",
            "  inflating: Citrus/Fruits/Canker/Canker (117).jpg  \n",
            "  inflating: Citrus/Fruits/Canker/Canker (118).jpg  \n",
            "  inflating: Citrus/Fruits/Canker/Canker (119).jpg  \n",
            "  inflating: Citrus/Fruits/Canker/Canker (120).jpg  \n",
            "  inflating: Citrus/Fruits/Canker/Canker (121).jpg  \n",
            "  inflating: Citrus/Fruits/Canker/Canker (122).jpg  \n",
            "  inflating: Citrus/Fruits/Canker/Canker (123).jpg  \n",
            "  inflating: Citrus/Fruits/Canker/Canker (124).jpg  \n",
            "  inflating: Citrus/Fruits/Canker/Canker (125).jpg  \n",
            "  inflating: Citrus/Fruits/Canker/Canker (49).jpg  \n",
            "  inflating: Citrus/Fruits/Canker/Canker (50).jpg  \n",
            "  inflating: Citrus/Fruits/Canker/Canker (51).jpg  \n",
            "  inflating: Citrus/Fruits/Canker/Canker (52).jpg  \n",
            "  inflating: Citrus/Fruits/Canker/Canker (53).jpg  \n",
            "  inflating: Citrus/Fruits/Canker/Canker (54).jpg  \n",
            "  inflating: Citrus/Fruits/Canker/Canker (55).jpg  \n",
            "  inflating: Citrus/Fruits/Canker/Canker (56).jpg  \n",
            "  inflating: Citrus/Fruits/Canker/Canker (57).jpg  \n",
            "  inflating: Citrus/Fruits/Canker/Canker (58).jpg  \n",
            "  inflating: Citrus/Fruits/Canker/Canker (59).jpg  \n",
            "  inflating: Citrus/Fruits/Canker/Canker (60).jpg  \n",
            "  inflating: Citrus/Fruits/Canker/Canker (61).JPG  \n",
            "  inflating: Citrus/Fruits/Canker/Canker (62).jpg  \n",
            "  inflating: Citrus/Fruits/Canker/Canker (63).jpg  \n",
            "  inflating: Citrus/Fruits/Canker/Canker (64).jpg  \n",
            "  inflating: Citrus/Fruits/Canker/Canker (65).jpg  \n",
            "  inflating: Citrus/Fruits/Canker/Canker (66).jpg  \n",
            "  inflating: Citrus/Fruits/Canker/Canker (67).jpg  \n",
            "  inflating: Citrus/Fruits/Canker/Canker (68).jpg  \n",
            "  inflating: Citrus/Fruits/Canker/Canker (69).jpg  \n",
            "  inflating: Citrus/Fruits/Canker/Canker (70).jpg  \n",
            "  inflating: Citrus/Fruits/Canker/Canker (71).jpg  \n",
            "  inflating: Citrus/Fruits/Canker/Canker (72).jpg  \n",
            "  inflating: Citrus/Fruits/Canker/Canker (73).jpg  \n",
            "  inflating: Citrus/Fruits/Canker/Canker (74).jpg  \n",
            "  inflating: Citrus/Fruits/Canker/Canker (75).jpg  \n",
            "  inflating: Citrus/Fruits/Canker/Canker (76).jpg  \n",
            "  inflating: Citrus/Fruits/Canker/Canker (77).jpg  \n",
            "  inflating: Citrus/Fruits/Canker/Canker (78).jpg  \n",
            "  inflating: Citrus/Fruits/Canker/Canker (79).jpg  \n",
            "  inflating: Citrus/Fruits/Canker/Canker (80).jpg  \n",
            "  inflating: Citrus/Fruits/Canker/Canker (81).jpg  \n",
            "  inflating: Citrus/Fruits/Canker/Canker (82).jpg  \n",
            "  inflating: Citrus/Fruits/Canker/Canker (83).jpg  \n",
            "  inflating: Citrus/Fruits/Canker/Canker (84).jpg  \n",
            "  inflating: Citrus/Fruits/Canker/Canker (85).jpg  \n",
            "  inflating: Citrus/Fruits/Canker/Canker (86).jpg  \n",
            "  inflating: Citrus/Fruits/Canker/Canker (87).jpg  \n",
            "  inflating: Citrus/Fruits/Canker/Canker (88).jpg  \n",
            "  inflating: Citrus/Fruits/Canker/Canker (89).jpg  \n",
            "  inflating: Citrus/Fruits/Canker/Canker (90).jpg  \n",
            "  inflating: Citrus/Fruits/Canker/Canker (91).jpg  \n",
            "  inflating: Citrus/Fruits/Canker/Canker (92).jpg  \n",
            "  inflating: Citrus/Fruits/Canker/Canker (93).jpg  \n",
            "  inflating: Citrus/Fruits/Canker/Canker (94).jpg  \n",
            "  inflating: Citrus/Fruits/Canker/Canker (95).jpg  \n",
            "  inflating: Citrus/Fruits/Canker/Canker (96).jpg  \n",
            "  inflating: Citrus/Fruits/Canker/Canker (97).jpg  \n",
            "  inflating: Citrus/Fruits/Canker/Canker (98).jpg  \n",
            "  inflating: Citrus/Fruits/Canker/Canker (99).jpg  \n",
            "   creating: Citrus/Fruits/Greening/\n",
            "  inflating: Citrus/Fruits/Greening/Greening (1).jpeg  \n",
            "  inflating: Citrus/Fruits/Greening/Greening (1).jpg  \n",
            "  inflating: Citrus/Fruits/Greening/Greening (10).jpg  \n",
            "  inflating: Citrus/Fruits/Greening/Greening (11).jpg  \n",
            "  inflating: Citrus/Fruits/Greening/Greening (12).jpg  \n",
            "  inflating: Citrus/Fruits/Greening/Greening (13).jpg  \n",
            "  inflating: Citrus/Fruits/Greening/Greening (14).jpg  \n",
            "  inflating: Citrus/Fruits/Greening/Greening (15).jpg  \n",
            "  inflating: Citrus/Fruits/Greening/Greening (2).jpg  \n",
            "  inflating: Citrus/Fruits/Greening/Greening (3).jpg  \n",
            "  inflating: Citrus/Fruits/Greening/Greening (4).jpg  \n",
            "  inflating: Citrus/Fruits/Greening/Greening (5).jpg  \n",
            "  inflating: Citrus/Fruits/Greening/Greening (6).jpg  \n",
            "  inflating: Citrus/Fruits/Greening/Greening (7).jpg  \n",
            "  inflating: Citrus/Fruits/Greening/Greening (8).jpg  \n",
            "  inflating: Citrus/Fruits/Greening/Greening (9).jpg  \n",
            "   creating: Citrus/Fruits/healthy/\n",
            "  inflating: Citrus/Fruits/healthy/Healthy (1).jpg  \n",
            "  inflating: Citrus/Fruits/healthy/Healthy (10).jpg  \n",
            "  inflating: Citrus/Fruits/healthy/Healthy (11).jpg  \n",
            "  inflating: Citrus/Fruits/healthy/Healthy (12).jpg  \n",
            "  inflating: Citrus/Fruits/healthy/Healthy (13).jpg  \n",
            "  inflating: Citrus/Fruits/healthy/Healthy (14).jpg  \n",
            "  inflating: Citrus/Fruits/healthy/Healthy (15).jpg  \n",
            "  inflating: Citrus/Fruits/healthy/Healthy (16).jpg  \n",
            "  inflating: Citrus/Fruits/healthy/Healthy (17).jpg  \n",
            "  inflating: Citrus/Fruits/healthy/Healthy (18).jpg  \n",
            "  inflating: Citrus/Fruits/healthy/Healthy (19).jpg  \n",
            "  inflating: Citrus/Fruits/healthy/Healthy (2).jpg  \n",
            "  inflating: Citrus/Fruits/healthy/Healthy (20).jpg  \n",
            "  inflating: Citrus/Fruits/healthy/Healthy (21).jpg  \n",
            "  inflating: Citrus/Fruits/healthy/Healthy (22).jpg  \n",
            "  inflating: Citrus/Fruits/healthy/Healthy (3).jpg  \n",
            "  inflating: Citrus/Fruits/healthy/Healthy (4).jpg  \n",
            "  inflating: Citrus/Fruits/healthy/Healthy (5).jpg  \n",
            "  inflating: Citrus/Fruits/healthy/Healthy (6).jpg  \n",
            "  inflating: Citrus/Fruits/healthy/Healthy (7).jpg  \n",
            "  inflating: Citrus/Fruits/healthy/Healthy (8).jpg  \n",
            "  inflating: Citrus/Fruits/healthy/Healthy (9).jpg  \n",
            "   creating: Citrus/Fruits/Scab/\n",
            "  inflating: Citrus/Fruits/Scab/16Catla.jpg  \n",
            "  inflating: Citrus/Fruits/Scab/170.jpg  \n",
            "  inflating: Citrus/Fruits/Scab/17Catla.jpg  \n",
            "  inflating: Citrus/Fruits/Scab/18Catla.jpg  \n",
            "  inflating: Citrus/Fruits/Scab/51.jpg  \n",
            "  inflating: Citrus/Fruits/Scab/51Catla.jpg  \n",
            "  inflating: Citrus/Fruits/Scab/52.jpg  \n",
            "  inflating: Citrus/Fruits/Scab/52Catla.jpg  \n",
            "  inflating: Citrus/Fruits/Scab/53.jpg  \n",
            "  inflating: Citrus/Fruits/Scab/53Catla.jpg  \n",
            "  inflating: Citrus/Fruits/Scab/54.jpg  \n",
            "  inflating: Citrus/Fruits/Scab/54Catla.jpg  \n",
            "  inflating: Citrus/Fruits/Scab/55.jpg  \n",
            "  inflating: Citrus/Fruits/Scab/55Catla.jpg  \n",
            "  inflating: Citrus/Fruits/Scab/56Catla.jpg  \n",
            "   creating: Citrus/Leaves/\n",
            "   creating: Citrus/Leaves/Black spot/\n",
            "  inflating: Citrus/Leaves/Black spot/74.jpg  \n",
            "  inflating: Citrus/Leaves/Black spot/78.jpg  \n",
            "  inflating: Citrus/Leaves/Black spot/b (11).png  \n",
            "  inflating: Citrus/Leaves/Black spot/b (126).png  \n",
            "  inflating: Citrus/Leaves/Black spot/b (131).png  \n",
            "  inflating: Citrus/Leaves/Black spot/b (134).png  \n",
            "  inflating: Citrus/Leaves/Black spot/b (139).png  \n",
            "  inflating: Citrus/Leaves/Black spot/b (14).png  \n",
            "  inflating: Citrus/Leaves/Black spot/b (140).png  \n",
            "  inflating: Citrus/Leaves/Black spot/b (142).png  \n",
            "  inflating: Citrus/Leaves/Black spot/b (144).png  \n",
            "  inflating: Citrus/Leaves/Black spot/b (145).png  \n",
            "  inflating: Citrus/Leaves/Black spot/b (146).png  \n",
            "  inflating: Citrus/Leaves/Black spot/b (148).png  \n",
            "  inflating: Citrus/Leaves/Black spot/b (150).png  \n",
            "  inflating: Citrus/Leaves/Black spot/b (151).png  \n",
            "  inflating: Citrus/Leaves/Black spot/b (152).png  \n",
            "  inflating: Citrus/Leaves/Black spot/b (154).png  \n",
            "  inflating: Citrus/Leaves/Black spot/b (155).png  \n",
            "  inflating: Citrus/Leaves/Black spot/b (156).png  \n",
            "  inflating: Citrus/Leaves/Black spot/b (157).png  \n",
            "  inflating: Citrus/Leaves/Black spot/b (158).png  \n",
            "  inflating: Citrus/Leaves/Black spot/b (160).png  \n",
            "  inflating: Citrus/Leaves/Black spot/b (161).png  \n",
            "  inflating: Citrus/Leaves/Black spot/b (162).png  \n",
            "  inflating: Citrus/Leaves/Black spot/b (163).png  \n",
            "  inflating: Citrus/Leaves/Black spot/b (164).png  \n",
            "  inflating: Citrus/Leaves/Black spot/b (165).png  \n",
            "  inflating: Citrus/Leaves/Black spot/b (166).png  \n",
            "  inflating: Citrus/Leaves/Black spot/b (167).png  \n",
            "  inflating: Citrus/Leaves/Black spot/b (168).png  \n",
            "  inflating: Citrus/Leaves/Black spot/b (169).png  \n",
            "  inflating: Citrus/Leaves/Black spot/b (170).png  \n",
            "  inflating: Citrus/Leaves/Black spot/b (172).png  \n",
            "  inflating: Citrus/Leaves/Black spot/b (173).png  \n",
            "  inflating: Citrus/Leaves/Black spot/b (174).png  \n",
            "  inflating: Citrus/Leaves/Black spot/b (175).png  \n",
            "  inflating: Citrus/Leaves/Black spot/b (176).png  \n",
            "  inflating: Citrus/Leaves/Black spot/b (177).png  \n",
            "  inflating: Citrus/Leaves/Black spot/b (180).png  \n",
            "  inflating: Citrus/Leaves/Black spot/b (181).png  \n",
            "  inflating: Citrus/Leaves/Black spot/b (182).png  \n",
            "  inflating: Citrus/Leaves/Black spot/b (183).png  \n",
            "  inflating: Citrus/Leaves/Black spot/b (184).png  \n",
            "  inflating: Citrus/Leaves/Black spot/b (185).png  \n",
            "  inflating: Citrus/Leaves/Black spot/b (186).png  \n",
            "  inflating: Citrus/Leaves/Black spot/b (187).png  \n",
            "  inflating: Citrus/Leaves/Black spot/b (188).png  \n",
            "  inflating: Citrus/Leaves/Black spot/b (189).png  \n",
            "  inflating: Citrus/Leaves/Black spot/b (190).png  \n",
            "  inflating: Citrus/Leaves/Black spot/b (191).png  \n",
            "  inflating: Citrus/Leaves/Black spot/b (192).png  \n",
            "  inflating: Citrus/Leaves/Black spot/b (193).png  \n",
            "  inflating: Citrus/Leaves/Black spot/b (194).png  \n",
            "  inflating: Citrus/Leaves/Black spot/b (195).png  \n",
            "  inflating: Citrus/Leaves/Black spot/b (196).png  \n",
            "  inflating: Citrus/Leaves/Black spot/b (197).png  \n",
            "  inflating: Citrus/Leaves/Black spot/b (198).png  \n",
            "  inflating: Citrus/Leaves/Black spot/b (199).png  \n",
            "  inflating: Citrus/Leaves/Black spot/b (2).png  \n",
            "  inflating: Citrus/Leaves/Black spot/b (202).png  \n",
            "  inflating: Citrus/Leaves/Black spot/b (203).png  \n",
            "  inflating: Citrus/Leaves/Black spot/b (205).png  \n",
            "  inflating: Citrus/Leaves/Black spot/b (207).png  \n",
            "  inflating: Citrus/Leaves/Black spot/b (209).png  \n",
            "  inflating: Citrus/Leaves/Black spot/b (21).png  \n",
            "  inflating: Citrus/Leaves/Black spot/b (221).png  \n",
            "  inflating: Citrus/Leaves/Black spot/b (222).png  \n",
            "  inflating: Citrus/Leaves/Black spot/b (223).png  \n",
            "  inflating: Citrus/Leaves/Black spot/b (224).png  \n",
            "  inflating: Citrus/Leaves/Black spot/b (225).png  \n",
            "  inflating: Citrus/Leaves/Black spot/b (226).png  \n",
            "  inflating: Citrus/Leaves/Black spot/b (227).png  \n",
            "  inflating: Citrus/Leaves/Black spot/b (229).png  \n",
            "  inflating: Citrus/Leaves/Black spot/b (23).png  \n",
            "  inflating: Citrus/Leaves/Black spot/b (230).png  \n",
            "  inflating: Citrus/Leaves/Black spot/b (231).png  \n",
            "  inflating: Citrus/Leaves/Black spot/b (232).png  \n",
            "  inflating: Citrus/Leaves/Black spot/b (233).png  \n",
            "  inflating: Citrus/Leaves/Black spot/b (234).png  \n",
            "  inflating: Citrus/Leaves/Black spot/b (236).png  \n",
            "  inflating: Citrus/Leaves/Black spot/b (237).png  \n",
            "  inflating: Citrus/Leaves/Black spot/b (238).png  \n",
            "  inflating: Citrus/Leaves/Black spot/b (24).png  \n",
            "  inflating: Citrus/Leaves/Black spot/b (240).png  \n",
            "  inflating: Citrus/Leaves/Black spot/b (241).png  \n",
            "  inflating: Citrus/Leaves/Black spot/b (242).png  \n",
            "  inflating: Citrus/Leaves/Black spot/b (243).png  \n",
            "  inflating: Citrus/Leaves/Black spot/b (244).png  \n",
            "  inflating: Citrus/Leaves/Black spot/b (249).png  \n",
            "  inflating: Citrus/Leaves/Black spot/b (250).png  \n",
            "  inflating: Citrus/Leaves/Black spot/b (251).png  \n",
            "  inflating: Citrus/Leaves/Black spot/b (252).png  \n",
            "  inflating: Citrus/Leaves/Black spot/b (254).png  \n",
            "  inflating: Citrus/Leaves/Black spot/b (256).png  \n",
            "  inflating: Citrus/Leaves/Black spot/b (257).png  \n",
            "  inflating: Citrus/Leaves/Black spot/b (258).png  \n",
            "  inflating: Citrus/Leaves/Black spot/b (259).png  \n",
            "  inflating: Citrus/Leaves/Black spot/b (261).png  \n",
            "  inflating: Citrus/Leaves/Black spot/b (262).png  \n",
            "  inflating: Citrus/Leaves/Black spot/b (263).png  \n",
            "  inflating: Citrus/Leaves/Black spot/b (264).png  \n",
            "  inflating: Citrus/Leaves/Black spot/b (265).png  \n",
            "  inflating: Citrus/Leaves/Black spot/b (266).png  \n",
            "  inflating: Citrus/Leaves/Black spot/b (267).png  \n",
            "  inflating: Citrus/Leaves/Black spot/b (268).png  \n",
            "  inflating: Citrus/Leaves/Black spot/b (269).png  \n",
            "  inflating: Citrus/Leaves/Black spot/b (270).png  \n",
            "  inflating: Citrus/Leaves/Black spot/b (271).png  \n",
            "  inflating: Citrus/Leaves/Black spot/b (272).png  \n",
            "  inflating: Citrus/Leaves/Black spot/b (273).png  \n",
            "  inflating: Citrus/Leaves/Black spot/b (274).png  \n",
            "  inflating: Citrus/Leaves/Black spot/b (275).png  \n",
            "  inflating: Citrus/Leaves/Black spot/b (276).png  \n",
            "  inflating: Citrus/Leaves/Black spot/b (277).png  \n",
            "  inflating: Citrus/Leaves/Black spot/b (278).png  \n",
            "  inflating: Citrus/Leaves/Black spot/b (280).png  \n",
            "  inflating: Citrus/Leaves/Black spot/b (281).png  \n",
            "  inflating: Citrus/Leaves/Black spot/b (282).png  \n",
            "  inflating: Citrus/Leaves/Black spot/b (32).png  \n",
            "  inflating: Citrus/Leaves/Black spot/b (35).png  \n",
            "  inflating: Citrus/Leaves/Black spot/b (40).png  \n",
            "  inflating: Citrus/Leaves/Black spot/b (42).png  \n",
            "  inflating: Citrus/Leaves/Black spot/b (43).png  \n",
            "  inflating: Citrus/Leaves/Black spot/b (44).png  \n",
            "  inflating: Citrus/Leaves/Black spot/b (45).png  \n",
            "  inflating: Citrus/Leaves/Black spot/b (46).png  \n",
            "  inflating: Citrus/Leaves/Black spot/b (47).png  \n",
            "  inflating: Citrus/Leaves/Black spot/b (48).png  \n",
            "  inflating: Citrus/Leaves/Black spot/b (49).png  \n",
            "  inflating: Citrus/Leaves/Black spot/b (5).png  \n",
            "  inflating: Citrus/Leaves/Black spot/b (50).png  \n",
            "  inflating: Citrus/Leaves/Black spot/b (51).png  \n",
            "  inflating: Citrus/Leaves/Black spot/b (52).png  \n",
            "  inflating: Citrus/Leaves/Black spot/b (53).png  \n",
            "  inflating: Citrus/Leaves/Black spot/b (55).png  \n",
            "  inflating: Citrus/Leaves/Black spot/b (56).png  \n",
            "  inflating: Citrus/Leaves/Black spot/b (57).png  \n",
            "  inflating: Citrus/Leaves/Black spot/b (58).png  \n",
            "  inflating: Citrus/Leaves/Black spot/b (59).png  \n",
            "  inflating: Citrus/Leaves/Black spot/b (60).png  \n",
            "  inflating: Citrus/Leaves/Black spot/b (61).png  \n",
            "  inflating: Citrus/Leaves/Black spot/b (62).png  \n",
            "  inflating: Citrus/Leaves/Black spot/b (67).png  \n",
            "  inflating: Citrus/Leaves/Black spot/b (68).png  \n",
            "  inflating: Citrus/Leaves/Black spot/b (69).png  \n",
            "  inflating: Citrus/Leaves/Black spot/b (70).png  \n",
            "  inflating: Citrus/Leaves/Black spot/b (74).png  \n",
            "  inflating: Citrus/Leaves/Black spot/b (75).png  \n",
            "  inflating: Citrus/Leaves/Black spot/b (76).png  \n",
            "  inflating: Citrus/Leaves/Black spot/b (77).png  \n",
            "  inflating: Citrus/Leaves/Black spot/b (78).png  \n",
            "  inflating: Citrus/Leaves/Black spot/b (82).png  \n",
            "  inflating: Citrus/Leaves/Black spot/b (83).png  \n",
            "  inflating: Citrus/Leaves/Black spot/b (84).png  \n",
            "  inflating: Citrus/Leaves/Black spot/b (85).png  \n",
            "  inflating: Citrus/Leaves/Black spot/b (86).png  \n",
            "  inflating: Citrus/Leaves/Black spot/b (87).png  \n",
            "  inflating: Citrus/Leaves/Black spot/b (89).png  \n",
            "  inflating: Citrus/Leaves/Black spot/b (91).png  \n",
            "  inflating: Citrus/Leaves/Black spot/b (92).png  \n",
            "  inflating: Citrus/Leaves/Black spot/b (93).png  \n",
            "  inflating: Citrus/Leaves/Black spot/b (94).png  \n",
            "  inflating: Citrus/Leaves/Black spot/b (95).png  \n",
            "  inflating: Citrus/Leaves/Black spot/b (98).png  \n",
            "  inflating: Citrus/Leaves/Black spot/bl (1).png  \n",
            "  inflating: Citrus/Leaves/Black spot/bl (2).png  \n",
            "  inflating: Citrus/Leaves/Black spot/bl (3).png  \n",
            "  inflating: Citrus/Leaves/Black spot/bl (4).png  \n",
            "  inflating: Citrus/Leaves/Black spot/bl (5).png  \n",
            "  inflating: Citrus/Leaves/Black spot/bl (6).png  \n",
            "   creating: Citrus/Leaves/canker/\n",
            "  inflating: Citrus/Leaves/canker/1.png.png  \n",
            "  inflating: Citrus/Leaves/canker/10.pn.png  \n",
            "  inflating: Citrus/Leaves/canker/100.p.png  \n",
            "  inflating: Citrus/Leaves/canker/101.p.png  \n",
            "  inflating: Citrus/Leaves/canker/102.p.png  \n",
            "  inflating: Citrus/Leaves/canker/103.p.png  \n",
            "  inflating: Citrus/Leaves/canker/104.p.png  \n",
            "  inflating: Citrus/Leaves/canker/105.p.png  \n",
            "  inflating: Citrus/Leaves/canker/106.p.png  \n",
            "  inflating: Citrus/Leaves/canker/107.p.png  \n",
            "  inflating: Citrus/Leaves/canker/108.p.png  \n",
            "  inflating: Citrus/Leaves/canker/109.p.png  \n",
            "  inflating: Citrus/Leaves/canker/11.pn.png  \n",
            "  inflating: Citrus/Leaves/canker/110.p.png  \n",
            "  inflating: Citrus/Leaves/canker/111.p.png  \n",
            "  inflating: Citrus/Leaves/canker/112.p.png  \n",
            "  inflating: Citrus/Leaves/canker/113.p.png  \n",
            "  inflating: Citrus/Leaves/canker/114.p.png  \n",
            "  inflating: Citrus/Leaves/canker/115.p.png  \n",
            "  inflating: Citrus/Leaves/canker/116.p.png  \n",
            "  inflating: Citrus/Leaves/canker/117.p.png  \n",
            "  inflating: Citrus/Leaves/canker/118.p.png  \n",
            "  inflating: Citrus/Leaves/canker/119.p.png  \n",
            "  inflating: Citrus/Leaves/canker/12.pn.png  \n",
            "  inflating: Citrus/Leaves/canker/120.p.png  \n",
            "  inflating: Citrus/Leaves/canker/121.p.png  \n",
            "  inflating: Citrus/Leaves/canker/122.p.png  \n",
            "  inflating: Citrus/Leaves/canker/123.p.png  \n",
            "  inflating: Citrus/Leaves/canker/124.p.png  \n",
            "  inflating: Citrus/Leaves/canker/125.p.png  \n",
            "  inflating: Citrus/Leaves/canker/126.p.png  \n",
            "  inflating: Citrus/Leaves/canker/127.p.png  \n",
            "  inflating: Citrus/Leaves/canker/128.p.png  \n",
            "  inflating: Citrus/Leaves/canker/129.p.png  \n",
            "  inflating: Citrus/Leaves/canker/13.pn.png  \n",
            "  inflating: Citrus/Leaves/canker/130.p.png  \n",
            "  inflating: Citrus/Leaves/canker/131.p.png  \n",
            "  inflating: Citrus/Leaves/canker/132.p.png  \n",
            "  inflating: Citrus/Leaves/canker/133.p.png  \n",
            "  inflating: Citrus/Leaves/canker/134.p.png  \n",
            "  inflating: Citrus/Leaves/canker/135.p.png  \n",
            "  inflating: Citrus/Leaves/canker/136.p.png  \n",
            "  inflating: Citrus/Leaves/canker/137.p.png  \n",
            "  inflating: Citrus/Leaves/canker/138.p.png  \n",
            "  inflating: Citrus/Leaves/canker/139.p.png  \n",
            "  inflating: Citrus/Leaves/canker/14.pn.png  \n",
            "  inflating: Citrus/Leaves/canker/140.p.png  \n",
            "  inflating: Citrus/Leaves/canker/141.p.png  \n",
            "  inflating: Citrus/Leaves/canker/142.p.png  \n",
            "  inflating: Citrus/Leaves/canker/143.p.png  \n",
            "  inflating: Citrus/Leaves/canker/144.p.png  \n",
            "  inflating: Citrus/Leaves/canker/145.p.png  \n",
            "  inflating: Citrus/Leaves/canker/146.p.png  \n",
            "  inflating: Citrus/Leaves/canker/147.p.png  \n",
            "  inflating: Citrus/Leaves/canker/148.p.png  \n",
            "  inflating: Citrus/Leaves/canker/149.p.png  \n",
            "  inflating: Citrus/Leaves/canker/15.pn.png  \n",
            "  inflating: Citrus/Leaves/canker/150.p.png  \n",
            "  inflating: Citrus/Leaves/canker/151.p.png  \n",
            "  inflating: Citrus/Leaves/canker/152.p.png  \n",
            "  inflating: Citrus/Leaves/canker/153.p.png  \n",
            "  inflating: Citrus/Leaves/canker/154.p.png  \n",
            "  inflating: Citrus/Leaves/canker/155.p.png  \n",
            "  inflating: Citrus/Leaves/canker/156.p.png  \n",
            "  inflating: Citrus/Leaves/canker/157.p.png  \n",
            "  inflating: Citrus/Leaves/canker/158.p.png  \n",
            "  inflating: Citrus/Leaves/canker/159.p.png  \n",
            "  inflating: Citrus/Leaves/canker/16.pn.png  \n",
            "  inflating: Citrus/Leaves/canker/160.p.png  \n",
            "  inflating: Citrus/Leaves/canker/161.p.png  \n",
            "  inflating: Citrus/Leaves/canker/162.p.png  \n",
            "  inflating: Citrus/Leaves/canker/163.p.png  \n",
            "  inflating: Citrus/Leaves/canker/17.pn.png  \n",
            "  inflating: Citrus/Leaves/canker/18.pn.png  \n",
            "  inflating: Citrus/Leaves/canker/19.pn.png  \n",
            "  inflating: Citrus/Leaves/canker/2.png.png  \n",
            "  inflating: Citrus/Leaves/canker/20.pn.png  \n",
            "  inflating: Citrus/Leaves/canker/21.pn.png  \n",
            "  inflating: Citrus/Leaves/canker/22.pn.png  \n",
            "  inflating: Citrus/Leaves/canker/23.pn.png  \n",
            "  inflating: Citrus/Leaves/canker/24.pn.png  \n",
            "  inflating: Citrus/Leaves/canker/25.pn.png  \n",
            "  inflating: Citrus/Leaves/canker/26.pn.png  \n",
            "  inflating: Citrus/Leaves/canker/27.pn.png  \n",
            "  inflating: Citrus/Leaves/canker/28.pn.png  \n",
            "  inflating: Citrus/Leaves/canker/29.pn.png  \n",
            "  inflating: Citrus/Leaves/canker/3.png.png  \n",
            "  inflating: Citrus/Leaves/canker/30.pn.png  \n",
            "  inflating: Citrus/Leaves/canker/31.pn.png  \n",
            "  inflating: Citrus/Leaves/canker/32.pn.png  \n",
            "  inflating: Citrus/Leaves/canker/33.pn.png  \n",
            "  inflating: Citrus/Leaves/canker/34.pn.png  \n",
            "  inflating: Citrus/Leaves/canker/35.pn.png  \n",
            "  inflating: Citrus/Leaves/canker/36.pn.png  \n",
            "  inflating: Citrus/Leaves/canker/37.pn.png  \n",
            "  inflating: Citrus/Leaves/canker/38.pn.png  \n",
            "  inflating: Citrus/Leaves/canker/39.pn.png  \n",
            "  inflating: Citrus/Leaves/canker/4.png.png  \n",
            "  inflating: Citrus/Leaves/canker/40.pn.png  \n",
            "  inflating: Citrus/Leaves/canker/41.pn.png  \n",
            "  inflating: Citrus/Leaves/canker/42.pn.png  \n",
            "  inflating: Citrus/Leaves/canker/43.pn.png  \n",
            "  inflating: Citrus/Leaves/canker/44.pn.png  \n",
            "  inflating: Citrus/Leaves/canker/45.pn.png  \n",
            "  inflating: Citrus/Leaves/canker/46.pn.png  \n",
            "  inflating: Citrus/Leaves/canker/47.pn.png  \n",
            "  inflating: Citrus/Leaves/canker/48.pn.png  \n",
            "  inflating: Citrus/Leaves/canker/49.pn.png  \n",
            "  inflating: Citrus/Leaves/canker/5.png.png  \n",
            "  inflating: Citrus/Leaves/canker/50.pn.png  \n",
            "  inflating: Citrus/Leaves/canker/51.pn.png  \n",
            "  inflating: Citrus/Leaves/canker/52.pn.png  \n",
            "  inflating: Citrus/Leaves/canker/53.pn.png  \n",
            "  inflating: Citrus/Leaves/canker/54.pn.png  \n",
            "  inflating: Citrus/Leaves/canker/55.pn.png  \n",
            "  inflating: Citrus/Leaves/canker/56.pn.png  \n",
            "  inflating: Citrus/Leaves/canker/57.pn.png  \n",
            "  inflating: Citrus/Leaves/canker/58.pn.png  \n",
            "  inflating: Citrus/Leaves/canker/59.pn.png  \n",
            "  inflating: Citrus/Leaves/canker/6.png.png  \n",
            "  inflating: Citrus/Leaves/canker/60.pn.png  \n",
            "  inflating: Citrus/Leaves/canker/61.pn.png  \n",
            "  inflating: Citrus/Leaves/canker/62.pn.png  \n",
            "  inflating: Citrus/Leaves/canker/63.pn.png  \n",
            "  inflating: Citrus/Leaves/canker/64.pn.png  \n",
            "  inflating: Citrus/Leaves/canker/65.pn.png  \n",
            "  inflating: Citrus/Leaves/canker/66.pn.png  \n",
            "  inflating: Citrus/Leaves/canker/67.pn.png  \n",
            "  inflating: Citrus/Leaves/canker/68.pn.png  \n",
            "  inflating: Citrus/Leaves/canker/69.pn.png  \n",
            "  inflating: Citrus/Leaves/canker/7.png.png  \n",
            "  inflating: Citrus/Leaves/canker/70.pn.png  \n",
            "  inflating: Citrus/Leaves/canker/71.pn.png  \n",
            "  inflating: Citrus/Leaves/canker/72.pn.png  \n",
            "  inflating: Citrus/Leaves/canker/73.pn.png  \n",
            "  inflating: Citrus/Leaves/canker/74.pn.png  \n",
            "  inflating: Citrus/Leaves/canker/75.pn.png  \n",
            "  inflating: Citrus/Leaves/canker/76.pn.png  \n",
            "  inflating: Citrus/Leaves/canker/77.pn.png  \n",
            "  inflating: Citrus/Leaves/canker/78.pn.png  \n",
            "  inflating: Citrus/Leaves/canker/79.pn.png  \n",
            "  inflating: Citrus/Leaves/canker/8.png.png  \n",
            "  inflating: Citrus/Leaves/canker/80.pn.png  \n",
            "  inflating: Citrus/Leaves/canker/81.pn.png  \n",
            "  inflating: Citrus/Leaves/canker/82.pn.png  \n",
            "  inflating: Citrus/Leaves/canker/83.pn.png  \n",
            "  inflating: Citrus/Leaves/canker/84.pn.png  \n",
            "  inflating: Citrus/Leaves/canker/85.pn.png  \n",
            "  inflating: Citrus/Leaves/canker/86.pn.png  \n",
            "  inflating: Citrus/Leaves/canker/87.pn.png  \n",
            "  inflating: Citrus/Leaves/canker/88.pn.png  \n",
            "  inflating: Citrus/Leaves/canker/89.pn.png  \n",
            "  inflating: Citrus/Leaves/canker/9.png.png  \n",
            "  inflating: Citrus/Leaves/canker/90.pn.png  \n",
            "  inflating: Citrus/Leaves/canker/91.pn.png  \n",
            "  inflating: Citrus/Leaves/canker/92.pn.png  \n",
            "  inflating: Citrus/Leaves/canker/93.pn.png  \n",
            "  inflating: Citrus/Leaves/canker/94.pn.png  \n",
            "  inflating: Citrus/Leaves/canker/95.pn.png  \n",
            "  inflating: Citrus/Leaves/canker/96.pn.png  \n",
            "  inflating: Citrus/Leaves/canker/97.pn.png  \n",
            "  inflating: Citrus/Leaves/canker/98.pn.png  \n",
            "  inflating: Citrus/Leaves/canker/99.pn.png  \n",
            "   creating: Citrus/Leaves/greening/\n",
            "  inflating: Citrus/Leaves/greening/g (1).png  \n",
            "  inflating: Citrus/Leaves/greening/g (10).png  \n",
            "  inflating: Citrus/Leaves/greening/g (100).png  \n",
            "  inflating: Citrus/Leaves/greening/g (101).png  \n",
            "  inflating: Citrus/Leaves/greening/g (102).png  \n",
            "  inflating: Citrus/Leaves/greening/g (103).png  \n",
            "  inflating: Citrus/Leaves/greening/g (104).png  \n",
            "  inflating: Citrus/Leaves/greening/g (105).png  \n",
            "  inflating: Citrus/Leaves/greening/g (106).png  \n",
            "  inflating: Citrus/Leaves/greening/g (107).png  \n",
            "  inflating: Citrus/Leaves/greening/g (108).png  \n",
            "  inflating: Citrus/Leaves/greening/g (109).png  \n",
            "  inflating: Citrus/Leaves/greening/g (11).png  \n",
            "  inflating: Citrus/Leaves/greening/g (110).png  \n",
            "  inflating: Citrus/Leaves/greening/g (111).png  \n",
            "  inflating: Citrus/Leaves/greening/g (112).png  \n",
            "  inflating: Citrus/Leaves/greening/g (113).png  \n",
            "  inflating: Citrus/Leaves/greening/g (114).png  \n",
            "  inflating: Citrus/Leaves/greening/g (115).png  \n",
            "  inflating: Citrus/Leaves/greening/g (116).png  \n",
            "  inflating: Citrus/Leaves/greening/g (117).png  \n",
            "  inflating: Citrus/Leaves/greening/g (118).png  \n",
            "  inflating: Citrus/Leaves/greening/g (119).png  \n",
            "  inflating: Citrus/Leaves/greening/g (12).png  \n",
            "  inflating: Citrus/Leaves/greening/g (120).png  \n",
            "  inflating: Citrus/Leaves/greening/g (121).png  \n",
            "  inflating: Citrus/Leaves/greening/g (122).png  \n",
            "  inflating: Citrus/Leaves/greening/g (123).png  \n",
            "  inflating: Citrus/Leaves/greening/g (124).png  \n",
            "  inflating: Citrus/Leaves/greening/g (125).png  \n",
            "  inflating: Citrus/Leaves/greening/g (126).png  \n",
            "  inflating: Citrus/Leaves/greening/g (127).png  \n",
            "  inflating: Citrus/Leaves/greening/g (128).png  \n",
            "  inflating: Citrus/Leaves/greening/g (129).png  \n",
            "  inflating: Citrus/Leaves/greening/g (13).png  \n",
            "  inflating: Citrus/Leaves/greening/g (130).png  \n",
            "  inflating: Citrus/Leaves/greening/g (131).png  \n",
            "  inflating: Citrus/Leaves/greening/g (132).png  \n",
            "  inflating: Citrus/Leaves/greening/g (133).png  \n",
            "  inflating: Citrus/Leaves/greening/g (134).png  \n",
            "  inflating: Citrus/Leaves/greening/g (135).png  \n",
            "  inflating: Citrus/Leaves/greening/g (136).png  \n",
            "  inflating: Citrus/Leaves/greening/g (137).png  \n",
            "  inflating: Citrus/Leaves/greening/g (138).png  \n",
            "  inflating: Citrus/Leaves/greening/g (139).png  \n",
            "  inflating: Citrus/Leaves/greening/g (14).png  \n",
            "  inflating: Citrus/Leaves/greening/g (140).png  \n",
            "  inflating: Citrus/Leaves/greening/g (141).png  \n",
            "  inflating: Citrus/Leaves/greening/g (142).png  \n",
            "  inflating: Citrus/Leaves/greening/g (143).png  \n",
            "  inflating: Citrus/Leaves/greening/g (144).png  \n",
            "  inflating: Citrus/Leaves/greening/g (145).png  \n",
            "  inflating: Citrus/Leaves/greening/g (146).png  \n",
            "  inflating: Citrus/Leaves/greening/g (147).png  \n",
            "  inflating: Citrus/Leaves/greening/g (148).png  \n",
            "  inflating: Citrus/Leaves/greening/g (149).png  \n",
            "  inflating: Citrus/Leaves/greening/g (15).png  \n",
            "  inflating: Citrus/Leaves/greening/g (150).png  \n",
            "  inflating: Citrus/Leaves/greening/g (151).png  \n",
            "  inflating: Citrus/Leaves/greening/g (152).png  \n",
            "  inflating: Citrus/Leaves/greening/g (153).png  \n",
            "  inflating: Citrus/Leaves/greening/g (154).png  \n",
            "  inflating: Citrus/Leaves/greening/g (155).png  \n",
            "  inflating: Citrus/Leaves/greening/g (156).png  \n",
            "  inflating: Citrus/Leaves/greening/g (157).png  \n",
            "  inflating: Citrus/Leaves/greening/g (158).png  \n",
            "  inflating: Citrus/Leaves/greening/g (159).png  \n",
            "  inflating: Citrus/Leaves/greening/g (16).png  \n",
            "  inflating: Citrus/Leaves/greening/g (160).png  \n",
            "  inflating: Citrus/Leaves/greening/g (161).png  \n",
            "  inflating: Citrus/Leaves/greening/g (162).png  \n",
            "  inflating: Citrus/Leaves/greening/g (163).png  \n",
            "  inflating: Citrus/Leaves/greening/g (164).png  \n",
            "  inflating: Citrus/Leaves/greening/g (165).png  \n",
            "  inflating: Citrus/Leaves/greening/g (166).png  \n",
            "  inflating: Citrus/Leaves/greening/g (167).png  \n",
            "  inflating: Citrus/Leaves/greening/g (168).png  \n",
            "  inflating: Citrus/Leaves/greening/g (169).png  \n",
            "  inflating: Citrus/Leaves/greening/g (17).png  \n",
            "  inflating: Citrus/Leaves/greening/g (170).png  \n",
            "  inflating: Citrus/Leaves/greening/g (171).png  \n",
            "  inflating: Citrus/Leaves/greening/g (172).png  \n",
            "  inflating: Citrus/Leaves/greening/g (173).png  \n",
            "  inflating: Citrus/Leaves/greening/g (174).png  \n",
            "  inflating: Citrus/Leaves/greening/g (175).png  \n",
            "  inflating: Citrus/Leaves/greening/g (176).png  \n",
            "  inflating: Citrus/Leaves/greening/g (177).png  \n",
            "  inflating: Citrus/Leaves/greening/g (178).png  \n",
            "  inflating: Citrus/Leaves/greening/g (179).png  \n",
            "  inflating: Citrus/Leaves/greening/g (18).png  \n",
            "  inflating: Citrus/Leaves/greening/g (180).png  \n",
            "  inflating: Citrus/Leaves/greening/g (181).png  \n",
            "  inflating: Citrus/Leaves/greening/g (182).png  \n",
            "  inflating: Citrus/Leaves/greening/g (183).png  \n",
            "  inflating: Citrus/Leaves/greening/g (184).png  \n",
            "  inflating: Citrus/Leaves/greening/g (185).png  \n",
            "  inflating: Citrus/Leaves/greening/g (186).png  \n",
            "  inflating: Citrus/Leaves/greening/g (187).png  \n",
            "  inflating: Citrus/Leaves/greening/g (188).png  \n",
            "  inflating: Citrus/Leaves/greening/g (189).png  \n",
            "  inflating: Citrus/Leaves/greening/g (19).png  \n",
            "  inflating: Citrus/Leaves/greening/g (190).png  \n",
            "  inflating: Citrus/Leaves/greening/g (191).png  \n",
            "  inflating: Citrus/Leaves/greening/g (192).png  \n",
            "  inflating: Citrus/Leaves/greening/g (193).png  \n",
            "  inflating: Citrus/Leaves/greening/g (194).png  \n",
            "  inflating: Citrus/Leaves/greening/g (195).png  \n",
            "  inflating: Citrus/Leaves/greening/g (196).png  \n",
            "  inflating: Citrus/Leaves/greening/g (197).png  \n",
            "  inflating: Citrus/Leaves/greening/g (198).png  \n",
            "  inflating: Citrus/Leaves/greening/g (199).png  \n",
            "  inflating: Citrus/Leaves/greening/g (2).png  \n",
            "  inflating: Citrus/Leaves/greening/g (20).png  \n",
            "  inflating: Citrus/Leaves/greening/g (200).png  \n",
            "  inflating: Citrus/Leaves/greening/g (201).png  \n",
            "  inflating: Citrus/Leaves/greening/g (202).png  \n",
            "  inflating: Citrus/Leaves/greening/g (203).png  \n",
            "  inflating: Citrus/Leaves/greening/g (204).png  \n",
            "  inflating: Citrus/Leaves/greening/g (21).png  \n",
            "  inflating: Citrus/Leaves/greening/g (22).png  \n",
            "  inflating: Citrus/Leaves/greening/g (23).png  \n",
            "  inflating: Citrus/Leaves/greening/g (24).png  \n",
            "  inflating: Citrus/Leaves/greening/g (25).png  \n",
            "  inflating: Citrus/Leaves/greening/g (26).png  \n",
            "  inflating: Citrus/Leaves/greening/g (27).png  \n",
            "  inflating: Citrus/Leaves/greening/g (28).png  \n",
            "  inflating: Citrus/Leaves/greening/g (29).png  \n",
            "  inflating: Citrus/Leaves/greening/g (3).png  \n",
            "  inflating: Citrus/Leaves/greening/g (30).png  \n",
            "  inflating: Citrus/Leaves/greening/g (31).png  \n",
            "  inflating: Citrus/Leaves/greening/g (32).png  \n",
            "  inflating: Citrus/Leaves/greening/g (33).png  \n",
            "  inflating: Citrus/Leaves/greening/g (34).png  \n",
            "  inflating: Citrus/Leaves/greening/g (35).png  \n",
            "  inflating: Citrus/Leaves/greening/g (36).png  \n",
            "  inflating: Citrus/Leaves/greening/g (37).png  \n",
            "  inflating: Citrus/Leaves/greening/g (38).png  \n",
            "  inflating: Citrus/Leaves/greening/g (39).png  \n",
            "  inflating: Citrus/Leaves/greening/g (4).png  \n",
            "  inflating: Citrus/Leaves/greening/g (40).png  \n",
            "  inflating: Citrus/Leaves/greening/g (41).png  \n",
            "  inflating: Citrus/Leaves/greening/g (42).png  \n",
            "  inflating: Citrus/Leaves/greening/g (43).png  \n",
            "  inflating: Citrus/Leaves/greening/g (44).png  \n",
            "  inflating: Citrus/Leaves/greening/g (45).png  \n",
            "  inflating: Citrus/Leaves/greening/g (46).png  \n",
            "  inflating: Citrus/Leaves/greening/g (47).png  \n",
            "  inflating: Citrus/Leaves/greening/g (48).png  \n",
            "  inflating: Citrus/Leaves/greening/g (49).png  \n",
            "  inflating: Citrus/Leaves/greening/g (5).png  \n",
            "  inflating: Citrus/Leaves/greening/g (50).png  \n",
            "  inflating: Citrus/Leaves/greening/g (51).png  \n",
            "  inflating: Citrus/Leaves/greening/g (52).png  \n",
            "  inflating: Citrus/Leaves/greening/g (53).png  \n",
            "  inflating: Citrus/Leaves/greening/g (54).png  \n",
            "  inflating: Citrus/Leaves/greening/g (55).png  \n",
            "  inflating: Citrus/Leaves/greening/g (56).png  \n",
            "  inflating: Citrus/Leaves/greening/g (57).png  \n",
            "  inflating: Citrus/Leaves/greening/g (58).png  \n",
            "  inflating: Citrus/Leaves/greening/g (59).png  \n",
            "  inflating: Citrus/Leaves/greening/g (6).png  \n",
            "  inflating: Citrus/Leaves/greening/g (60).png  \n",
            "  inflating: Citrus/Leaves/greening/g (61).png  \n",
            "  inflating: Citrus/Leaves/greening/g (62).png  \n",
            "  inflating: Citrus/Leaves/greening/g (63).png  \n",
            "  inflating: Citrus/Leaves/greening/g (64).png  \n",
            "  inflating: Citrus/Leaves/greening/g (65).png  \n",
            "  inflating: Citrus/Leaves/greening/g (66).png  \n",
            "  inflating: Citrus/Leaves/greening/g (67).png  \n",
            "  inflating: Citrus/Leaves/greening/g (68).png  \n",
            "  inflating: Citrus/Leaves/greening/g (69).png  \n",
            "  inflating: Citrus/Leaves/greening/g (7).png  \n",
            "  inflating: Citrus/Leaves/greening/g (70).png  \n",
            "  inflating: Citrus/Leaves/greening/g (71).png  \n",
            "  inflating: Citrus/Leaves/greening/g (72).png  \n",
            "  inflating: Citrus/Leaves/greening/g (73).png  \n",
            "  inflating: Citrus/Leaves/greening/g (74).png  \n",
            "  inflating: Citrus/Leaves/greening/g (75).png  \n",
            "  inflating: Citrus/Leaves/greening/g (76).png  \n",
            "  inflating: Citrus/Leaves/greening/g (77).png  \n",
            "  inflating: Citrus/Leaves/greening/g (78).png  \n",
            "  inflating: Citrus/Leaves/greening/g (79).png  \n",
            "  inflating: Citrus/Leaves/greening/g (8).png  \n",
            "  inflating: Citrus/Leaves/greening/g (80).png  \n",
            "  inflating: Citrus/Leaves/greening/g (81).png  \n",
            "  inflating: Citrus/Leaves/greening/g (82).png  \n",
            "  inflating: Citrus/Leaves/greening/g (83).png  \n",
            "  inflating: Citrus/Leaves/greening/g (84).png  \n",
            "  inflating: Citrus/Leaves/greening/g (85).png  \n",
            "  inflating: Citrus/Leaves/greening/g (86).png  \n",
            "  inflating: Citrus/Leaves/greening/g (87).png  \n",
            "  inflating: Citrus/Leaves/greening/g (88).png  \n",
            "  inflating: Citrus/Leaves/greening/g (89).png  \n",
            "  inflating: Citrus/Leaves/greening/g (9).png  \n",
            "  inflating: Citrus/Leaves/greening/g (90).png  \n",
            "  inflating: Citrus/Leaves/greening/g (91).png  \n",
            "  inflating: Citrus/Leaves/greening/g (92).png  \n",
            "  inflating: Citrus/Leaves/greening/g (93).png  \n",
            "  inflating: Citrus/Leaves/greening/g (94).png  \n",
            "  inflating: Citrus/Leaves/greening/g (95).png  \n",
            "  inflating: Citrus/Leaves/greening/g (96).png  \n",
            "  inflating: Citrus/Leaves/greening/g (97).png  \n",
            "  inflating: Citrus/Leaves/greening/g (98).png  \n",
            "  inflating: Citrus/Leaves/greening/g (99).png  \n",
            "   creating: Citrus/Leaves/healthy/\n",
            "  inflating: Citrus/Leaves/healthy/1.png.png  \n",
            "  inflating: Citrus/Leaves/healthy/10.pn.png  \n",
            "  inflating: Citrus/Leaves/healthy/11.pn.png  \n",
            "  inflating: Citrus/Leaves/healthy/12.pn.png  \n",
            "  inflating: Citrus/Leaves/healthy/13.pn.png  \n",
            "  inflating: Citrus/Leaves/healthy/14.pn.png  \n",
            "  inflating: Citrus/Leaves/healthy/15.pn.png  \n",
            "  inflating: Citrus/Leaves/healthy/16.pn.png  \n",
            "  inflating: Citrus/Leaves/healthy/17.pn.png  \n",
            "  inflating: Citrus/Leaves/healthy/18.pn.png  \n",
            "  inflating: Citrus/Leaves/healthy/19.pn.png  \n",
            "  inflating: Citrus/Leaves/healthy/2.png.png  \n",
            "  inflating: Citrus/Leaves/healthy/20.pn.png  \n",
            "  inflating: Citrus/Leaves/healthy/21.pn.png  \n",
            "  inflating: Citrus/Leaves/healthy/22.pn.png  \n",
            "  inflating: Citrus/Leaves/healthy/23.pn.png  \n",
            "  inflating: Citrus/Leaves/healthy/24.pn.png  \n",
            "  inflating: Citrus/Leaves/healthy/25.pn.png  \n",
            "  inflating: Citrus/Leaves/healthy/26.pn.png  \n",
            "  inflating: Citrus/Leaves/healthy/27.pn.png  \n",
            "  inflating: Citrus/Leaves/healthy/28.pn.png  \n",
            "  inflating: Citrus/Leaves/healthy/29.pn.png  \n",
            "  inflating: Citrus/Leaves/healthy/3.png.png  \n",
            "  inflating: Citrus/Leaves/healthy/30.pn.png  \n",
            "  inflating: Citrus/Leaves/healthy/31.pn.png  \n",
            "  inflating: Citrus/Leaves/healthy/32.pn.png  \n",
            "  inflating: Citrus/Leaves/healthy/33.pn.png  \n",
            "  inflating: Citrus/Leaves/healthy/34.pn.png  \n",
            "  inflating: Citrus/Leaves/healthy/35.pn.png  \n",
            "  inflating: Citrus/Leaves/healthy/36.pn.png  \n",
            "  inflating: Citrus/Leaves/healthy/37.pn.png  \n",
            "  inflating: Citrus/Leaves/healthy/38.pn.png  \n",
            "  inflating: Citrus/Leaves/healthy/39.pn.png  \n",
            "  inflating: Citrus/Leaves/healthy/4.png.png  \n",
            "  inflating: Citrus/Leaves/healthy/40.pn.png  \n",
            "  inflating: Citrus/Leaves/healthy/41.pn.png  \n",
            "  inflating: Citrus/Leaves/healthy/42.pn.png  \n",
            "  inflating: Citrus/Leaves/healthy/43.pn.png  \n",
            "  inflating: Citrus/Leaves/healthy/44.pn.png  \n",
            "  inflating: Citrus/Leaves/healthy/45.pn.png  \n",
            "  inflating: Citrus/Leaves/healthy/46.pn.png  \n",
            "  inflating: Citrus/Leaves/healthy/47.pn.png  \n",
            "  inflating: Citrus/Leaves/healthy/48.pn.png  \n",
            "  inflating: Citrus/Leaves/healthy/49.pn.png  \n",
            "  inflating: Citrus/Leaves/healthy/5.png.png  \n",
            "  inflating: Citrus/Leaves/healthy/50.pn.png  \n",
            "  inflating: Citrus/Leaves/healthy/51.pn.png  \n",
            "  inflating: Citrus/Leaves/healthy/52.pn.png  \n",
            "  inflating: Citrus/Leaves/healthy/53.pn.png  \n",
            "  inflating: Citrus/Leaves/healthy/54.pn.png  \n",
            "  inflating: Citrus/Leaves/healthy/55.pn.png  \n",
            "  inflating: Citrus/Leaves/healthy/56.pn.png  \n",
            "  inflating: Citrus/Leaves/healthy/57.pn.png  \n",
            "  inflating: Citrus/Leaves/healthy/58.pn.png  \n",
            "  inflating: Citrus/Leaves/healthy/6.png.png  \n",
            "  inflating: Citrus/Leaves/healthy/7.png.png  \n",
            "  inflating: Citrus/Leaves/healthy/8.png.png  \n",
            "  inflating: Citrus/Leaves/healthy/9.png.png  \n",
            "   creating: Citrus/Leaves/Melanose/\n",
            "  inflating: Citrus/Leaves/Melanose/142.jpg  \n",
            "  inflating: Citrus/Leaves/Melanose/146.jpg  \n",
            "  inflating: Citrus/Leaves/Melanose/32.jpg  \n",
            "  inflating: Citrus/Leaves/Melanose/33.jpg  \n",
            "  inflating: Citrus/Leaves/Melanose/34.jpg  \n",
            "  inflating: Citrus/Leaves/Melanose/38.jpg  \n",
            "  inflating: Citrus/Leaves/Melanose/SAM_3927Catla.jpg  \n",
            "  inflating: Citrus/Leaves/Melanose/SAM_3928Catla.jpg  \n",
            "  inflating: Citrus/Leaves/Melanose/SAM_3929Catla.jpg  \n",
            "  inflating: Citrus/Leaves/Melanose/SAM_3937Catla.jpg  \n",
            "  inflating: Citrus/Leaves/Melanose/SAM_3938Catla.jpg  \n",
            "  inflating: Citrus/Leaves/Melanose/SAM_3941Catla.jpg  \n",
            "  inflating: Citrus/Leaves/Melanose/SAM_4840Catla.jpg  \n"
          ],
          "name": "stdout"
        }
      ]
    },
    {
      "cell_type": "markdown",
      "metadata": {
        "id": "3ws3lz9gMNjZ",
        "colab_type": "text"
      },
      "source": [
        "## import libraries"
      ]
    },
    {
      "cell_type": "code",
      "metadata": {
        "id": "j2ELFuzfYIBi",
        "colab_type": "code",
        "colab": {}
      },
      "source": [
        "import numpy as np # linear algebra\n",
        "import pandas as pd # data processing, CSV file I/O (e.g. pd.read_csv)\n",
        "import matplotlib.pyplot as plt\n"
      ],
      "execution_count": 0,
      "outputs": []
    },
    {
      "cell_type": "code",
      "metadata": {
        "id": "tt4DJeFSUxOH",
        "colab_type": "code",
        "colab": {}
      },
      "source": [
        "from tensorflow.keras.models import Sequential,Model\n",
        "from tensorflow.keras.layers import Activation, Dropout, Flatten, Dense, Conv2D, MaxPool2D, BatchNormalization,Input,MaxPooling2D,GlobalMaxPooling2D,concatenate\n",
        "from tensorflow.keras.layers import GlobalAveragePooling2D\n",
        "from tensorflow.keras.applications.resnet50 import ResNet50\n",
        "from tensorflow.keras.callbacks import ModelCheckpoint,ReduceLROnPlateau\n",
        "from tensorflow.keras.optimizers import Adam\n",
        "import tensorflow.keras.backend as K\n",
        "import tensorflow as tf\n",
        "from tensorflow.keras.applications import densenet,inception_resnet_v2"
      ],
      "execution_count": 0,
      "outputs": []
    },
    {
      "cell_type": "markdown",
      "metadata": {
        "id": "NHcaPrv3MPp3",
        "colab_type": "text"
      },
      "source": [
        "## data augmentation "
      ]
    },
    {
      "cell_type": "code",
      "metadata": {
        "id": "HLLlRf3FYT-9",
        "colab_type": "code",
        "colab": {}
      },
      "source": [
        "from keras_preprocessing.image import ImageDataGenerator\n",
        "\n",
        "data_gen= ImageDataGenerator(\n",
        "    horizontal_flip=True,\n",
        "    vertical_flip=True,\n",
        "    rotation_range=360,\n",
        "    width_shift_range=0.2,\n",
        "    height_shift_range=0.2,\n",
        "    zoom_range=.1,\n",
        "    rescale=1/255,\n",
        "    fill_mode='nearest',\n",
        "    shear_range=0.1,\n",
        "    brightness_range=[0.5, 1.5],\n",
        "    validation_split=0.3)"
      ],
      "execution_count": 0,
      "outputs": []
    },
    {
      "cell_type": "code",
      "metadata": {
        "id": "89ZpuWkgYZHW",
        "colab_type": "code",
        "colab": {}
      },
      "source": [
        "img_shape=299\n",
        "batch_size=24"
      ],
      "execution_count": 0,
      "outputs": []
    },
    {
      "cell_type": "markdown",
      "metadata": {
        "id": "lZzYvOzARZlM",
        "colab_type": "text"
      },
      "source": [
        "# Leaves"
      ]
    },
    {
      "cell_type": "code",
      "metadata": {
        "id": "EsqIKDdmYa0l",
        "colab_type": "code",
        "outputId": "ac222c96-0008-4154-fa10-bc56dcff2706",
        "colab": {
          "base_uri": "https://localhost:8080/",
          "height": 33
        }
      },
      "source": [
        "#load the training data\n",
        "leaves_train_generator = data_gen.flow_from_directory(\n",
        "    '/content/Citrus/Leaves',\n",
        "    target_size=(img_shape,img_shape),\n",
        "    batch_size=batch_size,\n",
        "    class_mode='categorical',\n",
        "    subset='training',\n",
        "    shuffle=True)\n"
      ],
      "execution_count": 7,
      "outputs": [
        {
          "output_type": "stream",
          "text": [
            "Found 429 images belonging to 5 classes.\n"
          ],
          "name": "stdout"
        }
      ]
    },
    {
      "cell_type": "code",
      "metadata": {
        "id": "qPAoXFonZ7Pk",
        "colab_type": "code",
        "outputId": "92412ba0-b776-49a4-9bbc-95c663a6f374",
        "colab": {
          "base_uri": "https://localhost:8080/",
          "height": 33
        }
      },
      "source": [
        "#load the training data\n",
        "val_suffle=False\n",
        "leaves_val_generator = data_gen.flow_from_directory(\n",
        "    '/content/Citrus/Leaves',\n",
        "    target_size=(img_shape,img_shape),\n",
        "    batch_size=batch_size,\n",
        "    class_mode='categorical',\n",
        "    subset='validation',shuffle=val_suffle)#shuffle should be False in validation\n",
        "    #https://stackoverflow.com/a/47439789/11170350\n"
      ],
      "execution_count": 8,
      "outputs": [
        {
          "output_type": "stream",
          "text": [
            "Found 180 images belonging to 5 classes.\n"
          ],
          "name": "stdout"
        }
      ]
    },
    {
      "cell_type": "code",
      "metadata": {
        "id": "UQwUaMd7Y1qL",
        "colab_type": "code",
        "outputId": "e49c6546-969d-4656-8ba1-b921699f5be3",
        "colab": {
          "base_uri": "https://localhost:8080/",
          "height": 33
        }
      },
      "source": [
        "leaves_train_generator.next()[0].shape,leaves_train_generator.next()[1].shape"
      ],
      "execution_count": 9,
      "outputs": [
        {
          "output_type": "execute_result",
          "data": {
            "text/plain": [
              "((24, 299, 299, 3), (24, 5))"
            ]
          },
          "metadata": {
            "tags": []
          },
          "execution_count": 9
        }
      ]
    },
    {
      "cell_type": "code",
      "metadata": {
        "id": "XwCEKIuz0C1Z",
        "colab_type": "code",
        "outputId": "846aa732-07b5-48da-96a7-978a48cf7c38",
        "colab": {
          "base_uri": "https://localhost:8080/",
          "height": 33
        }
      },
      "source": [
        "leaves_val_generator.next()[0].shape,leaves_val_generator.next()[1].shape"
      ],
      "execution_count": 10,
      "outputs": [
        {
          "output_type": "execute_result",
          "data": {
            "text/plain": [
              "((24, 299, 299, 3), (24, 5))"
            ]
          },
          "metadata": {
            "tags": []
          },
          "execution_count": 10
        }
      ]
    },
    {
      "cell_type": "markdown",
      "metadata": {
        "id": "nGyQMzE_uLPJ",
        "colab_type": "text"
      },
      "source": [
        "### Base model"
      ]
    },
    {
      "cell_type": "code",
      "metadata": {
        "id": "knUQBAGIuXLs",
        "colab_type": "code",
        "colab": {}
      },
      "source": [
        ""
      ],
      "execution_count": 0,
      "outputs": []
    },
    {
      "cell_type": "code",
      "metadata": {
        "colab_type": "code",
        "outputId": "33bf9594-ac6a-4024-ae57-21d1337ed21c",
        "id": "_nJJRGcCuXdK",
        "colab": {
          "base_uri": "https://localhost:8080/",
          "height": 70
        }
      },
      "source": [
        "leaves_model =inception_resnet_v2.InceptionResNetV2(weights ='imagenet', include_top=False, input_shape = (img_shape,img_shape,3))\n"
      ],
      "execution_count": 11,
      "outputs": [
        {
          "output_type": "stream",
          "text": [
            "Downloading data from https://storage.googleapis.com/tensorflow/keras-applications/inception_resnet_v2/inception_resnet_v2_weights_tf_dim_ordering_tf_kernels_notop.h5\n",
            "219062272/219055592 [==============================] - 5s 0us/step\n"
          ],
          "name": "stdout"
        }
      ]
    },
    {
      "cell_type": "code",
      "metadata": {
        "colab_type": "code",
        "id": "Fpuh2ozquXdO",
        "colab": {}
      },
      "source": [
        "x = leaves_model.output\n",
        "x = GlobalAveragePooling2D()(x)\n",
        "x = Dropout(0.3)(x)\n",
        "x = Dense(128, activation=\"relu\")(x)\n",
        "x = Dropout(0.3)(x)\n",
        "x = Dense(64, activation=\"relu\")(x)\n",
        "predictions = Dense(5, activation=\"softmax\")(x)"
      ],
      "execution_count": 0,
      "outputs": []
    },
    {
      "cell_type": "code",
      "metadata": {
        "colab_type": "code",
        "id": "yucbpZ23uXdQ",
        "colab": {}
      },
      "source": [
        "leaves_model = Model(inputs=leaves_model.input, outputs=predictions)"
      ],
      "execution_count": 0,
      "outputs": []
    },
    {
      "cell_type": "code",
      "metadata": {
        "colab_type": "code",
        "id": "aK7Wg-4fuXdR",
        "colab": {}
      },
      "source": [
        "def custom_loss(y_true, y_pred):\n",
        "    return tf.keras.losses.categorical_crossentropy(y_true, y_pred, label_smoothing=0.1)"
      ],
      "execution_count": 0,
      "outputs": []
    },
    {
      "cell_type": "code",
      "metadata": {
        "colab_type": "code",
        "id": "XpIera9DuXdT",
        "colab": {}
      },
      "source": [
        "leaves_model.compile(optimizer='adam', loss=custom_loss, metrics=['categorical_accuracy'])"
      ],
      "execution_count": 0,
      "outputs": []
    },
    {
      "cell_type": "code",
      "metadata": {
        "colab_type": "code",
        "outputId": "94e34ae5-f798-4a59-93af-e8ff9c489b8b",
        "id": "N7IaH8ROuXdV",
        "colab": {
          "base_uri": "https://localhost:8080/",
          "height": 67
        }
      },
      "source": [
        "\n",
        "trainable_count = np.sum([K.count_params(w) for w in leaves_model.trainable_weights])\n",
        "non_trainable_count = np.sum([K.count_params(w) for w in leaves_model.non_trainable_weights])\n",
        "\n",
        "print('Total params: {:,}'.format(trainable_count + non_trainable_count))\n",
        "print('Trainable params: {:,}'.format(trainable_count))\n",
        "print('Non-trainable params: {:,}'.format(non_trainable_count))"
      ],
      "execution_count": 16,
      "outputs": [
        {
          "output_type": "stream",
          "text": [
            "Total params: 54,542,053\n",
            "Trainable params: 54,481,509\n",
            "Non-trainable params: 60,544\n"
          ],
          "name": "stdout"
        }
      ]
    },
    {
      "cell_type": "code",
      "metadata": {
        "colab_type": "code",
        "outputId": "01f37b34-cc18-4c39-e8b4-eefed9168766",
        "id": "LSG-myX4uXdX",
        "colab": {
          "base_uri": "https://localhost:8080/",
          "height": 538
        }
      },
      "source": [
        "results = leaves_model.fit(leaves_train_generator,epochs=15,\n",
        "                              steps_per_epoch=leaves_train_generator.n/batch_size,\n",
        "                              validation_data=leaves_val_generator,\n",
        "                             validation_steps=leaves_val_generator.n/batch_size,\n",
        "                              callbacks=[ReduceLROnPlateau(monitor='val_loss', factor=0.3,patience=2, min_lr=0.000001)])"
      ],
      "execution_count": 17,
      "outputs": [
        {
          "output_type": "stream",
          "text": [
            "Epoch 1/15\n",
            "18/17 [==============================] - 29s 2s/step - loss: 1.1597 - categorical_accuracy: 0.5664 - val_loss: 47.2874 - val_categorical_accuracy: 0.2667 - lr: 0.0010\n",
            "Epoch 2/15\n",
            "18/17 [==============================] - 21s 1s/step - loss: 0.8474 - categorical_accuracy: 0.8182 - val_loss: 284.5239 - val_categorical_accuracy: 0.0278 - lr: 0.0010\n",
            "Epoch 3/15\n",
            "18/17 [==============================] - 21s 1s/step - loss: 0.7103 - categorical_accuracy: 0.8741 - val_loss: 74.0768 - val_categorical_accuracy: 0.3333 - lr: 0.0010\n",
            "Epoch 4/15\n",
            "18/17 [==============================] - 21s 1s/step - loss: 0.6750 - categorical_accuracy: 0.8974 - val_loss: 4.6048 - val_categorical_accuracy: 0.4944 - lr: 3.0000e-04\n",
            "Epoch 5/15\n",
            "18/17 [==============================] - 21s 1s/step - loss: 0.6157 - categorical_accuracy: 0.9138 - val_loss: 0.8907 - val_categorical_accuracy: 0.8389 - lr: 3.0000e-04\n",
            "Epoch 6/15\n",
            "18/17 [==============================] - 21s 1s/step - loss: 0.5861 - categorical_accuracy: 0.9301 - val_loss: 0.7714 - val_categorical_accuracy: 0.8556 - lr: 3.0000e-04\n",
            "Epoch 7/15\n",
            "18/17 [==============================] - 21s 1s/step - loss: 0.5772 - categorical_accuracy: 0.9371 - val_loss: 0.7309 - val_categorical_accuracy: 0.8611 - lr: 3.0000e-04\n",
            "Epoch 8/15\n",
            "18/17 [==============================] - 21s 1s/step - loss: 0.5506 - categorical_accuracy: 0.9487 - val_loss: 0.7587 - val_categorical_accuracy: 0.8222 - lr: 3.0000e-04\n",
            "Epoch 9/15\n",
            "18/17 [==============================] - 21s 1s/step - loss: 0.6143 - categorical_accuracy: 0.9044 - val_loss: 0.8142 - val_categorical_accuracy: 0.7944 - lr: 3.0000e-04\n",
            "Epoch 10/15\n",
            "18/17 [==============================] - 21s 1s/step - loss: 0.5409 - categorical_accuracy: 0.9534 - val_loss: 0.7697 - val_categorical_accuracy: 0.8278 - lr: 9.0000e-05\n",
            "Epoch 11/15\n",
            "18/17 [==============================] - 21s 1s/step - loss: 0.5455 - categorical_accuracy: 0.9534 - val_loss: 0.7281 - val_categorical_accuracy: 0.8278 - lr: 9.0000e-05\n",
            "Epoch 12/15\n",
            "18/17 [==============================] - 21s 1s/step - loss: 0.5118 - categorical_accuracy: 0.9720 - val_loss: 0.6984 - val_categorical_accuracy: 0.8333 - lr: 9.0000e-05\n",
            "Epoch 13/15\n",
            "18/17 [==============================] - 21s 1s/step - loss: 0.4997 - categorical_accuracy: 0.9650 - val_loss: 0.7041 - val_categorical_accuracy: 0.8556 - lr: 9.0000e-05\n",
            "Epoch 14/15\n",
            "18/17 [==============================] - 20s 1s/step - loss: 0.4873 - categorical_accuracy: 0.9767 - val_loss: 0.7316 - val_categorical_accuracy: 0.8222 - lr: 9.0000e-05\n",
            "Epoch 15/15\n",
            "18/17 [==============================] - 21s 1s/step - loss: 0.4896 - categorical_accuracy: 0.9697 - val_loss: 0.6981 - val_categorical_accuracy: 0.8556 - lr: 2.7000e-05\n"
          ],
          "name": "stdout"
        }
      ]
    },
    {
      "cell_type": "code",
      "metadata": {
        "id": "V3ovS33jMJrE",
        "colab_type": "code",
        "outputId": "3338559f-56a7-4249-ca54-01976b81a22d",
        "colab": {
          "base_uri": "https://localhost:8080/",
          "height": 295
        }
      },
      "source": [
        "\n",
        "plt.plot(results.history['categorical_accuracy'])\n",
        "plt.plot(results.history['val_categorical_accuracy'])\n",
        "plt.title('leaves_model accuracy ')\n",
        "plt.ylabel('accuracy')\n",
        "plt.xlabel('epoch')\n",
        "plt.legend(['train', 'test'], loc='upper left')\n",
        "plt.show()"
      ],
      "execution_count": 18,
      "outputs": [
        {
          "output_type": "display_data",
          "data": {
            "image/png": "[encoded data removed]",
            "text/plain": [
              "<Figure size 432x288 with 1 Axes>"
            ]
          },
          "metadata": {
            "tags": []
          }
        }
      ]
    },
    {
      "cell_type": "code",
      "metadata": {
        "colab_type": "code",
        "outputId": "212078ba-985b-4b49-b2f0-729ee196440f",
        "id": "m5KADpgcuXda",
        "colab": {
          "base_uri": "https://localhost:8080/",
          "height": 295
        }
      },
      "source": [
        "\n",
        "plt.plot(results.history['loss'])\n",
        "plt.plot(results.history['val_loss'])\n",
        "plt.title('leaves_model loss')\n",
        "plt.ylabel('loss')\n",
        "plt.xlabel('epoch')\n",
        "plt.legend(['train', 'test'], loc='upper left')\n",
        "plt.show()"
      ],
      "execution_count": 19,
      "outputs": [
        {
          "output_type": "display_data",
          "data": {
            "image/png": "[encoded data removed]",
            "text/plain": [
              "<Figure size 432x288 with 1 Axes>"
            ]
          },
          "metadata": {
            "tags": []
          }
        }
      ]
    },
    {
      "cell_type": "code",
      "metadata": {
        "colab_type": "code",
        "outputId": "ee74f7bc-1079-4123-e34c-e491152c6f7c",
        "id": "at7xjzsfuXdc",
        "colab": {
          "base_uri": "https://localhost:8080/",
          "height": 50
        }
      },
      "source": [
        "leaves_model.evaluate(leaves_val_generator,steps=leaves_val_generator.n//batch_size)"
      ],
      "execution_count": 20,
      "outputs": [
        {
          "output_type": "stream",
          "text": [
            "7/7 [==============================] - 4s 516ms/step - loss: 0.6525 - categorical_accuracy: 0.8526\n"
          ],
          "name": "stdout"
        },
        {
          "output_type": "execute_result",
          "data": {
            "text/plain": [
              "[0.6525489091873169, 0.8525640964508057]"
            ]
          },
          "metadata": {
            "tags": []
          },
          "execution_count": 20
        }
      ]
    },
    {
      "cell_type": "code",
      "metadata": {
        "colab_type": "code",
        "outputId": "10e26d78-ae82-412c-83bd-837a8b769b92",
        "id": "0vnn2CqWuXdd",
        "colab": {
          "base_uri": "https://localhost:8080/",
          "height": 50
        }
      },
      "source": [
        "leaves_val_generator.reset()\n",
        "leaves_model.evaluate(leaves_val_generator,steps=leaves_val_generator.n//batch_size)"
      ],
      "execution_count": 21,
      "outputs": [
        {
          "output_type": "stream",
          "text": [
            "7/7 [==============================] - 4s 561ms/step - loss: 0.7215 - categorical_accuracy: 0.8571\n"
          ],
          "name": "stdout"
        },
        {
          "output_type": "execute_result",
          "data": {
            "text/plain": [
              "[0.721545398235321, 0.8571428656578064]"
            ]
          },
          "metadata": {
            "tags": []
          },
          "execution_count": 21
        }
      ]
    },
    {
      "cell_type": "code",
      "metadata": {
        "colab_type": "code",
        "outputId": "96a43295-2838-4e6a-b6a9-3744f3886a64",
        "id": "vu1hi9UPuXdf",
        "colab": {
          "base_uri": "https://localhost:8080/",
          "height": 33
        }
      },
      "source": [
        "leaves_val_generator.reset()\n",
        "y_pred=leaves_model.predict(leaves_val_generator,steps=leaves_val_generator.n/batch_size,verbose=1)"
      ],
      "execution_count": 22,
      "outputs": [
        {
          "output_type": "stream",
          "text": [
            "8/7 [================================] - 4s 536ms/step\n"
          ],
          "name": "stdout"
        }
      ]
    },
    {
      "cell_type": "code",
      "metadata": {
        "colab_type": "code",
        "id": "TiLZLyQkuXdh",
        "colab": {}
      },
      "source": [
        "if val_suffle==True:\n",
        "  per = np.random.permutation(leaves_val_generator.n)\n",
        "  leaves_val_generator.index_array = per\n",
        "  y_true = leaves_val_generator.classes[per]\n",
        "else: \n",
        "  y_true = leaves_val_generator.classes"
      ],
      "execution_count": 0,
      "outputs": []
    },
    {
      "cell_type": "code",
      "metadata": {
        "colab_type": "code",
        "id": "m2MTXwv0uXdj",
        "colab": {}
      },
      "source": [
        "y_pred=np.argmax(y_pred, axis=1)"
      ],
      "execution_count": 0,
      "outputs": []
    },
    {
      "cell_type": "code",
      "metadata": {
        "colab_type": "code",
        "outputId": "bf486914-a858-4280-c7f3-31a985d81837",
        "id": "-iEQWCe0uXdm",
        "colab": {
          "base_uri": "https://localhost:8080/",
          "height": 33
        }
      },
      "source": [
        "y_pred.shape,y_true.shape"
      ],
      "execution_count": 25,
      "outputs": [
        {
          "output_type": "execute_result",
          "data": {
            "text/plain": [
              "((180,), (180,))"
            ]
          },
          "metadata": {
            "tags": []
          },
          "execution_count": 25
        }
      ]
    },
    {
      "cell_type": "code",
      "metadata": {
        "colab_type": "code",
        "outputId": "cb040543-e10f-4dc6-9053-0913ede15413",
        "id": "a1g_Ku5auXdo",
        "colab": {
          "base_uri": "https://localhost:8080/",
          "height": 50
        }
      },
      "source": [
        "from sklearn.metrics import classification_report,accuracy_score,f1_score\n",
        "print(accuracy_score(y_true,y_pred))\n",
        "print(f1_score(y_true,y_pred,average='macro'))"
      ],
      "execution_count": 26,
      "outputs": [
        {
          "output_type": "stream",
          "text": [
            "0.8611111111111112\n",
            "0.9040489213756541\n"
          ],
          "name": "stdout"
        }
      ]
    },
    {
      "cell_type": "code",
      "metadata": {
        "colab_type": "code",
        "outputId": "a8313c34-a0df-4944-cef5-2af964d120b1",
        "id": "QlKQtGX7uXdq",
        "colab": {
          "base_uri": "https://localhost:8080/",
          "height": 217
        }
      },
      "source": [
        "class_label=list(leaves_train_generator.class_indices.keys())\n",
        "print(classification_report(y_true, y_pred,target_names=class_label))#"
      ],
      "execution_count": 27,
      "outputs": [
        {
          "output_type": "stream",
          "text": [
            "              precision    recall  f1-score   support\n",
            "\n",
            "  Black spot       0.84      0.82      0.83        51\n",
            "    Melanose       1.00      1.00      1.00         3\n",
            "      canker       0.97      0.81      0.89        48\n",
            "    greening       0.78      0.89      0.83        61\n",
            "     healthy       0.94      1.00      0.97        17\n",
            "\n",
            "    accuracy                           0.86       180\n",
            "   macro avg       0.91      0.90      0.90       180\n",
            "weighted avg       0.87      0.86      0.86       180\n",
            "\n"
          ],
          "name": "stdout"
        }
      ]
    },
    {
      "cell_type": "code",
      "metadata": {
        "id": "bf-7mSW0aKkF",
        "colab_type": "code",
        "colab": {}
      },
      "source": [
        "leaves_model.save('leave_model.h5')"
      ],
      "execution_count": 0,
      "outputs": []
    },
    {
      "cell_type": "markdown",
      "metadata": {
        "id": "ihUjDtt6T4k8",
        "colab_type": "text"
      },
      "source": [
        "# Fruit"
      ]
    },
    {
      "cell_type": "code",
      "metadata": {
        "id": "x13zWgkaT1RV",
        "colab_type": "code",
        "colab": {}
      },
      "source": [
        ""
      ],
      "execution_count": 0,
      "outputs": []
    },
    {
      "cell_type": "code",
      "metadata": {
        "colab_type": "code",
        "outputId": "ac7b1bcc-55ca-4dae-df8a-41d5adb85241",
        "id": "BcsMD0xjUFfL",
        "colab": {
          "base_uri": "https://localhost:8080/",
          "height": 33
        }
      },
      "source": [
        "#load the training data\n",
        "fruits_train_generator = data_gen.flow_from_directory(\n",
        "    '/content/Citrus/Fruits',\n",
        "    target_size=(img_shape,img_shape),\n",
        "    batch_size=batch_size,\n",
        "    class_mode='categorical',\n",
        "    subset='training',\n",
        "    shuffle=True)\n"
      ],
      "execution_count": 29,
      "outputs": [
        {
          "output_type": "stream",
          "text": [
            "Found 108 images belonging to 5 classes.\n"
          ],
          "name": "stdout"
        }
      ]
    },
    {
      "cell_type": "code",
      "metadata": {
        "colab_type": "code",
        "outputId": "f6953889-e06a-4083-d23a-bdcbb264782c",
        "id": "EBAWOOgGUFfY",
        "colab": {
          "base_uri": "https://localhost:8080/",
          "height": 33
        }
      },
      "source": [
        "#load the training data\n",
        "val_suffle=False\n",
        "fruits_val_generator = data_gen.flow_from_directory(\n",
        "    '/content/Citrus/Fruits',\n",
        "    target_size=(img_shape,img_shape),\n",
        "    batch_size=batch_size,\n",
        "    class_mode='categorical',\n",
        "    subset='validation',shuffle=val_suffle)#shuffle should be False in validation\n",
        "    #https://stackoverflow.com/a/47439789/11170350\n"
      ],
      "execution_count": 30,
      "outputs": [
        {
          "output_type": "stream",
          "text": [
            "Found 42 images belonging to 5 classes.\n"
          ],
          "name": "stdout"
        }
      ]
    },
    {
      "cell_type": "code",
      "metadata": {
        "colab_type": "code",
        "outputId": "ae0a1ea1-c521-4e45-9633-4603ad534a92",
        "id": "NFQtVep-UFfg",
        "colab": {
          "base_uri": "https://localhost:8080/",
          "height": 33
        }
      },
      "source": [
        "fruits_train_generator.next()[0].shape,fruits_train_generator.next()[1].shape"
      ],
      "execution_count": 31,
      "outputs": [
        {
          "output_type": "execute_result",
          "data": {
            "text/plain": [
              "((24, 299, 299, 3), (24, 5))"
            ]
          },
          "metadata": {
            "tags": []
          },
          "execution_count": 31
        }
      ]
    },
    {
      "cell_type": "code",
      "metadata": {
        "colab_type": "code",
        "outputId": "46138421-eefd-466f-d48e-60b2db79bd53",
        "id": "vRa9_TroUFfn",
        "colab": {
          "base_uri": "https://localhost:8080/",
          "height": 33
        }
      },
      "source": [
        "fruits_val_generator.next()[0].shape,fruits_val_generator.next()[1].shape"
      ],
      "execution_count": 32,
      "outputs": [
        {
          "output_type": "execute_result",
          "data": {
            "text/plain": [
              "((24, 299, 299, 3), (18, 5))"
            ]
          },
          "metadata": {
            "tags": []
          },
          "execution_count": 32
        }
      ]
    },
    {
      "cell_type": "markdown",
      "metadata": {
        "colab_type": "text",
        "id": "xoPWNmIRUFfz"
      },
      "source": [
        "### Base model"
      ]
    },
    {
      "cell_type": "code",
      "metadata": {
        "colab_type": "code",
        "id": "AR290u56UFf0",
        "colab": {}
      },
      "source": [
        ""
      ],
      "execution_count": 0,
      "outputs": []
    },
    {
      "cell_type": "code",
      "metadata": {
        "colab_type": "code",
        "id": "_vnU5PMjUFf6",
        "colab": {}
      },
      "source": [
        "fruit_model =inception_resnet_v2.InceptionResNetV2(weights ='imagenet', include_top=False, input_shape = (img_shape,img_shape,3))\n"
      ],
      "execution_count": 0,
      "outputs": []
    },
    {
      "cell_type": "code",
      "metadata": {
        "colab_type": "code",
        "id": "eZu_g86CUFgA",
        "colab": {}
      },
      "source": [
        "x = fruit_model.output\n",
        "x = GlobalAveragePooling2D()(x)\n",
        "x = Dropout(0.3)(x)\n",
        "x = Dense(128, activation=\"relu\")(x)\n",
        "x = Dropout(0.3)(x)\n",
        "x = Dense(64, activation=\"relu\")(x)\n",
        "predictions = Dense(5, activation=\"softmax\")(x)"
      ],
      "execution_count": 0,
      "outputs": []
    },
    {
      "cell_type": "code",
      "metadata": {
        "colab_type": "code",
        "id": "0lomki1MUFgG",
        "colab": {}
      },
      "source": [
        "fruit_model = Model(inputs=fruit_model.input, outputs=predictions)"
      ],
      "execution_count": 0,
      "outputs": []
    },
    {
      "cell_type": "code",
      "metadata": {
        "colab_type": "code",
        "id": "cT_FjomXUFgL",
        "colab": {}
      },
      "source": [
        "def custom_loss(y_true, y_pred):\n",
        "    return tf.keras.losses.categorical_crossentropy(y_true, y_pred, label_smoothing=0.1)"
      ],
      "execution_count": 0,
      "outputs": []
    },
    {
      "cell_type": "code",
      "metadata": {
        "colab_type": "code",
        "id": "w30C5sSdUFgR",
        "colab": {}
      },
      "source": [
        "fruit_model.compile(optimizer='adam', loss=custom_loss, metrics=['categorical_accuracy'])"
      ],
      "execution_count": 0,
      "outputs": []
    },
    {
      "cell_type": "code",
      "metadata": {
        "colab_type": "code",
        "outputId": "d417fe2e-9818-4a9f-c08b-55b09f81e540",
        "id": "EKtcLWg1UFgX",
        "colab": {
          "base_uri": "https://localhost:8080/",
          "height": 67
        }
      },
      "source": [
        "\n",
        "trainable_count = np.sum([K.count_params(w) for w in fruit_model.trainable_weights])\n",
        "non_trainable_count = np.sum([K.count_params(w) for w in fruit_model.non_trainable_weights])\n",
        "\n",
        "print('Total params: {:,}'.format(trainable_count + non_trainable_count))\n",
        "print('Trainable params: {:,}'.format(trainable_count))\n",
        "print('Non-trainable params: {:,}'.format(non_trainable_count))"
      ],
      "execution_count": 38,
      "outputs": [
        {
          "output_type": "stream",
          "text": [
            "Total params: 54,542,053\n",
            "Trainable params: 54,481,509\n",
            "Non-trainable params: 60,544\n"
          ],
          "name": "stdout"
        }
      ]
    },
    {
      "cell_type": "code",
      "metadata": {
        "colab_type": "code",
        "outputId": "c4f75373-92cf-4ea0-e029-fdbeb1ea91c7",
        "id": "j0AwtC07UFgd",
        "colab": {
          "base_uri": "https://localhost:8080/",
          "height": 538
        }
      },
      "source": [
        "results = fruit_model.fit(fruits_train_generator,epochs=15,\n",
        "                              steps_per_epoch=fruits_train_generator.n/batch_size,\n",
        "                              validation_data=fruits_val_generator,\n",
        "                             validation_steps=fruits_val_generator.n/batch_size,\n",
        "                              callbacks=[ReduceLROnPlateau(monitor='val_loss', factor=0.3,patience=2, min_lr=0.000001)])"
      ],
      "execution_count": 39,
      "outputs": [
        {
          "output_type": "stream",
          "text": [
            "Epoch 1/15\n",
            "5/4 [=================================] - 12s 2s/step - loss: 1.4415 - categorical_accuracy: 0.5093 - val_loss: 1.6604 - val_categorical_accuracy: 0.4048 - lr: 0.0010\n",
            "Epoch 2/15\n",
            "5/4 [=================================] - 6s 1s/step - loss: 1.0683 - categorical_accuracy: 0.6759 - val_loss: 12.1454 - val_categorical_accuracy: 0.2381 - lr: 0.0010\n",
            "Epoch 3/15\n",
            "5/4 [=================================] - 6s 1s/step - loss: 1.0576 - categorical_accuracy: 0.6944 - val_loss: 142.2689 - val_categorical_accuracy: 0.1190 - lr: 0.0010\n",
            "Epoch 4/15\n",
            "5/4 [=================================] - 6s 1s/step - loss: 0.9085 - categorical_accuracy: 0.7778 - val_loss: 112.5717 - val_categorical_accuracy: 0.5714 - lr: 3.0000e-04\n",
            "Epoch 5/15\n",
            "5/4 [=================================] - 6s 1s/step - loss: 0.8912 - categorical_accuracy: 0.7593 - val_loss: 35.7751 - val_categorical_accuracy: 0.5476 - lr: 3.0000e-04\n",
            "Epoch 6/15\n",
            "5/4 [=================================] - 6s 1s/step - loss: 0.8022 - categorical_accuracy: 0.8056 - val_loss: 22.7162 - val_categorical_accuracy: 0.5952 - lr: 9.0000e-05\n",
            "Epoch 7/15\n",
            "5/4 [=================================] - 6s 1s/step - loss: 0.7529 - categorical_accuracy: 0.8426 - val_loss: 10.4954 - val_categorical_accuracy: 0.5714 - lr: 9.0000e-05\n",
            "Epoch 8/15\n",
            "5/4 [=================================] - 6s 1s/step - loss: 0.6560 - categorical_accuracy: 0.9352 - val_loss: 4.9009 - val_categorical_accuracy: 0.5238 - lr: 2.7000e-05\n",
            "Epoch 9/15\n",
            "5/4 [=================================] - 5s 1s/step - loss: 0.7159 - categorical_accuracy: 0.8704 - val_loss: 6.1495 - val_categorical_accuracy: 0.5238 - lr: 2.7000e-05\n",
            "Epoch 10/15\n",
            "5/4 [=================================] - 6s 1s/step - loss: 0.6982 - categorical_accuracy: 0.8519 - val_loss: 3.7830 - val_categorical_accuracy: 0.5238 - lr: 8.1000e-06\n",
            "Epoch 11/15\n",
            "5/4 [=================================] - 6s 1s/step - loss: 0.6885 - categorical_accuracy: 0.9074 - val_loss: 2.0341 - val_categorical_accuracy: 0.5952 - lr: 8.1000e-06\n",
            "Epoch 12/15\n",
            "5/4 [=================================] - 6s 1s/step - loss: 0.7810 - categorical_accuracy: 0.8333 - val_loss: 2.1156 - val_categorical_accuracy: 0.5952 - lr: 2.4300e-06\n",
            "Epoch 13/15\n",
            "5/4 [=================================] - 6s 1s/step - loss: 0.6896 - categorical_accuracy: 0.9074 - val_loss: 2.2543 - val_categorical_accuracy: 0.5714 - lr: 2.4300e-06\n",
            "Epoch 14/15\n",
            "5/4 [=================================] - 6s 1s/step - loss: 0.6630 - categorical_accuracy: 0.9259 - val_loss: 1.9481 - val_categorical_accuracy: 0.5476 - lr: 1.0000e-06\n",
            "Epoch 15/15\n",
            "5/4 [=================================] - 6s 1s/step - loss: 0.7214 - categorical_accuracy: 0.8426 - val_loss: 2.4666 - val_categorical_accuracy: 0.5238 - lr: 1.0000e-06\n"
          ],
          "name": "stdout"
        }
      ]
    },
    {
      "cell_type": "code",
      "metadata": {
        "colab_type": "code",
        "outputId": "5de2a8ca-7526-4b12-bcff-b27fd376ee5b",
        "id": "jeZz-e9uUFgk",
        "colab": {
          "base_uri": "https://localhost:8080/",
          "height": 295
        }
      },
      "source": [
        "\n",
        "plt.plot(results.history['categorical_accuracy'])\n",
        "plt.plot(results.history['val_categorical_accuracy'])\n",
        "plt.title('fruit_model accuracy ')\n",
        "plt.ylabel('accuracy')\n",
        "plt.xlabel('epoch')\n",
        "plt.legend(['train', 'test'], loc='upper left')\n",
        "plt.show()"
      ],
      "execution_count": 40,
      "outputs": [
        {
          "output_type": "display_data",
          "data": {
            "image/png": "[encoded data removed]",
            "text/plain": [
              "<Figure size 432x288 with 1 Axes>"
            ]
          },
          "metadata": {
            "tags": []
          }
        }
      ]
    },
    {
      "cell_type": "code",
      "metadata": {
        "colab_type": "code",
        "outputId": "29e9e297-39a6-4eb1-9bf0-0e9160fa84d7",
        "id": "9gwkXDL3UFgo",
        "colab": {
          "base_uri": "https://localhost:8080/",
          "height": 295
        }
      },
      "source": [
        "\n",
        "plt.plot(results.history['loss'])\n",
        "plt.plot(results.history['val_loss'])\n",
        "plt.title('fruit_model loss')\n",
        "plt.ylabel('loss')\n",
        "plt.xlabel('epoch')\n",
        "plt.legend(['train', 'test'], loc='upper left')\n",
        "plt.show()"
      ],
      "execution_count": 41,
      "outputs": [
        {
          "output_type": "display_data",
          "data": {
            "image/png": "[encoded data removed]",
            "text/plain": [
              "<Figure size 432x288 with 1 Axes>"
            ]
          },
          "metadata": {
            "tags": []
          }
        }
      ]
    },
    {
      "cell_type": "code",
      "metadata": {
        "colab_type": "code",
        "outputId": "c209463a-f6f4-4876-ef01-3d3fadfc660a",
        "id": "BkoOClMcUFgt",
        "colab": {
          "base_uri": "https://localhost:8080/",
          "height": 50
        }
      },
      "source": [
        "fruit_model.evaluate(fruits_val_generator,steps=fruits_val_generator.n//batch_size)"
      ],
      "execution_count": 42,
      "outputs": [
        {
          "output_type": "stream",
          "text": [
            "1/1 [==============================] - 0s 6ms/step - loss: 3.7176 - categorical_accuracy: 0.2778\n"
          ],
          "name": "stdout"
        },
        {
          "output_type": "execute_result",
          "data": {
            "text/plain": [
              "[3.7176170349121094, 0.2777777910232544]"
            ]
          },
          "metadata": {
            "tags": []
          },
          "execution_count": 42
        }
      ]
    },
    {
      "cell_type": "code",
      "metadata": {
        "colab_type": "code",
        "outputId": "38edd04e-9ce8-4454-fcca-94e84f98d24c",
        "id": "GtvbMVFpUFgx",
        "colab": {
          "base_uri": "https://localhost:8080/",
          "height": 50
        }
      },
      "source": [
        "fruits_val_generator.reset()\n",
        "fruit_model.evaluate(fruits_val_generator,steps=fruits_val_generator.n//batch_size)"
      ],
      "execution_count": 43,
      "outputs": [
        {
          "output_type": "stream",
          "text": [
            "1/1 [==============================] - 0s 2ms/step - loss: 1.1731 - categorical_accuracy: 0.7917\n"
          ],
          "name": "stdout"
        },
        {
          "output_type": "execute_result",
          "data": {
            "text/plain": [
              "[1.17314612865448, 0.7916666865348816]"
            ]
          },
          "metadata": {
            "tags": []
          },
          "execution_count": 43
        }
      ]
    },
    {
      "cell_type": "code",
      "metadata": {
        "colab_type": "code",
        "outputId": "a77771e3-7032-4e33-d46b-1f8f4354a6a8",
        "id": "FJqkQn9jUFg2",
        "colab": {
          "base_uri": "https://localhost:8080/",
          "height": 33
        }
      },
      "source": [
        "fruits_val_generator.reset()\n",
        "y_pred=fruit_model.predict(fruits_val_generator,steps=fruits_val_generator.n/batch_size,verbose=1)"
      ],
      "execution_count": 44,
      "outputs": [
        {
          "output_type": "stream",
          "text": [
            "2/1 [==================================] - 0s 215ms/step\n"
          ],
          "name": "stdout"
        }
      ]
    },
    {
      "cell_type": "code",
      "metadata": {
        "colab_type": "code",
        "id": "68MmA8FNUFg6",
        "colab": {}
      },
      "source": [
        "if val_suffle==True:\n",
        "  per = np.random.permutation(fruits_val_generator.n)\n",
        "  fruits_val_generator.index_array = per\n",
        "  y_true = fruits_val_generator.classes[per]\n",
        "else: \n",
        "  y_true = fruits_val_generator.classes"
      ],
      "execution_count": 0,
      "outputs": []
    },
    {
      "cell_type": "code",
      "metadata": {
        "colab_type": "code",
        "id": "XOhTpQICUFg-",
        "colab": {}
      },
      "source": [
        "y_pred=np.argmax(y_pred, axis=1)"
      ],
      "execution_count": 0,
      "outputs": []
    },
    {
      "cell_type": "code",
      "metadata": {
        "colab_type": "code",
        "outputId": "975b655d-7d1d-4437-9cc8-ba4419b6444f",
        "id": "B3eXupHuUFhC",
        "colab": {
          "base_uri": "https://localhost:8080/",
          "height": 33
        }
      },
      "source": [
        "y_pred.shape,y_true.shape"
      ],
      "execution_count": 47,
      "outputs": [
        {
          "output_type": "execute_result",
          "data": {
            "text/plain": [
              "((42,), (42,))"
            ]
          },
          "metadata": {
            "tags": []
          },
          "execution_count": 47
        }
      ]
    },
    {
      "cell_type": "code",
      "metadata": {
        "colab_type": "code",
        "outputId": "879a29d4-0f9b-4fff-9aab-69e72f36491b",
        "id": "MChmTDtjUFhG",
        "colab": {
          "base_uri": "https://localhost:8080/",
          "height": 50
        }
      },
      "source": [
        "from sklearn.metrics import classification_report,accuracy_score,f1_score\n",
        "print(accuracy_score(y_true,y_pred))\n",
        "print(f1_score(y_true,y_pred,average='macro'))"
      ],
      "execution_count": 48,
      "outputs": [
        {
          "output_type": "stream",
          "text": [
            "0.5476190476190477\n",
            "0.2196825396825397\n"
          ],
          "name": "stdout"
        }
      ]
    },
    {
      "cell_type": "code",
      "metadata": {
        "colab_type": "code",
        "outputId": "dfe6a980-5890-40f3-e3d9-872c3ffa0167",
        "id": "Sb1oOUBQUFhK",
        "colab": {
          "base_uri": "https://localhost:8080/",
          "height": 271
        }
      },
      "source": [
        "class_label=list(fruits_train_generator.class_indices.keys())\n",
        "print(classification_report(y_true, y_pred,target_names=class_label))#"
      ],
      "execution_count": 49,
      "outputs": [
        {
          "output_type": "stream",
          "text": [
            "              precision    recall  f1-score   support\n",
            "\n",
            "  Black spot       0.00      0.00      0.00         5\n",
            "      Canker       0.55      0.96      0.70        23\n",
            "    Greening       0.00      0.00      0.00         4\n",
            "        Scab       1.00      0.25      0.40         4\n",
            "     healthy       0.00      0.00      0.00         6\n",
            "\n",
            "    accuracy                           0.55        42\n",
            "   macro avg       0.31      0.24      0.22        42\n",
            "weighted avg       0.40      0.55      0.42        42\n",
            "\n"
          ],
          "name": "stdout"
        },
        {
          "output_type": "stream",
          "text": [
            "/usr/local/lib/python3.6/dist-packages/sklearn/metrics/_classification.py:1272: UndefinedMetricWarning: Precision and F-score are ill-defined and being set to 0.0 in labels with no predicted samples. Use `zero_division` parameter to control this behavior.\n",
            "  _warn_prf(average, modifier, msg_start, len(result))\n"
          ],
          "name": "stderr"
        }
      ]
    },
    {
      "cell_type": "code",
      "metadata": {
        "id": "SEVR5zSxY9xG",
        "colab_type": "code",
        "colab": {}
      },
      "source": [
        ""
      ],
      "execution_count": 0,
      "outputs": []
    },
    {
      "cell_type": "markdown",
      "metadata": {
        "id": "v7nTR9cdVXL6",
        "colab_type": "text"
      },
      "source": [
        "# Model Transfer\n",
        "Leave model to Fruit model"
      ]
    },
    {
      "cell_type": "code",
      "metadata": {
        "id": "j5pEMwFmVdR-",
        "colab_type": "code",
        "colab": {}
      },
      "source": [
        ""
      ],
      "execution_count": 0,
      "outputs": []
    },
    {
      "cell_type": "code",
      "metadata": {
        "colab_type": "code",
        "id": "hBPREPnQZxn6",
        "colab": {}
      },
      "source": [
        "leave2fruit =inception_resnet_v2.InceptionResNetV2(weights =None, include_top=False, input_shape = (img_shape,img_shape,3))\n"
      ],
      "execution_count": 0,
      "outputs": []
    },
    {
      "cell_type": "code",
      "metadata": {
        "colab_type": "code",
        "id": "XA6nGWjMZxoH",
        "colab": {}
      },
      "source": [
        "x = leave2fruit.output\n",
        "x = GlobalAveragePooling2D()(x)\n",
        "x = Dropout(0.3)(x)\n",
        "x = Dense(128, activation=\"relu\")(x)\n",
        "x = Dropout(0.3)(x)\n",
        "x = Dense(64, activation=\"relu\")(x)\n",
        "predictions = Dense(5, activation=\"softmax\")(x)"
      ],
      "execution_count": 0,
      "outputs": []
    },
    {
      "cell_type": "code",
      "metadata": {
        "colab_type": "code",
        "id": "KE7mTYoiZxoL",
        "colab": {}
      },
      "source": [
        "leave2fruit = Model(inputs=leave2fruit.input, outputs=predictions)"
      ],
      "execution_count": 0,
      "outputs": []
    },
    {
      "cell_type": "code",
      "metadata": {
        "colab_type": "code",
        "id": "G9x8QGshZxoP",
        "colab": {}
      },
      "source": [
        "def custom_loss(y_true, y_pred):\n",
        "    return tf.keras.losses.categorical_crossentropy(y_true, y_pred, label_smoothing=0.1)"
      ],
      "execution_count": 0,
      "outputs": []
    },
    {
      "cell_type": "code",
      "metadata": {
        "colab_type": "code",
        "id": "VBuieO3NZxoT",
        "colab": {}
      },
      "source": [
        "leave2fruit.compile(optimizer=Adam(0.0001), loss=custom_loss, metrics=['categorical_accuracy'])"
      ],
      "execution_count": 0,
      "outputs": []
    },
    {
      "cell_type": "code",
      "metadata": {
        "id": "92aVc63EabCK",
        "colab_type": "code",
        "colab": {}
      },
      "source": [
        "leave2fruit.load_weights('leave_model.h5')"
      ],
      "execution_count": 0,
      "outputs": []
    },
    {
      "cell_type": "code",
      "metadata": {
        "colab_type": "code",
        "outputId": "a822775c-777b-4efc-9967-f49211a87104",
        "id": "MmgocnW9ZxoW",
        "colab": {
          "base_uri": "https://localhost:8080/",
          "height": 67
        }
      },
      "source": [
        "\n",
        "trainable_count = np.sum([K.count_params(w) for w in leave2fruit.trainable_weights])\n",
        "non_trainable_count = np.sum([K.count_params(w) for w in leave2fruit.non_trainable_weights])\n",
        "\n",
        "print('Total params: {:,}'.format(trainable_count + non_trainable_count))\n",
        "print('Trainable params: {:,}'.format(trainable_count))\n",
        "print('Non-trainable params: {:,}'.format(non_trainable_count))"
      ],
      "execution_count": 56,
      "outputs": [
        {
          "output_type": "stream",
          "text": [
            "Total params: 54,542,053\n",
            "Trainable params: 54,481,509\n",
            "Non-trainable params: 60,544\n"
          ],
          "name": "stdout"
        }
      ]
    },
    {
      "cell_type": "code",
      "metadata": {
        "colab_type": "code",
        "id": "w0orirtxZxoc",
        "colab": {
          "base_uri": "https://localhost:8080/",
          "height": 538
        },
        "outputId": "ccf165b3-4a65-4d42-cd7f-d282acab7cba"
      },
      "source": [
        "results = leave2fruit.fit(fruits_train_generator,epochs=15,\n",
        "                              steps_per_epoch=fruits_train_generator.n/batch_size,\n",
        "                              validation_data=fruits_val_generator,\n",
        "                             validation_steps=fruits_val_generator.n/batch_size,\n",
        "                              callbacks=[ReduceLROnPlateau(monitor='val_loss', factor=0.2,patience=2, min_lr=0.000001)])"
      ],
      "execution_count": 57,
      "outputs": [
        {
          "output_type": "stream",
          "text": [
            "Epoch 1/15\n",
            "5/4 [=================================] - 8s 2s/step - loss: 2.7751 - categorical_accuracy: 0.0741 - val_loss: 1.3704 - val_categorical_accuracy: 0.5714 - lr: 1.0000e-04\n",
            "Epoch 2/15\n",
            "5/4 [=================================] - 6s 1s/step - loss: 1.9644 - categorical_accuracy: 0.1296 - val_loss: 1.3225 - val_categorical_accuracy: 0.5476 - lr: 1.0000e-04\n",
            "Epoch 3/15\n",
            "5/4 [=================================] - 5s 1s/step - loss: 1.5995 - categorical_accuracy: 0.2685 - val_loss: 1.2951 - val_categorical_accuracy: 0.5476 - lr: 1.0000e-04\n",
            "Epoch 4/15\n",
            "5/4 [=================================] - 6s 1s/step - loss: 1.5008 - categorical_accuracy: 0.3889 - val_loss: 1.2908 - val_categorical_accuracy: 0.5714 - lr: 1.0000e-04\n",
            "Epoch 5/15\n",
            "5/4 [=================================] - 6s 1s/step - loss: 1.4348 - categorical_accuracy: 0.5000 - val_loss: 1.3207 - val_categorical_accuracy: 0.5476 - lr: 1.0000e-04\n",
            "Epoch 6/15\n",
            "5/4 [=================================] - 6s 1s/step - loss: 1.3554 - categorical_accuracy: 0.5926 - val_loss: 1.2641 - val_categorical_accuracy: 0.5476 - lr: 1.0000e-04\n",
            "Epoch 7/15\n",
            "5/4 [=================================] - 6s 1s/step - loss: 1.2907 - categorical_accuracy: 0.6759 - val_loss: 1.3185 - val_categorical_accuracy: 0.5476 - lr: 1.0000e-04\n",
            "Epoch 8/15\n",
            "5/4 [=================================] - 6s 1s/step - loss: 1.1384 - categorical_accuracy: 0.6852 - val_loss: 1.2890 - val_categorical_accuracy: 0.5476 - lr: 1.0000e-04\n",
            "Epoch 9/15\n",
            "5/4 [=================================] - 6s 1s/step - loss: 1.0560 - categorical_accuracy: 0.7593 - val_loss: 1.2492 - val_categorical_accuracy: 0.5476 - lr: 2.0000e-05\n",
            "Epoch 10/15\n",
            "5/4 [=================================] - 6s 1s/step - loss: 0.9658 - categorical_accuracy: 0.7963 - val_loss: 1.2784 - val_categorical_accuracy: 0.5476 - lr: 2.0000e-05\n",
            "Epoch 11/15\n",
            "5/4 [=================================] - 6s 1s/step - loss: 0.9930 - categorical_accuracy: 0.7870 - val_loss: 1.2832 - val_categorical_accuracy: 0.5238 - lr: 2.0000e-05\n",
            "Epoch 12/15\n",
            "5/4 [=================================] - 6s 1s/step - loss: 1.0629 - categorical_accuracy: 0.7130 - val_loss: 1.2512 - val_categorical_accuracy: 0.5476 - lr: 4.0000e-06\n",
            "Epoch 13/15\n",
            "5/4 [=================================] - 6s 1s/step - loss: 1.0073 - categorical_accuracy: 0.7500 - val_loss: 1.2542 - val_categorical_accuracy: 0.5476 - lr: 4.0000e-06\n",
            "Epoch 14/15\n",
            "5/4 [=================================] - 6s 1s/step - loss: 0.9542 - categorical_accuracy: 0.7778 - val_loss: 1.2654 - val_categorical_accuracy: 0.5476 - lr: 1.0000e-06\n",
            "Epoch 15/15\n",
            "5/4 [=================================] - 6s 1s/step - loss: 1.0252 - categorical_accuracy: 0.7315 - val_loss: 1.2568 - val_categorical_accuracy: 0.5714 - lr: 1.0000e-06\n"
          ],
          "name": "stdout"
        }
      ]
    },
    {
      "cell_type": "code",
      "metadata": {
        "colab_type": "code",
        "id": "J9TNKD2XZxog",
        "colab": {
          "base_uri": "https://localhost:8080/",
          "height": 295
        },
        "outputId": "9fd61af6-212c-49c9-f0cd-fc4cd52efbc2"
      },
      "source": [
        "\n",
        "plt.plot(results.history['categorical_accuracy'])\n",
        "plt.plot(results.history['val_categorical_accuracy'])\n",
        "plt.title('leave2fruit accuracy ')\n",
        "plt.ylabel('accuracy')\n",
        "plt.xlabel('epoch')\n",
        "plt.legend(['train', 'test'], loc='upper left')\n",
        "plt.show()"
      ],
      "execution_count": 58,
      "outputs": [
        {
          "output_type": "display_data",
          "data": {
            "image/png": "[encoded data removed]",
            "text/plain": [
              "<Figure size 432x288 with 1 Axes>"
            ]
          },
          "metadata": {
            "tags": []
          }
        }
      ]
    },
    {
      "cell_type": "code",
      "metadata": {
        "colab_type": "code",
        "id": "DZ7F0yqoZxok",
        "colab": {
          "base_uri": "https://localhost:8080/",
          "height": 295
        },
        "outputId": "a24797f6-51a7-4921-98dc-471184603ef2"
      },
      "source": [
        "\n",
        "plt.plot(results.history['loss'])\n",
        "plt.plot(results.history['val_loss'])\n",
        "plt.title('leave2fruit loss')\n",
        "plt.ylabel('loss')\n",
        "plt.xlabel('epoch')\n",
        "plt.legend(['train', 'test'], loc='upper left')\n",
        "plt.show()"
      ],
      "execution_count": 59,
      "outputs": [
        {
          "output_type": "display_data",
          "data": {
            "image/png": "[encoded data removed]",
            "text/plain": [
              "<Figure size 432x288 with 1 Axes>"
            ]
          },
          "metadata": {
            "tags": []
          }
        }
      ]
    },
    {
      "cell_type": "code",
      "metadata": {
        "colab_type": "code",
        "id": "dAvbarSxZxoo",
        "colab": {
          "base_uri": "https://localhost:8080/",
          "height": 50
        },
        "outputId": "f5a5026d-c89d-4c68-8439-34b0730641e9"
      },
      "source": [
        "leave2fruit.evaluate(fruits_val_generator,steps=fruits_val_generator.n//batch_size)"
      ],
      "execution_count": 60,
      "outputs": [
        {
          "output_type": "stream",
          "text": [
            "1/1 [==============================] - 0s 1ms/step - loss: 0.8360 - categorical_accuracy: 0.7500\n"
          ],
          "name": "stdout"
        },
        {
          "output_type": "execute_result",
          "data": {
            "text/plain": [
              "[0.836029589176178, 0.75]"
            ]
          },
          "metadata": {
            "tags": []
          },
          "execution_count": 60
        }
      ]
    },
    {
      "cell_type": "code",
      "metadata": {
        "colab_type": "code",
        "id": "0qa5l6yqZxos",
        "colab": {
          "base_uri": "https://localhost:8080/",
          "height": 50
        },
        "outputId": "2beccd3f-a2d0-47c2-b316-155acdf11dec"
      },
      "source": [
        "fruits_val_generator.reset()\n",
        "leave2fruit.evaluate(fruits_val_generator,steps=fruits_val_generator.n//batch_size)"
      ],
      "execution_count": 61,
      "outputs": [
        {
          "output_type": "stream",
          "text": [
            "1/1 [==============================] - 0s 6ms/step - loss: 0.8183 - categorical_accuracy: 0.7500\n"
          ],
          "name": "stdout"
        },
        {
          "output_type": "execute_result",
          "data": {
            "text/plain": [
              "[0.8183493614196777, 0.75]"
            ]
          },
          "metadata": {
            "tags": []
          },
          "execution_count": 61
        }
      ]
    },
    {
      "cell_type": "code",
      "metadata": {
        "colab_type": "code",
        "outputId": "4797d2cc-37b3-404f-9523-9036176198c2",
        "id": "eC9OvvaBZxow",
        "colab": {
          "base_uri": "https://localhost:8080/",
          "height": 33
        }
      },
      "source": [
        "fruits_val_generator.reset()\n",
        "y_pred=leave2fruit.predict(fruits_val_generator,steps=fruits_val_generator.n/batch_size,verbose=1)"
      ],
      "execution_count": 62,
      "outputs": [
        {
          "output_type": "stream",
          "text": [
            "2/1 [==================================] - 0s 227ms/step\n"
          ],
          "name": "stdout"
        }
      ]
    },
    {
      "cell_type": "code",
      "metadata": {
        "colab_type": "code",
        "id": "Y0D0_g8oZxo0",
        "colab": {}
      },
      "source": [
        "if val_suffle==True:\n",
        "  per = np.random.permutation(fruits_val_generator.n)\n",
        "  fruits_val_generator.index_array = per\n",
        "  y_true = fruits_val_generator.classes[per]\n",
        "else: \n",
        "  y_true = fruits_val_generator.classes"
      ],
      "execution_count": 0,
      "outputs": []
    },
    {
      "cell_type": "code",
      "metadata": {
        "colab_type": "code",
        "id": "e4-J06W5Zxo4",
        "colab": {}
      },
      "source": [
        "y_pred=np.argmax(y_pred, axis=1).astype(np.int32)"
      ],
      "execution_count": 0,
      "outputs": []
    },
    {
      "cell_type": "code",
      "metadata": {
        "colab_type": "code",
        "id": "8YCmwzP5Zxo-",
        "colab": {
          "base_uri": "https://localhost:8080/",
          "height": 33
        },
        "outputId": "d567a971-b1ca-41b2-8c50-484a7a8dca59"
      },
      "source": [
        "y_pred.shape,y_true.shape"
      ],
      "execution_count": 65,
      "outputs": [
        {
          "output_type": "execute_result",
          "data": {
            "text/plain": [
              "((42,), (42,))"
            ]
          },
          "metadata": {
            "tags": []
          },
          "execution_count": 65
        }
      ]
    },
    {
      "cell_type": "code",
      "metadata": {
        "id": "3YNJNR3aDvGf",
        "colab_type": "code",
        "colab": {
          "base_uri": "https://localhost:8080/",
          "height": 50
        },
        "outputId": "25db142f-20e0-474e-e1bd-bc519c5f369d"
      },
      "source": [
        "print(\"preds: {}, {}\".format(y_pred.dtype, y_pred.shape))\n",
        "print(\"actual: {}, {}\".format(y_true.dtype, y_true.shape))"
      ],
      "execution_count": 66,
      "outputs": [
        {
          "output_type": "stream",
          "text": [
            "preds: int32, (42,)\n",
            "actual: int32, (42,)\n"
          ],
          "name": "stdout"
        }
      ]
    },
    {
      "cell_type": "code",
      "metadata": {
        "colab_type": "code",
        "id": "8xb7ub4uZxpD",
        "colab": {
          "base_uri": "https://localhost:8080/",
          "height": 50
        },
        "outputId": "e8cb44d6-1cc5-47c1-f5b9-2ede167a9428"
      },
      "source": [
        "from sklearn.metrics import classification_report,accuracy_score,f1_score\n",
        "print(accuracy_score(y_true,y_pred))\n",
        "print(f1_score(y_true,y_pred,average='macro'))"
      ],
      "execution_count": 67,
      "outputs": [
        {
          "output_type": "stream",
          "text": [
            "0.5476190476190477\n",
            "0.2615384615384615\n"
          ],
          "name": "stdout"
        }
      ]
    },
    {
      "cell_type": "code",
      "metadata": {
        "colab_type": "code",
        "id": "1HXaNAmFZxpH",
        "colab": {
          "base_uri": "https://localhost:8080/",
          "height": 217
        },
        "outputId": "cf37c5ce-f13d-43a7-a1d3-7f538310c21a"
      },
      "source": [
        "class_label=list(fruits_train_generator.class_indices.keys())\n",
        "print(classification_report(y_true, y_pred,target_names=class_label))#"
      ],
      "execution_count": 68,
      "outputs": [
        {
          "output_type": "stream",
          "text": [
            "              precision    recall  f1-score   support\n",
            "\n",
            "  Black spot       0.14      0.20      0.17         5\n",
            "      Canker       0.72      0.91      0.81        23\n",
            "    Greening       0.50      0.25      0.33         4\n",
            "        Scab       0.00      0.00      0.00         4\n",
            "     healthy       0.00      0.00      0.00         6\n",
            "\n",
            "    accuracy                           0.55        42\n",
            "   macro avg       0.27      0.27      0.26        42\n",
            "weighted avg       0.46      0.55      0.49        42\n",
            "\n"
          ],
          "name": "stdout"
        }
      ]
    },
    {
      "cell_type": "code",
      "metadata": {
        "colab_type": "code",
        "id": "0lYXLQK8ZxpL",
        "colab": {}
      },
      "source": [
        ""
      ],
      "execution_count": 0,
      "outputs": []
    },
    {
      "cell_type": "markdown",
      "metadata": {
        "colab_type": "text",
        "id": "-FZ5wHZHZxpQ"
      },
      "source": [
        "## Fine tuning\n",
        "Leave model to Fruit model"
      ]
    },
    {
      "cell_type": "code",
      "metadata": {
        "id": "68izs2HxhhWU",
        "colab_type": "code",
        "colab": {}
      },
      "source": [
        ""
      ],
      "execution_count": 0,
      "outputs": []
    },
    {
      "cell_type": "code",
      "metadata": {
        "colab_type": "code",
        "id": "bMo1xxjchhhZ",
        "colab": {}
      },
      "source": [
        "leave2fruit =inception_resnet_v2.InceptionResNetV2(weights =None, include_top=False, input_shape = (img_shape,img_shape,3))\n",
        "x = leave2fruit.output\n",
        "x = GlobalAveragePooling2D()(x)\n",
        "x = Dropout(0.3)(x)\n",
        "x = Dense(128, activation=\"relu\")(x)\n",
        "x = Dropout(0.3)(x)\n",
        "x = Dense(64, activation=\"relu\")(x)\n",
        "predictions = Dense(5, activation=\"softmax\")(x)"
      ],
      "execution_count": 0,
      "outputs": []
    },
    {
      "cell_type": "code",
      "metadata": {
        "colab_type": "code",
        "id": "lWoG4ifbhhhn",
        "colab": {}
      },
      "source": [
        "leave2fruit = Model(inputs=leave2fruit.input, outputs=predictions)\n",
        "leave2fruit.compile(optimizer=Adam(0.0001), loss=custom_loss, metrics=['categorical_accuracy'])\n",
        "leave2fruit.load_weights('leave_model.h5')"
      ],
      "execution_count": 0,
      "outputs": []
    },
    {
      "cell_type": "code",
      "metadata": {
        "id": "6MPVxuCfgntf",
        "colab_type": "code",
        "colab": {}
      },
      "source": [
        "for layer in leave2fruit.layers[:-6]:\n",
        "    layer.trainable = False"
      ],
      "execution_count": 0,
      "outputs": []
    },
    {
      "cell_type": "code",
      "metadata": {
        "colab_type": "code",
        "outputId": "8cf32c7b-e9a2-442a-cc96-2c9eed2996a9",
        "id": "JVGoVG2Bgn7S",
        "colab": {
          "base_uri": "https://localhost:8080/",
          "height": 538
        }
      },
      "source": [
        "results = leave2fruit.fit(fruits_train_generator,epochs=15,\n",
        "                              steps_per_epoch=fruits_train_generator.n/batch_size,\n",
        "                              validation_data=fruits_val_generator,\n",
        "                             validation_steps=fruits_val_generator.n/batch_size,\n",
        "                              callbacks=[ReduceLROnPlateau(monitor='val_loss', factor=0.2,patience=2, min_lr=0.000001)])"
      ],
      "execution_count": 72,
      "outputs": [
        {
          "output_type": "stream",
          "text": [
            "Epoch 1/15\n",
            "5/4 [=================================] - 9s 2s/step - loss: 2.5960 - categorical_accuracy: 0.1204 - val_loss: 1.3614 - val_categorical_accuracy: 0.5952 - lr: 1.0000e-04\n",
            "Epoch 2/15\n",
            "5/4 [=================================] - 6s 1s/step - loss: 1.8380 - categorical_accuracy: 0.2778 - val_loss: 1.4336 - val_categorical_accuracy: 0.6190 - lr: 1.0000e-04\n",
            "Epoch 3/15\n",
            "5/4 [=================================] - 6s 1s/step - loss: 1.5621 - categorical_accuracy: 0.3519 - val_loss: 1.3400 - val_categorical_accuracy: 0.5714 - lr: 1.0000e-04\n",
            "Epoch 4/15\n",
            "5/4 [=================================] - 6s 1s/step - loss: 1.3802 - categorical_accuracy: 0.5556 - val_loss: 1.3865 - val_categorical_accuracy: 0.5476 - lr: 1.0000e-04\n",
            "Epoch 5/15\n",
            "5/4 [=================================] - 6s 1s/step - loss: 1.2676 - categorical_accuracy: 0.6481 - val_loss: 1.4200 - val_categorical_accuracy: 0.5476 - lr: 1.0000e-04\n",
            "Epoch 6/15\n",
            "5/4 [=================================] - 6s 1s/step - loss: 1.2709 - categorical_accuracy: 0.6481 - val_loss: 1.3790 - val_categorical_accuracy: 0.5476 - lr: 2.0000e-05\n",
            "Epoch 7/15\n",
            "5/4 [=================================] - 6s 1s/step - loss: 1.1403 - categorical_accuracy: 0.7222 - val_loss: 1.4207 - val_categorical_accuracy: 0.5238 - lr: 2.0000e-05\n",
            "Epoch 8/15\n",
            "5/4 [=================================] - 6s 1s/step - loss: 1.2273 - categorical_accuracy: 0.6667 - val_loss: 1.3451 - val_categorical_accuracy: 0.5238 - lr: 4.0000e-06\n",
            "Epoch 9/15\n",
            "5/4 [=================================] - 6s 1s/step - loss: 1.1347 - categorical_accuracy: 0.7037 - val_loss: 1.3366 - val_categorical_accuracy: 0.5238 - lr: 4.0000e-06\n",
            "Epoch 10/15\n",
            "5/4 [=================================] - 6s 1s/step - loss: 1.1797 - categorical_accuracy: 0.6852 - val_loss: 1.2763 - val_categorical_accuracy: 0.5476 - lr: 4.0000e-06\n",
            "Epoch 11/15\n",
            "5/4 [=================================] - 6s 1s/step - loss: 1.1682 - categorical_accuracy: 0.7037 - val_loss: 1.3285 - val_categorical_accuracy: 0.5476 - lr: 4.0000e-06\n",
            "Epoch 12/15\n",
            "5/4 [=================================] - 6s 1s/step - loss: 1.1919 - categorical_accuracy: 0.6759 - val_loss: 1.2923 - val_categorical_accuracy: 0.6190 - lr: 4.0000e-06\n",
            "Epoch 13/15\n",
            "5/4 [=================================] - 6s 1s/step - loss: 1.1222 - categorical_accuracy: 0.7130 - val_loss: 1.2945 - val_categorical_accuracy: 0.6190 - lr: 1.0000e-06\n",
            "Epoch 14/15\n",
            "5/4 [=================================] - 6s 1s/step - loss: 1.2134 - categorical_accuracy: 0.6759 - val_loss: 1.3047 - val_categorical_accuracy: 0.5952 - lr: 1.0000e-06\n",
            "Epoch 15/15\n",
            "5/4 [=================================] - 6s 1s/step - loss: 1.2001 - categorical_accuracy: 0.7037 - val_loss: 1.3127 - val_categorical_accuracy: 0.5476 - lr: 1.0000e-06\n"
          ],
          "name": "stdout"
        }
      ]
    },
    {
      "cell_type": "code",
      "metadata": {
        "colab_type": "code",
        "id": "QVg_b3EEgn7Z",
        "colab": {
          "base_uri": "https://localhost:8080/",
          "height": 295
        },
        "outputId": "ae441b2d-69ef-435e-c868-51273e13ce1a"
      },
      "source": [
        "\n",
        "plt.plot(results.history['categorical_accuracy'])\n",
        "plt.plot(results.history['val_categorical_accuracy'])\n",
        "plt.title('leave2fruit accuracy ')\n",
        "plt.ylabel('accuracy')\n",
        "plt.xlabel('epoch')\n",
        "plt.legend(['train', 'test'], loc='upper left')\n",
        "plt.show()"
      ],
      "execution_count": 73,
      "outputs": [
        {
          "output_type": "display_data",
          "data": {
            "image/png": "[encoded data removed]",
            "text/plain": [
              "<Figure size 432x288 with 1 Axes>"
            ]
          },
          "metadata": {
            "tags": []
          }
        }
      ]
    },
    {
      "cell_type": "code",
      "metadata": {
        "colab_type": "code",
        "outputId": "31e1c8f5-9de8-4968-accb-9c89df3ea7dd",
        "id": "7JsuytxOgn7h",
        "colab": {
          "base_uri": "https://localhost:8080/",
          "height": 295
        }
      },
      "source": [
        "\n",
        "plt.plot(results.history['loss'])\n",
        "plt.plot(results.history['val_loss'])\n",
        "plt.title('leave2fruit loss')\n",
        "plt.ylabel('loss')\n",
        "plt.xlabel('epoch')\n",
        "plt.legend(['train', 'test'], loc='upper left')\n",
        "plt.show()"
      ],
      "execution_count": 74,
      "outputs": [
        {
          "output_type": "display_data",
          "data": {
            "image/png": "[encoded data removed]",
            "text/plain": [
              "<Figure size 432x288 with 1 Axes>"
            ]
          },
          "metadata": {
            "tags": []
          }
        }
      ]
    },
    {
      "cell_type": "code",
      "metadata": {
        "colab_type": "code",
        "id": "QK7Abgc_gn7n",
        "colab": {
          "base_uri": "https://localhost:8080/",
          "height": 50
        },
        "outputId": "c02e3e03-a8ef-4ee8-8454-31e61f3e0d63"
      },
      "source": [
        "fruits_val_generator.reset()\n",
        "leave2fruit.evaluate(fruits_val_generator,steps=fruits_val_generator.n//batch_size)"
      ],
      "execution_count": 75,
      "outputs": [
        {
          "output_type": "stream",
          "text": [
            "1/1 [==============================] - 0s 2ms/step - loss: 0.9181 - categorical_accuracy: 0.7500\n"
          ],
          "name": "stdout"
        },
        {
          "output_type": "execute_result",
          "data": {
            "text/plain": [
              "[0.9180684685707092, 0.75]"
            ]
          },
          "metadata": {
            "tags": []
          },
          "execution_count": 75
        }
      ]
    },
    {
      "cell_type": "code",
      "metadata": {
        "colab_type": "code",
        "outputId": "f5674478-2ecd-41e3-fbb4-01ee8c10ff45",
        "id": "MhNHG9XAgn7s",
        "colab": {
          "base_uri": "https://localhost:8080/",
          "height": 50
        }
      },
      "source": [
        "fruits_val_generator.reset()\n",
        "leave2fruit.evaluate(fruits_val_generator,steps=fruits_val_generator.n//batch_size)"
      ],
      "execution_count": 76,
      "outputs": [
        {
          "output_type": "stream",
          "text": [
            "1/1 [==============================] - 0s 3ms/step - loss: 0.9057 - categorical_accuracy: 0.7500\n"
          ],
          "name": "stdout"
        },
        {
          "output_type": "execute_result",
          "data": {
            "text/plain": [
              "[0.9057249426841736, 0.75]"
            ]
          },
          "metadata": {
            "tags": []
          },
          "execution_count": 76
        }
      ]
    },
    {
      "cell_type": "code",
      "metadata": {
        "colab_type": "code",
        "id": "XqdJCNIYgn70",
        "colab": {
          "base_uri": "https://localhost:8080/",
          "height": 33
        },
        "outputId": "29406343-30a6-4b48-b094-84df5bc60bb2"
      },
      "source": [
        "fruits_val_generator.reset()\n",
        "y_pred=leave2fruit.predict(fruits_val_generator,steps=fruits_val_generator.n/batch_size,verbose=1)"
      ],
      "execution_count": 77,
      "outputs": [
        {
          "output_type": "stream",
          "text": [
            "2/1 [==================================] - 0s 212ms/step\n"
          ],
          "name": "stdout"
        }
      ]
    },
    {
      "cell_type": "code",
      "metadata": {
        "colab_type": "code",
        "id": "iGm79PG0gn75",
        "colab": {}
      },
      "source": [
        "if val_suffle==True:\n",
        "  per = np.random.permutation(fruits_val_generator.n)\n",
        "  fruits_val_generator.index_array = per\n",
        "  y_true = fruits_val_generator.classes[per]\n",
        "else: \n",
        "  y_true = fruits_val_generator.classes"
      ],
      "execution_count": 0,
      "outputs": []
    },
    {
      "cell_type": "code",
      "metadata": {
        "colab_type": "code",
        "id": "-5Kz5EHugn7_",
        "colab": {}
      },
      "source": [
        "y_pred=np.argmax(y_pred, axis=1)"
      ],
      "execution_count": 0,
      "outputs": []
    },
    {
      "cell_type": "code",
      "metadata": {
        "colab_type": "code",
        "outputId": "bdf7d1e0-d6d1-414e-cd9e-2bb1657d8e13",
        "id": "TPiYXG99gn8F",
        "colab": {
          "base_uri": "https://localhost:8080/",
          "height": 33
        }
      },
      "source": [
        "y_pred.shape,y_true.shape"
      ],
      "execution_count": 80,
      "outputs": [
        {
          "output_type": "execute_result",
          "data": {
            "text/plain": [
              "((42,), (42,))"
            ]
          },
          "metadata": {
            "tags": []
          },
          "execution_count": 80
        }
      ]
    },
    {
      "cell_type": "code",
      "metadata": {
        "colab_type": "code",
        "outputId": "c34e5ef0-ef3d-4d44-a2c4-dd2d4ee11e63",
        "id": "jT6CXe8kgn8O",
        "colab": {
          "base_uri": "https://localhost:8080/",
          "height": 50
        }
      },
      "source": [
        "from sklearn.metrics import classification_report,accuracy_score,f1_score\n",
        "print(accuracy_score(y_true,y_pred))\n",
        "print(f1_score(y_true,y_pred,average='macro'))"
      ],
      "execution_count": 81,
      "outputs": [
        {
          "output_type": "stream",
          "text": [
            "0.5714285714285714\n",
            "0.33367965367965363\n"
          ],
          "name": "stdout"
        }
      ]
    },
    {
      "cell_type": "code",
      "metadata": {
        "colab_type": "code",
        "outputId": "ed8aead2-6d80-421a-9e08-afc86143e395",
        "id": "1-mDA3MDgn8T",
        "colab": {
          "base_uri": "https://localhost:8080/",
          "height": 271
        }
      },
      "source": [
        "class_label=list(fruits_train_generator.class_indices.keys())\n",
        "print(classification_report(y_true, y_pred,target_names=class_label))#"
      ],
      "execution_count": 82,
      "outputs": [
        {
          "output_type": "stream",
          "text": [
            "              precision    recall  f1-score   support\n",
            "\n",
            "  Black spot       0.00      0.00      0.00         5\n",
            "      Canker       0.66      0.91      0.76        23\n",
            "    Greening       0.67      0.50      0.57         4\n",
            "        Scab       0.50      0.25      0.33         4\n",
            "     healthy       0.00      0.00      0.00         6\n",
            "\n",
            "    accuracy                           0.57        42\n",
            "   macro avg       0.36      0.33      0.33        42\n",
            "weighted avg       0.47      0.57      0.50        42\n",
            "\n"
          ],
          "name": "stdout"
        },
        {
          "output_type": "stream",
          "text": [
            "/usr/local/lib/python3.6/dist-packages/sklearn/metrics/_classification.py:1272: UndefinedMetricWarning: Precision and F-score are ill-defined and being set to 0.0 in labels with no predicted samples. Use `zero_division` parameter to control this behavior.\n",
            "  _warn_prf(average, modifier, msg_start, len(result))\n"
          ],
          "name": "stderr"
        }
      ]
    },
    {
      "cell_type": "code",
      "metadata": {
        "colab_type": "code",
        "id": "CcCTmVgAgn8a",
        "colab": {}
      },
      "source": [
        ""
      ],
      "execution_count": 0,
      "outputs": []
    }
  ]
}